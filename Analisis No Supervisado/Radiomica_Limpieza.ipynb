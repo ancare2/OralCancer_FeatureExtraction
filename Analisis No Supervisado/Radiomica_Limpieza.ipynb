{
 "cells": [
  {
   "cell_type": "markdown",
   "metadata": {},
   "source": [
    "# Limpieza Radiomica"
   ]
  },
  {
   "cell_type": "markdown",
   "metadata": {},
   "source": [
    "1. Librerías"
   ]
  },
  {
   "cell_type": "code",
   "execution_count": null,
   "metadata": {
    "vscode": {
     "languageId": "plaintext"
    }
   },
   "outputs": [],
   "source": [
    "import pandas as pd\n",
    "import numpy as np\n",
    "import matplotlib.pyplot as plt\n",
    "from sklearn.cluster import KMeans\n",
    "from sklearn.decomposition import PCA\n",
    "from sklearn.preprocessing import StandardScaler\n",
    "import seaborn as sns\n",
    "import os\n",
    "import re\n",
    "from sklearn.preprocessing import StandardScaler\n",
    "from sklearn.decomposition import PCA\n",
    "from sklearn.cluster import KMeans\n",
    "import seaborn as sns\n",
    "import matplotlib.pyplot as plt\n"
   ]
  },
  {
   "cell_type": "markdown",
   "metadata": {},
   "source": [
    "2. Funciones "
   ]
  },
  {
   "cell_type": "code",
   "execution_count": null,
   "metadata": {
    "vscode": {
     "languageId": "plaintext"
    }
   },
   "outputs": [],
   "source": [
    "def extract_original_ref(image_name):\n",
    "    \"\"\"\n",
    "    Extrae el ID de referencia original de un nombre de imagen.\n",
    "    Maneja nombres aumentados (ej. 'RefID_aug_0' devolverá 'RefID').\n",
    "    \"\"\"\n",
    "    match = re.match(r'(.+?)(_aug_\\d+)?$', str(image_name))\n",
    "    return match.group(1) if match else image_name"
   ]
  },
  {
   "cell_type": "code",
   "execution_count": null,
   "metadata": {
    "vscode": {
     "languageId": "plaintext"
    }
   },
   "outputs": [],
   "source": [
    "def clean_and_merge_features_with_clinical(features_csv_path, clinical_data_excel_path, output_merged_csv_path):\n",
    "    print(f\"\\n--- Procesando: {os.path.basename(features_csv_path)} ---\")\n",
    "\n",
    "    try:\n",
    "        df_features = pd.read_csv(features_csv_path)\n",
    "        print(f\"Features cargadas: {len(df_features)} filas\")\n",
    "        df_features = df_features[df_features['Image'] != '521325_300481_20-5-2022_DSC_0245']\n",
    "        print(\"Imagen mal clasificada eliminada si existía.\")\n",
    "        cols_to_drop = ['Clinical_Type']\n",
    "        df_features.drop(columns=[col for col in cols_to_drop if col in df_features.columns], inplace=True, errors='ignore')\n",
    "    except FileNotFoundError:\n",
    "        print(f\"[ERROR] No se encontró el archivo de características: {features_csv_path}\")\n",
    "        return None\n",
    "\n",
    "    try:\n",
    "        df_clinical = pd.read_excel(clinical_data_excel_path)\n",
    "        df_clinical.columns = df_clinical.columns.str.strip()\n",
    "        df_clinical = df_clinical[df_clinical['Clinical_Type'] != 5]\n",
    "        df_clinical.rename(columns={'Referencia': 'Original_Reference'}, inplace=True)\n",
    "        df_clinical['Original_Reference'] = df_clinical['Original_Reference'].str.replace(r'\\.jpg$', '', case=False, regex=True).str.strip()\n",
    "\n",
    "        required_cols = ['Original_Reference', 'Clinical_Type']\n",
    "        if not all(col in df_clinical.columns for col in required_cols):\n",
    "            print(f\"[ERROR] Faltan columnas requeridas en el Excel clínico. Encontradas: {df_clinical.columns.tolist()}\")\n",
    "            return None\n",
    "\n",
    "        df_clinical_reduced = df_clinical[required_cols]\n",
    "    except Exception as e:\n",
    "        print(f\"[ERROR] Error al cargar o preparar el Excel clínico: {e}\")\n",
    "        return None\n",
    "\n",
    "    df_features['Original_Reference'] = df_features['Image'].apply(extract_original_ref).astype(str).str.strip()\n",
    "    print(\"Referencia original extraída y limpiada.\")\n",
    "\n",
    "    df_merged = pd.merge(df_features, df_clinical_reduced, on='Original_Reference', how='left')\n",
    "    print(f\"Merge realizado. Filas resultantes: {len(df_merged)}\")\n",
    "\n",
    "    df_merged.dropna(subset=['Clinical_Type'], inplace=True)\n",
    "    print(f\"Filas restantes tras eliminar nulos: {len(df_merged)}\")\n",
    "\n",
    "    df_merged.drop(columns=['Original_Reference'], inplace=True)\n",
    "\n",
    "    df_merged.to_csv(output_merged_csv_path, index=False)\n",
    "    print(f\"Archivo guardado: {output_merged_csv_path}\")\n",
    "\n",
    "    return df_merged"
   ]
  },
  {
   "cell_type": "code",
   "execution_count": null,
   "metadata": {
    "vscode": {
     "languageId": "plaintext"
    }
   },
   "outputs": [],
   "source": [
    "def prepare_dataframe_for_modeling(df_input):\n",
    "    df_model = df_input.copy()\n",
    "    cols_to_remove = ['Image', 'Image_Name', 'Original_Reference']\n",
    "    df_model.drop(columns=[col for col in cols_to_remove if col in df_model.columns], inplace=True, errors='ignore')\n",
    "\n",
    "    print(f\"\\nDataFrame listo para modelado. Columnas: {df_model.columns.tolist()}\")\n",
    "    print(\"Primeras filas:\")\n",
    "    print(df_model.head())\n",
    "\n",
    "    shuffled_df = df_model.sample(frac=1, random_state=42).reset_index(drop=True)\n",
    "    print(\"\\nDataFrame mezclado.\")\n",
    "    return shuffled_df"
   ]
  },
  {
   "cell_type": "code",
   "execution_count": null,
   "metadata": {
    "vscode": {
     "languageId": "plaintext"
    }
   },
   "outputs": [],
   "source": [
    "def analyze_class_distribution(df):\n",
    "    if 'Clinical_Type' not in df.columns:\n",
    "        print(\"[ADVERTENCIA] No se pueden analizar clases. Faltan columnas.\")\n",
    "        return\n",
    "    print(\"\\n--- Distribución de clases ---\")\n",
    "    print(df['Clinical_Type'].value_counts())"
   ]
  },
  {
   "cell_type": "code",
   "execution_count": null,
   "metadata": {
    "vscode": {
     "languageId": "plaintext"
    }
   },
   "outputs": [],
   "source": [
    "def calculate_correlation_and_remove(df_features_numeric, threshold=0.9):\n",
    "    if df_features_numeric.isna().any().any():\n",
    "        print(\"[!] NaNs detectados. Se rellenan con la media.\")\n",
    "        df_features_numeric = df_features_numeric.fillna(df_features_numeric.mean())\n",
    "\n",
    "    plt.figure(figsize=(15, 12))\n",
    "    sns.heatmap(df_features_numeric.corr(), cmap='coolwarm', linewidths=0.5)\n",
    "    plt.title('Heatmap Inicial')\n",
    "    plt.show()\n",
    "\n",
    "    corr_matrix = df_features_numeric.corr().abs()\n",
    "    upper = corr_matrix.where(np.triu(np.ones(corr_matrix.shape), k=1).astype(bool))\n",
    "\n",
    "    features_to_drop = [column for column in upper.columns if any(upper[column] > threshold)]\n",
    "    print(f\"\\nEliminando {len(features_to_drop)} características correlacionadas (>{threshold}): {features_to_drop}\")\n",
    "\n",
    "    df_final = df_features_numeric.drop(columns=features_to_drop)\n",
    "\n",
    "    plt.figure(figsize=(15, 12))\n",
    "    sns.heatmap(df_final.corr(), cmap='coolwarm', linewidths=0.5)\n",
    "    plt.title('Heatmap Post-Clean')\n",
    "    plt.show()\n",
    "\n",
    "    return df_final, features_to_drop\n"
   ]
  },
  {
   "cell_type": "code",
   "execution_count": null,
   "metadata": {
    "vscode": {
     "languageId": "plaintext"
    }
   },
   "outputs": [],
   "source": [
    "def save_final_df_and_verify(shuffled_df, selected_features_df, output_path):\n",
    "    target_cols = [col for col in ['Clinical_Type'] if col in shuffled_df.columns]\n",
    "\n",
    "    df_clean = pd.concat([selected_features_df, shuffled_df[target_cols]], axis=1)\n",
    "    df_clean.to_csv(output_path, index=False)\n",
    "\n",
    "    print(f\"\\nGuardado en {output_path}\")\n",
    "    print(\"Vista previa:\")\n",
    "    print(df_clean.head())"
   ]
  },
  {
   "cell_type": "code",
   "execution_count": null,
   "metadata": {
    "vscode": {
     "languageId": "plaintext"
    }
   },
   "outputs": [],
   "source": [
    "# Rutas\n",
    "csv_path = '/home/anna/TFM/Radiomica/Radiomica/Características/caracteristicas_radiomicas.csv'\n",
    "excel_path = '/home/anna/TFM/Radiomica/NO SUPERVISADO/Casos_cancer_red_241104_anon.xlsx'\n",
    "output_final_features_path = '/home/anna/TFM/Radiomica/NO SUPERVISADO/radiomica_limpia.csv'\n",
    "\n",
    "print(\"\\n--- Iniciando limpieza, fusión y preparación de TODO el conjunto ---\")\n",
    "df_merged = clean_and_merge_features_with_clinical(\n",
    "    csv_path,\n",
    "    excel_path,\n",
    "    output_merged_csv_path=None  \n",
    ")\n",
    "\n",
    "if df_merged is not None:\n",
    "    df_prepared = prepare_dataframe_for_modeling(df_merged)\n",
    "    analyze_class_distribution(df_prepared)\n",
    "\n",
    "    X_numeric = df_prepared.drop(columns=['Clinical_Type'], errors='ignore').select_dtypes(include=[float, int])\n",
    "    X_cleaned, dropped_features = calculate_correlation_and_remove(X_numeric, threshold=0.9)\n",
    "\n",
    "    save_final_df_and_verify(df_prepared, X_cleaned, output_final_features_path)\n",
    "else:\n",
    "    print(\"[⚠️] No se pudo continuar con el procesamiento.\")\n"
   ]
  }
 ],
 "metadata": {
  "language_info": {
   "name": "python"
  }
 },
 "nbformat": 4,
 "nbformat_minor": 2
}
