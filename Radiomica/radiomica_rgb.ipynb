{
 "cells": [
  {
   "cell_type": "markdown",
   "metadata": {},
   "source": [
    "# Radiómica"
   ]
  },
  {
   "cell_type": "code",
   "execution_count": 1,
   "metadata": {},
   "outputs": [],
   "source": [
    "import os\n",
    "import radiomics\n",
    "from radiomics import firstorder, shape2D, glcm, glrlm, glszm, ngtdm, gldm, imageoperations\n",
    "import SimpleITK as sitk\n",
    "import numpy as np\n",
    "import cv2\n",
    "from skimage.io import imread\n",
    "import pandas as pd\n",
    "import os\n",
    "import pandas as pd\n",
    "import numpy as np\n",
    "import SimpleITK as sitk\n",
    "import cv2\n",
    "from skimage.io import imread\n",
    "from radiomics import firstorder, shape2D, glcm, glszm, glrlm, ngtdm, gldm, imageoperations\n"
   ]
  },
  {
   "cell_type": "code",
   "execution_count": 2,
   "metadata": {},
   "outputs": [],
   "source": [
    "base_folder = '/home/anna/TFM/Radiomica/Segmentacion/Segmentacion_resultados/'\n",
    "output_folder = '/home/anna/TFM/Radiomica/Radiomica/Características/'\n",
    "os.makedirs(output_folder, exist_ok=True)"
   ]
  },
  {
   "cell_type": "code",
   "execution_count": null,
   "metadata": {},
   "outputs": [
    {
     "name": "stderr",
     "output_type": "stream",
     "text": [
      "GLCM is symmetrical, therefore Sum Average = 2 * Joint Average, only 1 needs to be calculated\n",
      "GLCM is symmetrical, therefore Sum Average = 2 * Joint Average, only 1 needs to be calculated\n",
      "GLCM is symmetrical, therefore Sum Average = 2 * Joint Average, only 1 needs to be calculated\n",
      "GLCM is symmetrical, therefore Sum Average = 2 * Joint Average, only 1 needs to be calculated\n",
      "GLCM is symmetrical, therefore Sum Average = 2 * Joint Average, only 1 needs to be calculated\n",
      "GLCM is symmetrical, therefore Sum Average = 2 * Joint Average, only 1 needs to be calculated\n",
      "GLCM is symmetrical, therefore Sum Average = 2 * Joint Average, only 1 needs to be calculated\n",
      "GLCM is symmetrical, therefore Sum Average = 2 * Joint Average, only 1 needs to be calculated\n",
      "GLCM is symmetrical, therefore Sum Average = 2 * Joint Average, only 1 needs to be calculated\n",
      "GLCM is symmetrical, therefore Sum Average = 2 * Joint Average, only 1 needs to be calculated\n"
     ]
    },
    {
     "name": "stdout",
     "output_type": "stream",
     "text": [
      "\n",
      "Procesando 0: 815674_300481_28-10-2020_DSC_0048\n",
      "Cargando imagen y máscara de: /home/anna/TFM/Radiomica/Segmentacion/Segmentacion_resultados/815674_300481_28-10-2020_DSC_0048\n",
      "Extraídas 102 características del canal R\n",
      "Extraídas 102 características del canal G\n",
      "Extraídas 102 características del canal B\n",
      "\n",
      "Procesando 1: 712761-300309-300481-02\n",
      "Cargando imagen y máscara de: /home/anna/TFM/Radiomica/Segmentacion/Segmentacion_resultados/712761-300309-300481-02\n",
      "Extraídas 102 características del canal R\n",
      "Extraídas 102 características del canal G\n",
      "Extraídas 102 características del canal B\n",
      "\n",
      "Procesando 2: 30745-291008-300481-01\n",
      "Cargando imagen y máscara de: /home/anna/TFM/Radiomica/Segmentacion/Segmentacion_resultados/30745-291008-300481-01\n",
      "Extraídas 102 características del canal R\n",
      "Extraídas 102 características del canal G\n",
      "Extraídas 102 características del canal B\n",
      "\n",
      "Procesando 3: 424155_300481_1-3-2022_P1011472\n",
      "Cargando imagen y máscara de: /home/anna/TFM/Radiomica/Segmentacion/Segmentacion_resultados/424155_300481_1-3-2022_P1011472\n"
     ]
    },
    {
     "name": "stderr",
     "output_type": "stream",
     "text": [
      "GLCM is symmetrical, therefore Sum Average = 2 * Joint Average, only 1 needs to be calculated\n",
      "GLCM is symmetrical, therefore Sum Average = 2 * Joint Average, only 1 needs to be calculated\n",
      "GLCM is symmetrical, therefore Sum Average = 2 * Joint Average, only 1 needs to be calculated\n",
      "GLCM is symmetrical, therefore Sum Average = 2 * Joint Average, only 1 needs to be calculated\n",
      "GLCM is symmetrical, therefore Sum Average = 2 * Joint Average, only 1 needs to be calculated\n",
      "GLCM is symmetrical, therefore Sum Average = 2 * Joint Average, only 1 needs to be calculated\n",
      "GLCM is symmetrical, therefore Sum Average = 2 * Joint Average, only 1 needs to be calculated\n",
      "GLCM is symmetrical, therefore Sum Average = 2 * Joint Average, only 1 needs to be calculated\n",
      "GLCM is symmetrical, therefore Sum Average = 2 * Joint Average, only 1 needs to be calculated\n"
     ]
    },
    {
     "name": "stdout",
     "output_type": "stream",
     "text": [
      "Extraídas 102 características del canal R\n",
      "Extraídas 102 características del canal G\n",
      "Extraídas 102 características del canal B\n",
      "\n",
      "Procesando 4: 69760-260405-300481\n",
      "Cargando imagen y máscara de: /home/anna/TFM/Radiomica/Segmentacion/Segmentacion_resultados/69760-260405-300481\n",
      "Extraídas 102 características del canal R\n",
      "Extraídas 102 características del canal G\n",
      "Extraídas 102 características del canal B\n",
      "\n",
      "Procesando 5: 385091_300481_7-1-2019_DSC_0014\n",
      "Cargando imagen y máscara de: /home/anna/TFM/Radiomica/Segmentacion/Segmentacion_resultados/385091_300481_7-1-2019_DSC_0014\n",
      "Extraídas 102 características del canal R\n",
      "Extraídas 102 características del canal G\n",
      "Extraídas 102 características del canal B\n",
      "\n",
      "Procesando 6: 898961-040209-300481-02\n",
      "Cargando imagen y máscara de: /home/anna/TFM/Radiomica/Segmentacion/Segmentacion_resultados/898961-040209-300481-02\n"
     ]
    },
    {
     "name": "stderr",
     "output_type": "stream",
     "text": [
      "GLCM is symmetrical, therefore Sum Average = 2 * Joint Average, only 1 needs to be calculated\n",
      "GLCM is symmetrical, therefore Sum Average = 2 * Joint Average, only 1 needs to be calculated\n",
      "GLCM is symmetrical, therefore Sum Average = 2 * Joint Average, only 1 needs to be calculated\n",
      "GLCM is symmetrical, therefore Sum Average = 2 * Joint Average, only 1 needs to be calculated\n",
      "GLCM is symmetrical, therefore Sum Average = 2 * Joint Average, only 1 needs to be calculated\n",
      "GLCM is symmetrical, therefore Sum Average = 2 * Joint Average, only 1 needs to be calculated\n",
      "GLCM is symmetrical, therefore Sum Average = 2 * Joint Average, only 1 needs to be calculated\n",
      "GLCM is symmetrical, therefore Sum Average = 2 * Joint Average, only 1 needs to be calculated\n"
     ]
    },
    {
     "name": "stdout",
     "output_type": "stream",
     "text": [
      "Extraídas 102 características del canal R\n",
      "Extraídas 102 características del canal G\n",
      "Extraídas 102 características del canal B\n",
      "\n",
      "Procesando 7: 41915-090107-01-300481\n",
      "Cargando imagen y máscara de: /home/anna/TFM/Radiomica/Segmentacion/Segmentacion_resultados/41915-090107-01-300481\n",
      "Extraídas 102 características del canal R\n",
      "Extraídas 102 características del canal G\n",
      "Extraídas 102 características del canal B\n",
      "\n",
      "Procesando 8: 172817-270511-300481-03\n",
      "Cargando imagen y máscara de: /home/anna/TFM/Radiomica/Segmentacion/Segmentacion_resultados/172817-270511-300481-03\n",
      "Extraídas 102 características del canal R\n",
      "Extraídas 102 características del canal G\n",
      "Extraídas 102 características del canal B\n",
      "\n",
      "Procesando 9: 1409275_300481_14-2-2022_DSC_0009\n",
      "Cargando imagen y máscara de: /home/anna/TFM/Radiomica/Segmentacion/Segmentacion_resultados/1409275_300481_14-2-2022_DSC_0009\n"
     ]
    },
    {
     "name": "stderr",
     "output_type": "stream",
     "text": [
      "GLCM is symmetrical, therefore Sum Average = 2 * Joint Average, only 1 needs to be calculated\n",
      "GLCM is symmetrical, therefore Sum Average = 2 * Joint Average, only 1 needs to be calculated\n",
      "GLCM is symmetrical, therefore Sum Average = 2 * Joint Average, only 1 needs to be calculated\n",
      "GLCM is symmetrical, therefore Sum Average = 2 * Joint Average, only 1 needs to be calculated\n",
      "GLCM is symmetrical, therefore Sum Average = 2 * Joint Average, only 1 needs to be calculated\n",
      "GLCM is symmetrical, therefore Sum Average = 2 * Joint Average, only 1 needs to be calculated\n",
      "GLCM is symmetrical, therefore Sum Average = 2 * Joint Average, only 1 needs to be calculated\n",
      "GLCM is symmetrical, therefore Sum Average = 2 * Joint Average, only 1 needs to be calculated\n",
      "GLCM is symmetrical, therefore Sum Average = 2 * Joint Average, only 1 needs to be calculated\n",
      "GLCM is symmetrical, therefore Sum Average = 2 * Joint Average, only 1 needs to be calculated\n"
     ]
    },
    {
     "name": "stdout",
     "output_type": "stream",
     "text": [
      "Extraídas 102 características del canal R\n",
      "Extraídas 102 características del canal G\n",
      "Extraídas 102 características del canal B\n",
      "\n",
      "Procesando 10: 192853-130213-300481-01\n",
      "Cargando imagen y máscara de: /home/anna/TFM/Radiomica/Segmentacion/Segmentacion_resultados/192853-130213-300481-01\n",
      "Extraídas 102 características del canal R\n",
      "Extraídas 102 características del canal G\n",
      "Extraídas 102 características del canal B\n",
      "\n",
      "Procesando 11: 108185-170310-300481-01\n",
      "Cargando imagen y máscara de: /home/anna/TFM/Radiomica/Segmentacion/Segmentacion_resultados/108185-170310-300481-01\n",
      "Extraídas 102 características del canal R\n",
      "Extraídas 102 características del canal G\n",
      "Extraídas 102 características del canal B\n",
      "\n",
      "Procesando 12: 62173_240614_300481 (3)\n",
      "Cargando imagen y máscara de: /home/anna/TFM/Radiomica/Segmentacion/Segmentacion_resultados/62173_240614_300481 (3)\n"
     ]
    },
    {
     "name": "stderr",
     "output_type": "stream",
     "text": [
      "GLCM is symmetrical, therefore Sum Average = 2 * Joint Average, only 1 needs to be calculated\n",
      "GLCM is symmetrical, therefore Sum Average = 2 * Joint Average, only 1 needs to be calculated\n",
      "GLCM is symmetrical, therefore Sum Average = 2 * Joint Average, only 1 needs to be calculated\n",
      "GLCM is symmetrical, therefore Sum Average = 2 * Joint Average, only 1 needs to be calculated\n",
      "GLCM is symmetrical, therefore Sum Average = 2 * Joint Average, only 1 needs to be calculated\n",
      "GLCM is symmetrical, therefore Sum Average = 2 * Joint Average, only 1 needs to be calculated\n",
      "GLCM is symmetrical, therefore Sum Average = 2 * Joint Average, only 1 needs to be calculated\n",
      "GLCM is symmetrical, therefore Sum Average = 2 * Joint Average, only 1 needs to be calculated\n",
      "GLCM is symmetrical, therefore Sum Average = 2 * Joint Average, only 1 needs to be calculated\n"
     ]
    },
    {
     "name": "stdout",
     "output_type": "stream",
     "text": [
      "Extraídas 102 características del canal R\n",
      "Extraídas 102 características del canal G\n",
      "Extraídas 102 características del canal B\n",
      "\n",
      "Procesando 13: 799126_300481_11-1-2021_DSC_0013\n",
      "Cargando imagen y máscara de: /home/anna/TFM/Radiomica/Segmentacion/Segmentacion_resultados/799126_300481_11-1-2021_DSC_0013\n",
      "Extraídas 102 características del canal R\n",
      "Extraídas 102 características del canal G\n",
      "Extraídas 102 características del canal B\n",
      "\n",
      "Procesando 14: 5185-300311-300481-03\n",
      "Cargando imagen y máscara de: /home/anna/TFM/Radiomica/Segmentacion/Segmentacion_resultados/5185-300311-300481-03\n",
      "Extraídas 102 características del canal R\n",
      "Extraídas 102 características del canal G\n",
      "Extraídas 102 características del canal B\n",
      "\n",
      "Procesando 15: 845290-051108-300481-01\n",
      "Cargando imagen y máscara de: /home/anna/TFM/Radiomica/Segmentacion/Segmentacion_resultados/845290-051108-300481-01\n",
      "Extraídas 102 características del canal R\n"
     ]
    },
    {
     "name": "stderr",
     "output_type": "stream",
     "text": [
      "GLCM is symmetrical, therefore Sum Average = 2 * Joint Average, only 1 needs to be calculated\n",
      "GLCM is symmetrical, therefore Sum Average = 2 * Joint Average, only 1 needs to be calculated\n",
      "GLCM is symmetrical, therefore Sum Average = 2 * Joint Average, only 1 needs to be calculated\n",
      "GLCM is symmetrical, therefore Sum Average = 2 * Joint Average, only 1 needs to be calculated\n",
      "GLCM is symmetrical, therefore Sum Average = 2 * Joint Average, only 1 needs to be calculated\n",
      "GLCM is symmetrical, therefore Sum Average = 2 * Joint Average, only 1 needs to be calculated\n",
      "GLCM is symmetrical, therefore Sum Average = 2 * Joint Average, only 1 needs to be calculated\n",
      "GLCM is symmetrical, therefore Sum Average = 2 * Joint Average, only 1 needs to be calculated\n",
      "GLCM is symmetrical, therefore Sum Average = 2 * Joint Average, only 1 needs to be calculated\n"
     ]
    },
    {
     "name": "stdout",
     "output_type": "stream",
     "text": [
      "Extraídas 102 características del canal G\n",
      "Extraídas 102 características del canal B\n",
      "\n",
      "Procesando 16: 427658-81014-300426 (2)\n",
      "Cargando imagen y máscara de: /home/anna/TFM/Radiomica/Segmentacion/Segmentacion_resultados/427658-81014-300426 (2)\n",
      "Extraídas 102 características del canal R\n",
      "Extraídas 102 características del canal G\n",
      "Extraídas 102 características del canal B\n",
      "\n",
      "Procesando 17: 419752-120613-300481\n",
      "Cargando imagen y máscara de: /home/anna/TFM/Radiomica/Segmentacion/Segmentacion_resultados/419752-120613-300481\n",
      "Extraídas 102 características del canal R\n",
      "Extraídas 102 características del canal G\n",
      "Extraídas 102 características del canal B\n",
      "\n",
      "Procesando 18: 932227_300481_22-12-2020_IMG_0953\n",
      "Cargando imagen y máscara de: /home/anna/TFM/Radiomica/Segmentacion/Segmentacion_resultados/932227_300481_22-12-2020_IMG_0953\n",
      "Extraídas 102 características del canal R\n"
     ]
    },
    {
     "name": "stderr",
     "output_type": "stream",
     "text": [
      "GLCM is symmetrical, therefore Sum Average = 2 * Joint Average, only 1 needs to be calculated\n",
      "GLCM is symmetrical, therefore Sum Average = 2 * Joint Average, only 1 needs to be calculated\n",
      "GLCM is symmetrical, therefore Sum Average = 2 * Joint Average, only 1 needs to be calculated\n",
      "GLCM is symmetrical, therefore Sum Average = 2 * Joint Average, only 1 needs to be calculated\n",
      "GLCM is symmetrical, therefore Sum Average = 2 * Joint Average, only 1 needs to be calculated\n",
      "GLCM is symmetrical, therefore Sum Average = 2 * Joint Average, only 1 needs to be calculated\n",
      "GLCM is symmetrical, therefore Sum Average = 2 * Joint Average, only 1 needs to be calculated\n",
      "GLCM is symmetrical, therefore Sum Average = 2 * Joint Average, only 1 needs to be calculated\n",
      "GLCM is symmetrical, therefore Sum Average = 2 * Joint Average, only 1 needs to be calculated\n"
     ]
    },
    {
     "name": "stdout",
     "output_type": "stream",
     "text": [
      "Extraídas 102 características del canal G\n",
      "Extraídas 102 características del canal B\n",
      "\n",
      "Procesando 19: 192853-270412-300481\n",
      "Cargando imagen y máscara de: /home/anna/TFM/Radiomica/Segmentacion/Segmentacion_resultados/192853-270412-300481\n",
      "Extraídas 102 características del canal R\n",
      "Extraídas 102 características del canal G\n",
      "Extraídas 102 características del canal B\n",
      "\n",
      "Procesando 20: 172817-270511-300481-02\n",
      "Cargando imagen y máscara de: /home/anna/TFM/Radiomica/Segmentacion/Segmentacion_resultados/172817-270511-300481-02\n",
      "Extraídas 102 características del canal R\n",
      "Extraídas 102 características del canal G\n",
      "Extraídas 102 características del canal B\n",
      "\n",
      "Procesando 21: 797348_300481_26-6-2020_DSC_0247\n",
      "Cargando imagen y máscara de: /home/anna/TFM/Radiomica/Segmentacion/Segmentacion_resultados/797348_300481_26-6-2020_DSC_0247\n",
      "Extraídas 102 características del canal R\n"
     ]
    },
    {
     "name": "stderr",
     "output_type": "stream",
     "text": [
      "GLCM is symmetrical, therefore Sum Average = 2 * Joint Average, only 1 needs to be calculated\n",
      "GLCM is symmetrical, therefore Sum Average = 2 * Joint Average, only 1 needs to be calculated\n",
      "GLCM is symmetrical, therefore Sum Average = 2 * Joint Average, only 1 needs to be calculated\n",
      "GLCM is symmetrical, therefore Sum Average = 2 * Joint Average, only 1 needs to be calculated\n",
      "GLCM is symmetrical, therefore Sum Average = 2 * Joint Average, only 1 needs to be calculated\n",
      "GLCM is symmetrical, therefore Sum Average = 2 * Joint Average, only 1 needs to be calculated\n",
      "GLCM is symmetrical, therefore Sum Average = 2 * Joint Average, only 1 needs to be calculated\n",
      "GLCM is symmetrical, therefore Sum Average = 2 * Joint Average, only 1 needs to be calculated\n",
      "GLCM is symmetrical, therefore Sum Average = 2 * Joint Average, only 1 needs to be calculated\n",
      "GLCM is symmetrical, therefore Sum Average = 2 * Joint Average, only 1 needs to be calculated\n"
     ]
    },
    {
     "name": "stdout",
     "output_type": "stream",
     "text": [
      "Extraídas 102 características del canal G\n",
      "Extraídas 102 características del canal B\n",
      "\n",
      "Procesando 22: 1235694_300481_14-10-2020_DSC_0200\n",
      "Cargando imagen y máscara de: /home/anna/TFM/Radiomica/Segmentacion/Segmentacion_resultados/1235694_300481_14-10-2020_DSC_0200\n",
      "Extraídas 102 características del canal R\n",
      "Extraídas 102 características del canal G\n",
      "Extraídas 102 características del canal B\n",
      "\n",
      "Procesando 23: 118323-080317-300481(1)\n",
      "Cargando imagen y máscara de: /home/anna/TFM/Radiomica/Segmentacion/Segmentacion_resultados/118323-080317-300481(1)\n",
      "Extraídas 102 características del canal R\n",
      "Extraídas 102 características del canal G\n",
      "Extraídas 102 características del canal B\n",
      "\n",
      "Procesando 24: 980871-131010-300427-01\n",
      "Cargando imagen y máscara de: /home/anna/TFM/Radiomica/Segmentacion/Segmentacion_resultados/980871-131010-300427-01\n",
      "Extraídas 102 características del canal R\n"
     ]
    },
    {
     "name": "stderr",
     "output_type": "stream",
     "text": [
      "GLCM is symmetrical, therefore Sum Average = 2 * Joint Average, only 1 needs to be calculated\n",
      "GLCM is symmetrical, therefore Sum Average = 2 * Joint Average, only 1 needs to be calculated\n",
      "GLCM is symmetrical, therefore Sum Average = 2 * Joint Average, only 1 needs to be calculated\n",
      "GLCM is symmetrical, therefore Sum Average = 2 * Joint Average, only 1 needs to be calculated\n",
      "GLCM is symmetrical, therefore Sum Average = 2 * Joint Average, only 1 needs to be calculated\n",
      "GLCM is symmetrical, therefore Sum Average = 2 * Joint Average, only 1 needs to be calculated\n",
      "GLCM is symmetrical, therefore Sum Average = 2 * Joint Average, only 1 needs to be calculated\n",
      "GLCM is symmetrical, therefore Sum Average = 2 * Joint Average, only 1 needs to be calculated\n"
     ]
    },
    {
     "name": "stdout",
     "output_type": "stream",
     "text": [
      "Extraídas 102 características del canal G\n",
      "Extraídas 102 características del canal B\n",
      "\n",
      "Procesando 25: 509472_300481_20-7-2022_DSC_0238\n",
      "Cargando imagen y máscara de: /home/anna/TFM/Radiomica/Segmentacion/Segmentacion_resultados/509472_300481_20-7-2022_DSC_0238\n",
      "Extraídas 102 características del canal R\n",
      "Extraídas 102 características del canal G\n",
      "Extraídas 102 características del canal B\n",
      "\n",
      "Procesando 26: 724146-080305-02-300481\n",
      "Cargando imagen y máscara de: /home/anna/TFM/Radiomica/Segmentacion/Segmentacion_resultados/724146-080305-02-300481\n",
      "Extraídas 102 características del canal R\n",
      "Extraídas 102 características del canal G\n",
      "Extraídas 102 características del canal B\n",
      "\n",
      "Procesando 27: 19846-z2023-300481-27022023-1\n",
      "Cargando imagen y máscara de: /home/anna/TFM/Radiomica/Segmentacion/Segmentacion_resultados/19846-z2023-300481-27022023-1\n",
      "Extraídas 102 características del canal R\n"
     ]
    },
    {
     "name": "stderr",
     "output_type": "stream",
     "text": [
      "GLCM is symmetrical, therefore Sum Average = 2 * Joint Average, only 1 needs to be calculated\n",
      "GLCM is symmetrical, therefore Sum Average = 2 * Joint Average, only 1 needs to be calculated\n",
      "GLCM is symmetrical, therefore Sum Average = 2 * Joint Average, only 1 needs to be calculated\n",
      "GLCM is symmetrical, therefore Sum Average = 2 * Joint Average, only 1 needs to be calculated\n",
      "GLCM is symmetrical, therefore Sum Average = 2 * Joint Average, only 1 needs to be calculated\n",
      "GLCM is symmetrical, therefore Sum Average = 2 * Joint Average, only 1 needs to be calculated\n",
      "GLCM is symmetrical, therefore Sum Average = 2 * Joint Average, only 1 needs to be calculated\n",
      "GLCM is symmetrical, therefore Sum Average = 2 * Joint Average, only 1 needs to be calculated\n"
     ]
    },
    {
     "name": "stdout",
     "output_type": "stream",
     "text": [
      "Extraídas 102 características del canal G\n",
      "Extraídas 102 características del canal B\n",
      "\n",
      "Procesando 28: 547111-110203-01-00300481\n",
      "Cargando imagen y máscara de: /home/anna/TFM/Radiomica/Segmentacion/Segmentacion_resultados/547111-110203-01-00300481\n",
      "Extraídas 102 características del canal R\n",
      "Extraídas 102 características del canal G\n",
      "Extraídas 102 características del canal B\n",
      "\n",
      "Procesando 29: 1240571_300481_19-10-2020_DSC_0234\n",
      "Cargando imagen y máscara de: /home/anna/TFM/Radiomica/Segmentacion/Segmentacion_resultados/1240571_300481_19-10-2020_DSC_0234\n",
      "Extraídas 102 características del canal R\n",
      "Extraídas 102 características del canal G\n",
      "Extraídas 102 características del canal B\n",
      "\n",
      "Procesando 30: 172817-150611-300481-02\n",
      "Cargando imagen y máscara de: /home/anna/TFM/Radiomica/Segmentacion/Segmentacion_resultados/172817-150611-300481-02\n"
     ]
    },
    {
     "name": "stderr",
     "output_type": "stream",
     "text": [
      "GLCM is symmetrical, therefore Sum Average = 2 * Joint Average, only 1 needs to be calculated\n",
      "GLCM is symmetrical, therefore Sum Average = 2 * Joint Average, only 1 needs to be calculated\n",
      "GLCM is symmetrical, therefore Sum Average = 2 * Joint Average, only 1 needs to be calculated\n",
      "GLCM is symmetrical, therefore Sum Average = 2 * Joint Average, only 1 needs to be calculated\n",
      "GLCM is symmetrical, therefore Sum Average = 2 * Joint Average, only 1 needs to be calculated\n",
      "GLCM is symmetrical, therefore Sum Average = 2 * Joint Average, only 1 needs to be calculated\n",
      "GLCM is symmetrical, therefore Sum Average = 2 * Joint Average, only 1 needs to be calculated\n",
      "GLCM is symmetrical, therefore Sum Average = 2 * Joint Average, only 1 needs to be calculated\n",
      "GLCM is symmetrical, therefore Sum Average = 2 * Joint Average, only 1 needs to be calculated\n",
      "GLCM is symmetrical, therefore Sum Average = 2 * Joint Average, only 1 needs to be calculated\n",
      "GLCM is symmetrical, therefore Sum Average = 2 * Joint Average, only 1 needs to be calculated\n",
      "GLCM is symmetrical, therefore Sum Average = 2 * Joint Average, only 1 needs to be calculated\n"
     ]
    },
    {
     "name": "stdout",
     "output_type": "stream",
     "text": [
      "Extraídas 102 características del canal R\n",
      "Extraídas 102 características del canal G\n",
      "Extraídas 102 características del canal B\n",
      "\n",
      "Procesando 31: 717820-181212-300427-1\n",
      "Cargando imagen y máscara de: /home/anna/TFM/Radiomica/Segmentacion/Segmentacion_resultados/717820-181212-300427-1\n",
      "Extraídas 102 características del canal R\n",
      "Extraídas 102 características del canal G\n",
      "Extraídas 102 características del canal B\n",
      "\n",
      "Procesando 32: 204228-280911-300481-02\n",
      "Cargando imagen y máscara de: /home/anna/TFM/Radiomica/Segmentacion/Segmentacion_resultados/204228-280911-300481-02\n",
      "Extraídas 102 características del canal R\n",
      "Extraídas 102 características del canal G\n",
      "Extraídas 102 características del canal B\n",
      "\n",
      "Procesando 33: 826572-150711-300481-02\n",
      "Cargando imagen y máscara de: /home/anna/TFM/Radiomica/Segmentacion/Segmentacion_resultados/826572-150711-300481-02\n",
      "Extraídas 102 características del canal R\n",
      "Extraídas 102 características del canal G\n"
     ]
    },
    {
     "name": "stderr",
     "output_type": "stream",
     "text": [
      "GLCM is symmetrical, therefore Sum Average = 2 * Joint Average, only 1 needs to be calculated\n",
      "GLCM is symmetrical, therefore Sum Average = 2 * Joint Average, only 1 needs to be calculated\n",
      "GLCM is symmetrical, therefore Sum Average = 2 * Joint Average, only 1 needs to be calculated\n",
      "GLCM is symmetrical, therefore Sum Average = 2 * Joint Average, only 1 needs to be calculated\n",
      "GLCM is symmetrical, therefore Sum Average = 2 * Joint Average, only 1 needs to be calculated\n",
      "GLCM is symmetrical, therefore Sum Average = 2 * Joint Average, only 1 needs to be calculated\n",
      "GLCM is symmetrical, therefore Sum Average = 2 * Joint Average, only 1 needs to be calculated\n",
      "GLCM is symmetrical, therefore Sum Average = 2 * Joint Average, only 1 needs to be calculated\n"
     ]
    },
    {
     "name": "stdout",
     "output_type": "stream",
     "text": [
      "Extraídas 102 características del canal B\n",
      "\n",
      "Procesando 34: 883231-140709-300481-01\n",
      "Cargando imagen y máscara de: /home/anna/TFM/Radiomica/Segmentacion/Segmentacion_resultados/883231-140709-300481-01\n",
      "Extraídas 102 características del canal R\n",
      "Extraídas 102 características del canal G\n",
      "Extraídas 102 características del canal B\n",
      "\n",
      "Procesando 35: 57644_300481_6-6-2018_DSC_0855\n",
      "Cargando imagen y máscara de: /home/anna/TFM/Radiomica/Segmentacion/Segmentacion_resultados/57644_300481_6-6-2018_DSC_0855\n",
      "Extraídas 102 características del canal R\n",
      "Extraídas 102 características del canal G\n",
      "Extraídas 102 características del canal B\n",
      "\n",
      "Procesando 36: 457935_300481_28-5-2020_IMG_9699\n",
      "Cargando imagen y máscara de: /home/anna/TFM/Radiomica/Segmentacion/Segmentacion_resultados/457935_300481_28-5-2020_IMG_9699\n",
      "Extraídas 102 características del canal R\n",
      "Extraídas 102 características del canal G\n"
     ]
    },
    {
     "name": "stderr",
     "output_type": "stream",
     "text": [
      "GLCM is symmetrical, therefore Sum Average = 2 * Joint Average, only 1 needs to be calculated\n",
      "GLCM is symmetrical, therefore Sum Average = 2 * Joint Average, only 1 needs to be calculated\n",
      "GLCM is symmetrical, therefore Sum Average = 2 * Joint Average, only 1 needs to be calculated\n",
      "GLCM is symmetrical, therefore Sum Average = 2 * Joint Average, only 1 needs to be calculated\n",
      "GLCM is symmetrical, therefore Sum Average = 2 * Joint Average, only 1 needs to be calculated\n",
      "GLCM is symmetrical, therefore Sum Average = 2 * Joint Average, only 1 needs to be calculated\n",
      "GLCM is symmetrical, therefore Sum Average = 2 * Joint Average, only 1 needs to be calculated\n",
      "GLCM is symmetrical, therefore Sum Average = 2 * Joint Average, only 1 needs to be calculated\n",
      "GLCM is symmetrical, therefore Sum Average = 2 * Joint Average, only 1 needs to be calculated\n",
      "GLCM is symmetrical, therefore Sum Average = 2 * Joint Average, only 1 needs to be calculated\n",
      "GLCM is symmetrical, therefore Sum Average = 2 * Joint Average, only 1 needs to be calculated\n"
     ]
    },
    {
     "name": "stdout",
     "output_type": "stream",
     "text": [
      "Extraídas 102 características del canal B\n",
      "\n",
      "Procesando 37: 1079695_300481_2-6-2020_IMG_9716\n",
      "Cargando imagen y máscara de: /home/anna/TFM/Radiomica/Segmentacion/Segmentacion_resultados/1079695_300481_2-6-2020_IMG_9716\n",
      "Extraídas 102 características del canal R\n",
      "Extraídas 102 características del canal G\n",
      "Extraídas 102 características del canal B\n",
      "\n",
      "Procesando 38: 52970_300481_23-6-2020_IMG_9970\n",
      "Cargando imagen y máscara de: /home/anna/TFM/Radiomica/Segmentacion/Segmentacion_resultados/52970_300481_23-6-2020_IMG_9970\n",
      "Extraídas 102 características del canal R\n",
      "Extraídas 102 características del canal G\n",
      "Extraídas 102 características del canal B\n",
      "\n",
      "Procesando 39: 1274526_300481_27-11-2018_P1015379\n",
      "Cargando imagen y máscara de: /home/anna/TFM/Radiomica/Segmentacion/Segmentacion_resultados/1274526_300481_27-11-2018_P1015379\n",
      "Extraídas 102 características del canal R\n",
      "Extraídas 102 características del canal G\n",
      "Extraídas 102 características del canal B\n",
      "\n",
      "Procesando 40: 942918_300481_8-10-2018_DSC_0183\n",
      "Cargando imagen y máscara de: /home/anna/TFM/Radiomica/Segmentacion/Segmentacion_resultados/942918_300481_8-10-2018_DSC_0183\n",
      "Extraídas 102 características del canal R\n"
     ]
    },
    {
     "name": "stderr",
     "output_type": "stream",
     "text": [
      "GLCM is symmetrical, therefore Sum Average = 2 * Joint Average, only 1 needs to be calculated\n",
      "GLCM is symmetrical, therefore Sum Average = 2 * Joint Average, only 1 needs to be calculated\n",
      "GLCM is symmetrical, therefore Sum Average = 2 * Joint Average, only 1 needs to be calculated\n",
      "GLCM is symmetrical, therefore Sum Average = 2 * Joint Average, only 1 needs to be calculated\n",
      "GLCM is symmetrical, therefore Sum Average = 2 * Joint Average, only 1 needs to be calculated\n",
      "GLCM is symmetrical, therefore Sum Average = 2 * Joint Average, only 1 needs to be calculated\n",
      "GLCM is symmetrical, therefore Sum Average = 2 * Joint Average, only 1 needs to be calculated\n",
      "GLCM is symmetrical, therefore Sum Average = 2 * Joint Average, only 1 needs to be calculated\n",
      "GLCM is symmetrical, therefore Sum Average = 2 * Joint Average, only 1 needs to be calculated\n",
      "GLCM is symmetrical, therefore Sum Average = 2 * Joint Average, only 1 needs to be calculated\n"
     ]
    },
    {
     "name": "stdout",
     "output_type": "stream",
     "text": [
      "Extraídas 102 características del canal G\n",
      "Extraídas 102 características del canal B\n",
      "\n",
      "Procesando 41: 61489_300481_20-10-2020_DSC_0242\n",
      "Cargando imagen y máscara de: /home/anna/TFM/Radiomica/Segmentacion/Segmentacion_resultados/61489_300481_20-10-2020_DSC_0242\n",
      "Extraídas 102 características del canal R\n",
      "Extraídas 102 características del canal G\n",
      "Extraídas 102 características del canal B\n",
      "\n",
      "Procesando 42: 856654_120214_300481 (3)\n",
      "Cargando imagen y máscara de: /home/anna/TFM/Radiomica/Segmentacion/Segmentacion_resultados/856654_120214_300481 (3)\n",
      "Extraídas 102 características del canal R\n",
      "Extraídas 102 características del canal G\n",
      "Extraídas 102 características del canal B\n",
      "\n",
      "Procesando 43: 344322_300481_11-7-2018_P1014294\n",
      "Cargando imagen y máscara de: /home/anna/TFM/Radiomica/Segmentacion/Segmentacion_resultados/344322_300481_11-7-2018_P1014294\n",
      "Extraídas 102 características del canal R\n",
      "Extraídas 102 características del canal G\n"
     ]
    },
    {
     "name": "stderr",
     "output_type": "stream",
     "text": [
      "GLCM is symmetrical, therefore Sum Average = 2 * Joint Average, only 1 needs to be calculated\n",
      "GLCM is symmetrical, therefore Sum Average = 2 * Joint Average, only 1 needs to be calculated\n",
      "GLCM is symmetrical, therefore Sum Average = 2 * Joint Average, only 1 needs to be calculated\n",
      "GLCM is symmetrical, therefore Sum Average = 2 * Joint Average, only 1 needs to be calculated\n",
      "GLCM is symmetrical, therefore Sum Average = 2 * Joint Average, only 1 needs to be calculated\n",
      "GLCM is symmetrical, therefore Sum Average = 2 * Joint Average, only 1 needs to be calculated\n",
      "GLCM is symmetrical, therefore Sum Average = 2 * Joint Average, only 1 needs to be calculated\n",
      "GLCM is symmetrical, therefore Sum Average = 2 * Joint Average, only 1 needs to be calculated\n",
      "GLCM is symmetrical, therefore Sum Average = 2 * Joint Average, only 1 needs to be calculated\n",
      "GLCM is symmetrical, therefore Sum Average = 2 * Joint Average, only 1 needs to be calculated\n",
      "GLCM is symmetrical, therefore Sum Average = 2 * Joint Average, only 1 needs to be calculated\n"
     ]
    },
    {
     "name": "stdout",
     "output_type": "stream",
     "text": [
      "Extraídas 102 características del canal B\n",
      "\n",
      "Procesando 44: 805436-260607-02-300481\n",
      "Cargando imagen y máscara de: /home/anna/TFM/Radiomica/Segmentacion/Segmentacion_resultados/805436-260607-02-300481\n",
      "Extraídas 102 características del canal R\n",
      "Extraídas 102 características del canal G\n",
      "Extraídas 102 características del canal B\n",
      "\n",
      "Procesando 45: 506606-211002-01-00300481\n",
      "Cargando imagen y máscara de: /home/anna/TFM/Radiomica/Segmentacion/Segmentacion_resultados/506606-211002-01-00300481\n",
      "Extraídas 102 características del canal R\n",
      "Extraídas 102 características del canal G\n",
      "Extraídas 102 características del canal B\n",
      "\n",
      "Procesando 46: 1079119_300481_20-4-2021_DSC_0125\n",
      "Cargando imagen y máscara de: /home/anna/TFM/Radiomica/Segmentacion/Segmentacion_resultados/1079119_300481_20-4-2021_DSC_0125\n",
      "Extraídas 102 características del canal R\n",
      "Extraídas 102 características del canal G\n",
      "Extraídas 102 características del canal B\n",
      "\n",
      "Procesando 47: 537037-111206-09-300481\n",
      "Cargando imagen y máscara de: /home/anna/TFM/Radiomica/Segmentacion/Segmentacion_resultados/537037-111206-09-300481\n"
     ]
    },
    {
     "name": "stderr",
     "output_type": "stream",
     "text": [
      "GLCM is symmetrical, therefore Sum Average = 2 * Joint Average, only 1 needs to be calculated\n",
      "GLCM is symmetrical, therefore Sum Average = 2 * Joint Average, only 1 needs to be calculated\n",
      "GLCM is symmetrical, therefore Sum Average = 2 * Joint Average, only 1 needs to be calculated\n",
      "GLCM is symmetrical, therefore Sum Average = 2 * Joint Average, only 1 needs to be calculated\n",
      "GLCM is symmetrical, therefore Sum Average = 2 * Joint Average, only 1 needs to be calculated\n",
      "GLCM is symmetrical, therefore Sum Average = 2 * Joint Average, only 1 needs to be calculated\n",
      "GLCM is symmetrical, therefore Sum Average = 2 * Joint Average, only 1 needs to be calculated\n",
      "GLCM is symmetrical, therefore Sum Average = 2 * Joint Average, only 1 needs to be calculated\n"
     ]
    },
    {
     "name": "stdout",
     "output_type": "stream",
     "text": [
      "Extraídas 102 características del canal R\n",
      "Extraídas 102 características del canal G\n",
      "Extraídas 102 características del canal B\n",
      "\n",
      "Procesando 48: 605690_300481_300427_15-12-2021_DSC_0028\n",
      "Cargando imagen y máscara de: /home/anna/TFM/Radiomica/Segmentacion/Segmentacion_resultados/605690_300481_300427_15-12-2021_DSC_0028\n",
      "Extraídas 102 características del canal R\n",
      "Extraídas 102 características del canal G\n",
      "Extraídas 102 características del canal B\n",
      "\n",
      "Procesando 49: 30745-220408-300481-01\n",
      "Cargando imagen y máscara de: /home/anna/TFM/Radiomica/Segmentacion/Segmentacion_resultados/30745-220408-300481-01\n",
      "Extraídas 102 características del canal R\n",
      "Extraídas 102 características del canal G\n",
      "Extraídas 102 características del canal B\n",
      "\n",
      "Procesando 50: 261329-120810-300481-02\n"
     ]
    },
    {
     "name": "stderr",
     "output_type": "stream",
     "text": [
      "GLCM is symmetrical, therefore Sum Average = 2 * Joint Average, only 1 needs to be calculated\n",
      "GLCM is symmetrical, therefore Sum Average = 2 * Joint Average, only 1 needs to be calculated\n",
      "GLCM is symmetrical, therefore Sum Average = 2 * Joint Average, only 1 needs to be calculated\n",
      "GLCM is symmetrical, therefore Sum Average = 2 * Joint Average, only 1 needs to be calculated\n",
      "GLCM is symmetrical, therefore Sum Average = 2 * Joint Average, only 1 needs to be calculated\n",
      "GLCM is symmetrical, therefore Sum Average = 2 * Joint Average, only 1 needs to be calculated\n",
      "GLCM is symmetrical, therefore Sum Average = 2 * Joint Average, only 1 needs to be calculated\n",
      "GLCM is symmetrical, therefore Sum Average = 2 * Joint Average, only 1 needs to be calculated\n",
      "GLCM is symmetrical, therefore Sum Average = 2 * Joint Average, only 1 needs to be calculated\n",
      "GLCM is symmetrical, therefore Sum Average = 2 * Joint Average, only 1 needs to be calculated\n",
      "GLCM is symmetrical, therefore Sum Average = 2 * Joint Average, only 1 needs to be calculated\n"
     ]
    },
    {
     "name": "stdout",
     "output_type": "stream",
     "text": [
      "Cargando imagen y máscara de: /home/anna/TFM/Radiomica/Segmentacion/Segmentacion_resultados/261329-120810-300481-02\n",
      "Extraídas 102 características del canal R\n",
      "Extraídas 102 características del canal G\n",
      "Extraídas 102 características del canal B\n",
      "\n",
      "Procesando 51: 498832-301107-300006-01\n",
      "Cargando imagen y máscara de: /home/anna/TFM/Radiomica/Segmentacion/Segmentacion_resultados/498832-301107-300006-01\n",
      "Extraídas 102 características del canal R\n",
      "Extraídas 102 características del canal G\n",
      "Extraídas 102 características del canal B\n",
      "\n",
      "Procesando 52: 52970_300481_23-6-2020_DSC_0236\n",
      "Cargando imagen y máscara de: /home/anna/TFM/Radiomica/Segmentacion/Segmentacion_resultados/52970_300481_23-6-2020_DSC_0236\n",
      "Extraídas 102 características del canal R\n",
      "Extraídas 102 características del canal G\n",
      "Extraídas 102 características del canal B\n",
      "\n",
      "Procesando 53: 160918_040215_300481 (2)\n",
      "Cargando imagen y máscara de: /home/anna/TFM/Radiomica/Segmentacion/Segmentacion_resultados/160918_040215_300481 (2)\n",
      "Extraídas 102 características del canal R\n",
      "Extraídas 102 características del canal G\n"
     ]
    },
    {
     "name": "stderr",
     "output_type": "stream",
     "text": [
      "GLCM is symmetrical, therefore Sum Average = 2 * Joint Average, only 1 needs to be calculated\n",
      "GLCM is symmetrical, therefore Sum Average = 2 * Joint Average, only 1 needs to be calculated\n",
      "GLCM is symmetrical, therefore Sum Average = 2 * Joint Average, only 1 needs to be calculated\n",
      "GLCM is symmetrical, therefore Sum Average = 2 * Joint Average, only 1 needs to be calculated\n",
      "GLCM is symmetrical, therefore Sum Average = 2 * Joint Average, only 1 needs to be calculated\n",
      "GLCM is symmetrical, therefore Sum Average = 2 * Joint Average, only 1 needs to be calculated\n",
      "GLCM is symmetrical, therefore Sum Average = 2 * Joint Average, only 1 needs to be calculated\n",
      "GLCM is symmetrical, therefore Sum Average = 2 * Joint Average, only 1 needs to be calculated\n",
      "GLCM is symmetrical, therefore Sum Average = 2 * Joint Average, only 1 needs to be calculated\n"
     ]
    },
    {
     "name": "stdout",
     "output_type": "stream",
     "text": [
      "Extraídas 102 características del canal B\n",
      "\n",
      "Procesando 54: 1344997_300481_19-10-2020_DSC_0215\n",
      "Cargando imagen y máscara de: /home/anna/TFM/Radiomica/Segmentacion/Segmentacion_resultados/1344997_300481_19-10-2020_DSC_0215\n",
      "Extraídas 102 características del canal R\n",
      "Extraídas 102 características del canal G\n",
      "Extraídas 102 características del canal B\n",
      "\n",
      "Procesando 55: 784808_300481_23-3-2021_DSC_0039\n",
      "Cargando imagen y máscara de: /home/anna/TFM/Radiomica/Segmentacion/Segmentacion_resultados/784808_300481_23-3-2021_DSC_0039\n",
      "Extraídas 102 características del canal R\n",
      "Extraídas 102 características del canal G\n",
      "Extraídas 102 características del canal B\n",
      "\n",
      "Procesando 56: 1235518_300481_1-6-2020_DSC_0117\n",
      "Cargando imagen y máscara de: /home/anna/TFM/Radiomica/Segmentacion/Segmentacion_resultados/1235518_300481_1-6-2020_DSC_0117\n",
      "Extraídas 102 características del canal R\n",
      "Extraídas 102 características del canal G\n"
     ]
    },
    {
     "name": "stderr",
     "output_type": "stream",
     "text": [
      "GLCM is symmetrical, therefore Sum Average = 2 * Joint Average, only 1 needs to be calculated\n",
      "GLCM is symmetrical, therefore Sum Average = 2 * Joint Average, only 1 needs to be calculated\n",
      "GLCM is symmetrical, therefore Sum Average = 2 * Joint Average, only 1 needs to be calculated\n",
      "GLCM is symmetrical, therefore Sum Average = 2 * Joint Average, only 1 needs to be calculated\n",
      "GLCM is symmetrical, therefore Sum Average = 2 * Joint Average, only 1 needs to be calculated\n",
      "GLCM is symmetrical, therefore Sum Average = 2 * Joint Average, only 1 needs to be calculated\n",
      "GLCM is symmetrical, therefore Sum Average = 2 * Joint Average, only 1 needs to be calculated\n",
      "GLCM is symmetrical, therefore Sum Average = 2 * Joint Average, only 1 needs to be calculated\n",
      "GLCM is symmetrical, therefore Sum Average = 2 * Joint Average, only 1 needs to be calculated\n",
      "GLCM is symmetrical, therefore Sum Average = 2 * Joint Average, only 1 needs to be calculated\n"
     ]
    },
    {
     "name": "stdout",
     "output_type": "stream",
     "text": [
      "Extraídas 102 características del canal B\n",
      "\n",
      "Procesando 57: 835899-031007-300481-02\n",
      "Cargando imagen y máscara de: /home/anna/TFM/Radiomica/Segmentacion/Segmentacion_resultados/835899-031007-300481-02\n",
      "Extraídas 102 características del canal R\n",
      "Extraídas 102 características del canal G\n",
      "Extraídas 102 características del canal B\n",
      "\n",
      "Procesando 58: 109257-170605-02-300427\n",
      "Cargando imagen y máscara de: /home/anna/TFM/Radiomica/Segmentacion/Segmentacion_resultados/109257-170605-02-300427\n",
      "Extraídas 102 características del canal R\n",
      "Extraídas 102 características del canal G\n",
      "Extraídas 102 características del canal B\n",
      "\n",
      "Procesando 59: 120338_300481_19-11-2018_DSC_0145\n",
      "Cargando imagen y máscara de: /home/anna/TFM/Radiomica/Segmentacion/Segmentacion_resultados/120338_300481_19-11-2018_DSC_0145\n",
      "Extraídas 102 características del canal R\n",
      "Extraídas 102 características del canal G\n",
      "Extraídas 102 características del canal B\n",
      "\n",
      "Procesando 60: 1156364_300481_1-9-2020_IMG_0218\n"
     ]
    },
    {
     "name": "stderr",
     "output_type": "stream",
     "text": [
      "GLCM is symmetrical, therefore Sum Average = 2 * Joint Average, only 1 needs to be calculated\n",
      "GLCM is symmetrical, therefore Sum Average = 2 * Joint Average, only 1 needs to be calculated\n",
      "GLCM is symmetrical, therefore Sum Average = 2 * Joint Average, only 1 needs to be calculated\n",
      "GLCM is symmetrical, therefore Sum Average = 2 * Joint Average, only 1 needs to be calculated\n",
      "GLCM is symmetrical, therefore Sum Average = 2 * Joint Average, only 1 needs to be calculated\n",
      "GLCM is symmetrical, therefore Sum Average = 2 * Joint Average, only 1 needs to be calculated\n",
      "GLCM is symmetrical, therefore Sum Average = 2 * Joint Average, only 1 needs to be calculated\n",
      "GLCM is symmetrical, therefore Sum Average = 2 * Joint Average, only 1 needs to be calculated\n",
      "GLCM is symmetrical, therefore Sum Average = 2 * Joint Average, only 1 needs to be calculated\n"
     ]
    },
    {
     "name": "stdout",
     "output_type": "stream",
     "text": [
      "Cargando imagen y máscara de: /home/anna/TFM/Radiomica/Segmentacion/Segmentacion_resultados/1156364_300481_1-9-2020_IMG_0218\n",
      "Extraídas 102 características del canal R\n",
      "Extraídas 102 características del canal G\n",
      "Extraídas 102 características del canal B\n",
      "\n",
      "Procesando 61: 1191567_300481_31-8-2022_P1012501\n",
      "Cargando imagen y máscara de: /home/anna/TFM/Radiomica/Segmentacion/Segmentacion_resultados/1191567_300481_31-8-2022_P1012501\n",
      "Extraídas 102 características del canal R\n",
      "Extraídas 102 características del canal G\n",
      "Extraídas 102 características del canal B\n",
      "\n",
      "Procesando 62: 1274526_300481_27-11-2018_P1015378\n",
      "Cargando imagen y máscara de: /home/anna/TFM/Radiomica/Segmentacion/Segmentacion_resultados/1274526_300481_27-11-2018_P1015378\n",
      "Extraídas 102 características del canal R\n",
      "Extraídas 102 características del canal G\n",
      "Extraídas 102 características del canal B\n",
      "\n",
      "Procesando 63: 57644_300481_25-6-2019_P1018128\n",
      "Cargando imagen y máscara de: /home/anna/TFM/Radiomica/Segmentacion/Segmentacion_resultados/57644_300481_25-6-2019_P1018128\n"
     ]
    },
    {
     "name": "stderr",
     "output_type": "stream",
     "text": [
      "GLCM is symmetrical, therefore Sum Average = 2 * Joint Average, only 1 needs to be calculated\n",
      "GLCM is symmetrical, therefore Sum Average = 2 * Joint Average, only 1 needs to be calculated\n",
      "GLCM is symmetrical, therefore Sum Average = 2 * Joint Average, only 1 needs to be calculated\n",
      "GLCM is symmetrical, therefore Sum Average = 2 * Joint Average, only 1 needs to be calculated\n",
      "GLCM is symmetrical, therefore Sum Average = 2 * Joint Average, only 1 needs to be calculated\n",
      "GLCM is symmetrical, therefore Sum Average = 2 * Joint Average, only 1 needs to be calculated\n",
      "GLCM is symmetrical, therefore Sum Average = 2 * Joint Average, only 1 needs to be calculated\n",
      "GLCM is symmetrical, therefore Sum Average = 2 * Joint Average, only 1 needs to be calculated\n",
      "GLCM is symmetrical, therefore Sum Average = 2 * Joint Average, only 1 needs to be calculated\n",
      "GLCM is symmetrical, therefore Sum Average = 2 * Joint Average, only 1 needs to be calculated\n"
     ]
    },
    {
     "name": "stdout",
     "output_type": "stream",
     "text": [
      "Extraídas 102 características del canal R\n",
      "Extraídas 102 características del canal G\n",
      "Extraídas 102 características del canal B\n",
      "\n",
      "Procesando 64: 935656_300481_24-11-2020_IMG_0744\n",
      "Cargando imagen y máscara de: /home/anna/TFM/Radiomica/Segmentacion/Segmentacion_resultados/935656_300481_24-11-2020_IMG_0744\n",
      "Extraídas 102 características del canal R\n",
      "Extraídas 102 características del canal G\n",
      "Extraídas 102 características del canal B\n",
      "\n",
      "Procesando 65: 56610-031001-01-00300481\n",
      "Cargando imagen y máscara de: /home/anna/TFM/Radiomica/Segmentacion/Segmentacion_resultados/56610-031001-01-00300481\n",
      "Extraídas 102 características del canal R\n",
      "Extraídas 102 características del canal G\n",
      "Extraídas 102 características del canal B\n",
      "\n",
      "Procesando 66: 103837-280808-300481-02\n",
      "Cargando imagen y máscara de: /home/anna/TFM/Radiomica/Segmentacion/Segmentacion_resultados/103837-280808-300481-02\n"
     ]
    },
    {
     "name": "stderr",
     "output_type": "stream",
     "text": [
      "GLCM is symmetrical, therefore Sum Average = 2 * Joint Average, only 1 needs to be calculated\n",
      "GLCM is symmetrical, therefore Sum Average = 2 * Joint Average, only 1 needs to be calculated\n",
      "GLCM is symmetrical, therefore Sum Average = 2 * Joint Average, only 1 needs to be calculated\n",
      "GLCM is symmetrical, therefore Sum Average = 2 * Joint Average, only 1 needs to be calculated\n",
      "GLCM is symmetrical, therefore Sum Average = 2 * Joint Average, only 1 needs to be calculated\n",
      "GLCM is symmetrical, therefore Sum Average = 2 * Joint Average, only 1 needs to be calculated\n",
      "GLCM is symmetrical, therefore Sum Average = 2 * Joint Average, only 1 needs to be calculated\n",
      "GLCM is symmetrical, therefore Sum Average = 2 * Joint Average, only 1 needs to be calculated\n"
     ]
    },
    {
     "name": "stdout",
     "output_type": "stream",
     "text": [
      "Extraídas 102 características del canal R\n",
      "Extraídas 102 características del canal G\n",
      "Extraídas 102 características del canal B\n",
      "\n",
      "Procesando 67: 1134003_300481_22-12-2020_IMG_0966\n",
      "Cargando imagen y máscara de: /home/anna/TFM/Radiomica/Segmentacion/Segmentacion_resultados/1134003_300481_22-12-2020_IMG_0966\n",
      "Extraídas 102 características del canal R\n",
      "Extraídas 102 características del canal G\n",
      "Extraídas 102 características del canal B\n",
      "\n",
      "Procesando 68: 836134-031007-300481-04\n",
      "Cargando imagen y máscara de: /home/anna/TFM/Radiomica/Segmentacion/Segmentacion_resultados/836134-031007-300481-04\n",
      "Extraídas 102 características del canal R\n",
      "Extraídas 102 características del canal G\n"
     ]
    },
    {
     "name": "stderr",
     "output_type": "stream",
     "text": [
      "GLCM is symmetrical, therefore Sum Average = 2 * Joint Average, only 1 needs to be calculated\n",
      "GLCM is symmetrical, therefore Sum Average = 2 * Joint Average, only 1 needs to be calculated\n",
      "GLCM is symmetrical, therefore Sum Average = 2 * Joint Average, only 1 needs to be calculated\n",
      "GLCM is symmetrical, therefore Sum Average = 2 * Joint Average, only 1 needs to be calculated\n",
      "GLCM is symmetrical, therefore Sum Average = 2 * Joint Average, only 1 needs to be calculated\n",
      "GLCM is symmetrical, therefore Sum Average = 2 * Joint Average, only 1 needs to be calculated\n",
      "GLCM is symmetrical, therefore Sum Average = 2 * Joint Average, only 1 needs to be calculated\n",
      "GLCM is symmetrical, therefore Sum Average = 2 * Joint Average, only 1 needs to be calculated\n",
      "GLCM is symmetrical, therefore Sum Average = 2 * Joint Average, only 1 needs to be calculated\n"
     ]
    },
    {
     "name": "stdout",
     "output_type": "stream",
     "text": [
      "Extraídas 102 características del canal B\n",
      "\n",
      "Procesando 69: 821369_300481_30-11-2020_DSC_0079\n",
      "Cargando imagen y máscara de: /home/anna/TFM/Radiomica/Segmentacion/Segmentacion_resultados/821369_300481_30-11-2020_DSC_0079\n",
      "Extraídas 102 características del canal R\n",
      "Extraídas 102 características del canal G\n",
      "Extraídas 102 características del canal B\n",
      "\n",
      "Procesando 70: 146458-110507-01-300481\n",
      "Cargando imagen y máscara de: /home/anna/TFM/Radiomica/Segmentacion/Segmentacion_resultados/146458-110507-01-300481\n",
      "Extraídas 102 características del canal R\n",
      "Extraídas 102 características del canal G\n",
      "Extraídas 102 características del canal B\n",
      "\n",
      "Procesando 71: 694349-050803-01-00300481\n",
      "Cargando imagen y máscara de: /home/anna/TFM/Radiomica/Segmentacion/Segmentacion_resultados/694349-050803-01-00300481\n",
      "Extraídas 102 características del canal R\n",
      "Extraídas 102 características del canal G\n"
     ]
    },
    {
     "name": "stderr",
     "output_type": "stream",
     "text": [
      "GLCM is symmetrical, therefore Sum Average = 2 * Joint Average, only 1 needs to be calculated\n",
      "GLCM is symmetrical, therefore Sum Average = 2 * Joint Average, only 1 needs to be calculated\n",
      "GLCM is symmetrical, therefore Sum Average = 2 * Joint Average, only 1 needs to be calculated\n",
      "GLCM is symmetrical, therefore Sum Average = 2 * Joint Average, only 1 needs to be calculated\n",
      "GLCM is symmetrical, therefore Sum Average = 2 * Joint Average, only 1 needs to be calculated\n",
      "GLCM is symmetrical, therefore Sum Average = 2 * Joint Average, only 1 needs to be calculated\n",
      "GLCM is symmetrical, therefore Sum Average = 2 * Joint Average, only 1 needs to be calculated\n",
      "GLCM is symmetrical, therefore Sum Average = 2 * Joint Average, only 1 needs to be calculated\n",
      "GLCM is symmetrical, therefore Sum Average = 2 * Joint Average, only 1 needs to be calculated\n",
      "GLCM is symmetrical, therefore Sum Average = 2 * Joint Average, only 1 needs to be calculated\n"
     ]
    },
    {
     "name": "stdout",
     "output_type": "stream",
     "text": [
      "Extraídas 102 características del canal B\n",
      "\n",
      "Procesando 72: 52970_300481_23-6-2020_DSC_0235\n",
      "Cargando imagen y máscara de: /home/anna/TFM/Radiomica/Segmentacion/Segmentacion_resultados/52970_300481_23-6-2020_DSC_0235\n",
      "Extraídas 102 características del canal R\n",
      "Extraídas 102 características del canal G\n",
      "Extraídas 102 características del canal B\n",
      "\n",
      "Procesando 73: 561272_300481_30-9-2020_DSC_0089\n",
      "Cargando imagen y máscara de: /home/anna/TFM/Radiomica/Segmentacion/Segmentacion_resultados/561272_300481_30-9-2020_DSC_0089\n",
      "Extraídas 102 características del canal R\n",
      "Extraídas 102 características del canal G\n",
      "Extraídas 102 características del canal B\n",
      "\n",
      "Procesando 74: 586695-260105-01-300481\n",
      "Cargando imagen y máscara de: /home/anna/TFM/Radiomica/Segmentacion/Segmentacion_resultados/586695-260105-01-300481\n",
      "Extraídas 102 características del canal R\n",
      "Extraídas 102 características del canal G\n",
      "Extraídas 102 características del canal B\n",
      "\n",
      "Procesando 75: 750133-220405-01-300481\n",
      "Cargando imagen y máscara de: /home/anna/TFM/Radiomica/Segmentacion/Segmentacion_resultados/750133-220405-01-300481\n"
     ]
    },
    {
     "name": "stderr",
     "output_type": "stream",
     "text": [
      "GLCM is symmetrical, therefore Sum Average = 2 * Joint Average, only 1 needs to be calculated\n",
      "GLCM is symmetrical, therefore Sum Average = 2 * Joint Average, only 1 needs to be calculated\n",
      "GLCM is symmetrical, therefore Sum Average = 2 * Joint Average, only 1 needs to be calculated\n",
      "GLCM is symmetrical, therefore Sum Average = 2 * Joint Average, only 1 needs to be calculated\n",
      "GLCM is symmetrical, therefore Sum Average = 2 * Joint Average, only 1 needs to be calculated\n",
      "GLCM is symmetrical, therefore Sum Average = 2 * Joint Average, only 1 needs to be calculated\n",
      "GLCM is symmetrical, therefore Sum Average = 2 * Joint Average, only 1 needs to be calculated\n",
      "GLCM is symmetrical, therefore Sum Average = 2 * Joint Average, only 1 needs to be calculated\n",
      "GLCM is symmetrical, therefore Sum Average = 2 * Joint Average, only 1 needs to be calculated\n"
     ]
    },
    {
     "name": "stdout",
     "output_type": "stream",
     "text": [
      "Extraídas 102 características del canal R\n",
      "Extraídas 102 características del canal G\n",
      "Extraídas 102 características del canal B\n",
      "\n",
      "Procesando 76: 1097005_300481_1-3-2022_P1011463\n",
      "Cargando imagen y máscara de: /home/anna/TFM/Radiomica/Segmentacion/Segmentacion_resultados/1097005_300481_1-3-2022_P1011463\n",
      "Extraídas 102 características del canal R\n",
      "Extraídas 102 características del canal G\n",
      "Extraídas 102 características del canal B\n",
      "\n",
      "Procesando 77: 30745-010408-300481-01\n",
      "Cargando imagen y máscara de: /home/anna/TFM/Radiomica/Segmentacion/Segmentacion_resultados/30745-010408-300481-01\n",
      "Extraídas 102 características del canal R\n",
      "Extraídas 102 características del canal G\n",
      "Extraídas 102 características del canal B\n",
      "\n",
      "Procesando 78: 1240571_300481_11-9-2018_P1014210\n",
      "Cargando imagen y máscara de: /home/anna/TFM/Radiomica/Segmentacion/Segmentacion_resultados/1240571_300481_11-9-2018_P1014210\n",
      "Extraídas 102 características del canal R\n"
     ]
    },
    {
     "name": "stderr",
     "output_type": "stream",
     "text": [
      "GLCM is symmetrical, therefore Sum Average = 2 * Joint Average, only 1 needs to be calculated\n",
      "GLCM is symmetrical, therefore Sum Average = 2 * Joint Average, only 1 needs to be calculated\n",
      "GLCM is symmetrical, therefore Sum Average = 2 * Joint Average, only 1 needs to be calculated\n",
      "GLCM is symmetrical, therefore Sum Average = 2 * Joint Average, only 1 needs to be calculated\n",
      "GLCM is symmetrical, therefore Sum Average = 2 * Joint Average, only 1 needs to be calculated\n",
      "GLCM is symmetrical, therefore Sum Average = 2 * Joint Average, only 1 needs to be calculated\n",
      "GLCM is symmetrical, therefore Sum Average = 2 * Joint Average, only 1 needs to be calculated\n",
      "GLCM is symmetrical, therefore Sum Average = 2 * Joint Average, only 1 needs to be calculated\n"
     ]
    },
    {
     "name": "stdout",
     "output_type": "stream",
     "text": [
      "Extraídas 102 características del canal G\n",
      "Extraídas 102 características del canal B\n",
      "\n",
      "Procesando 79: 973638-120111-400095-01\n",
      "Cargando imagen y máscara de: /home/anna/TFM/Radiomica/Segmentacion/Segmentacion_resultados/973638-120111-400095-01\n",
      "Extraídas 102 características del canal R\n",
      "Extraídas 102 características del canal G\n",
      "Extraídas 102 características del canal B\n",
      "\n",
      "Procesando 80: 594064-250501-01-0300481\n",
      "Cargando imagen y máscara de: /home/anna/TFM/Radiomica/Segmentacion/Segmentacion_resultados/594064-250501-01-0300481\n",
      "Extraídas 102 características del canal R\n",
      "Extraídas 102 características del canal G\n",
      "Extraídas 102 características del canal B\n",
      "\n",
      "Procesando 81: 202932-220507-02-300481\n",
      "Cargando imagen y máscara de: /home/anna/TFM/Radiomica/Segmentacion/Segmentacion_resultados/202932-220507-02-300481\n"
     ]
    },
    {
     "name": "stderr",
     "output_type": "stream",
     "text": [
      "GLCM is symmetrical, therefore Sum Average = 2 * Joint Average, only 1 needs to be calculated\n",
      "GLCM is symmetrical, therefore Sum Average = 2 * Joint Average, only 1 needs to be calculated\n",
      "GLCM is symmetrical, therefore Sum Average = 2 * Joint Average, only 1 needs to be calculated\n",
      "GLCM is symmetrical, therefore Sum Average = 2 * Joint Average, only 1 needs to be calculated\n",
      "GLCM is symmetrical, therefore Sum Average = 2 * Joint Average, only 1 needs to be calculated\n",
      "GLCM is symmetrical, therefore Sum Average = 2 * Joint Average, only 1 needs to be calculated\n",
      "GLCM is symmetrical, therefore Sum Average = 2 * Joint Average, only 1 needs to be calculated\n",
      "GLCM is symmetrical, therefore Sum Average = 2 * Joint Average, only 1 needs to be calculated\n",
      "GLCM is symmetrical, therefore Sum Average = 2 * Joint Average, only 1 needs to be calculated\n"
     ]
    },
    {
     "name": "stdout",
     "output_type": "stream",
     "text": [
      "Extraídas 102 características del canal R\n",
      "Extraídas 102 características del canal G\n",
      "Extraídas 102 características del canal B\n",
      "\n",
      "Procesando 82: 1373513_300481_27-4-2021_DSC_0166\n",
      "Cargando imagen y máscara de: /home/anna/TFM/Radiomica/Segmentacion/Segmentacion_resultados/1373513_300481_27-4-2021_DSC_0166\n",
      "Extraídas 102 características del canal R\n",
      "Extraídas 102 características del canal G\n",
      "Extraídas 102 características del canal B\n",
      "\n",
      "Procesando 83: 839840-220709-500006-01\n",
      "Cargando imagen y máscara de: /home/anna/TFM/Radiomica/Segmentacion/Segmentacion_resultados/839840-220709-500006-01\n",
      "Extraídas 102 características del canal R\n",
      "Extraídas 102 características del canal G\n"
     ]
    },
    {
     "name": "stderr",
     "output_type": "stream",
     "text": [
      "GLCM is symmetrical, therefore Sum Average = 2 * Joint Average, only 1 needs to be calculated\n",
      "GLCM is symmetrical, therefore Sum Average = 2 * Joint Average, only 1 needs to be calculated\n",
      "GLCM is symmetrical, therefore Sum Average = 2 * Joint Average, only 1 needs to be calculated\n",
      "GLCM is symmetrical, therefore Sum Average = 2 * Joint Average, only 1 needs to be calculated\n",
      "GLCM is symmetrical, therefore Sum Average = 2 * Joint Average, only 1 needs to be calculated\n",
      "GLCM is symmetrical, therefore Sum Average = 2 * Joint Average, only 1 needs to be calculated\n",
      "GLCM is symmetrical, therefore Sum Average = 2 * Joint Average, only 1 needs to be calculated\n",
      "GLCM is symmetrical, therefore Sum Average = 2 * Joint Average, only 1 needs to be calculated\n",
      "GLCM is symmetrical, therefore Sum Average = 2 * Joint Average, only 1 needs to be calculated\n"
     ]
    },
    {
     "name": "stdout",
     "output_type": "stream",
     "text": [
      "Extraídas 102 características del canal B\n",
      "\n",
      "Procesando 84: 144700_300481_9-4-2019_DSC_0461\n",
      "Cargando imagen y máscara de: /home/anna/TFM/Radiomica/Segmentacion/Segmentacion_resultados/144700_300481_9-4-2019_DSC_0461\n",
      "Extraídas 102 características del canal R\n",
      "Extraídas 102 características del canal G\n",
      "Extraídas 102 características del canal B\n",
      "\n",
      "Procesando 85: 1344997_300481_19-10-2020_DSC_0214\n",
      "Cargando imagen y máscara de: /home/anna/TFM/Radiomica/Segmentacion/Segmentacion_resultados/1344997_300481_19-10-2020_DSC_0214\n",
      "Extraídas 102 características del canal R\n",
      "Extraídas 102 características del canal G\n",
      "Extraídas 102 características del canal B\n",
      "\n",
      "Procesando 86: 30745-160413-300481-02\n",
      "Cargando imagen y máscara de: /home/anna/TFM/Radiomica/Segmentacion/Segmentacion_resultados/30745-160413-300481-02\n",
      "Extraídas 102 características del canal R\n",
      "Extraídas 102 características del canal G\n"
     ]
    },
    {
     "name": "stderr",
     "output_type": "stream",
     "text": [
      "GLCM is symmetrical, therefore Sum Average = 2 * Joint Average, only 1 needs to be calculated\n",
      "GLCM is symmetrical, therefore Sum Average = 2 * Joint Average, only 1 needs to be calculated\n",
      "GLCM is symmetrical, therefore Sum Average = 2 * Joint Average, only 1 needs to be calculated\n",
      "GLCM is symmetrical, therefore Sum Average = 2 * Joint Average, only 1 needs to be calculated\n",
      "GLCM is symmetrical, therefore Sum Average = 2 * Joint Average, only 1 needs to be calculated\n",
      "GLCM is symmetrical, therefore Sum Average = 2 * Joint Average, only 1 needs to be calculated\n",
      "GLCM is symmetrical, therefore Sum Average = 2 * Joint Average, only 1 needs to be calculated\n",
      "GLCM is symmetrical, therefore Sum Average = 2 * Joint Average, only 1 needs to be calculated\n"
     ]
    },
    {
     "name": "stdout",
     "output_type": "stream",
     "text": [
      "Extraídas 102 características del canal B\n",
      "\n",
      "Procesando 87: 704344-210404-02-00300481\n",
      "Cargando imagen y máscara de: /home/anna/TFM/Radiomica/Segmentacion/Segmentacion_resultados/704344-210404-02-00300481\n",
      "Extraídas 102 características del canal R\n",
      "Extraídas 102 características del canal G\n",
      "Extraídas 102 características del canal B\n",
      "\n",
      "Procesando 88: 1357556_300481_16-1-2024_DSC_0065\n",
      "Cargando imagen y máscara de: /home/anna/TFM/Radiomica/Segmentacion/Segmentacion_resultados/1357556_300481_16-1-2024_DSC_0065\n",
      "Extraídas 102 características del canal R\n",
      "Extraídas 102 características del canal G\n",
      "Extraídas 102 características del canal B\n",
      "\n",
      "Procesando 89: 172817-150611-300481-03\n",
      "Cargando imagen y máscara de: /home/anna/TFM/Radiomica/Segmentacion/Segmentacion_resultados/172817-150611-300481-03\n",
      "Extraídas 102 características del canal R\n"
     ]
    },
    {
     "name": "stderr",
     "output_type": "stream",
     "text": [
      "GLCM is symmetrical, therefore Sum Average = 2 * Joint Average, only 1 needs to be calculated\n",
      "GLCM is symmetrical, therefore Sum Average = 2 * Joint Average, only 1 needs to be calculated\n",
      "GLCM is symmetrical, therefore Sum Average = 2 * Joint Average, only 1 needs to be calculated\n",
      "GLCM is symmetrical, therefore Sum Average = 2 * Joint Average, only 1 needs to be calculated\n",
      "GLCM is symmetrical, therefore Sum Average = 2 * Joint Average, only 1 needs to be calculated\n",
      "GLCM is symmetrical, therefore Sum Average = 2 * Joint Average, only 1 needs to be calculated\n",
      "GLCM is symmetrical, therefore Sum Average = 2 * Joint Average, only 1 needs to be calculated\n",
      "GLCM is symmetrical, therefore Sum Average = 2 * Joint Average, only 1 needs to be calculated\n"
     ]
    },
    {
     "name": "stdout",
     "output_type": "stream",
     "text": [
      "Extraídas 102 características del canal G\n",
      "Extraídas 102 características del canal B\n",
      "\n",
      "Procesando 90: 26719-040515-300481 (3)\n",
      "Cargando imagen y máscara de: /home/anna/TFM/Radiomica/Segmentacion/Segmentacion_resultados/26719-040515-300481 (3)\n",
      "Extraídas 102 características del canal R\n",
      "Extraídas 102 características del canal G\n",
      "Extraídas 102 características del canal B\n",
      "\n",
      "Procesando 91: 84437-230307-02-300481\n",
      "Cargando imagen y máscara de: /home/anna/TFM/Radiomica/Segmentacion/Segmentacion_resultados/84437-230307-02-300481\n",
      "Extraídas 102 características del canal R\n",
      "Extraídas 102 características del canal G\n",
      "Extraídas 102 características del canal B\n",
      "\n",
      "Procesando 92: 30745-250912-300481-01\n",
      "Cargando imagen y máscara de: /home/anna/TFM/Radiomica/Segmentacion/Segmentacion_resultados/30745-250912-300481-01\n",
      "Extraídas 102 características del canal R\n"
     ]
    },
    {
     "name": "stderr",
     "output_type": "stream",
     "text": [
      "GLCM is symmetrical, therefore Sum Average = 2 * Joint Average, only 1 needs to be calculated\n",
      "GLCM is symmetrical, therefore Sum Average = 2 * Joint Average, only 1 needs to be calculated\n",
      "GLCM is symmetrical, therefore Sum Average = 2 * Joint Average, only 1 needs to be calculated\n",
      "GLCM is symmetrical, therefore Sum Average = 2 * Joint Average, only 1 needs to be calculated\n",
      "GLCM is symmetrical, therefore Sum Average = 2 * Joint Average, only 1 needs to be calculated\n",
      "GLCM is symmetrical, therefore Sum Average = 2 * Joint Average, only 1 needs to be calculated\n",
      "GLCM is symmetrical, therefore Sum Average = 2 * Joint Average, only 1 needs to be calculated\n",
      "GLCM is symmetrical, therefore Sum Average = 2 * Joint Average, only 1 needs to be calculated\n",
      "GLCM is symmetrical, therefore Sum Average = 2 * Joint Average, only 1 needs to be calculated\n",
      "GLCM is symmetrical, therefore Sum Average = 2 * Joint Average, only 1 needs to be calculated\n"
     ]
    },
    {
     "name": "stdout",
     "output_type": "stream",
     "text": [
      "Extraídas 102 características del canal G\n",
      "Extraídas 102 características del canal B\n",
      "\n",
      "Procesando 93: 332246-030104-01-00300481\n",
      "Cargando imagen y máscara de: /home/anna/TFM/Radiomica/Segmentacion/Segmentacion_resultados/332246-030104-01-00300481\n",
      "Extraídas 102 características del canal R\n",
      "Extraídas 102 características del canal G\n",
      "Extraídas 102 características del canal B\n",
      "\n",
      "Procesando 94: 232839-180806-01-300481\n",
      "Cargando imagen y máscara de: /home/anna/TFM/Radiomica/Segmentacion/Segmentacion_resultados/232839-180806-01-300481\n",
      "Extraídas 102 características del canal R\n",
      "Extraídas 102 características del canal G\n",
      "Extraídas 102 características del canal B\n",
      "\n",
      "Procesando 95: 172817-141211-300481-1\n",
      "Cargando imagen y máscara de: /home/anna/TFM/Radiomica/Segmentacion/Segmentacion_resultados/172817-141211-300481-1\n",
      "Extraídas 102 características del canal R\n"
     ]
    },
    {
     "name": "stderr",
     "output_type": "stream",
     "text": [
      "GLCM is symmetrical, therefore Sum Average = 2 * Joint Average, only 1 needs to be calculated\n",
      "GLCM is symmetrical, therefore Sum Average = 2 * Joint Average, only 1 needs to be calculated\n",
      "GLCM is symmetrical, therefore Sum Average = 2 * Joint Average, only 1 needs to be calculated\n",
      "GLCM is symmetrical, therefore Sum Average = 2 * Joint Average, only 1 needs to be calculated\n",
      "GLCM is symmetrical, therefore Sum Average = 2 * Joint Average, only 1 needs to be calculated\n",
      "GLCM is symmetrical, therefore Sum Average = 2 * Joint Average, only 1 needs to be calculated\n",
      "GLCM is symmetrical, therefore Sum Average = 2 * Joint Average, only 1 needs to be calculated\n",
      "GLCM is symmetrical, therefore Sum Average = 2 * Joint Average, only 1 needs to be calculated\n",
      "GLCM is symmetrical, therefore Sum Average = 2 * Joint Average, only 1 needs to be calculated\n"
     ]
    },
    {
     "name": "stdout",
     "output_type": "stream",
     "text": [
      "Extraídas 102 características del canal G\n",
      "Extraídas 102 características del canal B\n",
      "\n",
      "Procesando 96: 86617_300481_13-2-2024_P1012160\n",
      "Cargando imagen y máscara de: /home/anna/TFM/Radiomica/Segmentacion/Segmentacion_resultados/86617_300481_13-2-2024_P1012160\n",
      "Extraídas 102 características del canal R\n",
      "Extraídas 102 características del canal G\n",
      "Extraídas 102 características del canal B\n",
      "\n",
      "Procesando 97: 605690_300481_30-10-2018_P1015014\n",
      "Cargando imagen y máscara de: /home/anna/TFM/Radiomica/Segmentacion/Segmentacion_resultados/605690_300481_30-10-2018_P1015014\n",
      "Extraídas 102 características del canal R\n",
      "Extraídas 102 características del canal G\n",
      "Extraídas 102 características del canal B\n",
      "\n",
      "Procesando 98: 1060931_300481_13-2-2024_DSC_0171\n",
      "Cargando imagen y máscara de: /home/anna/TFM/Radiomica/Segmentacion/Segmentacion_resultados/1060931_300481_13-2-2024_DSC_0171\n",
      "Extraídas 102 características del canal R\n"
     ]
    },
    {
     "name": "stderr",
     "output_type": "stream",
     "text": [
      "GLCM is symmetrical, therefore Sum Average = 2 * Joint Average, only 1 needs to be calculated\n",
      "GLCM is symmetrical, therefore Sum Average = 2 * Joint Average, only 1 needs to be calculated\n",
      "GLCM is symmetrical, therefore Sum Average = 2 * Joint Average, only 1 needs to be calculated\n",
      "GLCM is symmetrical, therefore Sum Average = 2 * Joint Average, only 1 needs to be calculated\n",
      "GLCM is symmetrical, therefore Sum Average = 2 * Joint Average, only 1 needs to be calculated\n",
      "GLCM is symmetrical, therefore Sum Average = 2 * Joint Average, only 1 needs to be calculated\n",
      "GLCM is symmetrical, therefore Sum Average = 2 * Joint Average, only 1 needs to be calculated\n",
      "GLCM is symmetrical, therefore Sum Average = 2 * Joint Average, only 1 needs to be calculated\n"
     ]
    },
    {
     "name": "stdout",
     "output_type": "stream",
     "text": [
      "Extraídas 102 características del canal G\n",
      "Extraídas 102 características del canal B\n",
      "\n",
      "Procesando 99: 57644_300481_6-9-2021_DSC_0823\n",
      "Cargando imagen y máscara de: /home/anna/TFM/Radiomica/Segmentacion/Segmentacion_resultados/57644_300481_6-9-2021_DSC_0823\n",
      "Extraídas 102 características del canal R\n",
      "Extraídas 102 características del canal G\n",
      "Extraídas 102 características del canal B\n",
      "\n",
      "Procesando 100: 663867-150906-01-300481\n",
      "Cargando imagen y máscara de: /home/anna/TFM/Radiomica/Segmentacion/Segmentacion_resultados/663867-150906-01-300481\n",
      "Extraídas 102 características del canal R\n",
      "Extraídas 102 características del canal G\n",
      "Extraídas 102 características del canal B\n",
      "\n",
      "Procesando 101: 57644_300481_10-7-2018_P1014268\n",
      "Cargando imagen y máscara de: /home/anna/TFM/Radiomica/Segmentacion/Segmentacion_resultados/57644_300481_10-7-2018_P1014268\n",
      "Extraídas 102 características del canal R\n"
     ]
    },
    {
     "name": "stderr",
     "output_type": "stream",
     "text": [
      "GLCM is symmetrical, therefore Sum Average = 2 * Joint Average, only 1 needs to be calculated\n",
      "GLCM is symmetrical, therefore Sum Average = 2 * Joint Average, only 1 needs to be calculated\n",
      "GLCM is symmetrical, therefore Sum Average = 2 * Joint Average, only 1 needs to be calculated\n",
      "GLCM is symmetrical, therefore Sum Average = 2 * Joint Average, only 1 needs to be calculated\n",
      "GLCM is symmetrical, therefore Sum Average = 2 * Joint Average, only 1 needs to be calculated\n",
      "GLCM is symmetrical, therefore Sum Average = 2 * Joint Average, only 1 needs to be calculated\n",
      "GLCM is symmetrical, therefore Sum Average = 2 * Joint Average, only 1 needs to be calculated\n",
      "GLCM is symmetrical, therefore Sum Average = 2 * Joint Average, only 1 needs to be calculated\n"
     ]
    },
    {
     "name": "stdout",
     "output_type": "stream",
     "text": [
      "Extraídas 102 características del canal G\n",
      "Extraídas 102 características del canal B\n",
      "\n",
      "Procesando 102: 1209427_300481_19-9-2022_DSC_0164\n",
      "Cargando imagen y máscara de: /home/anna/TFM/Radiomica/Segmentacion/Segmentacion_resultados/1209427_300481_19-9-2022_DSC_0164\n",
      "Extraídas 102 características del canal R\n",
      "Extraídas 102 características del canal G\n",
      "Extraídas 102 características del canal B\n",
      "\n",
      "Procesando 103: 791531-280706-02-300481\n",
      "Cargando imagen y máscara de: /home/anna/TFM/Radiomica/Segmentacion/Segmentacion_resultados/791531-280706-02-300481\n",
      "Extraídas 102 características del canal R\n",
      "Extraídas 102 características del canal G\n",
      "Extraídas 102 características del canal B\n"
     ]
    },
    {
     "name": "stderr",
     "output_type": "stream",
     "text": [
      "GLCM is symmetrical, therefore Sum Average = 2 * Joint Average, only 1 needs to be calculated\n",
      "GLCM is symmetrical, therefore Sum Average = 2 * Joint Average, only 1 needs to be calculated\n",
      "GLCM is symmetrical, therefore Sum Average = 2 * Joint Average, only 1 needs to be calculated\n",
      "GLCM is symmetrical, therefore Sum Average = 2 * Joint Average, only 1 needs to be calculated\n",
      "GLCM is symmetrical, therefore Sum Average = 2 * Joint Average, only 1 needs to be calculated\n",
      "GLCM is symmetrical, therefore Sum Average = 2 * Joint Average, only 1 needs to be calculated\n",
      "GLCM is symmetrical, therefore Sum Average = 2 * Joint Average, only 1 needs to be calculated\n",
      "GLCM is symmetrical, therefore Sum Average = 2 * Joint Average, only 1 needs to be calculated\n",
      "GLCM is symmetrical, therefore Sum Average = 2 * Joint Average, only 1 needs to be calculated\n"
     ]
    },
    {
     "name": "stdout",
     "output_type": "stream",
     "text": [
      "\n",
      "Procesando 104: 502640_300481_29-1-2019_DSC_0229\n",
      "Cargando imagen y máscara de: /home/anna/TFM/Radiomica/Segmentacion/Segmentacion_resultados/502640_300481_29-1-2019_DSC_0229\n",
      "Extraídas 102 características del canal R\n",
      "Extraídas 102 características del canal G\n",
      "Extraídas 102 características del canal B\n",
      "\n",
      "Procesando 105: 561272_300481_6-10-2020_IMG_0342\n",
      "Cargando imagen y máscara de: /home/anna/TFM/Radiomica/Segmentacion/Segmentacion_resultados/561272_300481_6-10-2020_IMG_0342\n",
      "Extraídas 102 características del canal R\n",
      "Extraídas 102 características del canal G\n",
      "Extraídas 102 características del canal B\n",
      "\n",
      "Procesando 106: 19909-z2023-300481-12042023-3\n",
      "Cargando imagen y máscara de: /home/anna/TFM/Radiomica/Segmentacion/Segmentacion_resultados/19909-z2023-300481-12042023-3\n",
      "Extraídas 102 características del canal R\n",
      "Extraídas 102 características del canal G\n",
      "Extraídas 102 características del canal B\n",
      "\n",
      "Procesando 107: 130742-240309-300481-01\n"
     ]
    },
    {
     "name": "stderr",
     "output_type": "stream",
     "text": [
      "GLCM is symmetrical, therefore Sum Average = 2 * Joint Average, only 1 needs to be calculated\n",
      "GLCM is symmetrical, therefore Sum Average = 2 * Joint Average, only 1 needs to be calculated\n",
      "GLCM is symmetrical, therefore Sum Average = 2 * Joint Average, only 1 needs to be calculated\n",
      "GLCM is symmetrical, therefore Sum Average = 2 * Joint Average, only 1 needs to be calculated\n",
      "GLCM is symmetrical, therefore Sum Average = 2 * Joint Average, only 1 needs to be calculated\n",
      "GLCM is symmetrical, therefore Sum Average = 2 * Joint Average, only 1 needs to be calculated\n",
      "GLCM is symmetrical, therefore Sum Average = 2 * Joint Average, only 1 needs to be calculated\n",
      "GLCM is symmetrical, therefore Sum Average = 2 * Joint Average, only 1 needs to be calculated\n",
      "GLCM is symmetrical, therefore Sum Average = 2 * Joint Average, only 1 needs to be calculated\n",
      "GLCM is symmetrical, therefore Sum Average = 2 * Joint Average, only 1 needs to be calculated\n"
     ]
    },
    {
     "name": "stdout",
     "output_type": "stream",
     "text": [
      "Cargando imagen y máscara de: /home/anna/TFM/Radiomica/Segmentacion/Segmentacion_resultados/130742-240309-300481-01\n",
      "Extraídas 102 características del canal R\n",
      "Extraídas 102 características del canal G\n",
      "Extraídas 102 características del canal B\n",
      "\n",
      "Procesando 108: 1133439_300481_9-12-2020_DSC_0157\n",
      "Cargando imagen y máscara de: /home/anna/TFM/Radiomica/Segmentacion/Segmentacion_resultados/1133439_300481_9-12-2020_DSC_0157\n",
      "Extraídas 102 características del canal R\n",
      "Extraídas 102 características del canal G\n",
      "Extraídas 102 características del canal B\n",
      "\n",
      "Procesando 109: 334666-180205-01-300481\n",
      "Cargando imagen y máscara de: /home/anna/TFM/Radiomica/Segmentacion/Segmentacion_resultados/334666-180205-01-300481\n",
      "Extraídas 102 características del canal R\n",
      "Extraídas 102 características del canal G\n",
      "Extraídas 102 características del canal B\n",
      "\n",
      "Procesando 110: 57644_300481_18-6-2019_DSC_0544\n",
      "Cargando imagen y máscara de: /home/anna/TFM/Radiomica/Segmentacion/Segmentacion_resultados/57644_300481_18-6-2019_DSC_0544\n",
      "Extraídas 102 características del canal R\n"
     ]
    },
    {
     "name": "stderr",
     "output_type": "stream",
     "text": [
      "GLCM is symmetrical, therefore Sum Average = 2 * Joint Average, only 1 needs to be calculated\n",
      "GLCM is symmetrical, therefore Sum Average = 2 * Joint Average, only 1 needs to be calculated\n",
      "GLCM is symmetrical, therefore Sum Average = 2 * Joint Average, only 1 needs to be calculated\n",
      "GLCM is symmetrical, therefore Sum Average = 2 * Joint Average, only 1 needs to be calculated\n",
      "GLCM is symmetrical, therefore Sum Average = 2 * Joint Average, only 1 needs to be calculated\n",
      "GLCM is symmetrical, therefore Sum Average = 2 * Joint Average, only 1 needs to be calculated\n",
      "GLCM is symmetrical, therefore Sum Average = 2 * Joint Average, only 1 needs to be calculated\n",
      "GLCM is symmetrical, therefore Sum Average = 2 * Joint Average, only 1 needs to be calculated\n",
      "GLCM is symmetrical, therefore Sum Average = 2 * Joint Average, only 1 needs to be calculated\n",
      "GLCM is symmetrical, therefore Sum Average = 2 * Joint Average, only 1 needs to be calculated\n",
      "GLCM is symmetrical, therefore Sum Average = 2 * Joint Average, only 1 needs to be calculated\n",
      "GLCM is symmetrical, therefore Sum Average = 2 * Joint Average, only 1 needs to be calculated\n"
     ]
    },
    {
     "name": "stdout",
     "output_type": "stream",
     "text": [
      "Extraídas 102 características del canal G\n",
      "Extraídas 102 características del canal B\n",
      "\n",
      "Procesando 111: 101275-301111-300481 (1)\n",
      "Cargando imagen y máscara de: /home/anna/TFM/Radiomica/Segmentacion/Segmentacion_resultados/101275-301111-300481 (1)\n",
      "Extraídas 102 características del canal R\n",
      "Extraídas 102 características del canal G\n",
      "Extraídas 102 características del canal B\n",
      "\n",
      "Procesando 112: 146005-110613-300481-01\n",
      "Cargando imagen y máscara de: /home/anna/TFM/Radiomica/Segmentacion/Segmentacion_resultados/146005-110613-300481-01\n",
      "Extraídas 102 características del canal R\n",
      "Extraídas 102 características del canal G\n",
      "Extraídas 102 características del canal B\n",
      "\n",
      "Procesando 113: 224957-091205-01-300481\n",
      "Cargando imagen y máscara de: /home/anna/TFM/Radiomica/Segmentacion/Segmentacion_resultados/224957-091205-01-300481\n",
      "Extraídas 102 características del canal R\n",
      "Extraídas 102 características del canal G\n",
      "Extraídas 102 características del canal B\n",
      "\n",
      "Procesando 114: 133945_300481_17-5-2022_P1011960\n",
      "Cargando imagen y máscara de: /home/anna/TFM/Radiomica/Segmentacion/Segmentacion_resultados/133945_300481_17-5-2022_P1011960\n"
     ]
    },
    {
     "name": "stderr",
     "output_type": "stream",
     "text": [
      "GLCM is symmetrical, therefore Sum Average = 2 * Joint Average, only 1 needs to be calculated\n",
      "GLCM is symmetrical, therefore Sum Average = 2 * Joint Average, only 1 needs to be calculated\n",
      "GLCM is symmetrical, therefore Sum Average = 2 * Joint Average, only 1 needs to be calculated\n",
      "GLCM is symmetrical, therefore Sum Average = 2 * Joint Average, only 1 needs to be calculated\n",
      "GLCM is symmetrical, therefore Sum Average = 2 * Joint Average, only 1 needs to be calculated\n",
      "GLCM is symmetrical, therefore Sum Average = 2 * Joint Average, only 1 needs to be calculated\n",
      "GLCM is symmetrical, therefore Sum Average = 2 * Joint Average, only 1 needs to be calculated\n",
      "GLCM is symmetrical, therefore Sum Average = 2 * Joint Average, only 1 needs to be calculated\n",
      "GLCM is symmetrical, therefore Sum Average = 2 * Joint Average, only 1 needs to be calculated\n"
     ]
    },
    {
     "name": "stdout",
     "output_type": "stream",
     "text": [
      "Extraídas 102 características del canal R\n",
      "Extraídas 102 características del canal G\n",
      "Extraídas 102 características del canal B\n",
      "\n",
      "Procesando 115: 1388747_300481_8-9-2021_DSC_0835\n",
      "Cargando imagen y máscara de: /home/anna/TFM/Radiomica/Segmentacion/Segmentacion_resultados/1388747_300481_8-9-2021_DSC_0835\n",
      "Extraídas 102 características del canal R\n",
      "Extraídas 102 características del canal G\n",
      "Extraídas 102 características del canal B\n",
      "\n",
      "Procesando 116: 255168-190510-300481-01\n",
      "Cargando imagen y máscara de: /home/anna/TFM/Radiomica/Segmentacion/Segmentacion_resultados/255168-190510-300481-01\n",
      "Extraídas 102 características del canal R\n",
      "Extraídas 102 características del canal G\n",
      "Extraídas 102 características del canal B\n",
      "\n",
      "Procesando 117: 62173-060813-300481 (1)\n",
      "Cargando imagen y máscara de: /home/anna/TFM/Radiomica/Segmentacion/Segmentacion_resultados/62173-060813-300481 (1)\n",
      "Extraídas 102 características del canal R\n"
     ]
    },
    {
     "name": "stderr",
     "output_type": "stream",
     "text": [
      "GLCM is symmetrical, therefore Sum Average = 2 * Joint Average, only 1 needs to be calculated\n",
      "GLCM is symmetrical, therefore Sum Average = 2 * Joint Average, only 1 needs to be calculated\n",
      "GLCM is symmetrical, therefore Sum Average = 2 * Joint Average, only 1 needs to be calculated\n",
      "GLCM is symmetrical, therefore Sum Average = 2 * Joint Average, only 1 needs to be calculated\n",
      "GLCM is symmetrical, therefore Sum Average = 2 * Joint Average, only 1 needs to be calculated\n",
      "GLCM is symmetrical, therefore Sum Average = 2 * Joint Average, only 1 needs to be calculated\n",
      "GLCM is symmetrical, therefore Sum Average = 2 * Joint Average, only 1 needs to be calculated\n",
      "GLCM is symmetrical, therefore Sum Average = 2 * Joint Average, only 1 needs to be calculated\n",
      "GLCM is symmetrical, therefore Sum Average = 2 * Joint Average, only 1 needs to be calculated\n",
      "GLCM is symmetrical, therefore Sum Average = 2 * Joint Average, only 1 needs to be calculated\n"
     ]
    },
    {
     "name": "stdout",
     "output_type": "stream",
     "text": [
      "Extraídas 102 características del canal G\n",
      "Extraídas 102 características del canal B\n",
      "\n",
      "Procesando 118: 366650 101007 02300436\n",
      "Cargando imagen y máscara de: /home/anna/TFM/Radiomica/Segmentacion/Segmentacion_resultados/366650 101007 02300436\n",
      "Extraídas 102 características del canal R\n",
      "Extraídas 102 características del canal G\n",
      "Extraídas 102 características del canal B\n",
      "\n",
      "Procesando 119: 887401_300481_15-1-2019_P1015872\n",
      "Cargando imagen y máscara de: /home/anna/TFM/Radiomica/Segmentacion/Segmentacion_resultados/887401_300481_15-1-2019_P1015872\n",
      "Extraídas 102 características del canal R\n",
      "Extraídas 102 características del canal G\n",
      "Extraídas 102 características del canal B\n",
      "\n",
      "Procesando 120: 204727-030206-02-300481\n",
      "Cargando imagen y máscara de: /home/anna/TFM/Radiomica/Segmentacion/Segmentacion_resultados/204727-030206-02-300481\n",
      "Extraídas 102 características del canal R\n"
     ]
    },
    {
     "name": "stderr",
     "output_type": "stream",
     "text": [
      "GLCM is symmetrical, therefore Sum Average = 2 * Joint Average, only 1 needs to be calculated\n",
      "GLCM is symmetrical, therefore Sum Average = 2 * Joint Average, only 1 needs to be calculated\n",
      "GLCM is symmetrical, therefore Sum Average = 2 * Joint Average, only 1 needs to be calculated\n",
      "GLCM is symmetrical, therefore Sum Average = 2 * Joint Average, only 1 needs to be calculated\n",
      "GLCM is symmetrical, therefore Sum Average = 2 * Joint Average, only 1 needs to be calculated\n",
      "GLCM is symmetrical, therefore Sum Average = 2 * Joint Average, only 1 needs to be calculated\n",
      "GLCM is symmetrical, therefore Sum Average = 2 * Joint Average, only 1 needs to be calculated\n",
      "GLCM is symmetrical, therefore Sum Average = 2 * Joint Average, only 1 needs to be calculated\n",
      "GLCM is symmetrical, therefore Sum Average = 2 * Joint Average, only 1 needs to be calculated\n"
     ]
    },
    {
     "name": "stdout",
     "output_type": "stream",
     "text": [
      "Extraídas 102 características del canal G\n",
      "Extraídas 102 características del canal B\n",
      "\n",
      "Procesando 121: 553885_300481_23-6-2020_DSC_0226\n",
      "Cargando imagen y máscara de: /home/anna/TFM/Radiomica/Segmentacion/Segmentacion_resultados/553885_300481_23-6-2020_DSC_0226\n",
      "Extraídas 102 características del canal R\n",
      "Extraídas 102 características del canal G\n",
      "Extraídas 102 características del canal B\n",
      "\n",
      "Procesando 122: 788502_300481_14-12-2020_DSC_0173\n",
      "Cargando imagen y máscara de: /home/anna/TFM/Radiomica/Segmentacion/Segmentacion_resultados/788502_300481_14-12-2020_DSC_0173\n",
      "Extraídas 102 características del canal R\n",
      "Extraídas 102 características del canal G\n",
      "Extraídas 102 características del canal B\n",
      "\n",
      "Procesando 123: 517607-180604-02-00300481\n",
      "Cargando imagen y máscara de: /home/anna/TFM/Radiomica/Segmentacion/Segmentacion_resultados/517607-180604-02-00300481\n",
      "Extraídas 102 características del canal R\n",
      "Extraídas 102 características del canal G\n"
     ]
    },
    {
     "name": "stderr",
     "output_type": "stream",
     "text": [
      "GLCM is symmetrical, therefore Sum Average = 2 * Joint Average, only 1 needs to be calculated\n",
      "GLCM is symmetrical, therefore Sum Average = 2 * Joint Average, only 1 needs to be calculated\n",
      "GLCM is symmetrical, therefore Sum Average = 2 * Joint Average, only 1 needs to be calculated\n",
      "GLCM is symmetrical, therefore Sum Average = 2 * Joint Average, only 1 needs to be calculated\n",
      "GLCM is symmetrical, therefore Sum Average = 2 * Joint Average, only 1 needs to be calculated\n",
      "GLCM is symmetrical, therefore Sum Average = 2 * Joint Average, only 1 needs to be calculated\n",
      "GLCM is symmetrical, therefore Sum Average = 2 * Joint Average, only 1 needs to be calculated\n",
      "GLCM is symmetrical, therefore Sum Average = 2 * Joint Average, only 1 needs to be calculated\n",
      "GLCM is symmetrical, therefore Sum Average = 2 * Joint Average, only 1 needs to be calculated\n",
      "GLCM is symmetrical, therefore Sum Average = 2 * Joint Average, only 1 needs to be calculated\n"
     ]
    },
    {
     "name": "stdout",
     "output_type": "stream",
     "text": [
      "Extraídas 102 características del canal B\n",
      "\n",
      "Procesando 124: 262928-71013-300481 (2)\n",
      "Cargando imagen y máscara de: /home/anna/TFM/Radiomica/Segmentacion/Segmentacion_resultados/262928-71013-300481 (2)\n",
      "Extraídas 102 características del canal R\n",
      "Extraídas 102 características del canal G\n",
      "Extraídas 102 características del canal B\n",
      "\n",
      "Procesando 125: 315459_300481_7-5-2020_IMG_9458\n",
      "Cargando imagen y máscara de: /home/anna/TFM/Radiomica/Segmentacion/Segmentacion_resultados/315459_300481_7-5-2020_IMG_9458\n",
      "Extraídas 102 características del canal R\n",
      "Extraídas 102 características del canal G\n",
      "Extraídas 102 características del canal B\n",
      "\n",
      "Procesando 126: 521325_300481_24-5-2022_P1012063\n",
      "Cargando imagen y máscara de: /home/anna/TFM/Radiomica/Segmentacion/Segmentacion_resultados/521325_300481_24-5-2022_P1012063\n",
      "Extraídas 102 características del canal R\n",
      "Extraídas 102 características del canal G\n",
      "Extraídas 102 características del canal B\n",
      "\n",
      "Procesando 127: 1344997_300481_25-9-2020_DSC_0038\n",
      "Cargando imagen y máscara de: /home/anna/TFM/Radiomica/Segmentacion/Segmentacion_resultados/1344997_300481_25-9-2020_DSC_0038\n"
     ]
    },
    {
     "name": "stderr",
     "output_type": "stream",
     "text": [
      "GLCM is symmetrical, therefore Sum Average = 2 * Joint Average, only 1 needs to be calculated\n",
      "GLCM is symmetrical, therefore Sum Average = 2 * Joint Average, only 1 needs to be calculated\n",
      "GLCM is symmetrical, therefore Sum Average = 2 * Joint Average, only 1 needs to be calculated\n",
      "GLCM is symmetrical, therefore Sum Average = 2 * Joint Average, only 1 needs to be calculated\n",
      "GLCM is symmetrical, therefore Sum Average = 2 * Joint Average, only 1 needs to be calculated\n",
      "GLCM is symmetrical, therefore Sum Average = 2 * Joint Average, only 1 needs to be calculated\n",
      "GLCM is symmetrical, therefore Sum Average = 2 * Joint Average, only 1 needs to be calculated\n",
      "GLCM is symmetrical, therefore Sum Average = 2 * Joint Average, only 1 needs to be calculated\n",
      "GLCM is symmetrical, therefore Sum Average = 2 * Joint Average, only 1 needs to be calculated\n",
      "GLCM is symmetrical, therefore Sum Average = 2 * Joint Average, only 1 needs to be calculated\n",
      "GLCM is symmetrical, therefore Sum Average = 2 * Joint Average, only 1 needs to be calculated\n"
     ]
    },
    {
     "name": "stdout",
     "output_type": "stream",
     "text": [
      "Extraídas 102 características del canal R\n",
      "Extraídas 102 características del canal G\n",
      "Extraídas 102 características del canal B\n",
      "\n",
      "Procesando 128: 357753-200104-01-00300481\n",
      "Cargando imagen y máscara de: /home/anna/TFM/Radiomica/Segmentacion/Segmentacion_resultados/357753-200104-01-00300481\n",
      "Extraídas 102 características del canal R\n",
      "Extraídas 102 características del canal G\n",
      "Extraídas 102 características del canal B\n",
      "\n",
      "Procesando 129: Resultados\n",
      "[ERROR] Faltan archivos en /home/anna/TFM/Radiomica/Segmentacion/Segmentacion_resultados/Resultados\n",
      "\n",
      "Procesando 130: 750052-030505-01-300481\n",
      "Cargando imagen y máscara de: /home/anna/TFM/Radiomica/Segmentacion/Segmentacion_resultados/750052-030505-01-300481\n",
      "Extraídas 102 características del canal R\n",
      "Extraídas 102 características del canal G\n",
      "Extraídas 102 características del canal B\n",
      "\n",
      "Procesando 131: 507603_300481_7-9-2022_DSC_0313\n",
      "Cargando imagen y máscara de: /home/anna/TFM/Radiomica/Segmentacion/Segmentacion_resultados/507603_300481_7-9-2022_DSC_0313\n",
      "Extraídas 102 características del canal R\n"
     ]
    },
    {
     "name": "stderr",
     "output_type": "stream",
     "text": [
      "GLCM is symmetrical, therefore Sum Average = 2 * Joint Average, only 1 needs to be calculated\n",
      "GLCM is symmetrical, therefore Sum Average = 2 * Joint Average, only 1 needs to be calculated\n",
      "GLCM is symmetrical, therefore Sum Average = 2 * Joint Average, only 1 needs to be calculated\n",
      "GLCM is symmetrical, therefore Sum Average = 2 * Joint Average, only 1 needs to be calculated\n",
      "GLCM is symmetrical, therefore Sum Average = 2 * Joint Average, only 1 needs to be calculated\n",
      "GLCM is symmetrical, therefore Sum Average = 2 * Joint Average, only 1 needs to be calculated\n",
      "GLCM is symmetrical, therefore Sum Average = 2 * Joint Average, only 1 needs to be calculated\n"
     ]
    },
    {
     "name": "stdout",
     "output_type": "stream",
     "text": [
      "Extraídas 102 características del canal G\n",
      "Extraídas 102 características del canal B\n",
      "\n",
      "Procesando 132: 382452-130411-300426-01\n",
      "Cargando imagen y máscara de: /home/anna/TFM/Radiomica/Segmentacion/Segmentacion_resultados/382452-130411-300426-01\n",
      "Extraídas 102 características del canal R\n",
      "Extraídas 102 características del canal G\n",
      "Extraídas 102 características del canal B\n",
      "\n",
      "Procesando 133: 715958-120504-01-00300481\n",
      "Cargando imagen y máscara de: /home/anna/TFM/Radiomica/Segmentacion/Segmentacion_resultados/715958-120504-01-00300481\n",
      "Extraídas 102 características del canal R\n",
      "Extraídas 102 características del canal G\n",
      "Extraídas 102 características del canal B\n",
      "\n",
      "Procesando 134: 175394-21072010-300481-01\n",
      "Cargando imagen y máscara de: /home/anna/TFM/Radiomica/Segmentacion/Segmentacion_resultados/175394-21072010-300481-01\n"
     ]
    },
    {
     "name": "stderr",
     "output_type": "stream",
     "text": [
      "GLCM is symmetrical, therefore Sum Average = 2 * Joint Average, only 1 needs to be calculated\n",
      "GLCM is symmetrical, therefore Sum Average = 2 * Joint Average, only 1 needs to be calculated\n",
      "GLCM is symmetrical, therefore Sum Average = 2 * Joint Average, only 1 needs to be calculated\n",
      "GLCM is symmetrical, therefore Sum Average = 2 * Joint Average, only 1 needs to be calculated\n",
      "GLCM is symmetrical, therefore Sum Average = 2 * Joint Average, only 1 needs to be calculated\n",
      "GLCM is symmetrical, therefore Sum Average = 2 * Joint Average, only 1 needs to be calculated\n",
      "GLCM is symmetrical, therefore Sum Average = 2 * Joint Average, only 1 needs to be calculated\n",
      "GLCM is symmetrical, therefore Sum Average = 2 * Joint Average, only 1 needs to be calculated\n",
      "GLCM is symmetrical, therefore Sum Average = 2 * Joint Average, only 1 needs to be calculated\n"
     ]
    },
    {
     "name": "stdout",
     "output_type": "stream",
     "text": [
      "Extraídas 102 características del canal R\n",
      "Extraídas 102 características del canal G\n",
      "Extraídas 102 características del canal B\n",
      "\n",
      "Procesando 135: 1134003_300481_8-1-2021_DSC_0002\n",
      "Cargando imagen y máscara de: /home/anna/TFM/Radiomica/Segmentacion/Segmentacion_resultados/1134003_300481_8-1-2021_DSC_0002\n",
      "Extraídas 102 características del canal R\n",
      "Extraídas 102 características del canal G\n",
      "Extraídas 102 características del canal B\n",
      "\n",
      "Procesando 136: 1240571_300481_2-6-2020_DSC_0080\n",
      "Cargando imagen y máscara de: /home/anna/TFM/Radiomica/Segmentacion/Segmentacion_resultados/1240571_300481_2-6-2020_DSC_0080\n",
      "Extraídas 102 características del canal R\n",
      "Extraídas 102 características del canal G\n",
      "Extraídas 102 características del canal B\n"
     ]
    },
    {
     "name": "stderr",
     "output_type": "stream",
     "text": [
      "GLCM is symmetrical, therefore Sum Average = 2 * Joint Average, only 1 needs to be calculated\n",
      "GLCM is symmetrical, therefore Sum Average = 2 * Joint Average, only 1 needs to be calculated\n",
      "GLCM is symmetrical, therefore Sum Average = 2 * Joint Average, only 1 needs to be calculated\n",
      "GLCM is symmetrical, therefore Sum Average = 2 * Joint Average, only 1 needs to be calculated\n",
      "GLCM is symmetrical, therefore Sum Average = 2 * Joint Average, only 1 needs to be calculated\n",
      "GLCM is symmetrical, therefore Sum Average = 2 * Joint Average, only 1 needs to be calculated\n",
      "GLCM is symmetrical, therefore Sum Average = 2 * Joint Average, only 1 needs to be calculated\n",
      "GLCM is symmetrical, therefore Sum Average = 2 * Joint Average, only 1 needs to be calculated\n",
      "GLCM is symmetrical, therefore Sum Average = 2 * Joint Average, only 1 needs to be calculated\n",
      "GLCM is symmetrical, therefore Sum Average = 2 * Joint Average, only 1 needs to be calculated\n",
      "GLCM is symmetrical, therefore Sum Average = 2 * Joint Average, only 1 needs to be calculated\n",
      "GLCM is symmetrical, therefore Sum Average = 2 * Joint Average, only 1 needs to be calculated\n"
     ]
    },
    {
     "name": "stdout",
     "output_type": "stream",
     "text": [
      "\n",
      "Procesando 137: 214127-190416-300481 (5)\n",
      "Cargando imagen y máscara de: /home/anna/TFM/Radiomica/Segmentacion/Segmentacion_resultados/214127-190416-300481 (5)\n",
      "Extraídas 102 características del canal R\n",
      "Extraídas 102 características del canal G\n",
      "Extraídas 102 características del canal B\n",
      "\n",
      "Procesando 138: 447134-230905-06-300481\n",
      "Cargando imagen y máscara de: /home/anna/TFM/Radiomica/Segmentacion/Segmentacion_resultados/447134-230905-06-300481\n",
      "Extraídas 102 características del canal R\n",
      "Extraídas 102 características del canal G\n",
      "Extraídas 102 características del canal B\n",
      "\n",
      "Procesando 139: 20484-z2024-02052024-300481-1\n",
      "Cargando imagen y máscara de: /home/anna/TFM/Radiomica/Segmentacion/Segmentacion_resultados/20484-z2024-02052024-300481-1\n",
      "Extraídas 102 características del canal R\n",
      "Extraídas 102 características del canal G\n",
      "Extraídas 102 características del canal B\n",
      "\n",
      "Procesando 140: 130742_300481_8-5-2018_DSC_0415\n",
      "Cargando imagen y máscara de: /home/anna/TFM/Radiomica/Segmentacion/Segmentacion_resultados/130742_300481_8-5-2018_DSC_0415\n",
      "Extraídas 102 características del canal R\n",
      "Extraídas 102 características del canal G\n",
      "Extraídas 102 características del canal B\n",
      "\n",
      "Procesando 141: 1359292_300481_11-1-2021_DSC_0005\n",
      "Cargando imagen y máscara de: /home/anna/TFM/Radiomica/Segmentacion/Segmentacion_resultados/1359292_300481_11-1-2021_DSC_0005\n"
     ]
    },
    {
     "name": "stderr",
     "output_type": "stream",
     "text": [
      "GLCM is symmetrical, therefore Sum Average = 2 * Joint Average, only 1 needs to be calculated\n",
      "GLCM is symmetrical, therefore Sum Average = 2 * Joint Average, only 1 needs to be calculated\n",
      "GLCM is symmetrical, therefore Sum Average = 2 * Joint Average, only 1 needs to be calculated\n",
      "GLCM is symmetrical, therefore Sum Average = 2 * Joint Average, only 1 needs to be calculated\n",
      "GLCM is symmetrical, therefore Sum Average = 2 * Joint Average, only 1 needs to be calculated\n",
      "GLCM is symmetrical, therefore Sum Average = 2 * Joint Average, only 1 needs to be calculated\n",
      "GLCM is symmetrical, therefore Sum Average = 2 * Joint Average, only 1 needs to be calculated\n",
      "GLCM is symmetrical, therefore Sum Average = 2 * Joint Average, only 1 needs to be calculated\n",
      "GLCM is symmetrical, therefore Sum Average = 2 * Joint Average, only 1 needs to be calculated\n",
      "GLCM is symmetrical, therefore Sum Average = 2 * Joint Average, only 1 needs to be calculated\n",
      "GLCM is symmetrical, therefore Sum Average = 2 * Joint Average, only 1 needs to be calculated\n"
     ]
    },
    {
     "name": "stdout",
     "output_type": "stream",
     "text": [
      "Extraídas 102 características del canal R\n",
      "Extraídas 102 características del canal G\n",
      "Extraídas 102 características del canal B\n",
      "\n",
      "Procesando 142: 160662-160610-300481-01\n",
      "Cargando imagen y máscara de: /home/anna/TFM/Radiomica/Segmentacion/Segmentacion_resultados/160662-160610-300481-01\n",
      "Extraídas 102 características del canal R\n",
      "Extraídas 102 características del canal G\n",
      "Extraídas 102 características del canal B\n",
      "\n",
      "Procesando 143: 531249-040309-300450-02\n",
      "Cargando imagen y máscara de: /home/anna/TFM/Radiomica/Segmentacion/Segmentacion_resultados/531249-040309-300450-02\n",
      "Extraídas 102 características del canal R\n",
      "Extraídas 102 características del canal G\n",
      "Extraídas 102 características del canal B\n",
      "\n",
      "Procesando 144: 200877-060509-300481-01\n",
      "Cargando imagen y máscara de: /home/anna/TFM/Radiomica/Segmentacion/Segmentacion_resultados/200877-060509-300481-01\n",
      "Extraídas 102 características del canal R\n",
      "Extraídas 102 características del canal G\n"
     ]
    },
    {
     "name": "stderr",
     "output_type": "stream",
     "text": [
      "GLCM is symmetrical, therefore Sum Average = 2 * Joint Average, only 1 needs to be calculated\n",
      "GLCM is symmetrical, therefore Sum Average = 2 * Joint Average, only 1 needs to be calculated\n",
      "GLCM is symmetrical, therefore Sum Average = 2 * Joint Average, only 1 needs to be calculated\n",
      "GLCM is symmetrical, therefore Sum Average = 2 * Joint Average, only 1 needs to be calculated\n",
      "GLCM is symmetrical, therefore Sum Average = 2 * Joint Average, only 1 needs to be calculated\n",
      "GLCM is symmetrical, therefore Sum Average = 2 * Joint Average, only 1 needs to be calculated\n",
      "GLCM is symmetrical, therefore Sum Average = 2 * Joint Average, only 1 needs to be calculated\n",
      "GLCM is symmetrical, therefore Sum Average = 2 * Joint Average, only 1 needs to be calculated\n",
      "GLCM is symmetrical, therefore Sum Average = 2 * Joint Average, only 1 needs to be calculated\n",
      "GLCM is symmetrical, therefore Sum Average = 2 * Joint Average, only 1 needs to be calculated\n"
     ]
    },
    {
     "name": "stdout",
     "output_type": "stream",
     "text": [
      "Extraídas 102 características del canal B\n",
      "\n",
      "Procesando 145: 548857-090805-01-300481\n",
      "Cargando imagen y máscara de: /home/anna/TFM/Radiomica/Segmentacion/Segmentacion_resultados/548857-090805-01-300481\n",
      "Extraídas 102 características del canal R\n",
      "Extraídas 102 características del canal G\n",
      "Extraídas 102 características del canal B\n",
      "\n",
      "Procesando 146: 30745-140613-300481-02\n",
      "Cargando imagen y máscara de: /home/anna/TFM/Radiomica/Segmentacion/Segmentacion_resultados/30745-140613-300481-02\n",
      "Extraídas 102 características del canal R\n",
      "Extraídas 102 características del canal G\n",
      "Extraídas 102 características del canal B\n",
      "\n",
      "Procesando 147: 1493193_300481_13-2-2024_DSC_0180\n",
      "Cargando imagen y máscara de: /home/anna/TFM/Radiomica/Segmentacion/Segmentacion_resultados/1493193_300481_13-2-2024_DSC_0180\n",
      "Extraídas 102 características del canal R\n",
      "Extraídas 102 características del canal G\n",
      "Extraídas 102 características del canal B\n",
      "\n",
      "Procesando 148: 244584-140912-300481\n"
     ]
    },
    {
     "name": "stderr",
     "output_type": "stream",
     "text": [
      "GLCM is symmetrical, therefore Sum Average = 2 * Joint Average, only 1 needs to be calculated\n",
      "GLCM is symmetrical, therefore Sum Average = 2 * Joint Average, only 1 needs to be calculated\n",
      "GLCM is symmetrical, therefore Sum Average = 2 * Joint Average, only 1 needs to be calculated\n",
      "GLCM is symmetrical, therefore Sum Average = 2 * Joint Average, only 1 needs to be calculated\n",
      "GLCM is symmetrical, therefore Sum Average = 2 * Joint Average, only 1 needs to be calculated\n",
      "GLCM is symmetrical, therefore Sum Average = 2 * Joint Average, only 1 needs to be calculated\n",
      "GLCM is symmetrical, therefore Sum Average = 2 * Joint Average, only 1 needs to be calculated\n",
      "GLCM is symmetrical, therefore Sum Average = 2 * Joint Average, only 1 needs to be calculated\n",
      "GLCM is symmetrical, therefore Sum Average = 2 * Joint Average, only 1 needs to be calculated\n",
      "GLCM is symmetrical, therefore Sum Average = 2 * Joint Average, only 1 needs to be calculated\n"
     ]
    },
    {
     "name": "stdout",
     "output_type": "stream",
     "text": [
      "Cargando imagen y máscara de: /home/anna/TFM/Radiomica/Segmentacion/Segmentacion_resultados/244584-140912-300481\n",
      "Extraídas 102 características del canal R\n",
      "Extraídas 102 características del canal G\n",
      "Extraídas 102 características del canal B\n",
      "\n",
      "Procesando 149: 735263-211204-02-300481\n",
      "Cargando imagen y máscara de: /home/anna/TFM/Radiomica/Segmentacion/Segmentacion_resultados/735263-211204-02-300481\n",
      "Extraídas 102 características del canal R\n",
      "Extraídas 102 características del canal G\n",
      "Extraídas 102 características del canal B\n",
      "\n",
      "Procesando 150: 103837-170707-01-300481\n",
      "Cargando imagen y máscara de: /home/anna/TFM/Radiomica/Segmentacion/Segmentacion_resultados/103837-170707-01-300481\n",
      "Extraídas 102 características del canal R\n",
      "Extraídas 102 características del canal G\n",
      "Extraídas 102 características del canal B\n",
      "\n",
      "Procesando 151: 973651_300481_19-10-2022_DSC_0369\n",
      "Cargando imagen y máscara de: /home/anna/TFM/Radiomica/Segmentacion/Segmentacion_resultados/973651_300481_19-10-2022_DSC_0369\n"
     ]
    },
    {
     "name": "stderr",
     "output_type": "stream",
     "text": [
      "GLCM is symmetrical, therefore Sum Average = 2 * Joint Average, only 1 needs to be calculated\n",
      "GLCM is symmetrical, therefore Sum Average = 2 * Joint Average, only 1 needs to be calculated\n",
      "GLCM is symmetrical, therefore Sum Average = 2 * Joint Average, only 1 needs to be calculated\n",
      "GLCM is symmetrical, therefore Sum Average = 2 * Joint Average, only 1 needs to be calculated\n",
      "GLCM is symmetrical, therefore Sum Average = 2 * Joint Average, only 1 needs to be calculated\n",
      "GLCM is symmetrical, therefore Sum Average = 2 * Joint Average, only 1 needs to be calculated\n",
      "GLCM is symmetrical, therefore Sum Average = 2 * Joint Average, only 1 needs to be calculated\n",
      "GLCM is symmetrical, therefore Sum Average = 2 * Joint Average, only 1 needs to be calculated\n",
      "GLCM is symmetrical, therefore Sum Average = 2 * Joint Average, only 1 needs to be calculated\n",
      "GLCM is symmetrical, therefore Sum Average = 2 * Joint Average, only 1 needs to be calculated\n"
     ]
    },
    {
     "name": "stdout",
     "output_type": "stream",
     "text": [
      "Extraídas 102 características del canal R\n",
      "Extraídas 102 características del canal G\n",
      "Extraídas 102 características del canal B\n",
      "\n",
      "Procesando 152: 129539_300481_28-5-2018_DSC_0691\n",
      "Cargando imagen y máscara de: /home/anna/TFM/Radiomica/Segmentacion/Segmentacion_resultados/129539_300481_28-5-2018_DSC_0691\n",
      "Extraídas 102 características del canal R\n",
      "Extraídas 102 características del canal G\n",
      "Extraídas 102 características del canal B\n",
      "\n",
      "Procesando 153: 12367-z2023-300481-18122023-4\n",
      "Cargando imagen y máscara de: /home/anna/TFM/Radiomica/Segmentacion/Segmentacion_resultados/12367-z2023-300481-18122023-4\n",
      "Extraídas 102 características del canal R\n",
      "Extraídas 102 características del canal G\n",
      "Extraídas 102 características del canal B\n",
      "\n",
      "Procesando 154: 159266-261114-300481 (2)\n",
      "Cargando imagen y máscara de: /home/anna/TFM/Radiomica/Segmentacion/Segmentacion_resultados/159266-261114-300481 (2)\n",
      "Extraídas 102 características del canal R\n",
      "Extraídas 102 características del canal G\n"
     ]
    },
    {
     "name": "stderr",
     "output_type": "stream",
     "text": [
      "GLCM is symmetrical, therefore Sum Average = 2 * Joint Average, only 1 needs to be calculated\n",
      "GLCM is symmetrical, therefore Sum Average = 2 * Joint Average, only 1 needs to be calculated\n",
      "GLCM is symmetrical, therefore Sum Average = 2 * Joint Average, only 1 needs to be calculated\n",
      "GLCM is symmetrical, therefore Sum Average = 2 * Joint Average, only 1 needs to be calculated\n",
      "GLCM is symmetrical, therefore Sum Average = 2 * Joint Average, only 1 needs to be calculated\n",
      "GLCM is symmetrical, therefore Sum Average = 2 * Joint Average, only 1 needs to be calculated\n",
      "GLCM is symmetrical, therefore Sum Average = 2 * Joint Average, only 1 needs to be calculated\n",
      "GLCM is symmetrical, therefore Sum Average = 2 * Joint Average, only 1 needs to be calculated\n",
      "GLCM is symmetrical, therefore Sum Average = 2 * Joint Average, only 1 needs to be calculated\n"
     ]
    },
    {
     "name": "stdout",
     "output_type": "stream",
     "text": [
      "Extraídas 102 características del canal B\n",
      "\n",
      "Procesando 155: 795928-160608-300481-19\n",
      "Cargando imagen y máscara de: /home/anna/TFM/Radiomica/Segmentacion/Segmentacion_resultados/795928-160608-300481-19\n",
      "Extraídas 102 características del canal R\n",
      "Extraídas 102 características del canal G\n",
      "Extraídas 102 características del canal B\n",
      "\n",
      "Procesando 156: 136484-130112-300481-(3)\n",
      "Cargando imagen y máscara de: /home/anna/TFM/Radiomica/Segmentacion/Segmentacion_resultados/136484-130112-300481-(3)\n",
      "Extraídas 102 características del canal R\n",
      "Extraídas 102 características del canal G\n",
      "Extraídas 102 características del canal B\n",
      "\n",
      "Procesando 157: 127513-120705-02-300481\n",
      "Cargando imagen y máscara de: /home/anna/TFM/Radiomica/Segmentacion/Segmentacion_resultados/127513-120705-02-300481\n",
      "Extraídas 102 características del canal R\n",
      "Extraídas 102 características del canal G\n"
     ]
    },
    {
     "name": "stderr",
     "output_type": "stream",
     "text": [
      "GLCM is symmetrical, therefore Sum Average = 2 * Joint Average, only 1 needs to be calculated\n",
      "GLCM is symmetrical, therefore Sum Average = 2 * Joint Average, only 1 needs to be calculated\n",
      "GLCM is symmetrical, therefore Sum Average = 2 * Joint Average, only 1 needs to be calculated\n",
      "GLCM is symmetrical, therefore Sum Average = 2 * Joint Average, only 1 needs to be calculated\n",
      "GLCM is symmetrical, therefore Sum Average = 2 * Joint Average, only 1 needs to be calculated\n",
      "GLCM is symmetrical, therefore Sum Average = 2 * Joint Average, only 1 needs to be calculated\n",
      "GLCM is symmetrical, therefore Sum Average = 2 * Joint Average, only 1 needs to be calculated\n",
      "GLCM is symmetrical, therefore Sum Average = 2 * Joint Average, only 1 needs to be calculated\n",
      "GLCM is symmetrical, therefore Sum Average = 2 * Joint Average, only 1 needs to be calculated\n",
      "GLCM is symmetrical, therefore Sum Average = 2 * Joint Average, only 1 needs to be calculated\n",
      "GLCM is symmetrical, therefore Sum Average = 2 * Joint Average, only 1 needs to be calculated\n"
     ]
    },
    {
     "name": "stdout",
     "output_type": "stream",
     "text": [
      "Extraídas 102 características del canal B\n",
      "\n",
      "Procesando 158: 204228-280911-300481-01\n",
      "Cargando imagen y máscara de: /home/anna/TFM/Radiomica/Segmentacion/Segmentacion_resultados/204228-280911-300481-01\n",
      "Extraídas 102 características del canal R\n",
      "Extraídas 102 características del canal G\n",
      "Extraídas 102 características del canal B\n",
      "\n",
      "Procesando 159: 19909-z2023-300481-26042023-4\n",
      "Cargando imagen y máscara de: /home/anna/TFM/Radiomica/Segmentacion/Segmentacion_resultados/19909-z2023-300481-26042023-4\n",
      "Extraídas 102 características del canal R\n",
      "Extraídas 102 características del canal G\n",
      "Extraídas 102 características del canal B\n",
      "\n",
      "Procesando 160: 874905-171208-300481-02\n",
      "Cargando imagen y máscara de: /home/anna/TFM/Radiomica/Segmentacion/Segmentacion_resultados/874905-171208-300481-02\n",
      "Extraídas 102 características del canal R\n",
      "Extraídas 102 características del canal G\n",
      "Extraídas 102 características del canal B\n",
      "\n",
      "Procesando 161: 642383-050202-02-00300481\n",
      "Cargando imagen y máscara de: /home/anna/TFM/Radiomica/Segmentacion/Segmentacion_resultados/642383-050202-02-00300481\n"
     ]
    },
    {
     "name": "stderr",
     "output_type": "stream",
     "text": [
      "GLCM is symmetrical, therefore Sum Average = 2 * Joint Average, only 1 needs to be calculated\n",
      "GLCM is symmetrical, therefore Sum Average = 2 * Joint Average, only 1 needs to be calculated\n",
      "GLCM is symmetrical, therefore Sum Average = 2 * Joint Average, only 1 needs to be calculated\n",
      "GLCM is symmetrical, therefore Sum Average = 2 * Joint Average, only 1 needs to be calculated\n",
      "GLCM is symmetrical, therefore Sum Average = 2 * Joint Average, only 1 needs to be calculated\n",
      "GLCM is symmetrical, therefore Sum Average = 2 * Joint Average, only 1 needs to be calculated\n",
      "GLCM is symmetrical, therefore Sum Average = 2 * Joint Average, only 1 needs to be calculated\n",
      "GLCM is symmetrical, therefore Sum Average = 2 * Joint Average, only 1 needs to be calculated\n",
      "GLCM is symmetrical, therefore Sum Average = 2 * Joint Average, only 1 needs to be calculated\n",
      "GLCM is symmetrical, therefore Sum Average = 2 * Joint Average, only 1 needs to be calculated\n",
      "GLCM is symmetrical, therefore Sum Average = 2 * Joint Average, only 1 needs to be calculated\n"
     ]
    },
    {
     "name": "stdout",
     "output_type": "stream",
     "text": [
      "Extraídas 102 características del canal R\n",
      "Extraídas 102 características del canal G\n",
      "Extraídas 102 características del canal B\n",
      "\n",
      "Procesando 162: 772940-100106-01-300481\n",
      "Cargando imagen y máscara de: /home/anna/TFM/Radiomica/Segmentacion/Segmentacion_resultados/772940-100106-01-300481\n",
      "Extraídas 102 características del canal R\n",
      "Extraídas 102 características del canal G\n",
      "Extraídas 102 características del canal B\n",
      "\n",
      "Procesando 163: 1393616_300481_5-11-2021_DSC_0135\n",
      "Cargando imagen y máscara de: /home/anna/TFM/Radiomica/Segmentacion/Segmentacion_resultados/1393616_300481_5-11-2021_DSC_0135\n",
      "Extraídas 102 características del canal R\n",
      "Extraídas 102 características del canal G\n",
      "Extraídas 102 características del canal B\n",
      "\n",
      "Procesando 164: 20056-z2023-300481-28062023-1\n",
      "Cargando imagen y máscara de: /home/anna/TFM/Radiomica/Segmentacion/Segmentacion_resultados/20056-z2023-300481-28062023-1\n",
      "Extraídas 102 características del canal R\n",
      "Extraídas 102 características del canal G\n",
      "Extraídas 102 características del canal B\n"
     ]
    },
    {
     "name": "stderr",
     "output_type": "stream",
     "text": [
      "GLCM is symmetrical, therefore Sum Average = 2 * Joint Average, only 1 needs to be calculated\n",
      "GLCM is symmetrical, therefore Sum Average = 2 * Joint Average, only 1 needs to be calculated\n",
      "GLCM is symmetrical, therefore Sum Average = 2 * Joint Average, only 1 needs to be calculated\n",
      "GLCM is symmetrical, therefore Sum Average = 2 * Joint Average, only 1 needs to be calculated\n",
      "GLCM is symmetrical, therefore Sum Average = 2 * Joint Average, only 1 needs to be calculated\n",
      "GLCM is symmetrical, therefore Sum Average = 2 * Joint Average, only 1 needs to be calculated\n",
      "GLCM is symmetrical, therefore Sum Average = 2 * Joint Average, only 1 needs to be calculated\n",
      "GLCM is symmetrical, therefore Sum Average = 2 * Joint Average, only 1 needs to be calculated\n",
      "GLCM is symmetrical, therefore Sum Average = 2 * Joint Average, only 1 needs to be calculated\n",
      "GLCM is symmetrical, therefore Sum Average = 2 * Joint Average, only 1 needs to be calculated\n"
     ]
    },
    {
     "name": "stdout",
     "output_type": "stream",
     "text": [
      "\n",
      "Procesando 165: 385091_300481_9-3-2021_DSC_0267\n",
      "Cargando imagen y máscara de: /home/anna/TFM/Radiomica/Segmentacion/Segmentacion_resultados/385091_300481_9-3-2021_DSC_0267\n",
      "Extraídas 102 características del canal R\n",
      "Extraídas 102 características del canal G\n",
      "Extraídas 102 características del canal B\n",
      "\n",
      "Procesando 166: 43725-120504-04-00300481\n",
      "Cargando imagen y máscara de: /home/anna/TFM/Radiomica/Segmentacion/Segmentacion_resultados/43725-120504-04-00300481\n",
      "Extraídas 102 características del canal R\n",
      "Extraídas 102 características del canal G\n",
      "Extraídas 102 características del canal B\n",
      "\n",
      "Procesando 167: 19909-z2023-300481-26042023-1\n",
      "Cargando imagen y máscara de: /home/anna/TFM/Radiomica/Segmentacion/Segmentacion_resultados/19909-z2023-300481-26042023-1\n",
      "Extraídas 102 características del canal R\n",
      "Extraídas 102 características del canal G\n",
      "Extraídas 102 características del canal B\n",
      "\n",
      "Procesando 168: 721098-021110-500012-02\n",
      "Cargando imagen y máscara de: /home/anna/TFM/Radiomica/Segmentacion/Segmentacion_resultados/721098-021110-500012-02\n",
      "Extraídas 102 características del canal R\n"
     ]
    },
    {
     "name": "stderr",
     "output_type": "stream",
     "text": [
      "GLCM is symmetrical, therefore Sum Average = 2 * Joint Average, only 1 needs to be calculated\n",
      "GLCM is symmetrical, therefore Sum Average = 2 * Joint Average, only 1 needs to be calculated\n",
      "GLCM is symmetrical, therefore Sum Average = 2 * Joint Average, only 1 needs to be calculated\n",
      "GLCM is symmetrical, therefore Sum Average = 2 * Joint Average, only 1 needs to be calculated\n",
      "GLCM is symmetrical, therefore Sum Average = 2 * Joint Average, only 1 needs to be calculated\n",
      "GLCM is symmetrical, therefore Sum Average = 2 * Joint Average, only 1 needs to be calculated\n",
      "GLCM is symmetrical, therefore Sum Average = 2 * Joint Average, only 1 needs to be calculated\n",
      "GLCM is symmetrical, therefore Sum Average = 2 * Joint Average, only 1 needs to be calculated\n",
      "GLCM is symmetrical, therefore Sum Average = 2 * Joint Average, only 1 needs to be calculated\n",
      "GLCM is symmetrical, therefore Sum Average = 2 * Joint Average, only 1 needs to be calculated\n",
      "GLCM is symmetrical, therefore Sum Average = 2 * Joint Average, only 1 needs to be calculated\n"
     ]
    },
    {
     "name": "stdout",
     "output_type": "stream",
     "text": [
      "Extraídas 102 características del canal G\n",
      "Extraídas 102 características del canal B\n",
      "\n",
      "Procesando 169: 532185-300903-01-00300481\n",
      "Cargando imagen y máscara de: /home/anna/TFM/Radiomica/Segmentacion/Segmentacion_resultados/532185-300903-01-00300481\n",
      "Extraídas 102 características del canal R\n",
      "Extraídas 102 características del canal G\n",
      "Extraídas 102 características del canal B\n",
      "\n",
      "Procesando 170: 219474_300481_16-5-2018_P1013692\n",
      "Cargando imagen y máscara de: /home/anna/TFM/Radiomica/Segmentacion/Segmentacion_resultados/219474_300481_16-5-2018_P1013692\n",
      "Extraídas 102 características del canal R\n",
      "Extraídas 102 características del canal G\n",
      "Extraídas 102 características del canal B\n",
      "\n",
      "Procesando 171: 784808_300481_23-3-2021_IMG_1414\n",
      "Cargando imagen y máscara de: /home/anna/TFM/Radiomica/Segmentacion/Segmentacion_resultados/784808_300481_23-3-2021_IMG_1414\n",
      "Extraídas 102 características del canal R\n",
      "Extraídas 102 características del canal G\n",
      "Extraídas 102 características del canal B\n",
      "\n",
      "Procesando 172: 30745-010411-300481-01\n",
      "Cargando imagen y máscara de: /home/anna/TFM/Radiomica/Segmentacion/Segmentacion_resultados/30745-010411-300481-01\n"
     ]
    },
    {
     "name": "stderr",
     "output_type": "stream",
     "text": [
      "GLCM is symmetrical, therefore Sum Average = 2 * Joint Average, only 1 needs to be calculated\n",
      "GLCM is symmetrical, therefore Sum Average = 2 * Joint Average, only 1 needs to be calculated\n",
      "GLCM is symmetrical, therefore Sum Average = 2 * Joint Average, only 1 needs to be calculated\n",
      "GLCM is symmetrical, therefore Sum Average = 2 * Joint Average, only 1 needs to be calculated\n",
      "GLCM is symmetrical, therefore Sum Average = 2 * Joint Average, only 1 needs to be calculated\n",
      "GLCM is symmetrical, therefore Sum Average = 2 * Joint Average, only 1 needs to be calculated\n",
      "GLCM is symmetrical, therefore Sum Average = 2 * Joint Average, only 1 needs to be calculated\n",
      "GLCM is symmetrical, therefore Sum Average = 2 * Joint Average, only 1 needs to be calculated\n",
      "GLCM is symmetrical, therefore Sum Average = 2 * Joint Average, only 1 needs to be calculated\n",
      "GLCM is symmetrical, therefore Sum Average = 2 * Joint Average, only 1 needs to be calculated\n",
      "GLCM is symmetrical, therefore Sum Average = 2 * Joint Average, only 1 needs to be calculated\n"
     ]
    },
    {
     "name": "stdout",
     "output_type": "stream",
     "text": [
      "Extraídas 102 características del canal R\n",
      "Extraídas 102 características del canal G\n",
      "Extraídas 102 características del canal B\n",
      "\n",
      "Procesando 173: 697030-071103-04-00-300481\n",
      "Cargando imagen y máscara de: /home/anna/TFM/Radiomica/Segmentacion/Segmentacion_resultados/697030-071103-04-00-300481\n",
      "Extraídas 102 características del canal R\n",
      "Extraídas 102 características del canal G\n",
      "Extraídas 102 características del canal B\n",
      "\n",
      "Procesando 174: 224343-180113-300481-01\n",
      "Cargando imagen y máscara de: /home/anna/TFM/Radiomica/Segmentacion/Segmentacion_resultados/224343-180113-300481-01\n",
      "Extraídas 102 características del canal R\n",
      "Extraídas 102 características del canal G\n",
      "Extraídas 102 características del canal B\n",
      "\n",
      "Procesando 175: 30745-050711-300481-02\n",
      "Cargando imagen y máscara de: /home/anna/TFM/Radiomica/Segmentacion/Segmentacion_resultados/30745-050711-300481-02\n",
      "Extraídas 102 características del canal R\n"
     ]
    },
    {
     "name": "stderr",
     "output_type": "stream",
     "text": [
      "GLCM is symmetrical, therefore Sum Average = 2 * Joint Average, only 1 needs to be calculated\n",
      "GLCM is symmetrical, therefore Sum Average = 2 * Joint Average, only 1 needs to be calculated\n",
      "GLCM is symmetrical, therefore Sum Average = 2 * Joint Average, only 1 needs to be calculated\n",
      "GLCM is symmetrical, therefore Sum Average = 2 * Joint Average, only 1 needs to be calculated\n",
      "GLCM is symmetrical, therefore Sum Average = 2 * Joint Average, only 1 needs to be calculated\n",
      "GLCM is symmetrical, therefore Sum Average = 2 * Joint Average, only 1 needs to be calculated\n",
      "GLCM is symmetrical, therefore Sum Average = 2 * Joint Average, only 1 needs to be calculated\n",
      "GLCM is symmetrical, therefore Sum Average = 2 * Joint Average, only 1 needs to be calculated\n"
     ]
    },
    {
     "name": "stdout",
     "output_type": "stream",
     "text": [
      "Extraídas 102 características del canal G\n",
      "Extraídas 102 características del canal B\n",
      "\n",
      "Procesando 176: 1394515_300481_5-11-2021_DSC_0129\n",
      "Cargando imagen y máscara de: /home/anna/TFM/Radiomica/Segmentacion/Segmentacion_resultados/1394515_300481_5-11-2021_DSC_0129\n",
      "Extraídas 102 características del canal R\n",
      "Extraídas 102 características del canal G\n",
      "Extraídas 102 características del canal B\n",
      "\n",
      "Procesando 177: 19350-z2022-27042022-300481-1\n",
      "Cargando imagen y máscara de: /home/anna/TFM/Radiomica/Segmentacion/Segmentacion_resultados/19350-z2022-27042022-300481-1\n",
      "Extraídas 102 características del canal R\n",
      "Extraídas 102 características del canal G\n",
      "Extraídas 102 características del canal B\n",
      "\n",
      "Procesando 178: 769640-301105-01-300481\n",
      "Cargando imagen y máscara de: /home/anna/TFM/Radiomica/Segmentacion/Segmentacion_resultados/769640-301105-01-300481\n",
      "Extraídas 102 características del canal R\n"
     ]
    },
    {
     "name": "stderr",
     "output_type": "stream",
     "text": [
      "GLCM is symmetrical, therefore Sum Average = 2 * Joint Average, only 1 needs to be calculated\n",
      "GLCM is symmetrical, therefore Sum Average = 2 * Joint Average, only 1 needs to be calculated\n",
      "GLCM is symmetrical, therefore Sum Average = 2 * Joint Average, only 1 needs to be calculated\n",
      "GLCM is symmetrical, therefore Sum Average = 2 * Joint Average, only 1 needs to be calculated\n",
      "GLCM is symmetrical, therefore Sum Average = 2 * Joint Average, only 1 needs to be calculated\n",
      "GLCM is symmetrical, therefore Sum Average = 2 * Joint Average, only 1 needs to be calculated\n",
      "GLCM is symmetrical, therefore Sum Average = 2 * Joint Average, only 1 needs to be calculated\n",
      "GLCM is symmetrical, therefore Sum Average = 2 * Joint Average, only 1 needs to be calculated\n",
      "GLCM is symmetrical, therefore Sum Average = 2 * Joint Average, only 1 needs to be calculated\n"
     ]
    },
    {
     "name": "stdout",
     "output_type": "stream",
     "text": [
      "Extraídas 102 características del canal G\n",
      "Extraídas 102 características del canal B\n",
      "\n",
      "Procesando 179: 1360176_300481_14-1-2021_IMG_1011\n",
      "Cargando imagen y máscara de: /home/anna/TFM/Radiomica/Segmentacion/Segmentacion_resultados/1360176_300481_14-1-2021_IMG_1011\n",
      "Extraídas 102 características del canal R\n",
      "Extraídas 102 características del canal G\n",
      "Extraídas 102 características del canal B\n",
      "\n",
      "Procesando 180: 610457-160301-04-00300481\n",
      "Cargando imagen y máscara de: /home/anna/TFM/Radiomica/Segmentacion/Segmentacion_resultados/610457-160301-04-00300481\n",
      "Extraídas 102 características del canal R\n",
      "Extraídas 102 características del canal G\n",
      "Extraídas 102 características del canal B\n",
      "\n",
      "Procesando 181: 160596-211207-300481-02\n",
      "Cargando imagen y máscara de: /home/anna/TFM/Radiomica/Segmentacion/Segmentacion_resultados/160596-211207-300481-02\n"
     ]
    },
    {
     "name": "stderr",
     "output_type": "stream",
     "text": [
      "GLCM is symmetrical, therefore Sum Average = 2 * Joint Average, only 1 needs to be calculated\n",
      "GLCM is symmetrical, therefore Sum Average = 2 * Joint Average, only 1 needs to be calculated\n",
      "GLCM is symmetrical, therefore Sum Average = 2 * Joint Average, only 1 needs to be calculated\n",
      "GLCM is symmetrical, therefore Sum Average = 2 * Joint Average, only 1 needs to be calculated\n",
      "GLCM is symmetrical, therefore Sum Average = 2 * Joint Average, only 1 needs to be calculated\n",
      "GLCM is symmetrical, therefore Sum Average = 2 * Joint Average, only 1 needs to be calculated\n",
      "GLCM is symmetrical, therefore Sum Average = 2 * Joint Average, only 1 needs to be calculated\n",
      "GLCM is symmetrical, therefore Sum Average = 2 * Joint Average, only 1 needs to be calculated\n",
      "GLCM is symmetrical, therefore Sum Average = 2 * Joint Average, only 1 needs to be calculated\n"
     ]
    },
    {
     "name": "stdout",
     "output_type": "stream",
     "text": [
      "Extraídas 102 características del canal R\n",
      "Extraídas 102 características del canal G\n",
      "Extraídas 102 características del canal B\n",
      "\n",
      "Procesando 182: 680474-030216-400095 (7)\n",
      "Cargando imagen y máscara de: /home/anna/TFM/Radiomica/Segmentacion/Segmentacion_resultados/680474-030216-400095 (7)\n",
      "Extraídas 102 características del canal R\n",
      "Extraídas 102 características del canal G\n",
      "Extraídas 102 características del canal B\n",
      "\n",
      "Procesando 183: 657656-240702-01-00300481\n",
      "Cargando imagen y máscara de: /home/anna/TFM/Radiomica/Segmentacion/Segmentacion_resultados/657656-240702-01-00300481\n",
      "Extraídas 102 características del canal R\n",
      "Extraídas 102 características del canal G\n",
      "Extraídas 102 características del canal B\n",
      "\n",
      "Procesando 184: 804460-190508-300481-02\n",
      "Cargando imagen y máscara de: /home/anna/TFM/Radiomica/Segmentacion/Segmentacion_resultados/804460-190508-300481-02\n"
     ]
    },
    {
     "name": "stderr",
     "output_type": "stream",
     "text": [
      "GLCM is symmetrical, therefore Sum Average = 2 * Joint Average, only 1 needs to be calculated\n",
      "GLCM is symmetrical, therefore Sum Average = 2 * Joint Average, only 1 needs to be calculated\n",
      "GLCM is symmetrical, therefore Sum Average = 2 * Joint Average, only 1 needs to be calculated\n",
      "GLCM is symmetrical, therefore Sum Average = 2 * Joint Average, only 1 needs to be calculated\n",
      "GLCM is symmetrical, therefore Sum Average = 2 * Joint Average, only 1 needs to be calculated\n",
      "GLCM is symmetrical, therefore Sum Average = 2 * Joint Average, only 1 needs to be calculated\n",
      "GLCM is symmetrical, therefore Sum Average = 2 * Joint Average, only 1 needs to be calculated\n",
      "GLCM is symmetrical, therefore Sum Average = 2 * Joint Average, only 1 needs to be calculated\n"
     ]
    },
    {
     "name": "stdout",
     "output_type": "stream",
     "text": [
      "Extraídas 102 características del canal R\n",
      "Extraídas 102 características del canal G\n",
      "Extraídas 102 características del canal B\n",
      "\n",
      "Procesando 185: 225103-240707-01-300481\n",
      "Cargando imagen y máscara de: /home/anna/TFM/Radiomica/Segmentacion/Segmentacion_resultados/225103-240707-01-300481\n",
      "Extraídas 102 características del canal R\n",
      "Extraídas 102 características del canal G\n",
      "Extraídas 102 características del canal B\n",
      "\n",
      "Procesando 186: 5185-230806-05-300481\n",
      "Cargando imagen y máscara de: /home/anna/TFM/Radiomica/Segmentacion/Segmentacion_resultados/5185-230806-05-300481\n",
      "Extraídas 102 características del canal R\n",
      "Extraídas 102 características del canal G\n",
      "Extraídas 102 características del canal B\n",
      "\n",
      "Procesando 187: 318440_300481_9-3-2021_DSC_0265\n",
      "Cargando imagen y máscara de: /home/anna/TFM/Radiomica/Segmentacion/Segmentacion_resultados/318440_300481_9-3-2021_DSC_0265\n"
     ]
    },
    {
     "name": "stderr",
     "output_type": "stream",
     "text": [
      "GLCM is symmetrical, therefore Sum Average = 2 * Joint Average, only 1 needs to be calculated\n",
      "GLCM is symmetrical, therefore Sum Average = 2 * Joint Average, only 1 needs to be calculated\n",
      "GLCM is symmetrical, therefore Sum Average = 2 * Joint Average, only 1 needs to be calculated\n",
      "GLCM is symmetrical, therefore Sum Average = 2 * Joint Average, only 1 needs to be calculated\n",
      "GLCM is symmetrical, therefore Sum Average = 2 * Joint Average, only 1 needs to be calculated\n",
      "GLCM is symmetrical, therefore Sum Average = 2 * Joint Average, only 1 needs to be calculated\n",
      "GLCM is symmetrical, therefore Sum Average = 2 * Joint Average, only 1 needs to be calculated\n",
      "GLCM is symmetrical, therefore Sum Average = 2 * Joint Average, only 1 needs to be calculated\n",
      "GLCM is symmetrical, therefore Sum Average = 2 * Joint Average, only 1 needs to be calculated\n",
      "GLCM is symmetrical, therefore Sum Average = 2 * Joint Average, only 1 needs to be calculated\n"
     ]
    },
    {
     "name": "stdout",
     "output_type": "stream",
     "text": [
      "Extraídas 102 características del canal R\n",
      "Extraídas 102 características del canal G\n",
      "Extraídas 102 características del canal B\n",
      "\n",
      "Procesando 188: 19846-z2023-300481-27022023-4\n",
      "Cargando imagen y máscara de: /home/anna/TFM/Radiomica/Segmentacion/Segmentacion_resultados/19846-z2023-300481-27022023-4\n",
      "Extraídas 102 características del canal R\n",
      "Extraídas 102 características del canal G\n",
      "Extraídas 102 características del canal B\n",
      "\n",
      "Procesando 189: 1255090_300481_14-1-2020_IMG_8612\n",
      "Cargando imagen y máscara de: /home/anna/TFM/Radiomica/Segmentacion/Segmentacion_resultados/1255090_300481_14-1-2020_IMG_8612\n",
      "Extraídas 102 características del canal R\n",
      "Extraídas 102 características del canal G\n",
      "Extraídas 102 características del canal B\n",
      "\n",
      "Procesando 190: 1235694_300481_14-10-2020_DSC_0199\n",
      "Cargando imagen y máscara de: /home/anna/TFM/Radiomica/Segmentacion/Segmentacion_resultados/1235694_300481_14-10-2020_DSC_0199\n"
     ]
    },
    {
     "name": "stderr",
     "output_type": "stream",
     "text": [
      "GLCM is symmetrical, therefore Sum Average = 2 * Joint Average, only 1 needs to be calculated\n",
      "GLCM is symmetrical, therefore Sum Average = 2 * Joint Average, only 1 needs to be calculated\n",
      "GLCM is symmetrical, therefore Sum Average = 2 * Joint Average, only 1 needs to be calculated\n",
      "GLCM is symmetrical, therefore Sum Average = 2 * Joint Average, only 1 needs to be calculated\n",
      "GLCM is symmetrical, therefore Sum Average = 2 * Joint Average, only 1 needs to be calculated\n",
      "GLCM is symmetrical, therefore Sum Average = 2 * Joint Average, only 1 needs to be calculated\n",
      "GLCM is symmetrical, therefore Sum Average = 2 * Joint Average, only 1 needs to be calculated\n",
      "GLCM is symmetrical, therefore Sum Average = 2 * Joint Average, only 1 needs to be calculated\n",
      "GLCM is symmetrical, therefore Sum Average = 2 * Joint Average, only 1 needs to be calculated\n"
     ]
    },
    {
     "name": "stdout",
     "output_type": "stream",
     "text": [
      "Extraídas 102 características del canal R\n",
      "Extraídas 102 características del canal G\n",
      "Extraídas 102 características del canal B\n",
      "\n",
      "Procesando 191: 197581_300481_8-6-2022_DSC_0045\n",
      "Cargando imagen y máscara de: /home/anna/TFM/Radiomica/Segmentacion/Segmentacion_resultados/197581_300481_8-6-2022_DSC_0045\n",
      "Extraídas 102 características del canal R\n",
      "Extraídas 102 características del canal G\n",
      "Extraídas 102 características del canal B\n",
      "\n",
      "Procesando 192: 968073-070710-300481-01\n",
      "Cargando imagen y máscara de: /home/anna/TFM/Radiomica/Segmentacion/Segmentacion_resultados/968073-070710-300481-01\n",
      "Extraídas 102 características del canal R\n",
      "Extraídas 102 características del canal G\n",
      "Extraídas 102 características del canal B\n",
      "\n",
      "Procesando 193: 118323-300108-300481-02\n",
      "Cargando imagen y máscara de: /home/anna/TFM/Radiomica/Segmentacion/Segmentacion_resultados/118323-300108-300481-02\n"
     ]
    },
    {
     "name": "stderr",
     "output_type": "stream",
     "text": [
      "GLCM is symmetrical, therefore Sum Average = 2 * Joint Average, only 1 needs to be calculated\n",
      "GLCM is symmetrical, therefore Sum Average = 2 * Joint Average, only 1 needs to be calculated\n",
      "GLCM is symmetrical, therefore Sum Average = 2 * Joint Average, only 1 needs to be calculated\n",
      "GLCM is symmetrical, therefore Sum Average = 2 * Joint Average, only 1 needs to be calculated\n",
      "GLCM is symmetrical, therefore Sum Average = 2 * Joint Average, only 1 needs to be calculated\n",
      "GLCM is symmetrical, therefore Sum Average = 2 * Joint Average, only 1 needs to be calculated\n",
      "GLCM is symmetrical, therefore Sum Average = 2 * Joint Average, only 1 needs to be calculated\n",
      "GLCM is symmetrical, therefore Sum Average = 2 * Joint Average, only 1 needs to be calculated\n",
      "GLCM is symmetrical, therefore Sum Average = 2 * Joint Average, only 1 needs to be calculated\n"
     ]
    },
    {
     "name": "stdout",
     "output_type": "stream",
     "text": [
      "Extraídas 102 características del canal R\n",
      "Extraídas 102 características del canal G\n",
      "Extraídas 102 características del canal B\n",
      "\n",
      "Procesando 194: 1337634_300481_1-9-2020_IMG_0198\n",
      "Cargando imagen y máscara de: /home/anna/TFM/Radiomica/Segmentacion/Segmentacion_resultados/1337634_300481_1-9-2020_IMG_0198\n",
      "Extraídas 102 características del canal R\n",
      "Extraídas 102 características del canal G\n",
      "Extraídas 102 características del canal B\n",
      "\n",
      "Procesando 195: 561272_300481_22-6-2020_DSC_0220\n",
      "Cargando imagen y máscara de: /home/anna/TFM/Radiomica/Segmentacion/Segmentacion_resultados/561272_300481_22-6-2020_DSC_0220\n",
      "Extraídas 102 características del canal R\n",
      "Extraídas 102 características del canal G\n",
      "Extraídas 102 características del canal B\n",
      "\n",
      "Procesando 196: 499069-220402-02-00300481\n",
      "Cargando imagen y máscara de: /home/anna/TFM/Radiomica/Segmentacion/Segmentacion_resultados/499069-220402-02-00300481\n"
     ]
    },
    {
     "name": "stderr",
     "output_type": "stream",
     "text": [
      "GLCM is symmetrical, therefore Sum Average = 2 * Joint Average, only 1 needs to be calculated\n",
      "GLCM is symmetrical, therefore Sum Average = 2 * Joint Average, only 1 needs to be calculated\n",
      "GLCM is symmetrical, therefore Sum Average = 2 * Joint Average, only 1 needs to be calculated\n",
      "GLCM is symmetrical, therefore Sum Average = 2 * Joint Average, only 1 needs to be calculated\n",
      "GLCM is symmetrical, therefore Sum Average = 2 * Joint Average, only 1 needs to be calculated\n",
      "GLCM is symmetrical, therefore Sum Average = 2 * Joint Average, only 1 needs to be calculated\n",
      "GLCM is symmetrical, therefore Sum Average = 2 * Joint Average, only 1 needs to be calculated\n",
      "GLCM is symmetrical, therefore Sum Average = 2 * Joint Average, only 1 needs to be calculated\n",
      "GLCM is symmetrical, therefore Sum Average = 2 * Joint Average, only 1 needs to be calculated\n",
      "GLCM is symmetrical, therefore Sum Average = 2 * Joint Average, only 1 needs to be calculated\n"
     ]
    },
    {
     "name": "stdout",
     "output_type": "stream",
     "text": [
      "Extraídas 102 características del canal R\n",
      "Extraídas 102 características del canal G\n",
      "Extraídas 102 características del canal B\n",
      "\n",
      "Procesando 197: 213049-010408-300481-01\n",
      "Cargando imagen y máscara de: /home/anna/TFM/Radiomica/Segmentacion/Segmentacion_resultados/213049-010408-300481-01\n",
      "Extraídas 102 características del canal R\n",
      "Extraídas 102 características del canal G\n",
      "Extraídas 102 características del canal B\n",
      "\n",
      "Procesando 198: 964852-080610-300481-01\n",
      "Cargando imagen y máscara de: /home/anna/TFM/Radiomica/Segmentacion/Segmentacion_resultados/964852-080610-300481-01\n",
      "Extraídas 102 características del canal R\n",
      "Extraídas 102 características del canal G\n",
      "Extraídas 102 características del canal B\n",
      "\n",
      "Procesando 199: 133945_010715_300481 (3)\n",
      "Cargando imagen y máscara de: /home/anna/TFM/Radiomica/Segmentacion/Segmentacion_resultados/133945_010715_300481 (3)\n",
      "Extraídas 102 características del canal R\n",
      "Extraídas 102 características del canal G\n"
     ]
    },
    {
     "name": "stderr",
     "output_type": "stream",
     "text": [
      "GLCM is symmetrical, therefore Sum Average = 2 * Joint Average, only 1 needs to be calculated\n",
      "GLCM is symmetrical, therefore Sum Average = 2 * Joint Average, only 1 needs to be calculated\n",
      "GLCM is symmetrical, therefore Sum Average = 2 * Joint Average, only 1 needs to be calculated\n",
      "GLCM is symmetrical, therefore Sum Average = 2 * Joint Average, only 1 needs to be calculated\n",
      "GLCM is symmetrical, therefore Sum Average = 2 * Joint Average, only 1 needs to be calculated\n",
      "GLCM is symmetrical, therefore Sum Average = 2 * Joint Average, only 1 needs to be calculated\n",
      "GLCM is symmetrical, therefore Sum Average = 2 * Joint Average, only 1 needs to be calculated\n",
      "GLCM is symmetrical, therefore Sum Average = 2 * Joint Average, only 1 needs to be calculated\n"
     ]
    },
    {
     "name": "stdout",
     "output_type": "stream",
     "text": [
      "Extraídas 102 características del canal B\n",
      "\n",
      "Procesando 200: 637687-070504-01-00300481\n",
      "Cargando imagen y máscara de: /home/anna/TFM/Radiomica/Segmentacion/Segmentacion_resultados/637687-070504-01-00300481\n",
      "Extraídas 102 características del canal R\n",
      "Extraídas 102 características del canal G\n",
      "Extraídas 102 características del canal B\n",
      "\n",
      "Procesando 201: 1370548_300481_31-3-2021_DSC_0079\n",
      "Cargando imagen y máscara de: /home/anna/TFM/Radiomica/Segmentacion/Segmentacion_resultados/1370548_300481_31-3-2021_DSC_0079\n",
      "Extraídas 102 características del canal R\n",
      "Extraídas 102 características del canal G\n",
      "Extraídas 102 características del canal B\n",
      "\n",
      "Procesando 202: 916106-260310-300021-02\n",
      "Cargando imagen y máscara de: /home/anna/TFM/Radiomica/Segmentacion/Segmentacion_resultados/916106-260310-300021-02\n",
      "Extraídas 102 características del canal R\n"
     ]
    },
    {
     "name": "stderr",
     "output_type": "stream",
     "text": [
      "GLCM is symmetrical, therefore Sum Average = 2 * Joint Average, only 1 needs to be calculated\n",
      "GLCM is symmetrical, therefore Sum Average = 2 * Joint Average, only 1 needs to be calculated\n",
      "GLCM is symmetrical, therefore Sum Average = 2 * Joint Average, only 1 needs to be calculated\n",
      "GLCM is symmetrical, therefore Sum Average = 2 * Joint Average, only 1 needs to be calculated\n",
      "GLCM is symmetrical, therefore Sum Average = 2 * Joint Average, only 1 needs to be calculated\n",
      "GLCM is symmetrical, therefore Sum Average = 2 * Joint Average, only 1 needs to be calculated\n",
      "GLCM is symmetrical, therefore Sum Average = 2 * Joint Average, only 1 needs to be calculated\n",
      "GLCM is symmetrical, therefore Sum Average = 2 * Joint Average, only 1 needs to be calculated\n",
      "GLCM is symmetrical, therefore Sum Average = 2 * Joint Average, only 1 needs to be calculated\n"
     ]
    },
    {
     "name": "stdout",
     "output_type": "stream",
     "text": [
      "Extraídas 102 características del canal G\n",
      "Extraídas 102 características del canal B\n",
      "\n",
      "Procesando 203: 678894-251103-02-00300481\n",
      "Cargando imagen y máscara de: /home/anna/TFM/Radiomica/Segmentacion/Segmentacion_resultados/678894-251103-02-00300481\n",
      "Extraídas 102 características del canal R\n",
      "Extraídas 102 características del canal G\n",
      "Extraídas 102 características del canal B\n",
      "\n",
      "Procesando 204: 81699_170614_300481 (2)\n",
      "Cargando imagen y máscara de: /home/anna/TFM/Radiomica/Segmentacion/Segmentacion_resultados/81699_170614_300481 (2)\n",
      "Extraídas 102 características del canal R\n",
      "Extraídas 102 características del canal G\n",
      "Extraídas 102 características del canal B\n",
      "\n",
      "Procesando 205: 1488172_300481_3-1-2024_DSC_0004\n",
      "Cargando imagen y máscara de: /home/anna/TFM/Radiomica/Segmentacion/Segmentacion_resultados/1488172_300481_3-1-2024_DSC_0004\n",
      "Extraídas 102 características del canal R\n"
     ]
    },
    {
     "name": "stderr",
     "output_type": "stream",
     "text": [
      "GLCM is symmetrical, therefore Sum Average = 2 * Joint Average, only 1 needs to be calculated\n",
      "GLCM is symmetrical, therefore Sum Average = 2 * Joint Average, only 1 needs to be calculated\n",
      "GLCM is symmetrical, therefore Sum Average = 2 * Joint Average, only 1 needs to be calculated\n",
      "GLCM is symmetrical, therefore Sum Average = 2 * Joint Average, only 1 needs to be calculated\n",
      "GLCM is symmetrical, therefore Sum Average = 2 * Joint Average, only 1 needs to be calculated\n",
      "GLCM is symmetrical, therefore Sum Average = 2 * Joint Average, only 1 needs to be calculated\n",
      "GLCM is symmetrical, therefore Sum Average = 2 * Joint Average, only 1 needs to be calculated\n",
      "GLCM is symmetrical, therefore Sum Average = 2 * Joint Average, only 1 needs to be calculated\n",
      "GLCM is symmetrical, therefore Sum Average = 2 * Joint Average, only 1 needs to be calculated\n"
     ]
    },
    {
     "name": "stdout",
     "output_type": "stream",
     "text": [
      "Extraídas 102 características del canal G\n",
      "Extraídas 102 características del canal B\n",
      "\n",
      "Procesando 206: 81699-101109-300481-01\n",
      "Cargando imagen y máscara de: /home/anna/TFM/Radiomica/Segmentacion/Segmentacion_resultados/81699-101109-300481-01\n",
      "Extraídas 102 características del canal R\n",
      "Extraídas 102 características del canal G\n",
      "Extraídas 102 características del canal B\n",
      "\n",
      "Procesando 207: 973638-281210-300481-8\n",
      "Cargando imagen y máscara de: /home/anna/TFM/Radiomica/Segmentacion/Segmentacion_resultados/973638-281210-300481-8\n",
      "Extraídas 102 características del canal R\n",
      "Extraídas 102 características del canal G\n",
      "Extraídas 102 características del canal B\n",
      "\n",
      "Procesando 208: 1230651_300481_4-10-2022_DSC_0259\n",
      "Cargando imagen y máscara de: /home/anna/TFM/Radiomica/Segmentacion/Segmentacion_resultados/1230651_300481_4-10-2022_DSC_0259\n",
      "Extraídas 102 características del canal R\n"
     ]
    },
    {
     "name": "stderr",
     "output_type": "stream",
     "text": [
      "GLCM is symmetrical, therefore Sum Average = 2 * Joint Average, only 1 needs to be calculated\n",
      "GLCM is symmetrical, therefore Sum Average = 2 * Joint Average, only 1 needs to be calculated\n",
      "GLCM is symmetrical, therefore Sum Average = 2 * Joint Average, only 1 needs to be calculated\n",
      "GLCM is symmetrical, therefore Sum Average = 2 * Joint Average, only 1 needs to be calculated\n",
      "GLCM is symmetrical, therefore Sum Average = 2 * Joint Average, only 1 needs to be calculated\n",
      "GLCM is symmetrical, therefore Sum Average = 2 * Joint Average, only 1 needs to be calculated\n",
      "GLCM is symmetrical, therefore Sum Average = 2 * Joint Average, only 1 needs to be calculated\n",
      "GLCM is symmetrical, therefore Sum Average = 2 * Joint Average, only 1 needs to be calculated\n",
      "GLCM is symmetrical, therefore Sum Average = 2 * Joint Average, only 1 needs to be calculated\n",
      "GLCM is symmetrical, therefore Sum Average = 2 * Joint Average, only 1 needs to be calculated\n",
      "GLCM is symmetrical, therefore Sum Average = 2 * Joint Average, only 1 needs to be calculated\n"
     ]
    },
    {
     "name": "stdout",
     "output_type": "stream",
     "text": [
      "Extraídas 102 características del canal G\n",
      "Extraídas 102 características del canal B\n",
      "\n",
      "Procesando 209: 1136851_300481_26-10-2020_DSC_0029\n",
      "Cargando imagen y máscara de: /home/anna/TFM/Radiomica/Segmentacion/Segmentacion_resultados/1136851_300481_26-10-2020_DSC_0029\n",
      "Extraídas 102 características del canal R\n",
      "Extraídas 102 características del canal G\n",
      "Extraídas 102 características del canal B\n",
      "\n",
      "Procesando 210: 12759-z2023-300481-01082023-5\n",
      "Cargando imagen y máscara de: /home/anna/TFM/Radiomica/Segmentacion/Segmentacion_resultados/12759-z2023-300481-01082023-5\n",
      "Extraídas 102 características del canal R\n",
      "Extraídas 102 características del canal G\n",
      "Extraídas 102 características del canal B\n",
      "\n",
      "Procesando 211: 612310-270902-01-00500006\n",
      "Cargando imagen y máscara de: /home/anna/TFM/Radiomica/Segmentacion/Segmentacion_resultados/612310-270902-01-00500006\n",
      "Extraídas 102 características del canal R\n",
      "Extraídas 102 características del canal G\n"
     ]
    },
    {
     "name": "stderr",
     "output_type": "stream",
     "text": [
      "GLCM is symmetrical, therefore Sum Average = 2 * Joint Average, only 1 needs to be calculated\n",
      "GLCM is symmetrical, therefore Sum Average = 2 * Joint Average, only 1 needs to be calculated\n",
      "GLCM is symmetrical, therefore Sum Average = 2 * Joint Average, only 1 needs to be calculated\n",
      "GLCM is symmetrical, therefore Sum Average = 2 * Joint Average, only 1 needs to be calculated\n",
      "GLCM is symmetrical, therefore Sum Average = 2 * Joint Average, only 1 needs to be calculated\n",
      "GLCM is symmetrical, therefore Sum Average = 2 * Joint Average, only 1 needs to be calculated\n",
      "GLCM is symmetrical, therefore Sum Average = 2 * Joint Average, only 1 needs to be calculated\n"
     ]
    },
    {
     "name": "stdout",
     "output_type": "stream",
     "text": [
      "Extraídas 102 características del canal B\n",
      "\n",
      "Procesando 212: 894201-280114-300481 (5)\n",
      "Cargando imagen y máscara de: /home/anna/TFM/Radiomica/Segmentacion/Segmentacion_resultados/894201-280114-300481 (5)\n",
      "Extraídas 102 características del canal R\n",
      "Extraídas 102 características del canal G\n",
      "Extraídas 102 características del canal B\n",
      "\n",
      "Procesando 213: 628193-231001-01-00300481\n",
      "Cargando imagen y máscara de: /home/anna/TFM/Radiomica/Segmentacion/Segmentacion_resultados/628193-231001-01-00300481\n",
      "Extraídas 102 características del canal R\n",
      "Extraídas 102 características del canal G\n",
      "Extraídas 102 características del canal B\n",
      "\n",
      "Procesando 214: 985373_300481_2-6-2020_IMG_9725\n",
      "Cargando imagen y máscara de: /home/anna/TFM/Radiomica/Segmentacion/Segmentacion_resultados/985373_300481_2-6-2020_IMG_9725\n"
     ]
    },
    {
     "name": "stderr",
     "output_type": "stream",
     "text": [
      "GLCM is symmetrical, therefore Sum Average = 2 * Joint Average, only 1 needs to be calculated\n",
      "GLCM is symmetrical, therefore Sum Average = 2 * Joint Average, only 1 needs to be calculated\n",
      "GLCM is symmetrical, therefore Sum Average = 2 * Joint Average, only 1 needs to be calculated\n",
      "GLCM is symmetrical, therefore Sum Average = 2 * Joint Average, only 1 needs to be calculated\n",
      "GLCM is symmetrical, therefore Sum Average = 2 * Joint Average, only 1 needs to be calculated\n",
      "GLCM is symmetrical, therefore Sum Average = 2 * Joint Average, only 1 needs to be calculated\n",
      "GLCM is symmetrical, therefore Sum Average = 2 * Joint Average, only 1 needs to be calculated\n",
      "GLCM is symmetrical, therefore Sum Average = 2 * Joint Average, only 1 needs to be calculated\n",
      "GLCM is symmetrical, therefore Sum Average = 2 * Joint Average, only 1 needs to be calculated\n"
     ]
    },
    {
     "name": "stdout",
     "output_type": "stream",
     "text": [
      "Extraídas 102 características del canal R\n",
      "Extraídas 102 características del canal G\n",
      "Extraídas 102 características del canal B\n",
      "\n",
      "Procesando 215: 1357556_300481_16-1-2024_DSC_0063\n",
      "Cargando imagen y máscara de: /home/anna/TFM/Radiomica/Segmentacion/Segmentacion_resultados/1357556_300481_16-1-2024_DSC_0063\n",
      "Extraídas 102 características del canal R\n",
      "Extraídas 102 características del canal G\n",
      "Extraídas 102 características del canal B\n",
      "\n",
      "Procesando 216: 255168_300481_1-12-2020_DSC_0094\n",
      "Cargando imagen y máscara de: /home/anna/TFM/Radiomica/Segmentacion/Segmentacion_resultados/255168_300481_1-12-2020_DSC_0094\n",
      "Extraídas 102 características del canal R\n",
      "Extraídas 102 características del canal G\n",
      "Extraídas 102 características del canal B\n",
      "\n",
      "Procesando 217: 285399-060707-01-300481\n",
      "Cargando imagen y máscara de: /home/anna/TFM/Radiomica/Segmentacion/Segmentacion_resultados/285399-060707-01-300481\n"
     ]
    },
    {
     "name": "stderr",
     "output_type": "stream",
     "text": [
      "GLCM is symmetrical, therefore Sum Average = 2 * Joint Average, only 1 needs to be calculated\n",
      "GLCM is symmetrical, therefore Sum Average = 2 * Joint Average, only 1 needs to be calculated\n",
      "GLCM is symmetrical, therefore Sum Average = 2 * Joint Average, only 1 needs to be calculated\n",
      "GLCM is symmetrical, therefore Sum Average = 2 * Joint Average, only 1 needs to be calculated\n",
      "GLCM is symmetrical, therefore Sum Average = 2 * Joint Average, only 1 needs to be calculated\n",
      "GLCM is symmetrical, therefore Sum Average = 2 * Joint Average, only 1 needs to be calculated\n",
      "GLCM is symmetrical, therefore Sum Average = 2 * Joint Average, only 1 needs to be calculated\n",
      "GLCM is symmetrical, therefore Sum Average = 2 * Joint Average, only 1 needs to be calculated\n",
      "GLCM is symmetrical, therefore Sum Average = 2 * Joint Average, only 1 needs to be calculated\n"
     ]
    },
    {
     "name": "stdout",
     "output_type": "stream",
     "text": [
      "Extraídas 102 características del canal R\n",
      "Extraídas 102 características del canal G\n",
      "Extraídas 102 características del canal B\n",
      "\n",
      "Procesando 218: 424155_300481_30-6-2020_IMG_0026\n",
      "Cargando imagen y máscara de: /home/anna/TFM/Radiomica/Segmentacion/Segmentacion_resultados/424155_300481_30-6-2020_IMG_0026\n",
      "Extraídas 102 características del canal R\n",
      "Extraídas 102 características del canal G\n",
      "Extraídas 102 características del canal B\n",
      "\n",
      "Procesando 219: 552280_300481_24-11-2020_DSC_0016\n",
      "Cargando imagen y máscara de: /home/anna/TFM/Radiomica/Segmentacion/Segmentacion_resultados/552280_300481_24-11-2020_DSC_0016\n",
      "Extraídas 102 características del canal R\n",
      "Extraídas 102 características del canal G\n",
      "Extraídas 102 características del canal B\n",
      "\n",
      "Procesando 220: 195042-110504-02-00300481\n",
      "Cargando imagen y máscara de: /home/anna/TFM/Radiomica/Segmentacion/Segmentacion_resultados/195042-110504-02-00300481\n",
      "Extraídas 102 características del canal R\n"
     ]
    },
    {
     "name": "stderr",
     "output_type": "stream",
     "text": [
      "GLCM is symmetrical, therefore Sum Average = 2 * Joint Average, only 1 needs to be calculated\n",
      "GLCM is symmetrical, therefore Sum Average = 2 * Joint Average, only 1 needs to be calculated\n",
      "GLCM is symmetrical, therefore Sum Average = 2 * Joint Average, only 1 needs to be calculated\n",
      "GLCM is symmetrical, therefore Sum Average = 2 * Joint Average, only 1 needs to be calculated\n",
      "GLCM is symmetrical, therefore Sum Average = 2 * Joint Average, only 1 needs to be calculated\n",
      "GLCM is symmetrical, therefore Sum Average = 2 * Joint Average, only 1 needs to be calculated\n",
      "GLCM is symmetrical, therefore Sum Average = 2 * Joint Average, only 1 needs to be calculated\n",
      "GLCM is symmetrical, therefore Sum Average = 2 * Joint Average, only 1 needs to be calculated\n",
      "GLCM is symmetrical, therefore Sum Average = 2 * Joint Average, only 1 needs to be calculated\n",
      "GLCM is symmetrical, therefore Sum Average = 2 * Joint Average, only 1 needs to be calculated\n",
      "GLCM is symmetrical, therefore Sum Average = 2 * Joint Average, only 1 needs to be calculated\n"
     ]
    },
    {
     "name": "stdout",
     "output_type": "stream",
     "text": [
      "Extraídas 102 características del canal G\n",
      "Extraídas 102 características del canal B\n",
      "\n",
      "Procesando 221: 718228_300481_17-11-2021_DSC_0256\n",
      "Cargando imagen y máscara de: /home/anna/TFM/Radiomica/Segmentacion/Segmentacion_resultados/718228_300481_17-11-2021_DSC_0256\n",
      "Extraídas 102 características del canal R\n",
      "Extraídas 102 características del canal G\n",
      "Extraídas 102 características del canal B\n",
      "\n",
      "Procesando 222: 192853-020512-300481 (2)\n",
      "Cargando imagen y máscara de: /home/anna/TFM/Radiomica/Segmentacion/Segmentacion_resultados/192853-020512-300481 (2)\n",
      "Extraídas 102 características del canal R\n",
      "Extraídas 102 características del canal G\n",
      "Extraídas 102 características del canal B\n",
      "\n",
      "Procesando 223: 130742_300481_8-5-2018_DSC_0417\n",
      "Cargando imagen y máscara de: /home/anna/TFM/Radiomica/Segmentacion/Segmentacion_resultados/130742_300481_8-5-2018_DSC_0417\n",
      "Extraídas 102 características del canal R\n",
      "Extraídas 102 características del canal G\n",
      "Extraídas 102 características del canal B\n",
      "\n",
      "Procesando 224: 754478_300481_29-11-2021_DSC_0359\n",
      "Cargando imagen y máscara de: /home/anna/TFM/Radiomica/Segmentacion/Segmentacion_resultados/754478_300481_29-11-2021_DSC_0359\n"
     ]
    },
    {
     "name": "stderr",
     "output_type": "stream",
     "text": [
      "GLCM is symmetrical, therefore Sum Average = 2 * Joint Average, only 1 needs to be calculated\n",
      "GLCM is symmetrical, therefore Sum Average = 2 * Joint Average, only 1 needs to be calculated\n",
      "GLCM is symmetrical, therefore Sum Average = 2 * Joint Average, only 1 needs to be calculated\n",
      "GLCM is symmetrical, therefore Sum Average = 2 * Joint Average, only 1 needs to be calculated\n",
      "GLCM is symmetrical, therefore Sum Average = 2 * Joint Average, only 1 needs to be calculated\n",
      "GLCM is symmetrical, therefore Sum Average = 2 * Joint Average, only 1 needs to be calculated\n",
      "GLCM is symmetrical, therefore Sum Average = 2 * Joint Average, only 1 needs to be calculated\n",
      "GLCM is symmetrical, therefore Sum Average = 2 * Joint Average, only 1 needs to be calculated\n",
      "GLCM is symmetrical, therefore Sum Average = 2 * Joint Average, only 1 needs to be calculated\n"
     ]
    },
    {
     "name": "stdout",
     "output_type": "stream",
     "text": [
      "Extraídas 102 características del canal R\n",
      "Extraídas 102 características del canal G\n",
      "Extraídas 102 características del canal B\n",
      "\n",
      "Procesando 225: 30745-070212-300481\n",
      "Cargando imagen y máscara de: /home/anna/TFM/Radiomica/Segmentacion/Segmentacion_resultados/30745-070212-300481\n",
      "Extraídas 102 características del canal R\n",
      "Extraídas 102 características del canal G\n",
      "Extraídas 102 características del canal B\n",
      "\n",
      "Procesando 226: 354745_300481_15-3-2022_DSC_0203\n",
      "Cargando imagen y máscara de: /home/anna/TFM/Radiomica/Segmentacion/Segmentacion_resultados/354745_300481_15-3-2022_DSC_0203\n",
      "Extraídas 102 características del canal R\n",
      "Extraídas 102 características del canal G\n"
     ]
    },
    {
     "name": "stderr",
     "output_type": "stream",
     "text": [
      "GLCM is symmetrical, therefore Sum Average = 2 * Joint Average, only 1 needs to be calculated\n",
      "GLCM is symmetrical, therefore Sum Average = 2 * Joint Average, only 1 needs to be calculated\n",
      "GLCM is symmetrical, therefore Sum Average = 2 * Joint Average, only 1 needs to be calculated\n",
      "GLCM is symmetrical, therefore Sum Average = 2 * Joint Average, only 1 needs to be calculated\n",
      "GLCM is symmetrical, therefore Sum Average = 2 * Joint Average, only 1 needs to be calculated\n",
      "GLCM is symmetrical, therefore Sum Average = 2 * Joint Average, only 1 needs to be calculated\n",
      "GLCM is symmetrical, therefore Sum Average = 2 * Joint Average, only 1 needs to be calculated\n",
      "GLCM is symmetrical, therefore Sum Average = 2 * Joint Average, only 1 needs to be calculated\n",
      "GLCM is symmetrical, therefore Sum Average = 2 * Joint Average, only 1 needs to be calculated\n"
     ]
    },
    {
     "name": "stdout",
     "output_type": "stream",
     "text": [
      "Extraídas 102 características del canal B\n",
      "\n",
      "Procesando 227: 915115-130509-300481-01\n",
      "Cargando imagen y máscara de: /home/anna/TFM/Radiomica/Segmentacion/Segmentacion_resultados/915115-130509-300481-01\n",
      "Extraídas 102 características del canal R\n",
      "Extraídas 102 características del canal G\n",
      "Extraídas 102 características del canal B\n",
      "\n",
      "Procesando 228: 59209-090608-300481-01\n",
      "Cargando imagen y máscara de: /home/anna/TFM/Radiomica/Segmentacion/Segmentacion_resultados/59209-090608-300481-01\n",
      "Extraídas 102 características del canal R\n",
      "Extraídas 102 características del canal G\n",
      "Extraídas 102 características del canal B\n",
      "\n",
      "Procesando 229: 1357556_300481_16-1-2024_P1012024\n",
      "Cargando imagen y máscara de: /home/anna/TFM/Radiomica/Segmentacion/Segmentacion_resultados/1357556_300481_16-1-2024_P1012024\n",
      "Extraídas 102 características del canal R\n",
      "Extraídas 102 características del canal G\n",
      "Extraídas 102 características del canal B\n",
      "\n",
      "Procesando 230: 544373-031103-02-00300481\n",
      "Cargando imagen y máscara de: /home/anna/TFM/Radiomica/Segmentacion/Segmentacion_resultados/544373-031103-02-00300481\n"
     ]
    },
    {
     "name": "stderr",
     "output_type": "stream",
     "text": [
      "GLCM is symmetrical, therefore Sum Average = 2 * Joint Average, only 1 needs to be calculated\n",
      "GLCM is symmetrical, therefore Sum Average = 2 * Joint Average, only 1 needs to be calculated\n",
      "GLCM is symmetrical, therefore Sum Average = 2 * Joint Average, only 1 needs to be calculated\n",
      "GLCM is symmetrical, therefore Sum Average = 2 * Joint Average, only 1 needs to be calculated\n",
      "GLCM is symmetrical, therefore Sum Average = 2 * Joint Average, only 1 needs to be calculated\n",
      "GLCM is symmetrical, therefore Sum Average = 2 * Joint Average, only 1 needs to be calculated\n",
      "GLCM is symmetrical, therefore Sum Average = 2 * Joint Average, only 1 needs to be calculated\n",
      "GLCM is symmetrical, therefore Sum Average = 2 * Joint Average, only 1 needs to be calculated\n"
     ]
    },
    {
     "name": "stdout",
     "output_type": "stream",
     "text": [
      "Extraídas 102 características del canal R\n",
      "Extraídas 102 características del canal G\n",
      "Extraídas 102 características del canal B\n",
      "\n",
      "Procesando 231: 880287-141008-300481-01\n",
      "Cargando imagen y máscara de: /home/anna/TFM/Radiomica/Segmentacion/Segmentacion_resultados/880287-141008-300481-01\n",
      "Extraídas 102 características del canal R\n",
      "Extraídas 102 características del canal G\n",
      "Extraídas 102 características del canal B\n",
      "\n",
      "Procesando 232: 921759-070709-300481-01\n",
      "Cargando imagen y máscara de: /home/anna/TFM/Radiomica/Segmentacion/Segmentacion_resultados/921759-070709-300481-01\n",
      "Extraídas 102 características del canal R\n",
      "Extraídas 102 características del canal G\n"
     ]
    },
    {
     "name": "stderr",
     "output_type": "stream",
     "text": [
      "GLCM is symmetrical, therefore Sum Average = 2 * Joint Average, only 1 needs to be calculated\n",
      "GLCM is symmetrical, therefore Sum Average = 2 * Joint Average, only 1 needs to be calculated\n",
      "GLCM is symmetrical, therefore Sum Average = 2 * Joint Average, only 1 needs to be calculated\n",
      "GLCM is symmetrical, therefore Sum Average = 2 * Joint Average, only 1 needs to be calculated\n",
      "GLCM is symmetrical, therefore Sum Average = 2 * Joint Average, only 1 needs to be calculated\n",
      "GLCM is symmetrical, therefore Sum Average = 2 * Joint Average, only 1 needs to be calculated\n",
      "GLCM is symmetrical, therefore Sum Average = 2 * Joint Average, only 1 needs to be calculated\n",
      "GLCM is symmetrical, therefore Sum Average = 2 * Joint Average, only 1 needs to be calculated\n",
      "GLCM is symmetrical, therefore Sum Average = 2 * Joint Average, only 1 needs to be calculated\n",
      "GLCM is symmetrical, therefore Sum Average = 2 * Joint Average, only 1 needs to be calculated\n"
     ]
    },
    {
     "name": "stdout",
     "output_type": "stream",
     "text": [
      "Extraídas 102 características del canal B\n",
      "\n",
      "Procesando 233: 815674_300481_28-10-2020_DSC_0049\n",
      "Cargando imagen y máscara de: /home/anna/TFM/Radiomica/Segmentacion/Segmentacion_resultados/815674_300481_28-10-2020_DSC_0049\n",
      "Extraídas 102 características del canal R\n",
      "Extraídas 102 características del canal G\n",
      "Extraídas 102 características del canal B\n",
      "\n",
      "Procesando 234: 669404-230609-300481-03\n",
      "Cargando imagen y máscara de: /home/anna/TFM/Radiomica/Segmentacion/Segmentacion_resultados/669404-230609-300481-03\n",
      "Extraídas 102 características del canal R\n",
      "Extraídas 102 características del canal G\n",
      "Extraídas 102 características del canal B\n",
      "\n",
      "Procesando 235: 1330740_300481_15-6-2020_DSC_0190\n",
      "Cargando imagen y máscara de: /home/anna/TFM/Radiomica/Segmentacion/Segmentacion_resultados/1330740_300481_15-6-2020_DSC_0190\n",
      "Extraídas 102 características del canal R\n",
      "Extraídas 102 características del canal G\n",
      "Extraídas 102 características del canal B\n"
     ]
    },
    {
     "name": "stderr",
     "output_type": "stream",
     "text": [
      "GLCM is symmetrical, therefore Sum Average = 2 * Joint Average, only 1 needs to be calculated\n",
      "GLCM is symmetrical, therefore Sum Average = 2 * Joint Average, only 1 needs to be calculated\n",
      "GLCM is symmetrical, therefore Sum Average = 2 * Joint Average, only 1 needs to be calculated\n",
      "GLCM is symmetrical, therefore Sum Average = 2 * Joint Average, only 1 needs to be calculated\n",
      "GLCM is symmetrical, therefore Sum Average = 2 * Joint Average, only 1 needs to be calculated\n",
      "GLCM is symmetrical, therefore Sum Average = 2 * Joint Average, only 1 needs to be calculated\n",
      "GLCM is symmetrical, therefore Sum Average = 2 * Joint Average, only 1 needs to be calculated\n",
      "GLCM is symmetrical, therefore Sum Average = 2 * Joint Average, only 1 needs to be calculated\n"
     ]
    },
    {
     "name": "stdout",
     "output_type": "stream",
     "text": [
      "\n",
      "Procesando 236: 169687-220715-300481\n",
      "Cargando imagen y máscara de: /home/anna/TFM/Radiomica/Segmentacion/Segmentacion_resultados/169687-220715-300481\n",
      "Extraídas 102 características del canal R\n",
      "Extraídas 102 características del canal G\n",
      "Extraídas 102 características del canal B\n",
      "\n",
      "Procesando 237: 883231-270509-300481-01\n",
      "Cargando imagen y máscara de: /home/anna/TFM/Radiomica/Segmentacion/Segmentacion_resultados/883231-270509-300481-01\n",
      "Extraídas 102 características del canal R\n",
      "Extraídas 102 características del canal G\n",
      "Extraídas 102 características del canal B\n",
      "\n",
      "Procesando 238: 175394-010211-300481-1\n",
      "Cargando imagen y máscara de: /home/anna/TFM/Radiomica/Segmentacion/Segmentacion_resultados/175394-010211-300481-1\n",
      "Extraídas 102 características del canal R\n",
      "Extraídas 102 características del canal G\n"
     ]
    },
    {
     "name": "stderr",
     "output_type": "stream",
     "text": [
      "GLCM is symmetrical, therefore Sum Average = 2 * Joint Average, only 1 needs to be calculated\n",
      "GLCM is symmetrical, therefore Sum Average = 2 * Joint Average, only 1 needs to be calculated\n",
      "GLCM is symmetrical, therefore Sum Average = 2 * Joint Average, only 1 needs to be calculated\n",
      "GLCM is symmetrical, therefore Sum Average = 2 * Joint Average, only 1 needs to be calculated\n",
      "GLCM is symmetrical, therefore Sum Average = 2 * Joint Average, only 1 needs to be calculated\n",
      "GLCM is symmetrical, therefore Sum Average = 2 * Joint Average, only 1 needs to be calculated\n",
      "GLCM is symmetrical, therefore Sum Average = 2 * Joint Average, only 1 needs to be calculated\n",
      "GLCM is symmetrical, therefore Sum Average = 2 * Joint Average, only 1 needs to be calculated\n",
      "GLCM is symmetrical, therefore Sum Average = 2 * Joint Average, only 1 needs to be calculated\n",
      "GLCM is symmetrical, therefore Sum Average = 2 * Joint Average, only 1 needs to be calculated\n"
     ]
    },
    {
     "name": "stdout",
     "output_type": "stream",
     "text": [
      "Extraídas 102 características del canal B\n",
      "\n",
      "Procesando 239: 1289249_300481_14-12-2020_DSC_0166\n",
      "Cargando imagen y máscara de: /home/anna/TFM/Radiomica/Segmentacion/Segmentacion_resultados/1289249_300481_14-12-2020_DSC_0166\n",
      "Extraídas 102 características del canal R\n",
      "Extraídas 102 características del canal G\n",
      "Extraídas 102 características del canal B\n",
      "\n",
      "Procesando 240: 1331146_300481_15-6-2020_DSC_0193\n",
      "Cargando imagen y máscara de: /home/anna/TFM/Radiomica/Segmentacion/Segmentacion_resultados/1331146_300481_15-6-2020_DSC_0193\n",
      "Extraídas 102 características del canal R\n",
      "Extraídas 102 características del canal G\n",
      "Extraídas 102 características del canal B\n",
      "\n",
      "Procesando 241: 39555-161208-300481-03\n",
      "Cargando imagen y máscara de: /home/anna/TFM/Radiomica/Segmentacion/Segmentacion_resultados/39555-161208-300481-03\n",
      "Extraídas 102 características del canal R\n",
      "Extraídas 102 características del canal G\n",
      "Extraídas 102 características del canal B\n"
     ]
    },
    {
     "name": "stderr",
     "output_type": "stream",
     "text": [
      "GLCM is symmetrical, therefore Sum Average = 2 * Joint Average, only 1 needs to be calculated\n",
      "GLCM is symmetrical, therefore Sum Average = 2 * Joint Average, only 1 needs to be calculated\n",
      "GLCM is symmetrical, therefore Sum Average = 2 * Joint Average, only 1 needs to be calculated\n",
      "GLCM is symmetrical, therefore Sum Average = 2 * Joint Average, only 1 needs to be calculated\n",
      "GLCM is symmetrical, therefore Sum Average = 2 * Joint Average, only 1 needs to be calculated\n",
      "GLCM is symmetrical, therefore Sum Average = 2 * Joint Average, only 1 needs to be calculated\n",
      "GLCM is symmetrical, therefore Sum Average = 2 * Joint Average, only 1 needs to be calculated\n",
      "GLCM is symmetrical, therefore Sum Average = 2 * Joint Average, only 1 needs to be calculated\n",
      "GLCM is symmetrical, therefore Sum Average = 2 * Joint Average, only 1 needs to be calculated\n"
     ]
    },
    {
     "name": "stdout",
     "output_type": "stream",
     "text": [
      "\n",
      "Procesando 242: 30745-080512-300481\n",
      "Cargando imagen y máscara de: /home/anna/TFM/Radiomica/Segmentacion/Segmentacion_resultados/30745-080512-300481\n",
      "Extraídas 102 características del canal R\n",
      "Extraídas 102 características del canal G\n",
      "Extraídas 102 características del canal B\n",
      "\n",
      "Procesando 243: 90439-081116-300481(6)\n",
      "Cargando imagen y máscara de: /home/anna/TFM/Radiomica/Segmentacion/Segmentacion_resultados/90439-081116-300481(6)\n",
      "Extraídas 102 características del canal R\n",
      "Extraídas 102 características del canal G\n",
      "Extraídas 102 características del canal B\n",
      "\n",
      "Procesando 244: 117833-010708-300481-02\n",
      "Cargando imagen y máscara de: /home/anna/TFM/Radiomica/Segmentacion/Segmentacion_resultados/117833-010708-300481-02\n",
      "Extraídas 102 características del canal R\n",
      "Extraídas 102 características del canal G\n",
      "Extraídas 102 características del canal B\n",
      "\n",
      "Procesando 245: 310882_300481_12-1-2024_DSC_0050\n",
      "Cargando imagen y máscara de: /home/anna/TFM/Radiomica/Segmentacion/Segmentacion_resultados/310882_300481_12-1-2024_DSC_0050\n"
     ]
    },
    {
     "name": "stderr",
     "output_type": "stream",
     "text": [
      "GLCM is symmetrical, therefore Sum Average = 2 * Joint Average, only 1 needs to be calculated\n",
      "GLCM is symmetrical, therefore Sum Average = 2 * Joint Average, only 1 needs to be calculated\n",
      "GLCM is symmetrical, therefore Sum Average = 2 * Joint Average, only 1 needs to be calculated\n",
      "GLCM is symmetrical, therefore Sum Average = 2 * Joint Average, only 1 needs to be calculated\n",
      "GLCM is symmetrical, therefore Sum Average = 2 * Joint Average, only 1 needs to be calculated\n",
      "GLCM is symmetrical, therefore Sum Average = 2 * Joint Average, only 1 needs to be calculated\n",
      "GLCM is symmetrical, therefore Sum Average = 2 * Joint Average, only 1 needs to be calculated\n",
      "GLCM is symmetrical, therefore Sum Average = 2 * Joint Average, only 1 needs to be calculated\n",
      "GLCM is symmetrical, therefore Sum Average = 2 * Joint Average, only 1 needs to be calculated\n",
      "GLCM is symmetrical, therefore Sum Average = 2 * Joint Average, only 1 needs to be calculated\n"
     ]
    },
    {
     "name": "stdout",
     "output_type": "stream",
     "text": [
      "Extraídas 102 características del canal R\n",
      "Extraídas 102 características del canal G\n",
      "Extraídas 102 características del canal B\n",
      "\n",
      "Procesando 246: 59706-090606-02-300481\n",
      "Cargando imagen y máscara de: /home/anna/TFM/Radiomica/Segmentacion/Segmentacion_resultados/59706-090606-02-300481\n",
      "Extraídas 102 características del canal R\n",
      "Extraídas 102 características del canal G\n",
      "Extraídas 102 características del canal B\n",
      "\n",
      "Procesando 247: 162677_250214_300481 (2)\n",
      "Cargando imagen y máscara de: /home/anna/TFM/Radiomica/Segmentacion/Segmentacion_resultados/162677_250214_300481 (2)\n",
      "Extraídas 102 características del canal R\n",
      "Extraídas 102 características del canal G\n",
      "Extraídas 102 características del canal B\n",
      "\n",
      "Procesando 248: 175394-260510-300481-02\n",
      "Cargando imagen y máscara de: /home/anna/TFM/Radiomica/Segmentacion/Segmentacion_resultados/175394-260510-300481-02\n"
     ]
    },
    {
     "name": "stderr",
     "output_type": "stream",
     "text": [
      "GLCM is symmetrical, therefore Sum Average = 2 * Joint Average, only 1 needs to be calculated\n",
      "GLCM is symmetrical, therefore Sum Average = 2 * Joint Average, only 1 needs to be calculated\n",
      "GLCM is symmetrical, therefore Sum Average = 2 * Joint Average, only 1 needs to be calculated\n",
      "GLCM is symmetrical, therefore Sum Average = 2 * Joint Average, only 1 needs to be calculated\n",
      "GLCM is symmetrical, therefore Sum Average = 2 * Joint Average, only 1 needs to be calculated\n",
      "GLCM is symmetrical, therefore Sum Average = 2 * Joint Average, only 1 needs to be calculated\n",
      "GLCM is symmetrical, therefore Sum Average = 2 * Joint Average, only 1 needs to be calculated\n",
      "GLCM is symmetrical, therefore Sum Average = 2 * Joint Average, only 1 needs to be calculated\n"
     ]
    },
    {
     "name": "stdout",
     "output_type": "stream",
     "text": [
      "Extraídas 102 características del canal R\n",
      "Extraídas 102 características del canal G\n",
      "Extraídas 102 características del canal B\n",
      "\n",
      "Procesando 249: 642690-080404-02-00300481\n",
      "Cargando imagen y máscara de: /home/anna/TFM/Radiomica/Segmentacion/Segmentacion_resultados/642690-080404-02-00300481\n",
      "Extraídas 102 características del canal R\n",
      "Extraídas 102 características del canal G\n",
      "Extraídas 102 características del canal B\n",
      "\n",
      "Procesando 250: 821369_300481_2-6-2020_DSC_0124\n",
      "Cargando imagen y máscara de: /home/anna/TFM/Radiomica/Segmentacion/Segmentacion_resultados/821369_300481_2-6-2020_DSC_0124\n",
      "Extraídas 102 características del canal R\n",
      "Extraídas 102 características del canal G\n",
      "Extraídas 102 características del canal B\n",
      "\n",
      "Procesando 251: 300257_300481_30-11-2020_IMG_0760\n",
      "Cargando imagen y máscara de: /home/anna/TFM/Radiomica/Segmentacion/Segmentacion_resultados/300257_300481_30-11-2020_IMG_0760\n"
     ]
    },
    {
     "name": "stderr",
     "output_type": "stream",
     "text": [
      "GLCM is symmetrical, therefore Sum Average = 2 * Joint Average, only 1 needs to be calculated\n",
      "GLCM is symmetrical, therefore Sum Average = 2 * Joint Average, only 1 needs to be calculated\n",
      "GLCM is symmetrical, therefore Sum Average = 2 * Joint Average, only 1 needs to be calculated\n",
      "GLCM is symmetrical, therefore Sum Average = 2 * Joint Average, only 1 needs to be calculated\n",
      "GLCM is symmetrical, therefore Sum Average = 2 * Joint Average, only 1 needs to be calculated\n",
      "GLCM is symmetrical, therefore Sum Average = 2 * Joint Average, only 1 needs to be calculated\n",
      "GLCM is symmetrical, therefore Sum Average = 2 * Joint Average, only 1 needs to be calculated\n",
      "GLCM is symmetrical, therefore Sum Average = 2 * Joint Average, only 1 needs to be calculated\n",
      "GLCM is symmetrical, therefore Sum Average = 2 * Joint Average, only 1 needs to be calculated\n",
      "GLCM is symmetrical, therefore Sum Average = 2 * Joint Average, only 1 needs to be calculated\n"
     ]
    },
    {
     "name": "stdout",
     "output_type": "stream",
     "text": [
      "Extraídas 102 características del canal R\n",
      "Extraídas 102 características del canal G\n",
      "Extraídas 102 características del canal B\n",
      "\n",
      "Procesando 252: 1004821_300481_25-2-2020_IMG_9163\n",
      "Cargando imagen y máscara de: /home/anna/TFM/Radiomica/Segmentacion/Segmentacion_resultados/1004821_300481_25-2-2020_IMG_9163\n",
      "Extraídas 102 características del canal R\n",
      "Extraídas 102 características del canal G\n",
      "Extraídas 102 características del canal B\n",
      "\n",
      "Procesando 253: 1289249_300481_14-12-2020_DSC_0167\n",
      "Cargando imagen y máscara de: /home/anna/TFM/Radiomica/Segmentacion/Segmentacion_resultados/1289249_300481_14-12-2020_DSC_0167\n",
      "Extraídas 102 características del canal R\n",
      "Extraídas 102 características del canal G\n",
      "Extraídas 102 características del canal B\n",
      "\n",
      "Procesando 254: 465017-130109-300481-01\n",
      "Cargando imagen y máscara de: /home/anna/TFM/Radiomica/Segmentacion/Segmentacion_resultados/465017-130109-300481-01\n"
     ]
    },
    {
     "name": "stderr",
     "output_type": "stream",
     "text": [
      "GLCM is symmetrical, therefore Sum Average = 2 * Joint Average, only 1 needs to be calculated\n",
      "GLCM is symmetrical, therefore Sum Average = 2 * Joint Average, only 1 needs to be calculated\n",
      "GLCM is symmetrical, therefore Sum Average = 2 * Joint Average, only 1 needs to be calculated\n",
      "GLCM is symmetrical, therefore Sum Average = 2 * Joint Average, only 1 needs to be calculated\n",
      "GLCM is symmetrical, therefore Sum Average = 2 * Joint Average, only 1 needs to be calculated\n",
      "GLCM is symmetrical, therefore Sum Average = 2 * Joint Average, only 1 needs to be calculated\n"
     ]
    },
    {
     "name": "stdout",
     "output_type": "stream",
     "text": [
      "Extraídas 102 características del canal R\n",
      "Extraídas 102 características del canal G\n",
      "Extraídas 102 características del canal B\n",
      "\n",
      "Procesando 255: 1419812_300481_8-7-2022_DSC_0186\n",
      "Cargando imagen y máscara de: /home/anna/TFM/Radiomica/Segmentacion/Segmentacion_resultados/1419812_300481_8-7-2022_DSC_0186\n",
      "Extraídas 102 características del canal R\n",
      "Extraídas 102 características del canal G\n",
      "Extraídas 102 características del canal B\n",
      "\n",
      "Procesando 256: 92264_300481_14-1-2022_DSC_0141\n",
      "Cargando imagen y máscara de: /home/anna/TFM/Radiomica/Segmentacion/Segmentacion_resultados/92264_300481_14-1-2022_DSC_0141\n",
      "Extraídas 102 características del canal R\n"
     ]
    },
    {
     "name": "stderr",
     "output_type": "stream",
     "text": [
      "GLCM is symmetrical, therefore Sum Average = 2 * Joint Average, only 1 needs to be calculated\n",
      "GLCM is symmetrical, therefore Sum Average = 2 * Joint Average, only 1 needs to be calculated\n",
      "GLCM is symmetrical, therefore Sum Average = 2 * Joint Average, only 1 needs to be calculated\n",
      "GLCM is symmetrical, therefore Sum Average = 2 * Joint Average, only 1 needs to be calculated\n",
      "GLCM is symmetrical, therefore Sum Average = 2 * Joint Average, only 1 needs to be calculated\n",
      "GLCM is symmetrical, therefore Sum Average = 2 * Joint Average, only 1 needs to be calculated\n",
      "GLCM is symmetrical, therefore Sum Average = 2 * Joint Average, only 1 needs to be calculated\n",
      "GLCM is symmetrical, therefore Sum Average = 2 * Joint Average, only 1 needs to be calculated\n",
      "GLCM is symmetrical, therefore Sum Average = 2 * Joint Average, only 1 needs to be calculated\n",
      "GLCM is symmetrical, therefore Sum Average = 2 * Joint Average, only 1 needs to be calculated\n"
     ]
    },
    {
     "name": "stdout",
     "output_type": "stream",
     "text": [
      "Extraídas 102 características del canal G\n",
      "Extraídas 102 características del canal B\n",
      "\n",
      "Procesando 257: 61489_300481_2-11-2020_DSC_0086\n",
      "Cargando imagen y máscara de: /home/anna/TFM/Radiomica/Segmentacion/Segmentacion_resultados/61489_300481_2-11-2020_DSC_0086\n",
      "Extraídas 102 características del canal R\n",
      "Extraídas 102 características del canal G\n",
      "Extraídas 102 características del canal B\n",
      "\n",
      "Procesando 258: 81679-300402-01-00300481\n",
      "Cargando imagen y máscara de: /home/anna/TFM/Radiomica/Segmentacion/Segmentacion_resultados/81679-300402-01-00300481\n",
      "Extraídas 102 características del canal R\n",
      "Extraídas 102 características del canal G\n",
      "Extraídas 102 características del canal B\n",
      "\n",
      "Procesando 259: 521325_300481_20-5-2022_DSC_0245\n",
      "Cargando imagen y máscara de: /home/anna/TFM/Radiomica/Segmentacion/Segmentacion_resultados/521325_300481_20-5-2022_DSC_0245\n",
      "Extraídas 102 características del canal R\n"
     ]
    },
    {
     "name": "stderr",
     "output_type": "stream",
     "text": [
      "GLCM is symmetrical, therefore Sum Average = 2 * Joint Average, only 1 needs to be calculated\n",
      "GLCM is symmetrical, therefore Sum Average = 2 * Joint Average, only 1 needs to be calculated\n",
      "GLCM is symmetrical, therefore Sum Average = 2 * Joint Average, only 1 needs to be calculated\n",
      "GLCM is symmetrical, therefore Sum Average = 2 * Joint Average, only 1 needs to be calculated\n",
      "GLCM is symmetrical, therefore Sum Average = 2 * Joint Average, only 1 needs to be calculated\n",
      "GLCM is symmetrical, therefore Sum Average = 2 * Joint Average, only 1 needs to be calculated\n",
      "GLCM is symmetrical, therefore Sum Average = 2 * Joint Average, only 1 needs to be calculated\n"
     ]
    },
    {
     "name": "stdout",
     "output_type": "stream",
     "text": [
      "Extraídas 102 características del canal G\n",
      "Extraídas 102 características del canal B\n",
      "\n",
      "Procesando 260: 413558-061107-300425-01\n",
      "Cargando imagen y máscara de: /home/anna/TFM/Radiomica/Segmentacion/Segmentacion_resultados/413558-061107-300425-01\n",
      "Extraídas 102 características del canal R\n",
      "Extraídas 102 características del canal G\n",
      "Extraídas 102 características del canal B\n",
      "\n",
      "Procesando 261: 850252-230108-300481-01\n",
      "Cargando imagen y máscara de: /home/anna/TFM/Radiomica/Segmentacion/Segmentacion_resultados/850252-230108-300481-01\n",
      "Extraídas 102 características del canal R\n",
      "Extraídas 102 características del canal G\n"
     ]
    },
    {
     "name": "stderr",
     "output_type": "stream",
     "text": [
      "GLCM is symmetrical, therefore Sum Average = 2 * Joint Average, only 1 needs to be calculated\n",
      "GLCM is symmetrical, therefore Sum Average = 2 * Joint Average, only 1 needs to be calculated\n",
      "GLCM is symmetrical, therefore Sum Average = 2 * Joint Average, only 1 needs to be calculated\n",
      "GLCM is symmetrical, therefore Sum Average = 2 * Joint Average, only 1 needs to be calculated\n",
      "GLCM is symmetrical, therefore Sum Average = 2 * Joint Average, only 1 needs to be calculated\n",
      "GLCM is symmetrical, therefore Sum Average = 2 * Joint Average, only 1 needs to be calculated\n",
      "GLCM is symmetrical, therefore Sum Average = 2 * Joint Average, only 1 needs to be calculated\n",
      "GLCM is symmetrical, therefore Sum Average = 2 * Joint Average, only 1 needs to be calculated\n",
      "GLCM is symmetrical, therefore Sum Average = 2 * Joint Average, only 1 needs to be calculated\n"
     ]
    },
    {
     "name": "stdout",
     "output_type": "stream",
     "text": [
      "Extraídas 102 características del canal B\n",
      "\n",
      "Procesando 262: 213049-021104-03-300481\n",
      "Cargando imagen y máscara de: /home/anna/TFM/Radiomica/Segmentacion/Segmentacion_resultados/213049-021104-03-300481\n",
      "Extraídas 102 características del canal R\n",
      "Extraídas 102 características del canal G\n",
      "Extraídas 102 características del canal B\n",
      "\n",
      "Procesando 263: 539259-171201-01-00300481\n",
      "Cargando imagen y máscara de: /home/anna/TFM/Radiomica/Segmentacion/Segmentacion_resultados/539259-171201-01-00300481\n",
      "Extraídas 102 características del canal R\n",
      "Extraídas 102 características del canal G\n",
      "Extraídas 102 características del canal B\n",
      "\n",
      "Procesando 264: 18852-z2021-16032021-300481-2\n",
      "Cargando imagen y máscara de: /home/anna/TFM/Radiomica/Segmentacion/Segmentacion_resultados/18852-z2021-16032021-300481-2\n",
      "Extraídas 102 características del canal R\n",
      "Extraídas 102 características del canal G\n",
      "Extraídas 102 características del canal B\n",
      "\n",
      "Procesando 265: 292820_300481_5-10-2021_DSC_0978\n",
      "Cargando imagen y máscara de: /home/anna/TFM/Radiomica/Segmentacion/Segmentacion_resultados/292820_300481_5-10-2021_DSC_0978\n"
     ]
    },
    {
     "name": "stderr",
     "output_type": "stream",
     "text": [
      "GLCM is symmetrical, therefore Sum Average = 2 * Joint Average, only 1 needs to be calculated\n",
      "GLCM is symmetrical, therefore Sum Average = 2 * Joint Average, only 1 needs to be calculated\n",
      "GLCM is symmetrical, therefore Sum Average = 2 * Joint Average, only 1 needs to be calculated\n",
      "GLCM is symmetrical, therefore Sum Average = 2 * Joint Average, only 1 needs to be calculated\n",
      "GLCM is symmetrical, therefore Sum Average = 2 * Joint Average, only 1 needs to be calculated\n",
      "GLCM is symmetrical, therefore Sum Average = 2 * Joint Average, only 1 needs to be calculated\n",
      "GLCM is symmetrical, therefore Sum Average = 2 * Joint Average, only 1 needs to be calculated\n",
      "GLCM is symmetrical, therefore Sum Average = 2 * Joint Average, only 1 needs to be calculated\n",
      "GLCM is symmetrical, therefore Sum Average = 2 * Joint Average, only 1 needs to be calculated\n",
      "GLCM is symmetrical, therefore Sum Average = 2 * Joint Average, only 1 needs to be calculated\n"
     ]
    },
    {
     "name": "stdout",
     "output_type": "stream",
     "text": [
      "Extraídas 102 características del canal R\n",
      "Extraídas 102 características del canal G\n",
      "Extraídas 102 características del canal B\n",
      "\n",
      "Procesando 266: 826526-130309-300481-02\n",
      "Cargando imagen y máscara de: /home/anna/TFM/Radiomica/Segmentacion/Segmentacion_resultados/826526-130309-300481-02\n",
      "Extraídas 102 características del canal R\n",
      "Extraídas 102 características del canal G\n",
      "Extraídas 102 características del canal B\n",
      "\n",
      "Procesando 267: 172817-150611-300481-01\n",
      "Cargando imagen y máscara de: /home/anna/TFM/Radiomica/Segmentacion/Segmentacion_resultados/172817-150611-300481-01\n",
      "Extraídas 102 características del canal R\n",
      "Extraídas 102 características del canal G\n",
      "Extraídas 102 características del canal B\n",
      "\n",
      "Procesando 268: 143392-271210-300481-2\n",
      "Cargando imagen y máscara de: /home/anna/TFM/Radiomica/Segmentacion/Segmentacion_resultados/143392-271210-300481-2\n"
     ]
    },
    {
     "name": "stderr",
     "output_type": "stream",
     "text": [
      "GLCM is symmetrical, therefore Sum Average = 2 * Joint Average, only 1 needs to be calculated\n",
      "GLCM is symmetrical, therefore Sum Average = 2 * Joint Average, only 1 needs to be calculated\n",
      "GLCM is symmetrical, therefore Sum Average = 2 * Joint Average, only 1 needs to be calculated\n",
      "GLCM is symmetrical, therefore Sum Average = 2 * Joint Average, only 1 needs to be calculated\n",
      "GLCM is symmetrical, therefore Sum Average = 2 * Joint Average, only 1 needs to be calculated\n",
      "GLCM is symmetrical, therefore Sum Average = 2 * Joint Average, only 1 needs to be calculated\n",
      "GLCM is symmetrical, therefore Sum Average = 2 * Joint Average, only 1 needs to be calculated\n",
      "GLCM is symmetrical, therefore Sum Average = 2 * Joint Average, only 1 needs to be calculated\n",
      "GLCM is symmetrical, therefore Sum Average = 2 * Joint Average, only 1 needs to be calculated\n"
     ]
    },
    {
     "name": "stdout",
     "output_type": "stream",
     "text": [
      "Extraídas 102 características del canal R\n",
      "Extraídas 102 características del canal G\n",
      "Extraídas 102 características del canal B\n",
      "\n",
      "Procesando 269: 881729-180810-300481-02\n",
      "Cargando imagen y máscara de: /home/anna/TFM/Radiomica/Segmentacion/Segmentacion_resultados/881729-180810-300481-02\n",
      "Extraídas 102 características del canal R\n",
      "Extraídas 102 características del canal G\n",
      "Extraídas 102 características del canal B\n",
      "\n",
      "Procesando 270: 502928_300481_26-1-2021_DSC_0084\n",
      "Cargando imagen y máscara de: /home/anna/TFM/Radiomica/Segmentacion/Segmentacion_resultados/502928_300481_26-1-2021_DSC_0084\n",
      "Extraídas 102 características del canal R\n",
      "Extraídas 102 características del canal G\n",
      "Extraídas 102 características del canal B\n",
      "\n",
      "Procesando 271: 1359292_300481_12-1-2021_IMG_0972\n",
      "Cargando imagen y máscara de: /home/anna/TFM/Radiomica/Segmentacion/Segmentacion_resultados/1359292_300481_12-1-2021_IMG_0972\n"
     ]
    },
    {
     "name": "stderr",
     "output_type": "stream",
     "text": [
      "GLCM is symmetrical, therefore Sum Average = 2 * Joint Average, only 1 needs to be calculated\n",
      "GLCM is symmetrical, therefore Sum Average = 2 * Joint Average, only 1 needs to be calculated\n",
      "GLCM is symmetrical, therefore Sum Average = 2 * Joint Average, only 1 needs to be calculated\n",
      "GLCM is symmetrical, therefore Sum Average = 2 * Joint Average, only 1 needs to be calculated\n",
      "GLCM is symmetrical, therefore Sum Average = 2 * Joint Average, only 1 needs to be calculated\n",
      "GLCM is symmetrical, therefore Sum Average = 2 * Joint Average, only 1 needs to be calculated\n",
      "GLCM is symmetrical, therefore Sum Average = 2 * Joint Average, only 1 needs to be calculated\n",
      "GLCM is symmetrical, therefore Sum Average = 2 * Joint Average, only 1 needs to be calculated\n"
     ]
    },
    {
     "name": "stdout",
     "output_type": "stream",
     "text": [
      "Extraídas 102 características del canal R\n",
      "Extraídas 102 características del canal G\n",
      "Extraídas 102 características del canal B\n",
      "\n",
      "Procesando 272: 708819-270106-01-300501\n",
      "Cargando imagen y máscara de: /home/anna/TFM/Radiomica/Segmentacion/Segmentacion_resultados/708819-270106-01-300501\n",
      "Extraídas 102 características del canal R\n",
      "Extraídas 102 características del canal G\n",
      "Extraídas 102 características del canal B\n",
      "\n",
      "Procesando 273: 300257_300481_1-12-2020_DSC_0104\n",
      "Cargando imagen y máscara de: /home/anna/TFM/Radiomica/Segmentacion/Segmentacion_resultados/300257_300481_1-12-2020_DSC_0104\n",
      "Extraídas 102 características del canal R\n",
      "Extraídas 102 características del canal G\n",
      "Extraídas 102 características del canal B\n"
     ]
    },
    {
     "name": "stderr",
     "output_type": "stream",
     "text": [
      "GLCM is symmetrical, therefore Sum Average = 2 * Joint Average, only 1 needs to be calculated\n",
      "GLCM is symmetrical, therefore Sum Average = 2 * Joint Average, only 1 needs to be calculated\n",
      "GLCM is symmetrical, therefore Sum Average = 2 * Joint Average, only 1 needs to be calculated\n",
      "GLCM is symmetrical, therefore Sum Average = 2 * Joint Average, only 1 needs to be calculated\n",
      "GLCM is symmetrical, therefore Sum Average = 2 * Joint Average, only 1 needs to be calculated\n",
      "GLCM is symmetrical, therefore Sum Average = 2 * Joint Average, only 1 needs to be calculated\n",
      "GLCM is symmetrical, therefore Sum Average = 2 * Joint Average, only 1 needs to be calculated\n",
      "GLCM is symmetrical, therefore Sum Average = 2 * Joint Average, only 1 needs to be calculated\n"
     ]
    },
    {
     "name": "stdout",
     "output_type": "stream",
     "text": [
      "\n",
      "Procesando 274: 255168_300481_8-7-2022_DSC_0184\n",
      "Cargando imagen y máscara de: /home/anna/TFM/Radiomica/Segmentacion/Segmentacion_resultados/255168_300481_8-7-2022_DSC_0184\n",
      "Extraídas 102 características del canal R\n",
      "Extraídas 102 características del canal G\n",
      "Extraídas 102 características del canal B\n",
      "\n",
      "Procesando 275: 175394-010212-300481\n",
      "Cargando imagen y máscara de: /home/anna/TFM/Radiomica/Segmentacion/Segmentacion_resultados/175394-010212-300481\n",
      "Extraídas 102 características del canal R\n",
      "Extraídas 102 características del canal G\n",
      "Extraídas 102 características del canal B\n",
      "\n",
      "Procesando 276: 280561-130707-01-tumoración\n",
      "Cargando imagen y máscara de: /home/anna/TFM/Radiomica/Segmentacion/Segmentacion_resultados/280561-130707-01-tumoración\n",
      "Extraídas 102 características del canal R\n"
     ]
    },
    {
     "name": "stderr",
     "output_type": "stream",
     "text": [
      "GLCM is symmetrical, therefore Sum Average = 2 * Joint Average, only 1 needs to be calculated\n",
      "GLCM is symmetrical, therefore Sum Average = 2 * Joint Average, only 1 needs to be calculated\n",
      "GLCM is symmetrical, therefore Sum Average = 2 * Joint Average, only 1 needs to be calculated\n",
      "GLCM is symmetrical, therefore Sum Average = 2 * Joint Average, only 1 needs to be calculated\n",
      "GLCM is symmetrical, therefore Sum Average = 2 * Joint Average, only 1 needs to be calculated\n",
      "GLCM is symmetrical, therefore Sum Average = 2 * Joint Average, only 1 needs to be calculated\n",
      "GLCM is symmetrical, therefore Sum Average = 2 * Joint Average, only 1 needs to be calculated\n",
      "GLCM is symmetrical, therefore Sum Average = 2 * Joint Average, only 1 needs to be calculated\n",
      "GLCM is symmetrical, therefore Sum Average = 2 * Joint Average, only 1 needs to be calculated\n"
     ]
    },
    {
     "name": "stdout",
     "output_type": "stream",
     "text": [
      "Extraídas 102 características del canal G\n",
      "Extraídas 102 características del canal B\n",
      "\n",
      "Procesando 277: 62173-110613-300481-03\n",
      "Cargando imagen y máscara de: /home/anna/TFM/Radiomica/Segmentacion/Segmentacion_resultados/62173-110613-300481-03\n",
      "Extraídas 102 características del canal R\n",
      "Extraídas 102 características del canal G\n",
      "Extraídas 102 características del canal B\n",
      "\n",
      "Procesando 278: 19664_300481_17-11-2020_DSC_0232\n",
      "Cargando imagen y máscara de: /home/anna/TFM/Radiomica/Segmentacion/Segmentacion_resultados/19664_300481_17-11-2020_DSC_0232\n",
      "Extraídas 102 características del canal R\n",
      "Extraídas 102 características del canal G\n",
      "Extraídas 102 características del canal B\n",
      "\n",
      "Procesando 279: 192356_300481_16-3-2021_IMG_1393\n",
      "Cargando imagen y máscara de: /home/anna/TFM/Radiomica/Segmentacion/Segmentacion_resultados/192356_300481_16-3-2021_IMG_1393\n",
      "Extraídas 102 características del canal R\n",
      "Extraídas 102 características del canal G\n"
     ]
    },
    {
     "name": "stderr",
     "output_type": "stream",
     "text": [
      "GLCM is symmetrical, therefore Sum Average = 2 * Joint Average, only 1 needs to be calculated\n",
      "GLCM is symmetrical, therefore Sum Average = 2 * Joint Average, only 1 needs to be calculated\n",
      "GLCM is symmetrical, therefore Sum Average = 2 * Joint Average, only 1 needs to be calculated\n",
      "GLCM is symmetrical, therefore Sum Average = 2 * Joint Average, only 1 needs to be calculated\n",
      "GLCM is symmetrical, therefore Sum Average = 2 * Joint Average, only 1 needs to be calculated\n",
      "GLCM is symmetrical, therefore Sum Average = 2 * Joint Average, only 1 needs to be calculated\n",
      "GLCM is symmetrical, therefore Sum Average = 2 * Joint Average, only 1 needs to be calculated\n",
      "GLCM is symmetrical, therefore Sum Average = 2 * Joint Average, only 1 needs to be calculated\n",
      "GLCM is symmetrical, therefore Sum Average = 2 * Joint Average, only 1 needs to be calculated\n",
      "GLCM is symmetrical, therefore Sum Average = 2 * Joint Average, only 1 needs to be calculated\n",
      "GLCM is symmetrical, therefore Sum Average = 2 * Joint Average, only 1 needs to be calculated\n"
     ]
    },
    {
     "name": "stdout",
     "output_type": "stream",
     "text": [
      "Extraídas 102 características del canal B\n",
      "\n",
      "Procesando 280: 133945-10122013-300481 (7)\n",
      "Cargando imagen y máscara de: /home/anna/TFM/Radiomica/Segmentacion/Segmentacion_resultados/133945-10122013-300481 (7)\n",
      "Extraídas 102 características del canal R\n",
      "Extraídas 102 características del canal G\n",
      "Extraídas 102 características del canal B\n",
      "\n",
      "Procesando 281: 191899-300112-300481- (1)\n",
      "Cargando imagen y máscara de: /home/anna/TFM/Radiomica/Segmentacion/Segmentacion_resultados/191899-300112-300481- (1)\n",
      "Extraídas 102 características del canal R\n",
      "Extraídas 102 características del canal G\n",
      "Extraídas 102 características del canal B\n",
      "\n",
      "Procesando 282: 706012-010311-300481-2\n",
      "Cargando imagen y máscara de: /home/anna/TFM/Radiomica/Segmentacion/Segmentacion_resultados/706012-010311-300481-2\n",
      "Extraídas 102 características del canal R\n",
      "Extraídas 102 características del canal G\n",
      "Extraídas 102 características del canal B\n",
      "\n",
      "Procesando 283: 285399-161208-300481-01\n",
      "Cargando imagen y máscara de: /home/anna/TFM/Radiomica/Segmentacion/Segmentacion_resultados/285399-161208-300481-01\n"
     ]
    },
    {
     "name": "stderr",
     "output_type": "stream",
     "text": [
      "GLCM is symmetrical, therefore Sum Average = 2 * Joint Average, only 1 needs to be calculated\n",
      "GLCM is symmetrical, therefore Sum Average = 2 * Joint Average, only 1 needs to be calculated\n",
      "GLCM is symmetrical, therefore Sum Average = 2 * Joint Average, only 1 needs to be calculated\n",
      "GLCM is symmetrical, therefore Sum Average = 2 * Joint Average, only 1 needs to be calculated\n",
      "GLCM is symmetrical, therefore Sum Average = 2 * Joint Average, only 1 needs to be calculated\n",
      "GLCM is symmetrical, therefore Sum Average = 2 * Joint Average, only 1 needs to be calculated\n",
      "GLCM is symmetrical, therefore Sum Average = 2 * Joint Average, only 1 needs to be calculated\n",
      "GLCM is symmetrical, therefore Sum Average = 2 * Joint Average, only 1 needs to be calculated\n"
     ]
    },
    {
     "name": "stdout",
     "output_type": "stream",
     "text": [
      "Extraídas 102 características del canal R\n",
      "Extraídas 102 características del canal G\n",
      "Extraídas 102 características del canal B\n",
      "\n",
      "Procesando 284: 88699-280502-05-00900002\n",
      "Cargando imagen y máscara de: /home/anna/TFM/Radiomica/Segmentacion/Segmentacion_resultados/88699-280502-05-00900002\n",
      "Extraídas 102 características del canal R\n",
      "Extraídas 102 características del canal G\n",
      "Extraídas 102 características del canal B\n",
      "\n",
      "Procesando 285: 197581_300481_24-5-2022_P1012072\n",
      "Cargando imagen y máscara de: /home/anna/TFM/Radiomica/Segmentacion/Segmentacion_resultados/197581_300481_24-5-2022_P1012072\n",
      "Extraídas 102 características del canal R\n",
      "Extraídas 102 características del canal G\n",
      "Extraídas 102 características del canal B\n",
      "\n",
      "Procesando 286: 20056-z2023-300481-22062023-1\n",
      "Cargando imagen y máscara de: /home/anna/TFM/Radiomica/Segmentacion/Segmentacion_resultados/20056-z2023-300481-22062023-1\n"
     ]
    },
    {
     "name": "stderr",
     "output_type": "stream",
     "text": [
      "GLCM is symmetrical, therefore Sum Average = 2 * Joint Average, only 1 needs to be calculated\n",
      "GLCM is symmetrical, therefore Sum Average = 2 * Joint Average, only 1 needs to be calculated\n",
      "GLCM is symmetrical, therefore Sum Average = 2 * Joint Average, only 1 needs to be calculated\n",
      "GLCM is symmetrical, therefore Sum Average = 2 * Joint Average, only 1 needs to be calculated\n",
      "GLCM is symmetrical, therefore Sum Average = 2 * Joint Average, only 1 needs to be calculated\n",
      "GLCM is symmetrical, therefore Sum Average = 2 * Joint Average, only 1 needs to be calculated\n",
      "GLCM is symmetrical, therefore Sum Average = 2 * Joint Average, only 1 needs to be calculated\n",
      "GLCM is symmetrical, therefore Sum Average = 2 * Joint Average, only 1 needs to be calculated\n",
      "GLCM is symmetrical, therefore Sum Average = 2 * Joint Average, only 1 needs to be calculated\n",
      "GLCM is symmetrical, therefore Sum Average = 2 * Joint Average, only 1 needs to be calculated\n",
      "GLCM is symmetrical, therefore Sum Average = 2 * Joint Average, only 1 needs to be calculated\n",
      "GLCM is symmetrical, therefore Sum Average = 2 * Joint Average, only 1 needs to be calculated\n"
     ]
    },
    {
     "name": "stdout",
     "output_type": "stream",
     "text": [
      "Extraídas 102 características del canal R\n",
      "Extraídas 102 características del canal G\n",
      "Extraídas 102 características del canal B\n",
      "\n",
      "Procesando 287: 822790-060208-300481-01\n",
      "Cargando imagen y máscara de: /home/anna/TFM/Radiomica/Segmentacion/Segmentacion_resultados/822790-060208-300481-01\n",
      "Extraídas 102 características del canal R\n",
      "Extraídas 102 características del canal G\n",
      "Extraídas 102 características del canal B\n",
      "\n",
      "Procesando 288: 26719_110515_300481 (3)\n",
      "Cargando imagen y máscara de: /home/anna/TFM/Radiomica/Segmentacion/Segmentacion_resultados/26719_110515_300481 (3)\n",
      "Extraídas 102 características del canal R\n",
      "Extraídas 102 características del canal G\n",
      "Extraídas 102 características del canal B\n",
      "\n",
      "Procesando 289: 628630-250901-02-00300481\n",
      "Cargando imagen y máscara de: /home/anna/TFM/Radiomica/Segmentacion/Segmentacion_resultados/628630-250901-02-00300481\n",
      "Extraídas 102 características del canal R\n",
      "Extraídas 102 características del canal G\n"
     ]
    },
    {
     "name": "stderr",
     "output_type": "stream",
     "text": [
      "GLCM is symmetrical, therefore Sum Average = 2 * Joint Average, only 1 needs to be calculated\n",
      "GLCM is symmetrical, therefore Sum Average = 2 * Joint Average, only 1 needs to be calculated\n",
      "GLCM is symmetrical, therefore Sum Average = 2 * Joint Average, only 1 needs to be calculated\n",
      "GLCM is symmetrical, therefore Sum Average = 2 * Joint Average, only 1 needs to be calculated\n",
      "GLCM is symmetrical, therefore Sum Average = 2 * Joint Average, only 1 needs to be calculated\n",
      "GLCM is symmetrical, therefore Sum Average = 2 * Joint Average, only 1 needs to be calculated\n",
      "GLCM is symmetrical, therefore Sum Average = 2 * Joint Average, only 1 needs to be calculated\n",
      "GLCM is symmetrical, therefore Sum Average = 2 * Joint Average, only 1 needs to be calculated\n",
      "GLCM is symmetrical, therefore Sum Average = 2 * Joint Average, only 1 needs to be calculated\n"
     ]
    },
    {
     "name": "stdout",
     "output_type": "stream",
     "text": [
      "Extraídas 102 características del canal B\n",
      "\n",
      "Procesando 290: 118778_300481_5-6-2019_DSC_0446\n",
      "Cargando imagen y máscara de: /home/anna/TFM/Radiomica/Segmentacion/Segmentacion_resultados/118778_300481_5-6-2019_DSC_0446\n",
      "Extraídas 102 características del canal R\n",
      "Extraídas 102 características del canal G\n",
      "Extraídas 102 características del canal B\n",
      "\n",
      "Procesando 291: 627127-210901-02-00300481\n",
      "Cargando imagen y máscara de: /home/anna/TFM/Radiomica/Segmentacion/Segmentacion_resultados/627127-210901-02-00300481\n",
      "Extraídas 102 características del canal R\n",
      "Extraídas 102 características del canal G\n",
      "Extraídas 102 características del canal B\n",
      "\n",
      "Procesando 292: 723014_300481_11-9-2018_P1013994\n",
      "Cargando imagen y máscara de: /home/anna/TFM/Radiomica/Segmentacion/Segmentacion_resultados/723014_300481_11-9-2018_P1013994\n",
      "Extraídas 102 características del canal R\n",
      "Extraídas 102 características del canal G\n",
      "Extraídas 102 características del canal B\n",
      "\n",
      "Procesando 293: 39555-161208-300481-01\n",
      "Cargando imagen y máscara de: /home/anna/TFM/Radiomica/Segmentacion/Segmentacion_resultados/39555-161208-300481-01\n"
     ]
    },
    {
     "name": "stderr",
     "output_type": "stream",
     "text": [
      "GLCM is symmetrical, therefore Sum Average = 2 * Joint Average, only 1 needs to be calculated\n",
      "GLCM is symmetrical, therefore Sum Average = 2 * Joint Average, only 1 needs to be calculated\n",
      "GLCM is symmetrical, therefore Sum Average = 2 * Joint Average, only 1 needs to be calculated\n",
      "GLCM is symmetrical, therefore Sum Average = 2 * Joint Average, only 1 needs to be calculated\n",
      "GLCM is symmetrical, therefore Sum Average = 2 * Joint Average, only 1 needs to be calculated\n",
      "GLCM is symmetrical, therefore Sum Average = 2 * Joint Average, only 1 needs to be calculated\n",
      "GLCM is symmetrical, therefore Sum Average = 2 * Joint Average, only 1 needs to be calculated\n",
      "GLCM is symmetrical, therefore Sum Average = 2 * Joint Average, only 1 needs to be calculated\n",
      "GLCM is symmetrical, therefore Sum Average = 2 * Joint Average, only 1 needs to be calculated\n",
      "GLCM is symmetrical, therefore Sum Average = 2 * Joint Average, only 1 needs to be calculated\n",
      "GLCM is symmetrical, therefore Sum Average = 2 * Joint Average, only 1 needs to be calculated\n"
     ]
    },
    {
     "name": "stdout",
     "output_type": "stream",
     "text": [
      "Extraídas 102 características del canal R\n",
      "Extraídas 102 características del canal G\n",
      "Extraídas 102 características del canal B\n",
      "\n",
      "Procesando 294: 1392318_300481_8-11-2021_DSC_1007\n",
      "Cargando imagen y máscara de: /home/anna/TFM/Radiomica/Segmentacion/Segmentacion_resultados/1392318_300481_8-11-2021_DSC_1007\n",
      "Extraídas 102 características del canal R\n",
      "Extraídas 102 características del canal G\n",
      "Extraídas 102 características del canal B\n",
      "\n",
      "Procesando 295: 558057-200701-01-00300481\n",
      "Cargando imagen y máscara de: /home/anna/TFM/Radiomica/Segmentacion/Segmentacion_resultados/558057-200701-01-00300481\n",
      "Extraídas 102 características del canal R\n",
      "Extraídas 102 características del canal G\n",
      "Extraídas 102 características del canal B\n",
      "\n",
      "Procesando 296: 1020723_300481_29-1-2024_DSC_0086\n",
      "Cargando imagen y máscara de: /home/anna/TFM/Radiomica/Segmentacion/Segmentacion_resultados/1020723_300481_29-1-2024_DSC_0086\n",
      "Extraídas 102 características del canal R\n"
     ]
    },
    {
     "name": "stderr",
     "output_type": "stream",
     "text": [
      "GLCM is symmetrical, therefore Sum Average = 2 * Joint Average, only 1 needs to be calculated\n",
      "GLCM is symmetrical, therefore Sum Average = 2 * Joint Average, only 1 needs to be calculated\n",
      "GLCM is symmetrical, therefore Sum Average = 2 * Joint Average, only 1 needs to be calculated\n",
      "GLCM is symmetrical, therefore Sum Average = 2 * Joint Average, only 1 needs to be calculated\n",
      "GLCM is symmetrical, therefore Sum Average = 2 * Joint Average, only 1 needs to be calculated\n",
      "GLCM is symmetrical, therefore Sum Average = 2 * Joint Average, only 1 needs to be calculated\n",
      "GLCM is symmetrical, therefore Sum Average = 2 * Joint Average, only 1 needs to be calculated\n",
      "GLCM is symmetrical, therefore Sum Average = 2 * Joint Average, only 1 needs to be calculated\n",
      "GLCM is symmetrical, therefore Sum Average = 2 * Joint Average, only 1 needs to be calculated\n",
      "GLCM is symmetrical, therefore Sum Average = 2 * Joint Average, only 1 needs to be calculated\n"
     ]
    },
    {
     "name": "stdout",
     "output_type": "stream",
     "text": [
      "Extraídas 102 características del canal G\n",
      "Extraídas 102 características del canal B\n",
      "\n",
      "Procesando 297: 1020723_300481_29-1-2024_DSC_0087\n",
      "Cargando imagen y máscara de: /home/anna/TFM/Radiomica/Segmentacion/Segmentacion_resultados/1020723_300481_29-1-2024_DSC_0087\n",
      "Extraídas 102 características del canal R\n",
      "Extraídas 102 características del canal G\n",
      "Extraídas 102 características del canal B\n",
      "\n",
      "Procesando 298: 1020723_300481_2-2-2024_DSC_0123\n",
      "Cargando imagen y máscara de: /home/anna/TFM/Radiomica/Segmentacion/Segmentacion_resultados/1020723_300481_2-2-2024_DSC_0123\n",
      "Extraídas 102 características del canal R\n",
      "Extraídas 102 características del canal G\n",
      "Extraídas 102 características del canal B\n",
      "\n",
      "Procesando 299: 853972-270208-300481-06\n",
      "Cargando imagen y máscara de: /home/anna/TFM/Radiomica/Segmentacion/Segmentacion_resultados/853972-270208-300481-06\n",
      "Extraídas 102 características del canal R\n",
      "Extraídas 102 características del canal G\n",
      "Extraídas 102 características del canal B\n",
      "\n",
      "Procesando 300: 120019-161107-300481-01\n",
      "Cargando imagen y máscara de: /home/anna/TFM/Radiomica/Segmentacion/Segmentacion_resultados/120019-161107-300481-01\n"
     ]
    },
    {
     "name": "stderr",
     "output_type": "stream",
     "text": [
      "GLCM is symmetrical, therefore Sum Average = 2 * Joint Average, only 1 needs to be calculated\n",
      "GLCM is symmetrical, therefore Sum Average = 2 * Joint Average, only 1 needs to be calculated\n",
      "GLCM is symmetrical, therefore Sum Average = 2 * Joint Average, only 1 needs to be calculated\n",
      "GLCM is symmetrical, therefore Sum Average = 2 * Joint Average, only 1 needs to be calculated\n",
      "GLCM is symmetrical, therefore Sum Average = 2 * Joint Average, only 1 needs to be calculated\n",
      "GLCM is symmetrical, therefore Sum Average = 2 * Joint Average, only 1 needs to be calculated\n",
      "GLCM is symmetrical, therefore Sum Average = 2 * Joint Average, only 1 needs to be calculated\n",
      "GLCM is symmetrical, therefore Sum Average = 2 * Joint Average, only 1 needs to be calculated\n",
      "GLCM is symmetrical, therefore Sum Average = 2 * Joint Average, only 1 needs to be calculated\n"
     ]
    },
    {
     "name": "stdout",
     "output_type": "stream",
     "text": [
      "Extraídas 102 características del canal R\n",
      "Extraídas 102 características del canal G\n",
      "Extraídas 102 características del canal B\n",
      "\n",
      "Procesando 301: 135694_300481_28-10-2020_IMG_0447\n",
      "Cargando imagen y máscara de: /home/anna/TFM/Radiomica/Segmentacion/Segmentacion_resultados/135694_300481_28-10-2020_IMG_0447\n",
      "Extraídas 102 características del canal R\n",
      "Extraídas 102 características del canal G\n",
      "Extraídas 102 características del canal B\n",
      "\n",
      "Procesando 302: 1136851_300481_28-10-2020_IMG_0506\n",
      "Cargando imagen y máscara de: /home/anna/TFM/Radiomica/Segmentacion/Segmentacion_resultados/1136851_300481_28-10-2020_IMG_0506\n",
      "Extraídas 102 características del canal R\n",
      "Extraídas 102 características del canal G\n",
      "Extraídas 102 características del canal B\n",
      "\n",
      "Procesando 303: 146005-050613-300481 (2)\n",
      "Cargando imagen y máscara de: /home/anna/TFM/Radiomica/Segmentacion/Segmentacion_resultados/146005-050613-300481 (2)\n"
     ]
    },
    {
     "name": "stderr",
     "output_type": "stream",
     "text": [
      "GLCM is symmetrical, therefore Sum Average = 2 * Joint Average, only 1 needs to be calculated\n",
      "GLCM is symmetrical, therefore Sum Average = 2 * Joint Average, only 1 needs to be calculated\n",
      "GLCM is symmetrical, therefore Sum Average = 2 * Joint Average, only 1 needs to be calculated\n",
      "GLCM is symmetrical, therefore Sum Average = 2 * Joint Average, only 1 needs to be calculated\n",
      "GLCM is symmetrical, therefore Sum Average = 2 * Joint Average, only 1 needs to be calculated\n",
      "GLCM is symmetrical, therefore Sum Average = 2 * Joint Average, only 1 needs to be calculated\n",
      "GLCM is symmetrical, therefore Sum Average = 2 * Joint Average, only 1 needs to be calculated\n",
      "GLCM is symmetrical, therefore Sum Average = 2 * Joint Average, only 1 needs to be calculated\n",
      "GLCM is symmetrical, therefore Sum Average = 2 * Joint Average, only 1 needs to be calculated\n"
     ]
    },
    {
     "name": "stdout",
     "output_type": "stream",
     "text": [
      "Extraídas 102 características del canal R\n",
      "Extraídas 102 características del canal G\n",
      "Extraídas 102 características del canal B\n",
      "\n",
      "Procesando 304: 19794-z2023-300481-04042023-1\n",
      "Cargando imagen y máscara de: /home/anna/TFM/Radiomica/Segmentacion/Segmentacion_resultados/19794-z2023-300481-04042023-1\n",
      "Extraídas 102 características del canal R\n",
      "Extraídas 102 características del canal G\n",
      "Extraídas 102 características del canal B\n",
      "\n",
      "Procesando 305: 968016_300481_26-7-2022_DSC_0294\n",
      "Cargando imagen y máscara de: /home/anna/TFM/Radiomica/Segmentacion/Segmentacion_resultados/968016_300481_26-7-2022_DSC_0294\n",
      "Extraídas 102 características del canal R\n",
      "Extraídas 102 características del canal G\n",
      "Extraídas 102 características del canal B\n",
      "\n",
      "Procesando 306: 611740-020604-02-00300481\n",
      "Cargando imagen y máscara de: /home/anna/TFM/Radiomica/Segmentacion/Segmentacion_resultados/611740-020604-02-00300481\n"
     ]
    },
    {
     "name": "stderr",
     "output_type": "stream",
     "text": [
      "GLCM is symmetrical, therefore Sum Average = 2 * Joint Average, only 1 needs to be calculated\n",
      "GLCM is symmetrical, therefore Sum Average = 2 * Joint Average, only 1 needs to be calculated\n",
      "GLCM is symmetrical, therefore Sum Average = 2 * Joint Average, only 1 needs to be calculated\n",
      "GLCM is symmetrical, therefore Sum Average = 2 * Joint Average, only 1 needs to be calculated\n",
      "GLCM is symmetrical, therefore Sum Average = 2 * Joint Average, only 1 needs to be calculated\n",
      "GLCM is symmetrical, therefore Sum Average = 2 * Joint Average, only 1 needs to be calculated\n",
      "GLCM is symmetrical, therefore Sum Average = 2 * Joint Average, only 1 needs to be calculated\n",
      "GLCM is symmetrical, therefore Sum Average = 2 * Joint Average, only 1 needs to be calculated\n",
      "GLCM is symmetrical, therefore Sum Average = 2 * Joint Average, only 1 needs to be calculated\n"
     ]
    },
    {
     "name": "stdout",
     "output_type": "stream",
     "text": [
      "Extraídas 102 características del canal R\n",
      "Extraídas 102 características del canal G\n",
      "Extraídas 102 características del canal B\n",
      "\n",
      "Procesando 307: 784808_300481_23-3-2021_IMG_1413\n",
      "Cargando imagen y máscara de: /home/anna/TFM/Radiomica/Segmentacion/Segmentacion_resultados/784808_300481_23-3-2021_IMG_1413\n",
      "Extraídas 102 características del canal R\n",
      "Extraídas 102 características del canal G\n",
      "Extraídas 102 características del canal B\n",
      "\n",
      "Procesando 308: 62173-161214-300481 (4)\n",
      "Cargando imagen y máscara de: /home/anna/TFM/Radiomica/Segmentacion/Segmentacion_resultados/62173-161214-300481 (4)\n",
      "Extraídas 102 características del canal R\n",
      "Extraídas 102 características del canal G\n"
     ]
    },
    {
     "name": "stderr",
     "output_type": "stream",
     "text": [
      "GLCM is symmetrical, therefore Sum Average = 2 * Joint Average, only 1 needs to be calculated\n",
      "GLCM is symmetrical, therefore Sum Average = 2 * Joint Average, only 1 needs to be calculated\n",
      "GLCM is symmetrical, therefore Sum Average = 2 * Joint Average, only 1 needs to be calculated\n",
      "GLCM is symmetrical, therefore Sum Average = 2 * Joint Average, only 1 needs to be calculated\n",
      "GLCM is symmetrical, therefore Sum Average = 2 * Joint Average, only 1 needs to be calculated\n",
      "GLCM is symmetrical, therefore Sum Average = 2 * Joint Average, only 1 needs to be calculated\n",
      "GLCM is symmetrical, therefore Sum Average = 2 * Joint Average, only 1 needs to be calculated\n",
      "GLCM is symmetrical, therefore Sum Average = 2 * Joint Average, only 1 needs to be calculated\n"
     ]
    },
    {
     "name": "stdout",
     "output_type": "stream",
     "text": [
      "Extraídas 102 características del canal B\n",
      "\n",
      "Procesando 309: 198953-130707-02-300481\n",
      "Cargando imagen y máscara de: /home/anna/TFM/Radiomica/Segmentacion/Segmentacion_resultados/198953-130707-02-300481\n",
      "Extraídas 102 características del canal R\n",
      "Extraídas 102 características del canal G\n",
      "Extraídas 102 características del canal B\n",
      "\n",
      "Procesando 310: 917595_300481_10-9-Tuesday19a_P1019060\n",
      "Cargando imagen y máscara de: /home/anna/TFM/Radiomica/Segmentacion/Segmentacion_resultados/917595_300481_10-9-Tuesday19a_P1019060\n",
      "Extraídas 102 características del canal R\n",
      "Extraídas 102 características del canal G\n",
      "Extraídas 102 características del canal B\n",
      "\n",
      "Procesando 311: 18864-z2021-30032021-300481-1\n",
      "Cargando imagen y máscara de: /home/anna/TFM/Radiomica/Segmentacion/Segmentacion_resultados/18864-z2021-30032021-300481-1\n",
      "Extraídas 102 características del canal R\n",
      "Extraídas 102 características del canal G\n"
     ]
    },
    {
     "name": "stderr",
     "output_type": "stream",
     "text": [
      "GLCM is symmetrical, therefore Sum Average = 2 * Joint Average, only 1 needs to be calculated\n",
      "GLCM is symmetrical, therefore Sum Average = 2 * Joint Average, only 1 needs to be calculated\n",
      "GLCM is symmetrical, therefore Sum Average = 2 * Joint Average, only 1 needs to be calculated\n",
      "GLCM is symmetrical, therefore Sum Average = 2 * Joint Average, only 1 needs to be calculated\n",
      "GLCM is symmetrical, therefore Sum Average = 2 * Joint Average, only 1 needs to be calculated\n",
      "GLCM is symmetrical, therefore Sum Average = 2 * Joint Average, only 1 needs to be calculated\n",
      "GLCM is symmetrical, therefore Sum Average = 2 * Joint Average, only 1 needs to be calculated\n",
      "GLCM is symmetrical, therefore Sum Average = 2 * Joint Average, only 1 needs to be calculated\n",
      "GLCM is symmetrical, therefore Sum Average = 2 * Joint Average, only 1 needs to be calculated\n"
     ]
    },
    {
     "name": "stdout",
     "output_type": "stream",
     "text": [
      "Extraídas 102 características del canal B\n",
      "\n",
      "Procesando 312: 585116-221210-400095-03\n",
      "Cargando imagen y máscara de: /home/anna/TFM/Radiomica/Segmentacion/Segmentacion_resultados/585116-221210-400095-03\n",
      "Extraídas 102 características del canal R\n",
      "Extraídas 102 características del canal G\n",
      "Extraídas 102 características del canal B\n",
      "\n",
      "Procesando 313: 561272_300481_20-10-2020_DSC_0254\n",
      "Cargando imagen y máscara de: /home/anna/TFM/Radiomica/Segmentacion/Segmentacion_resultados/561272_300481_20-10-2020_DSC_0254\n",
      "Extraídas 102 características del canal R\n",
      "Extraídas 102 características del canal G\n",
      "Extraídas 102 características del canal B\n",
      "\n",
      "Procesando 314: 172817-090312-300481 (3)\n",
      "Cargando imagen y máscara de: /home/anna/TFM/Radiomica/Segmentacion/Segmentacion_resultados/172817-090312-300481 (3)\n",
      "Extraídas 102 características del canal R\n"
     ]
    },
    {
     "name": "stderr",
     "output_type": "stream",
     "text": [
      "GLCM is symmetrical, therefore Sum Average = 2 * Joint Average, only 1 needs to be calculated\n",
      "GLCM is symmetrical, therefore Sum Average = 2 * Joint Average, only 1 needs to be calculated\n",
      "GLCM is symmetrical, therefore Sum Average = 2 * Joint Average, only 1 needs to be calculated\n",
      "GLCM is symmetrical, therefore Sum Average = 2 * Joint Average, only 1 needs to be calculated\n",
      "GLCM is symmetrical, therefore Sum Average = 2 * Joint Average, only 1 needs to be calculated\n",
      "GLCM is symmetrical, therefore Sum Average = 2 * Joint Average, only 1 needs to be calculated\n",
      "GLCM is symmetrical, therefore Sum Average = 2 * Joint Average, only 1 needs to be calculated\n",
      "GLCM is symmetrical, therefore Sum Average = 2 * Joint Average, only 1 needs to be calculated\n",
      "GLCM is symmetrical, therefore Sum Average = 2 * Joint Average, only 1 needs to be calculated\n"
     ]
    },
    {
     "name": "stdout",
     "output_type": "stream",
     "text": [
      "Extraídas 102 características del canal G\n",
      "Extraídas 102 características del canal B\n",
      "\n",
      "Procesando 315: 779138-300410-300481-01\n",
      "Cargando imagen y máscara de: /home/anna/TFM/Radiomica/Segmentacion/Segmentacion_resultados/779138-300410-300481-01\n",
      "Extraídas 102 características del canal R\n",
      "Extraídas 102 características del canal G\n",
      "Extraídas 102 características del canal B\n",
      "\n",
      "Procesando 316: 935656_300427_7-5-2018_DSC_0407\n",
      "Cargando imagen y máscara de: /home/anna/TFM/Radiomica/Segmentacion/Segmentacion_resultados/935656_300427_7-5-2018_DSC_0407\n",
      "Extraídas 102 características del canal R\n",
      "Extraídas 102 características del canal G\n",
      "Extraídas 102 características del canal B\n",
      "\n",
      "Procesando 317: 166586_300481_28-10-2022_DSC_0418\n",
      "Cargando imagen y máscara de: /home/anna/TFM/Radiomica/Segmentacion/Segmentacion_resultados/166586_300481_28-10-2022_DSC_0418\n",
      "Extraídas 102 características del canal R\n",
      "Extraídas 102 características del canal G\n"
     ]
    },
    {
     "name": "stderr",
     "output_type": "stream",
     "text": [
      "GLCM is symmetrical, therefore Sum Average = 2 * Joint Average, only 1 needs to be calculated\n",
      "GLCM is symmetrical, therefore Sum Average = 2 * Joint Average, only 1 needs to be calculated\n",
      "GLCM is symmetrical, therefore Sum Average = 2 * Joint Average, only 1 needs to be calculated\n",
      "GLCM is symmetrical, therefore Sum Average = 2 * Joint Average, only 1 needs to be calculated\n",
      "GLCM is symmetrical, therefore Sum Average = 2 * Joint Average, only 1 needs to be calculated\n",
      "GLCM is symmetrical, therefore Sum Average = 2 * Joint Average, only 1 needs to be calculated\n",
      "GLCM is symmetrical, therefore Sum Average = 2 * Joint Average, only 1 needs to be calculated\n",
      "GLCM is symmetrical, therefore Sum Average = 2 * Joint Average, only 1 needs to be calculated\n",
      "GLCM is symmetrical, therefore Sum Average = 2 * Joint Average, only 1 needs to be calculated\n",
      "GLCM is symmetrical, therefore Sum Average = 2 * Joint Average, only 1 needs to be calculated\n"
     ]
    },
    {
     "name": "stdout",
     "output_type": "stream",
     "text": [
      "Extraídas 102 características del canal B\n",
      "\n",
      "Procesando 318: 5185-300311-300481-02\n",
      "Cargando imagen y máscara de: /home/anna/TFM/Radiomica/Segmentacion/Segmentacion_resultados/5185-300311-300481-02\n",
      "Extraídas 102 características del canal R\n",
      "Extraídas 102 características del canal G\n",
      "Extraídas 102 características del canal B\n",
      "\n",
      "Procesando 319: 172817-270511-300481-01\n",
      "Cargando imagen y máscara de: /home/anna/TFM/Radiomica/Segmentacion/Segmentacion_resultados/172817-270511-300481-01\n",
      "Extraídas 102 características del canal R\n",
      "Extraídas 102 características del canal G\n",
      "Extraídas 102 características del canal B\n",
      "\n",
      "Procesando 320: 743673-090205-01-300481\n",
      "Cargando imagen y máscara de: /home/anna/TFM/Radiomica/Segmentacion/Segmentacion_resultados/743673-090205-01-300481\n",
      "Extraídas 102 características del canal R\n",
      "Extraídas 102 características del canal G\n",
      "Extraídas 102 características del canal B\n",
      "\n",
      "Procesando 321: 492807_300481_8-6-2020_DSC_0165\n",
      "Cargando imagen y máscara de: /home/anna/TFM/Radiomica/Segmentacion/Segmentacion_resultados/492807_300481_8-6-2020_DSC_0165\n"
     ]
    },
    {
     "name": "stderr",
     "output_type": "stream",
     "text": [
      "GLCM is symmetrical, therefore Sum Average = 2 * Joint Average, only 1 needs to be calculated\n",
      "GLCM is symmetrical, therefore Sum Average = 2 * Joint Average, only 1 needs to be calculated\n",
      "GLCM is symmetrical, therefore Sum Average = 2 * Joint Average, only 1 needs to be calculated\n",
      "GLCM is symmetrical, therefore Sum Average = 2 * Joint Average, only 1 needs to be calculated\n",
      "GLCM is symmetrical, therefore Sum Average = 2 * Joint Average, only 1 needs to be calculated\n",
      "GLCM is symmetrical, therefore Sum Average = 2 * Joint Average, only 1 needs to be calculated\n",
      "GLCM is symmetrical, therefore Sum Average = 2 * Joint Average, only 1 needs to be calculated\n",
      "GLCM is symmetrical, therefore Sum Average = 2 * Joint Average, only 1 needs to be calculated\n",
      "GLCM is symmetrical, therefore Sum Average = 2 * Joint Average, only 1 needs to be calculated\n",
      "GLCM is symmetrical, therefore Sum Average = 2 * Joint Average, only 1 needs to be calculated\n"
     ]
    },
    {
     "name": "stdout",
     "output_type": "stream",
     "text": [
      "Extraídas 102 características del canal R\n",
      "Extraídas 102 características del canal G\n",
      "Extraídas 102 características del canal B\n",
      "\n",
      "Procesando 322: 120019-050607-02-300481\n",
      "Cargando imagen y máscara de: /home/anna/TFM/Radiomica/Segmentacion/Segmentacion_resultados/120019-050607-02-300481\n",
      "Extraídas 102 características del canal R\n",
      "Extraídas 102 características del canal G\n",
      "Extraídas 102 características del canal B\n",
      "\n",
      "Procesando 323: 371963_300481_3-11-2022_P1010237\n",
      "Cargando imagen y máscara de: /home/anna/TFM/Radiomica/Segmentacion/Segmentacion_resultados/371963_300481_3-11-2022_P1010237\n",
      "Extraídas 102 características del canal R\n",
      "Extraídas 102 características del canal G\n",
      "Extraídas 102 características del canal B\n",
      "\n",
      "Procesando 324: 627133-200801-02-00300481\n",
      "Cargando imagen y máscara de: /home/anna/TFM/Radiomica/Segmentacion/Segmentacion_resultados/627133-200801-02-00300481\n"
     ]
    },
    {
     "name": "stderr",
     "output_type": "stream",
     "text": [
      "GLCM is symmetrical, therefore Sum Average = 2 * Joint Average, only 1 needs to be calculated\n",
      "GLCM is symmetrical, therefore Sum Average = 2 * Joint Average, only 1 needs to be calculated\n",
      "GLCM is symmetrical, therefore Sum Average = 2 * Joint Average, only 1 needs to be calculated\n",
      "GLCM is symmetrical, therefore Sum Average = 2 * Joint Average, only 1 needs to be calculated\n",
      "GLCM is symmetrical, therefore Sum Average = 2 * Joint Average, only 1 needs to be calculated\n",
      "GLCM is symmetrical, therefore Sum Average = 2 * Joint Average, only 1 needs to be calculated\n",
      "GLCM is symmetrical, therefore Sum Average = 2 * Joint Average, only 1 needs to be calculated\n",
      "GLCM is symmetrical, therefore Sum Average = 2 * Joint Average, only 1 needs to be calculated\n",
      "GLCM is symmetrical, therefore Sum Average = 2 * Joint Average, only 1 needs to be calculated\n"
     ]
    },
    {
     "name": "stdout",
     "output_type": "stream",
     "text": [
      "Extraídas 102 características del canal R\n",
      "Extraídas 102 características del canal G\n",
      "Extraídas 102 características del canal B\n",
      "\n",
      "Procesando 325: 62173-180510-300481-300501-01\n",
      "Cargando imagen y máscara de: /home/anna/TFM/Radiomica/Segmentacion/Segmentacion_resultados/62173-180510-300481-300501-01\n",
      "Extraídas 102 características del canal R\n",
      "Extraídas 102 características del canal G\n",
      "Extraídas 102 características del canal B\n",
      "\n",
      "Procesando 326: 39555-130109-300481-01\n",
      "Cargando imagen y máscara de: /home/anna/TFM/Radiomica/Segmentacion/Segmentacion_resultados/39555-130109-300481-01\n",
      "Extraídas 102 características del canal R\n",
      "Extraídas 102 características del canal G\n",
      "Extraídas 102 características del canal B\n",
      "\n",
      "Procesando 327: 538309_300481_7-6-2022_P1012160\n",
      "Cargando imagen y máscara de: /home/anna/TFM/Radiomica/Segmentacion/Segmentacion_resultados/538309_300481_7-6-2022_P1012160\n",
      "Extraídas 102 características del canal R\n"
     ]
    },
    {
     "name": "stderr",
     "output_type": "stream",
     "text": [
      "GLCM is symmetrical, therefore Sum Average = 2 * Joint Average, only 1 needs to be calculated\n",
      "GLCM is symmetrical, therefore Sum Average = 2 * Joint Average, only 1 needs to be calculated\n",
      "GLCM is symmetrical, therefore Sum Average = 2 * Joint Average, only 1 needs to be calculated\n",
      "GLCM is symmetrical, therefore Sum Average = 2 * Joint Average, only 1 needs to be calculated\n",
      "GLCM is symmetrical, therefore Sum Average = 2 * Joint Average, only 1 needs to be calculated\n",
      "GLCM is symmetrical, therefore Sum Average = 2 * Joint Average, only 1 needs to be calculated\n",
      "GLCM is symmetrical, therefore Sum Average = 2 * Joint Average, only 1 needs to be calculated\n",
      "GLCM is symmetrical, therefore Sum Average = 2 * Joint Average, only 1 needs to be calculated\n",
      "GLCM is symmetrical, therefore Sum Average = 2 * Joint Average, only 1 needs to be calculated\n",
      "GLCM is symmetrical, therefore Sum Average = 2 * Joint Average, only 1 needs to be calculated\n",
      "GLCM is symmetrical, therefore Sum Average = 2 * Joint Average, only 1 needs to be calculated\n",
      "GLCM is symmetrical, therefore Sum Average = 2 * Joint Average, only 1 needs to be calculated\n"
     ]
    },
    {
     "name": "stdout",
     "output_type": "stream",
     "text": [
      "Extraídas 102 características del canal G\n",
      "Extraídas 102 características del canal B\n",
      "\n",
      "Procesando 328: 424667-300305-01-300481\n",
      "Cargando imagen y máscara de: /home/anna/TFM/Radiomica/Segmentacion/Segmentacion_resultados/424667-300305-01-300481\n",
      "Extraídas 102 características del canal R\n",
      "Extraídas 102 características del canal G\n",
      "Extraídas 102 características del canal B\n",
      "\n",
      "Procesando 329: 57644_300481_19-11-2018_DSC_0169\n",
      "Cargando imagen y máscara de: /home/anna/TFM/Radiomica/Segmentacion/Segmentacion_resultados/57644_300481_19-11-2018_DSC_0169\n",
      "Extraídas 102 características del canal R\n",
      "Extraídas 102 características del canal G\n",
      "Extraídas 102 características del canal B\n",
      "\n",
      "Procesando 330: 791291-260706-01-300481\n",
      "Cargando imagen y máscara de: /home/anna/TFM/Radiomica/Segmentacion/Segmentacion_resultados/791291-260706-01-300481\n",
      "Extraídas 102 características del canal R\n",
      "Extraídas 102 características del canal G\n",
      "Extraídas 102 características del canal B\n",
      "\n",
      "Procesando 331: 821369_300481_30-11-2020_DSC_0078\n",
      "Cargando imagen y máscara de: /home/anna/TFM/Radiomica/Segmentacion/Segmentacion_resultados/821369_300481_30-11-2020_DSC_0078\n"
     ]
    },
    {
     "name": "stderr",
     "output_type": "stream",
     "text": [
      "GLCM is symmetrical, therefore Sum Average = 2 * Joint Average, only 1 needs to be calculated\n",
      "GLCM is symmetrical, therefore Sum Average = 2 * Joint Average, only 1 needs to be calculated\n",
      "GLCM is symmetrical, therefore Sum Average = 2 * Joint Average, only 1 needs to be calculated\n",
      "GLCM is symmetrical, therefore Sum Average = 2 * Joint Average, only 1 needs to be calculated\n",
      "GLCM is symmetrical, therefore Sum Average = 2 * Joint Average, only 1 needs to be calculated\n",
      "GLCM is symmetrical, therefore Sum Average = 2 * Joint Average, only 1 needs to be calculated\n",
      "GLCM is symmetrical, therefore Sum Average = 2 * Joint Average, only 1 needs to be calculated\n",
      "GLCM is symmetrical, therefore Sum Average = 2 * Joint Average, only 1 needs to be calculated\n",
      "GLCM is symmetrical, therefore Sum Average = 2 * Joint Average, only 1 needs to be calculated\n",
      "GLCM is symmetrical, therefore Sum Average = 2 * Joint Average, only 1 needs to be calculated\n"
     ]
    },
    {
     "name": "stdout",
     "output_type": "stream",
     "text": [
      "Extraídas 102 características del canal R\n",
      "Extraídas 102 características del canal G\n",
      "Extraídas 102 características del canal B\n",
      "\n",
      "Procesando 332: 552280_300481_24-11-2020_DSC_0017\n",
      "Cargando imagen y máscara de: /home/anna/TFM/Radiomica/Segmentacion/Segmentacion_resultados/552280_300481_24-11-2020_DSC_0017\n",
      "Extraídas 102 características del canal R\n",
      "Extraídas 102 características del canal G\n",
      "Extraídas 102 características del canal B\n",
      "\n",
      "Procesando 333: 214127-190416-300481 (3)\n",
      "Cargando imagen y máscara de: /home/anna/TFM/Radiomica/Segmentacion/Segmentacion_resultados/214127-190416-300481 (3)\n",
      "Extraídas 102 características del canal R\n",
      "Extraídas 102 características del canal G\n",
      "Extraídas 102 características del canal B\n",
      "\n",
      "Procesando 334: 499843-241109-300481-03\n",
      "Cargando imagen y máscara de: /home/anna/TFM/Radiomica/Segmentacion/Segmentacion_resultados/499843-241109-300481-03\n",
      "Extraídas 102 características del canal R\n"
     ]
    },
    {
     "name": "stderr",
     "output_type": "stream",
     "text": [
      "GLCM is symmetrical, therefore Sum Average = 2 * Joint Average, only 1 needs to be calculated\n",
      "GLCM is symmetrical, therefore Sum Average = 2 * Joint Average, only 1 needs to be calculated\n",
      "GLCM is symmetrical, therefore Sum Average = 2 * Joint Average, only 1 needs to be calculated\n",
      "GLCM is symmetrical, therefore Sum Average = 2 * Joint Average, only 1 needs to be calculated\n",
      "GLCM is symmetrical, therefore Sum Average = 2 * Joint Average, only 1 needs to be calculated\n",
      "GLCM is symmetrical, therefore Sum Average = 2 * Joint Average, only 1 needs to be calculated\n",
      "GLCM is symmetrical, therefore Sum Average = 2 * Joint Average, only 1 needs to be calculated\n",
      "GLCM is symmetrical, therefore Sum Average = 2 * Joint Average, only 1 needs to be calculated\n",
      "GLCM is symmetrical, therefore Sum Average = 2 * Joint Average, only 1 needs to be calculated\n",
      "GLCM is symmetrical, therefore Sum Average = 2 * Joint Average, only 1 needs to be calculated\n"
     ]
    },
    {
     "name": "stdout",
     "output_type": "stream",
     "text": [
      "Extraídas 102 características del canal G\n",
      "Extraídas 102 características del canal B\n",
      "\n",
      "Procesando 335: 12759-z2023-300481-01082023-4\n",
      "Cargando imagen y máscara de: /home/anna/TFM/Radiomica/Segmentacion/Segmentacion_resultados/12759-z2023-300481-01082023-4\n",
      "Extraídas 102 características del canal R\n",
      "Extraídas 102 características del canal G\n",
      "Extraídas 102 características del canal B\n",
      "\n",
      "Procesando 336: 130742_300481_18-10-2022_DSC_0354\n",
      "Cargando imagen y máscara de: /home/anna/TFM/Radiomica/Segmentacion/Segmentacion_resultados/130742_300481_18-10-2022_DSC_0354\n",
      "Extraídas 102 características del canal R\n",
      "Extraídas 102 características del canal G\n",
      "Extraídas 102 características del canal B\n",
      "\n",
      "Procesando 337: 827480-030209-300481-02\n",
      "Cargando imagen y máscara de: /home/anna/TFM/Radiomica/Segmentacion/Segmentacion_resultados/827480-030209-300481-02\n",
      "Extraídas 102 características del canal R\n",
      "Extraídas 102 características del canal G\n"
     ]
    },
    {
     "name": "stderr",
     "output_type": "stream",
     "text": [
      "GLCM is symmetrical, therefore Sum Average = 2 * Joint Average, only 1 needs to be calculated\n",
      "GLCM is symmetrical, therefore Sum Average = 2 * Joint Average, only 1 needs to be calculated\n",
      "GLCM is symmetrical, therefore Sum Average = 2 * Joint Average, only 1 needs to be calculated\n",
      "GLCM is symmetrical, therefore Sum Average = 2 * Joint Average, only 1 needs to be calculated\n",
      "GLCM is symmetrical, therefore Sum Average = 2 * Joint Average, only 1 needs to be calculated\n",
      "GLCM is symmetrical, therefore Sum Average = 2 * Joint Average, only 1 needs to be calculated\n",
      "GLCM is symmetrical, therefore Sum Average = 2 * Joint Average, only 1 needs to be calculated\n",
      "GLCM is symmetrical, therefore Sum Average = 2 * Joint Average, only 1 needs to be calculated\n",
      "GLCM is symmetrical, therefore Sum Average = 2 * Joint Average, only 1 needs to be calculated\n",
      "GLCM is symmetrical, therefore Sum Average = 2 * Joint Average, only 1 needs to be calculated\n",
      "GLCM is symmetrical, therefore Sum Average = 2 * Joint Average, only 1 needs to be calculated\n"
     ]
    },
    {
     "name": "stdout",
     "output_type": "stream",
     "text": [
      "Extraídas 102 características del canal B\n",
      "\n",
      "Procesando 338: 175394-010212-300481 (1)\n",
      "Cargando imagen y máscara de: /home/anna/TFM/Radiomica/Segmentacion/Segmentacion_resultados/175394-010212-300481 (1)\n",
      "Extraídas 102 características del canal R\n",
      "Extraídas 102 características del canal G\n",
      "Extraídas 102 características del canal B\n",
      "\n",
      "Procesando 339: 160918_040215_300481 (1)\n",
      "Cargando imagen y máscara de: /home/anna/TFM/Radiomica/Segmentacion/Segmentacion_resultados/160918_040215_300481 (1)\n",
      "Extraídas 102 características del canal R\n",
      "Extraídas 102 características del canal G\n",
      "Extraídas 102 características del canal B\n",
      "\n",
      "Procesando 340: 942918_300481_13-10-2020_DSC_0170\n",
      "Cargando imagen y máscara de: /home/anna/TFM/Radiomica/Segmentacion/Segmentacion_resultados/942918_300481_13-10-2020_DSC_0170\n",
      "Extraídas 102 características del canal R\n",
      "Extraídas 102 características del canal G\n",
      "Extraídas 102 características del canal B\n",
      "\n",
      "Procesando 341: 20484-z2024-14052024-300481-1\n",
      "Cargando imagen y máscara de: /home/anna/TFM/Radiomica/Segmentacion/Segmentacion_resultados/20484-z2024-14052024-300481-1\n",
      "Extraídas 102 características del canal R\n"
     ]
    },
    {
     "name": "stderr",
     "output_type": "stream",
     "text": [
      "GLCM is symmetrical, therefore Sum Average = 2 * Joint Average, only 1 needs to be calculated\n",
      "GLCM is symmetrical, therefore Sum Average = 2 * Joint Average, only 1 needs to be calculated\n",
      "GLCM is symmetrical, therefore Sum Average = 2 * Joint Average, only 1 needs to be calculated\n",
      "GLCM is symmetrical, therefore Sum Average = 2 * Joint Average, only 1 needs to be calculated\n",
      "GLCM is symmetrical, therefore Sum Average = 2 * Joint Average, only 1 needs to be calculated\n",
      "GLCM is symmetrical, therefore Sum Average = 2 * Joint Average, only 1 needs to be calculated\n",
      "GLCM is symmetrical, therefore Sum Average = 2 * Joint Average, only 1 needs to be calculated\n",
      "GLCM is symmetrical, therefore Sum Average = 2 * Joint Average, only 1 needs to be calculated\n",
      "GLCM is symmetrical, therefore Sum Average = 2 * Joint Average, only 1 needs to be calculated\n",
      "GLCM is symmetrical, therefore Sum Average = 2 * Joint Average, only 1 needs to be calculated\n"
     ]
    },
    {
     "name": "stdout",
     "output_type": "stream",
     "text": [
      "Extraídas 102 características del canal G\n",
      "Extraídas 102 características del canal B\n",
      "\n",
      "Procesando 342: 566151-271015-400095 (4)\n",
      "Cargando imagen y máscara de: /home/anna/TFM/Radiomica/Segmentacion/Segmentacion_resultados/566151-271015-400095 (4)\n",
      "Extraídas 102 características del canal R\n",
      "Extraídas 102 características del canal G\n",
      "Extraídas 102 características del canal B\n",
      "\n",
      "Procesando 343: 161649_300481_23-2-2022_DSC_0093\n",
      "Cargando imagen y máscara de: /home/anna/TFM/Radiomica/Segmentacion/Segmentacion_resultados/161649_300481_23-2-2022_DSC_0093\n",
      "Extraídas 102 características del canal R\n",
      "Extraídas 102 características del canal G\n",
      "Extraídas 102 características del canal B\n",
      "\n",
      "Procesando 344: 894201-231208-300481-01\n",
      "Cargando imagen y máscara de: /home/anna/TFM/Radiomica/Segmentacion/Segmentacion_resultados/894201-231208-300481-01\n",
      "Extraídas 102 características del canal R\n",
      "Extraídas 102 características del canal G\n",
      "Extraídas 102 características del canal B\n"
     ]
    },
    {
     "name": "stderr",
     "output_type": "stream",
     "text": [
      "GLCM is symmetrical, therefore Sum Average = 2 * Joint Average, only 1 needs to be calculated\n",
      "GLCM is symmetrical, therefore Sum Average = 2 * Joint Average, only 1 needs to be calculated\n",
      "GLCM is symmetrical, therefore Sum Average = 2 * Joint Average, only 1 needs to be calculated\n",
      "GLCM is symmetrical, therefore Sum Average = 2 * Joint Average, only 1 needs to be calculated\n",
      "GLCM is symmetrical, therefore Sum Average = 2 * Joint Average, only 1 needs to be calculated\n",
      "GLCM is symmetrical, therefore Sum Average = 2 * Joint Average, only 1 needs to be calculated\n",
      "GLCM is symmetrical, therefore Sum Average = 2 * Joint Average, only 1 needs to be calculated\n",
      "GLCM is symmetrical, therefore Sum Average = 2 * Joint Average, only 1 needs to be calculated\n"
     ]
    },
    {
     "name": "stdout",
     "output_type": "stream",
     "text": [
      "\n",
      "Procesando 345: 52970_300481_23-6-2020_IMG_9968\n",
      "Cargando imagen y máscara de: /home/anna/TFM/Radiomica/Segmentacion/Segmentacion_resultados/52970_300481_23-6-2020_IMG_9968\n",
      "Extraídas 102 características del canal R\n",
      "Extraídas 102 características del canal G\n",
      "Extraídas 102 características del canal B\n",
      "\n",
      "Procesando 346: 354745_300481_30-6-2020_IMG_0006\n",
      "Cargando imagen y máscara de: /home/anna/TFM/Radiomica/Segmentacion/Segmentacion_resultados/354745_300481_30-6-2020_IMG_0006\n",
      "Extraídas 102 características del canal R\n",
      "Extraídas 102 características del canal G\n",
      "Extraídas 102 características del canal B\n",
      "\n",
      "Procesando 347: 507603_300481_21-9-2022_DSC_0190\n",
      "Cargando imagen y máscara de: /home/anna/TFM/Radiomica/Segmentacion/Segmentacion_resultados/507603_300481_21-9-2022_DSC_0190\n",
      "Extraídas 102 características del canal R\n",
      "Extraídas 102 características del canal G\n"
     ]
    },
    {
     "name": "stderr",
     "output_type": "stream",
     "text": [
      "GLCM is symmetrical, therefore Sum Average = 2 * Joint Average, only 1 needs to be calculated\n",
      "GLCM is symmetrical, therefore Sum Average = 2 * Joint Average, only 1 needs to be calculated\n",
      "GLCM is symmetrical, therefore Sum Average = 2 * Joint Average, only 1 needs to be calculated\n",
      "GLCM is symmetrical, therefore Sum Average = 2 * Joint Average, only 1 needs to be calculated\n",
      "GLCM is symmetrical, therefore Sum Average = 2 * Joint Average, only 1 needs to be calculated\n",
      "GLCM is symmetrical, therefore Sum Average = 2 * Joint Average, only 1 needs to be calculated\n",
      "GLCM is symmetrical, therefore Sum Average = 2 * Joint Average, only 1 needs to be calculated\n",
      "GLCM is symmetrical, therefore Sum Average = 2 * Joint Average, only 1 needs to be calculated\n",
      "GLCM is symmetrical, therefore Sum Average = 2 * Joint Average, only 1 needs to be calculated\n",
      "GLCM is symmetrical, therefore Sum Average = 2 * Joint Average, only 1 needs to be calculated\n"
     ]
    },
    {
     "name": "stdout",
     "output_type": "stream",
     "text": [
      "Extraídas 102 características del canal B\n",
      "\n",
      "Procesando 348: 277073-221209-300481-01\n",
      "Cargando imagen y máscara de: /home/anna/TFM/Radiomica/Segmentacion/Segmentacion_resultados/277073-221209-300481-01\n",
      "Extraídas 102 características del canal R\n",
      "Extraídas 102 características del canal G\n",
      "Extraídas 102 características del canal B\n",
      "\n",
      "Procesando 349: 621139-170701-01-00300481\n",
      "Cargando imagen y máscara de: /home/anna/TFM/Radiomica/Segmentacion/Segmentacion_resultados/621139-170701-01-00300481\n",
      "Extraídas 102 características del canal R\n",
      "Extraídas 102 características del canal G\n",
      "Extraídas 102 características del canal B\n",
      "\n",
      "Procesando 350: 198953-280611-300481-01\n",
      "Cargando imagen y máscara de: /home/anna/TFM/Radiomica/Segmentacion/Segmentacion_resultados/198953-280611-300481-01\n",
      "Extraídas 102 características del canal R\n",
      "Extraídas 102 características del canal G\n",
      "Extraídas 102 características del canal B\n",
      "\n",
      "Procesando 351: 767562-091105-01-300481\n",
      "Cargando imagen y máscara de: /home/anna/TFM/Radiomica/Segmentacion/Segmentacion_resultados/767562-091105-01-300481\n"
     ]
    },
    {
     "name": "stderr",
     "output_type": "stream",
     "text": [
      "GLCM is symmetrical, therefore Sum Average = 2 * Joint Average, only 1 needs to be calculated\n",
      "GLCM is symmetrical, therefore Sum Average = 2 * Joint Average, only 1 needs to be calculated\n",
      "GLCM is symmetrical, therefore Sum Average = 2 * Joint Average, only 1 needs to be calculated\n",
      "GLCM is symmetrical, therefore Sum Average = 2 * Joint Average, only 1 needs to be calculated\n",
      "GLCM is symmetrical, therefore Sum Average = 2 * Joint Average, only 1 needs to be calculated\n",
      "GLCM is symmetrical, therefore Sum Average = 2 * Joint Average, only 1 needs to be calculated\n",
      "GLCM is symmetrical, therefore Sum Average = 2 * Joint Average, only 1 needs to be calculated\n",
      "GLCM is symmetrical, therefore Sum Average = 2 * Joint Average, only 1 needs to be calculated\n",
      "GLCM is symmetrical, therefore Sum Average = 2 * Joint Average, only 1 needs to be calculated\n"
     ]
    },
    {
     "name": "stdout",
     "output_type": "stream",
     "text": [
      "Extraídas 102 características del canal R\n",
      "Extraídas 102 características del canal G\n",
      "Extraídas 102 características del canal B\n",
      "\n",
      "Procesando 352: 1271174_300481_16-10-2018_DSC_0274\n",
      "Cargando imagen y máscara de: /home/anna/TFM/Radiomica/Segmentacion/Segmentacion_resultados/1271174_300481_16-10-2018_DSC_0274\n",
      "Extraídas 102 características del canal R\n",
      "Extraídas 102 características del canal G\n",
      "Extraídas 102 características del canal B\n",
      "\n",
      "Procesando 353: 424155_300481_26-6-2020_DSC_0257\n",
      "Cargando imagen y máscara de: /home/anna/TFM/Radiomica/Segmentacion/Segmentacion_resultados/424155_300481_26-6-2020_DSC_0257\n",
      "Extraídas 102 características del canal R\n",
      "Extraídas 102 características del canal G\n",
      "Extraídas 102 características del canal B\n",
      "\n",
      "Procesando 354: 769035-291105-01-300481\n",
      "Cargando imagen y máscara de: /home/anna/TFM/Radiomica/Segmentacion/Segmentacion_resultados/769035-291105-01-300481\n"
     ]
    },
    {
     "name": "stderr",
     "output_type": "stream",
     "text": [
      "GLCM is symmetrical, therefore Sum Average = 2 * Joint Average, only 1 needs to be calculated\n",
      "GLCM is symmetrical, therefore Sum Average = 2 * Joint Average, only 1 needs to be calculated\n",
      "GLCM is symmetrical, therefore Sum Average = 2 * Joint Average, only 1 needs to be calculated\n",
      "GLCM is symmetrical, therefore Sum Average = 2 * Joint Average, only 1 needs to be calculated\n",
      "GLCM is symmetrical, therefore Sum Average = 2 * Joint Average, only 1 needs to be calculated\n",
      "GLCM is symmetrical, therefore Sum Average = 2 * Joint Average, only 1 needs to be calculated\n",
      "GLCM is symmetrical, therefore Sum Average = 2 * Joint Average, only 1 needs to be calculated\n",
      "GLCM is symmetrical, therefore Sum Average = 2 * Joint Average, only 1 needs to be calculated\n",
      "GLCM is symmetrical, therefore Sum Average = 2 * Joint Average, only 1 needs to be calculated\n",
      "GLCM is symmetrical, therefore Sum Average = 2 * Joint Average, only 1 needs to be calculated\n"
     ]
    },
    {
     "name": "stdout",
     "output_type": "stream",
     "text": [
      "Extraídas 102 características del canal R\n",
      "Extraídas 102 características del canal G\n",
      "Extraídas 102 características del canal B\n",
      "\n",
      "Procesando 355: 538309_300481_7-6-2022_DSC_0035\n",
      "Cargando imagen y máscara de: /home/anna/TFM/Radiomica/Segmentacion/Segmentacion_resultados/538309_300481_7-6-2022_DSC_0035\n",
      "Extraídas 102 características del canal R\n",
      "Extraídas 102 características del canal G\n",
      "Extraídas 102 características del canal B\n",
      "\n",
      "Procesando 356: 394492-041010-400095-07\n",
      "Cargando imagen y máscara de: /home/anna/TFM/Radiomica/Segmentacion/Segmentacion_resultados/394492-041010-400095-07\n",
      "Extraídas 102 características del canal R\n",
      "Extraídas 102 características del canal G\n",
      "Extraídas 102 características del canal B\n",
      "\n",
      "Procesando 357: 821369_300481_23-3-2022_DSC_0270\n",
      "Cargando imagen y máscara de: /home/anna/TFM/Radiomica/Segmentacion/Segmentacion_resultados/821369_300481_23-3-2022_DSC_0270\n"
     ]
    },
    {
     "name": "stderr",
     "output_type": "stream",
     "text": [
      "GLCM is symmetrical, therefore Sum Average = 2 * Joint Average, only 1 needs to be calculated\n",
      "GLCM is symmetrical, therefore Sum Average = 2 * Joint Average, only 1 needs to be calculated\n",
      "GLCM is symmetrical, therefore Sum Average = 2 * Joint Average, only 1 needs to be calculated\n",
      "GLCM is symmetrical, therefore Sum Average = 2 * Joint Average, only 1 needs to be calculated\n",
      "GLCM is symmetrical, therefore Sum Average = 2 * Joint Average, only 1 needs to be calculated\n",
      "GLCM is symmetrical, therefore Sum Average = 2 * Joint Average, only 1 needs to be calculated\n",
      "GLCM is symmetrical, therefore Sum Average = 2 * Joint Average, only 1 needs to be calculated\n",
      "GLCM is symmetrical, therefore Sum Average = 2 * Joint Average, only 1 needs to be calculated\n"
     ]
    },
    {
     "name": "stdout",
     "output_type": "stream",
     "text": [
      "Extraídas 102 características del canal R\n",
      "Extraídas 102 características del canal G\n",
      "Extraídas 102 características del canal B\n",
      "\n",
      "Procesando 358: 809857-160207-03-300481\n",
      "Cargando imagen y máscara de: /home/anna/TFM/Radiomica/Segmentacion/Segmentacion_resultados/809857-160207-03-300481\n",
      "Extraídas 102 características del canal R\n",
      "Extraídas 102 características del canal G\n",
      "Extraídas 102 características del canal B\n",
      "\n",
      "Procesando 359: 711695-180204-02-00300481\n",
      "Cargando imagen y máscara de: /home/anna/TFM/Radiomica/Segmentacion/Segmentacion_resultados/711695-180204-02-00300481\n",
      "Extraídas 102 características del canal R\n",
      "Extraídas 102 características del canal G\n",
      "Extraídas 102 características del canal B\n",
      "\n",
      "Procesando 360: 192853-110512-300481\n"
     ]
    },
    {
     "name": "stderr",
     "output_type": "stream",
     "text": [
      "GLCM is symmetrical, therefore Sum Average = 2 * Joint Average, only 1 needs to be calculated\n",
      "GLCM is symmetrical, therefore Sum Average = 2 * Joint Average, only 1 needs to be calculated\n",
      "GLCM is symmetrical, therefore Sum Average = 2 * Joint Average, only 1 needs to be calculated\n",
      "GLCM is symmetrical, therefore Sum Average = 2 * Joint Average, only 1 needs to be calculated\n",
      "GLCM is symmetrical, therefore Sum Average = 2 * Joint Average, only 1 needs to be calculated\n",
      "GLCM is symmetrical, therefore Sum Average = 2 * Joint Average, only 1 needs to be calculated\n",
      "GLCM is symmetrical, therefore Sum Average = 2 * Joint Average, only 1 needs to be calculated\n",
      "GLCM is symmetrical, therefore Sum Average = 2 * Joint Average, only 1 needs to be calculated\n",
      "GLCM is symmetrical, therefore Sum Average = 2 * Joint Average, only 1 needs to be calculated\n",
      "GLCM is symmetrical, therefore Sum Average = 2 * Joint Average, only 1 needs to be calculated\n"
     ]
    },
    {
     "name": "stdout",
     "output_type": "stream",
     "text": [
      "Cargando imagen y máscara de: /home/anna/TFM/Radiomica/Segmentacion/Segmentacion_resultados/192853-110512-300481\n",
      "Extraídas 102 características del canal R\n",
      "Extraídas 102 características del canal G\n",
      "Extraídas 102 características del canal B\n",
      "\n",
      "Procesando 361: 19031-z2021-25082021-300481-5\n",
      "Cargando imagen y máscara de: /home/anna/TFM/Radiomica/Segmentacion/Segmentacion_resultados/19031-z2021-25082021-300481-5\n",
      "Extraídas 102 características del canal R\n",
      "Extraídas 102 características del canal G\n",
      "Extraídas 102 características del canal B\n",
      "\n",
      "Procesando 362: 718988-050504-02-00300481\n",
      "Cargando imagen y máscara de: /home/anna/TFM/Radiomica/Segmentacion/Segmentacion_resultados/718988-050504-02-00300481\n",
      "Extraídas 102 características del canal R\n",
      "Extraídas 102 características del canal G\n",
      "Extraídas 102 características del canal B\n",
      "\n",
      "Procesando 363: 473935-191001-01-00300481\n",
      "Cargando imagen y máscara de: /home/anna/TFM/Radiomica/Segmentacion/Segmentacion_resultados/473935-191001-01-00300481\n"
     ]
    },
    {
     "name": "stderr",
     "output_type": "stream",
     "text": [
      "GLCM is symmetrical, therefore Sum Average = 2 * Joint Average, only 1 needs to be calculated\n",
      "GLCM is symmetrical, therefore Sum Average = 2 * Joint Average, only 1 needs to be calculated\n",
      "GLCM is symmetrical, therefore Sum Average = 2 * Joint Average, only 1 needs to be calculated\n",
      "GLCM is symmetrical, therefore Sum Average = 2 * Joint Average, only 1 needs to be calculated\n",
      "GLCM is symmetrical, therefore Sum Average = 2 * Joint Average, only 1 needs to be calculated\n",
      "GLCM is symmetrical, therefore Sum Average = 2 * Joint Average, only 1 needs to be calculated\n",
      "GLCM is symmetrical, therefore Sum Average = 2 * Joint Average, only 1 needs to be calculated\n",
      "GLCM is symmetrical, therefore Sum Average = 2 * Joint Average, only 1 needs to be calculated\n",
      "GLCM is symmetrical, therefore Sum Average = 2 * Joint Average, only 1 needs to be calculated\n",
      "GLCM is symmetrical, therefore Sum Average = 2 * Joint Average, only 1 needs to be calculated\n"
     ]
    },
    {
     "name": "stdout",
     "output_type": "stream",
     "text": [
      "Extraídas 102 características del canal R\n",
      "Extraídas 102 características del canal G\n",
      "Extraídas 102 características del canal B\n",
      "\n",
      "Procesando 364: 723045-100206-01-300481\n",
      "Cargando imagen y máscara de: /home/anna/TFM/Radiomica/Segmentacion/Segmentacion_resultados/723045-100206-01-300481\n",
      "Extraídas 102 características del canal R\n",
      "Extraídas 102 características del canal G\n",
      "Extraídas 102 características del canal B\n",
      "\n",
      "Procesando 365: 19909-z2023-300481-12042023-1\n",
      "Cargando imagen y máscara de: /home/anna/TFM/Radiomica/Segmentacion/Segmentacion_resultados/19909-z2023-300481-12042023-1\n",
      "Extraídas 102 características del canal R\n",
      "Extraídas 102 características del canal G\n",
      "Extraídas 102 características del canal B\n",
      "\n",
      "Procesando 366: 133670-150206-02-300481\n",
      "Cargando imagen y máscara de: /home/anna/TFM/Radiomica/Segmentacion/Segmentacion_resultados/133670-150206-02-300481\n",
      "Extraídas 102 características del canal R\n"
     ]
    },
    {
     "name": "stderr",
     "output_type": "stream",
     "text": [
      "GLCM is symmetrical, therefore Sum Average = 2 * Joint Average, only 1 needs to be calculated\n",
      "GLCM is symmetrical, therefore Sum Average = 2 * Joint Average, only 1 needs to be calculated\n",
      "GLCM is symmetrical, therefore Sum Average = 2 * Joint Average, only 1 needs to be calculated\n",
      "GLCM is symmetrical, therefore Sum Average = 2 * Joint Average, only 1 needs to be calculated\n",
      "GLCM is symmetrical, therefore Sum Average = 2 * Joint Average, only 1 needs to be calculated\n",
      "GLCM is symmetrical, therefore Sum Average = 2 * Joint Average, only 1 needs to be calculated\n",
      "GLCM is symmetrical, therefore Sum Average = 2 * Joint Average, only 1 needs to be calculated\n",
      "GLCM is symmetrical, therefore Sum Average = 2 * Joint Average, only 1 needs to be calculated\n",
      "GLCM is symmetrical, therefore Sum Average = 2 * Joint Average, only 1 needs to be calculated\n"
     ]
    },
    {
     "name": "stdout",
     "output_type": "stream",
     "text": [
      "Extraídas 102 características del canal G\n",
      "Extraídas 102 características del canal B\n",
      "\n",
      "Procesando 367: 1359292_300481_11-1-2021_DSC_0005_seg\n",
      "Cargando imagen y máscara de: /home/anna/TFM/Radiomica/Segmentacion/Segmentacion_resultados/1359292_300481_11-1-2021_DSC_0005_seg\n",
      "Extraídas 102 características del canal R\n",
      "Extraídas 102 características del canal G\n",
      "Extraídas 102 características del canal B\n",
      "\n",
      "Procesando 368: 687458_300481_5-9-2022_DSC_0299\n",
      "Cargando imagen y máscara de: /home/anna/TFM/Radiomica/Segmentacion/Segmentacion_resultados/687458_300481_5-9-2022_DSC_0299\n",
      "Extraídas 102 características del canal R\n",
      "Extraídas 102 características del canal G\n",
      "Extraídas 102 características del canal B\n",
      "\n",
      "Procesando 369: 469760-080108-300481-02\n",
      "Cargando imagen y máscara de: /home/anna/TFM/Radiomica/Segmentacion/Segmentacion_resultados/469760-080108-300481-02\n",
      "Extraídas 102 características del canal R\n"
     ]
    },
    {
     "name": "stderr",
     "output_type": "stream",
     "text": [
      "GLCM is symmetrical, therefore Sum Average = 2 * Joint Average, only 1 needs to be calculated\n",
      "GLCM is symmetrical, therefore Sum Average = 2 * Joint Average, only 1 needs to be calculated\n",
      "GLCM is symmetrical, therefore Sum Average = 2 * Joint Average, only 1 needs to be calculated\n",
      "GLCM is symmetrical, therefore Sum Average = 2 * Joint Average, only 1 needs to be calculated\n",
      "GLCM is symmetrical, therefore Sum Average = 2 * Joint Average, only 1 needs to be calculated\n",
      "GLCM is symmetrical, therefore Sum Average = 2 * Joint Average, only 1 needs to be calculated\n",
      "GLCM is symmetrical, therefore Sum Average = 2 * Joint Average, only 1 needs to be calculated\n",
      "GLCM is symmetrical, therefore Sum Average = 2 * Joint Average, only 1 needs to be calculated\n",
      "GLCM is symmetrical, therefore Sum Average = 2 * Joint Average, only 1 needs to be calculated\n"
     ]
    },
    {
     "name": "stdout",
     "output_type": "stream",
     "text": [
      "Extraídas 102 características del canal G\n",
      "Extraídas 102 características del canal B\n",
      "\n",
      "Procesando 370: 108185-170310-300481-02\n",
      "Cargando imagen y máscara de: /home/anna/TFM/Radiomica/Segmentacion/Segmentacion_resultados/108185-170310-300481-02\n",
      "Extraídas 102 características del canal R\n",
      "Extraídas 102 características del canal G\n",
      "Extraídas 102 características del canal B\n",
      "\n",
      "Procesando 371: 144700_300481_9-4-2019_DSC_0460\n",
      "Cargando imagen y máscara de: /home/anna/TFM/Radiomica/Segmentacion/Segmentacion_resultados/144700_300481_9-4-2019_DSC_0460\n",
      "Extraídas 102 características del canal R\n",
      "Extraídas 102 características del canal G\n",
      "Extraídas 102 características del canal B\n",
      "\n",
      "Procesando 372: 162677_050314_300481 (2)\n",
      "Cargando imagen y máscara de: /home/anna/TFM/Radiomica/Segmentacion/Segmentacion_resultados/162677_050314_300481 (2)\n",
      "Extraídas 102 características del canal R\n"
     ]
    },
    {
     "name": "stderr",
     "output_type": "stream",
     "text": [
      "GLCM is symmetrical, therefore Sum Average = 2 * Joint Average, only 1 needs to be calculated\n",
      "GLCM is symmetrical, therefore Sum Average = 2 * Joint Average, only 1 needs to be calculated\n",
      "GLCM is symmetrical, therefore Sum Average = 2 * Joint Average, only 1 needs to be calculated\n",
      "GLCM is symmetrical, therefore Sum Average = 2 * Joint Average, only 1 needs to be calculated\n",
      "GLCM is symmetrical, therefore Sum Average = 2 * Joint Average, only 1 needs to be calculated\n",
      "GLCM is symmetrical, therefore Sum Average = 2 * Joint Average, only 1 needs to be calculated\n",
      "GLCM is symmetrical, therefore Sum Average = 2 * Joint Average, only 1 needs to be calculated\n",
      "GLCM is symmetrical, therefore Sum Average = 2 * Joint Average, only 1 needs to be calculated\n",
      "GLCM is symmetrical, therefore Sum Average = 2 * Joint Average, only 1 needs to be calculated\n",
      "GLCM is symmetrical, therefore Sum Average = 2 * Joint Average, only 1 needs to be calculated\n"
     ]
    },
    {
     "name": "stdout",
     "output_type": "stream",
     "text": [
      "Extraídas 102 características del canal G\n",
      "Extraídas 102 características del canal B\n",
      "\n",
      "Procesando 373: 86617_300481_13-2-2024_DSC_0174\n",
      "Cargando imagen y máscara de: /home/anna/TFM/Radiomica/Segmentacion/Segmentacion_resultados/86617_300481_13-2-2024_DSC_0174\n",
      "Extraídas 102 características del canal R\n",
      "Extraídas 102 características del canal G\n",
      "Extraídas 102 características del canal B\n",
      "\n",
      "Procesando 374: 159266-261114-300481 (4)\n",
      "Cargando imagen y máscara de: /home/anna/TFM/Radiomica/Segmentacion/Segmentacion_resultados/159266-261114-300481 (4)\n",
      "Extraídas 102 características del canal R\n",
      "Extraídas 102 características del canal G\n",
      "Extraídas 102 características del canal B\n",
      "\n",
      "Procesando 375: 111587-230501-07-00300481\n",
      "Cargando imagen y máscara de: /home/anna/TFM/Radiomica/Segmentacion/Segmentacion_resultados/111587-230501-07-00300481\n",
      "Extraídas 102 características del canal R\n",
      "Extraídas 102 características del canal G\n",
      "Extraídas 102 características del canal B\n"
     ]
    },
    {
     "name": "stderr",
     "output_type": "stream",
     "text": [
      "GLCM is symmetrical, therefore Sum Average = 2 * Joint Average, only 1 needs to be calculated\n",
      "GLCM is symmetrical, therefore Sum Average = 2 * Joint Average, only 1 needs to be calculated\n",
      "GLCM is symmetrical, therefore Sum Average = 2 * Joint Average, only 1 needs to be calculated\n",
      "GLCM is symmetrical, therefore Sum Average = 2 * Joint Average, only 1 needs to be calculated\n",
      "GLCM is symmetrical, therefore Sum Average = 2 * Joint Average, only 1 needs to be calculated\n",
      "GLCM is symmetrical, therefore Sum Average = 2 * Joint Average, only 1 needs to be calculated\n",
      "GLCM is symmetrical, therefore Sum Average = 2 * Joint Average, only 1 needs to be calculated\n",
      "GLCM is symmetrical, therefore Sum Average = 2 * Joint Average, only 1 needs to be calculated\n",
      "GLCM is symmetrical, therefore Sum Average = 2 * Joint Average, only 1 needs to be calculated\n"
     ]
    },
    {
     "name": "stdout",
     "output_type": "stream",
     "text": [
      "\n",
      "Procesando 376: 773560_300481_8-4-2022_DSC_0057\n",
      "Cargando imagen y máscara de: /home/anna/TFM/Radiomica/Segmentacion/Segmentacion_resultados/773560_300481_8-4-2022_DSC_0057\n",
      "Extraídas 102 características del canal R\n",
      "Extraídas 102 características del canal G\n",
      "Extraídas 102 características del canal B\n",
      "\n",
      "Procesando 377: 986251-151210-300481\n",
      "Cargando imagen y máscara de: /home/anna/TFM/Radiomica/Segmentacion/Segmentacion_resultados/986251-151210-300481\n",
      "Extraídas 102 características del canal R\n",
      "Extraídas 102 características del canal G\n",
      "Extraídas 102 características del canal B\n",
      "\n",
      "Procesando 378: 136484-130112-300481- (1)\n",
      "Cargando imagen y máscara de: /home/anna/TFM/Radiomica/Segmentacion/Segmentacion_resultados/136484-130112-300481- (1)\n",
      "Extraídas 102 características del canal R\n",
      "Extraídas 102 características del canal G\n"
     ]
    },
    {
     "name": "stderr",
     "output_type": "stream",
     "text": [
      "GLCM is symmetrical, therefore Sum Average = 2 * Joint Average, only 1 needs to be calculated\n",
      "GLCM is symmetrical, therefore Sum Average = 2 * Joint Average, only 1 needs to be calculated\n",
      "GLCM is symmetrical, therefore Sum Average = 2 * Joint Average, only 1 needs to be calculated\n",
      "GLCM is symmetrical, therefore Sum Average = 2 * Joint Average, only 1 needs to be calculated\n",
      "GLCM is symmetrical, therefore Sum Average = 2 * Joint Average, only 1 needs to be calculated\n",
      "GLCM is symmetrical, therefore Sum Average = 2 * Joint Average, only 1 needs to be calculated\n",
      "GLCM is symmetrical, therefore Sum Average = 2 * Joint Average, only 1 needs to be calculated\n",
      "GLCM is symmetrical, therefore Sum Average = 2 * Joint Average, only 1 needs to be calculated\n"
     ]
    },
    {
     "name": "stdout",
     "output_type": "stream",
     "text": [
      "Extraídas 102 características del canal B\n",
      "\n",
      "Procesando 379: 20331-z2024-30012024-300481-2\n",
      "Cargando imagen y máscara de: /home/anna/TFM/Radiomica/Segmentacion/Segmentacion_resultados/20331-z2024-30012024-300481-2\n",
      "Extraídas 102 características del canal R\n",
      "Extraídas 102 características del canal G\n",
      "Extraídas 102 características del canal B\n",
      "\n",
      "Procesando 380: 109257-150702-02-00300425\n",
      "Cargando imagen y máscara de: /home/anna/TFM/Radiomica/Segmentacion/Segmentacion_resultados/109257-150702-02-00300425\n",
      "Extraídas 102 características del canal R\n",
      "Extraídas 102 características del canal G\n",
      "Extraídas 102 características del canal B\n",
      "\n",
      "Procesando 381: 10028-101204-02-300481\n",
      "Cargando imagen y máscara de: /home/anna/TFM/Radiomica/Segmentacion/Segmentacion_resultados/10028-101204-02-300481\n",
      "Extraídas 102 características del canal R\n"
     ]
    },
    {
     "name": "stderr",
     "output_type": "stream",
     "text": [
      "GLCM is symmetrical, therefore Sum Average = 2 * Joint Average, only 1 needs to be calculated\n",
      "GLCM is symmetrical, therefore Sum Average = 2 * Joint Average, only 1 needs to be calculated\n",
      "GLCM is symmetrical, therefore Sum Average = 2 * Joint Average, only 1 needs to be calculated\n",
      "GLCM is symmetrical, therefore Sum Average = 2 * Joint Average, only 1 needs to be calculated\n",
      "GLCM is symmetrical, therefore Sum Average = 2 * Joint Average, only 1 needs to be calculated\n",
      "GLCM is symmetrical, therefore Sum Average = 2 * Joint Average, only 1 needs to be calculated\n",
      "GLCM is symmetrical, therefore Sum Average = 2 * Joint Average, only 1 needs to be calculated\n"
     ]
    },
    {
     "name": "stdout",
     "output_type": "stream",
     "text": [
      "Extraídas 102 características del canal G\n",
      "Extraídas 102 características del canal B\n",
      "\n",
      "Procesando 382: 668208-071102-02-00300481\n",
      "Cargando imagen y máscara de: /home/anna/TFM/Radiomica/Segmentacion/Segmentacion_resultados/668208-071102-02-00300481\n",
      "Extraídas 102 características del canal R\n",
      "Extraídas 102 características del canal G\n",
      "Extraídas 102 características del canal B\n",
      "\n",
      "Procesando 383: 412905-090108-300481-01\n",
      "Cargando imagen y máscara de: /home/anna/TFM/Radiomica/Segmentacion/Segmentacion_resultados/412905-090108-300481-01\n",
      "Extraídas 102 características del canal R\n",
      "Extraídas 102 características del canal G\n",
      "Extraídas 102 características del canal B\n",
      "\n",
      "Procesando 384: 704981_300481_8-10-2018_DSC_0190\n",
      "Cargando imagen y máscara de: /home/anna/TFM/Radiomica/Segmentacion/Segmentacion_resultados/704981_300481_8-10-2018_DSC_0190\n"
     ]
    },
    {
     "name": "stderr",
     "output_type": "stream",
     "text": [
      "GLCM is symmetrical, therefore Sum Average = 2 * Joint Average, only 1 needs to be calculated\n",
      "GLCM is symmetrical, therefore Sum Average = 2 * Joint Average, only 1 needs to be calculated\n",
      "GLCM is symmetrical, therefore Sum Average = 2 * Joint Average, only 1 needs to be calculated\n",
      "GLCM is symmetrical, therefore Sum Average = 2 * Joint Average, only 1 needs to be calculated\n",
      "GLCM is symmetrical, therefore Sum Average = 2 * Joint Average, only 1 needs to be calculated\n",
      "GLCM is symmetrical, therefore Sum Average = 2 * Joint Average, only 1 needs to be calculated\n",
      "GLCM is symmetrical, therefore Sum Average = 2 * Joint Average, only 1 needs to be calculated\n",
      "GLCM is symmetrical, therefore Sum Average = 2 * Joint Average, only 1 needs to be calculated\n",
      "GLCM is symmetrical, therefore Sum Average = 2 * Joint Average, only 1 needs to be calculated\n",
      "GLCM is symmetrical, therefore Sum Average = 2 * Joint Average, only 1 needs to be calculated\n",
      "GLCM is symmetrical, therefore Sum Average = 2 * Joint Average, only 1 needs to be calculated\n"
     ]
    },
    {
     "name": "stdout",
     "output_type": "stream",
     "text": [
      "Extraídas 102 características del canal R\n",
      "Extraídas 102 características del canal G\n",
      "Extraídas 102 características del canal B\n",
      "\n",
      "Procesando 385: 19936-z2023-300481-28042023-1\n",
      "Cargando imagen y máscara de: /home/anna/TFM/Radiomica/Segmentacion/Segmentacion_resultados/19936-z2023-300481-28042023-1\n",
      "Extraídas 102 características del canal R\n",
      "Extraídas 102 características del canal G\n",
      "Extraídas 102 características del canal B\n",
      "\n",
      "Procesando 386: 641080_300481_28-12-2021_DSC_0099\n",
      "Cargando imagen y máscara de: /home/anna/TFM/Radiomica/Segmentacion/Segmentacion_resultados/641080_300481_28-12-2021_DSC_0099\n",
      "Extraídas 102 características del canal R\n",
      "Extraídas 102 características del canal G\n",
      "Extraídas 102 características del canal B\n",
      "\n",
      "Procesando 387: 854288-200109-300481-02\n",
      "Cargando imagen y máscara de: /home/anna/TFM/Radiomica/Segmentacion/Segmentacion_resultados/854288-200109-300481-02\n",
      "Extraídas 102 características del canal R\n"
     ]
    },
    {
     "name": "stderr",
     "output_type": "stream",
     "text": [
      "GLCM is symmetrical, therefore Sum Average = 2 * Joint Average, only 1 needs to be calculated\n",
      "GLCM is symmetrical, therefore Sum Average = 2 * Joint Average, only 1 needs to be calculated\n",
      "GLCM is symmetrical, therefore Sum Average = 2 * Joint Average, only 1 needs to be calculated\n",
      "GLCM is symmetrical, therefore Sum Average = 2 * Joint Average, only 1 needs to be calculated\n",
      "GLCM is symmetrical, therefore Sum Average = 2 * Joint Average, only 1 needs to be calculated\n",
      "GLCM is symmetrical, therefore Sum Average = 2 * Joint Average, only 1 needs to be calculated\n",
      "GLCM is symmetrical, therefore Sum Average = 2 * Joint Average, only 1 needs to be calculated\n",
      "GLCM is symmetrical, therefore Sum Average = 2 * Joint Average, only 1 needs to be calculated\n",
      "GLCM is symmetrical, therefore Sum Average = 2 * Joint Average, only 1 needs to be calculated\n",
      "GLCM is symmetrical, therefore Sum Average = 2 * Joint Average, only 1 needs to be calculated\n"
     ]
    },
    {
     "name": "stdout",
     "output_type": "stream",
     "text": [
      "Extraídas 102 características del canal G\n",
      "Extraídas 102 características del canal B\n",
      "\n",
      "Procesando 388: 625299-240701-01-00300481\n",
      "Cargando imagen y máscara de: /home/anna/TFM/Radiomica/Segmentacion/Segmentacion_resultados/625299-240701-01-00300481\n",
      "Extraídas 102 características del canal R\n",
      "Extraídas 102 características del canal G\n",
      "Extraídas 102 características del canal B\n",
      "\n",
      "Procesando 389: 561272_300481_14-9-2022_DSC_0339\n",
      "Cargando imagen y máscara de: /home/anna/TFM/Radiomica/Segmentacion/Segmentacion_resultados/561272_300481_14-9-2022_DSC_0339\n",
      "Extraídas 102 características del canal R\n",
      "Extraídas 102 características del canal G\n",
      "Extraídas 102 características del canal B\n",
      "\n",
      "Procesando 390: 394966_300481_14-9-2022_DSC_0344\n",
      "Cargando imagen y máscara de: /home/anna/TFM/Radiomica/Segmentacion/Segmentacion_resultados/394966_300481_14-9-2022_DSC_0344\n",
      "Extraídas 102 características del canal R\n",
      "Extraídas 102 características del canal G\n"
     ]
    },
    {
     "name": "stderr",
     "output_type": "stream",
     "text": [
      "GLCM is symmetrical, therefore Sum Average = 2 * Joint Average, only 1 needs to be calculated\n",
      "GLCM is symmetrical, therefore Sum Average = 2 * Joint Average, only 1 needs to be calculated\n",
      "GLCM is symmetrical, therefore Sum Average = 2 * Joint Average, only 1 needs to be calculated\n",
      "GLCM is symmetrical, therefore Sum Average = 2 * Joint Average, only 1 needs to be calculated\n",
      "GLCM is symmetrical, therefore Sum Average = 2 * Joint Average, only 1 needs to be calculated\n",
      "GLCM is symmetrical, therefore Sum Average = 2 * Joint Average, only 1 needs to be calculated\n",
      "GLCM is symmetrical, therefore Sum Average = 2 * Joint Average, only 1 needs to be calculated\n",
      "GLCM is symmetrical, therefore Sum Average = 2 * Joint Average, only 1 needs to be calculated\n"
     ]
    },
    {
     "name": "stdout",
     "output_type": "stream",
     "text": [
      "Extraídas 102 características del canal B\n",
      "\n",
      "Procesando 391: 250483-060508-300481-01\n",
      "Cargando imagen y máscara de: /home/anna/TFM/Radiomica/Segmentacion/Segmentacion_resultados/250483-060508-300481-01\n",
      "Extraídas 102 características del canal R\n",
      "Extraídas 102 características del canal G\n",
      "Extraídas 102 características del canal B\n",
      "\n",
      "Procesando 392: 573832-210904-04-300481\n",
      "Cargando imagen y máscara de: /home/anna/TFM/Radiomica/Segmentacion/Segmentacion_resultados/573832-210904-04-300481\n",
      "Extraídas 102 características del canal R\n",
      "Extraídas 102 características del canal G\n",
      "Extraídas 102 características del canal B\n",
      "\n",
      "Procesando 393: 18864-z2021-29032021-300481-1\n",
      "Cargando imagen y máscara de: /home/anna/TFM/Radiomica/Segmentacion/Segmentacion_resultados/18864-z2021-29032021-300481-1\n",
      "Extraídas 102 características del canal R\n",
      "Extraídas 102 características del canal G\n"
     ]
    },
    {
     "name": "stderr",
     "output_type": "stream",
     "text": [
      "GLCM is symmetrical, therefore Sum Average = 2 * Joint Average, only 1 needs to be calculated\n",
      "GLCM is symmetrical, therefore Sum Average = 2 * Joint Average, only 1 needs to be calculated\n",
      "GLCM is symmetrical, therefore Sum Average = 2 * Joint Average, only 1 needs to be calculated\n",
      "GLCM is symmetrical, therefore Sum Average = 2 * Joint Average, only 1 needs to be calculated\n",
      "GLCM is symmetrical, therefore Sum Average = 2 * Joint Average, only 1 needs to be calculated\n",
      "GLCM is symmetrical, therefore Sum Average = 2 * Joint Average, only 1 needs to be calculated\n",
      "GLCM is symmetrical, therefore Sum Average = 2 * Joint Average, only 1 needs to be calculated\n",
      "GLCM is symmetrical, therefore Sum Average = 2 * Joint Average, only 1 needs to be calculated\n",
      "GLCM is symmetrical, therefore Sum Average = 2 * Joint Average, only 1 needs to be calculated\n",
      "GLCM is symmetrical, therefore Sum Average = 2 * Joint Average, only 1 needs to be calculated\n",
      "GLCM is symmetrical, therefore Sum Average = 2 * Joint Average, only 1 needs to be calculated\n"
     ]
    },
    {
     "name": "stdout",
     "output_type": "stream",
     "text": [
      "Extraídas 102 características del canal B\n",
      "\n",
      "Procesando 394: 225499_300481_14-10-2022_DSC_0317\n",
      "Cargando imagen y máscara de: /home/anna/TFM/Radiomica/Segmentacion/Segmentacion_resultados/225499_300481_14-10-2022_DSC_0317\n",
      "Extraídas 102 características del canal R\n",
      "Extraídas 102 características del canal G\n",
      "Extraídas 102 características del canal B\n",
      "\n",
      "Procesando 395: 175394-200112-300481 (2)\n",
      "Cargando imagen y máscara de: /home/anna/TFM/Radiomica/Segmentacion/Segmentacion_resultados/175394-200112-300481 (2)\n",
      "Extraídas 102 características del canal R\n",
      "Extraídas 102 características del canal G\n",
      "Extraídas 102 características del canal B\n",
      "\n",
      "Procesando 396: 432615-3012111-300427-02\n",
      "Cargando imagen y máscara de: /home/anna/TFM/Radiomica/Segmentacion/Segmentacion_resultados/432615-3012111-300427-02\n",
      "Extraídas 102 características del canal R\n",
      "Extraídas 102 características del canal G\n",
      "Extraídas 102 características del canal B\n",
      "\n",
      "Procesando 397: 780946-040406-05-300481\n",
      "Cargando imagen y máscara de: /home/anna/TFM/Radiomica/Segmentacion/Segmentacion_resultados/780946-040406-05-300481\n",
      "Extraídas 102 características del canal R\n"
     ]
    },
    {
     "name": "stderr",
     "output_type": "stream",
     "text": [
      "GLCM is symmetrical, therefore Sum Average = 2 * Joint Average, only 1 needs to be calculated\n",
      "GLCM is symmetrical, therefore Sum Average = 2 * Joint Average, only 1 needs to be calculated\n",
      "GLCM is symmetrical, therefore Sum Average = 2 * Joint Average, only 1 needs to be calculated\n",
      "GLCM is symmetrical, therefore Sum Average = 2 * Joint Average, only 1 needs to be calculated\n",
      "GLCM is symmetrical, therefore Sum Average = 2 * Joint Average, only 1 needs to be calculated\n",
      "GLCM is symmetrical, therefore Sum Average = 2 * Joint Average, only 1 needs to be calculated\n",
      "GLCM is symmetrical, therefore Sum Average = 2 * Joint Average, only 1 needs to be calculated\n",
      "GLCM is symmetrical, therefore Sum Average = 2 * Joint Average, only 1 needs to be calculated\n",
      "GLCM is symmetrical, therefore Sum Average = 2 * Joint Average, only 1 needs to be calculated\n"
     ]
    },
    {
     "name": "stdout",
     "output_type": "stream",
     "text": [
      "Extraídas 102 características del canal G\n",
      "Extraídas 102 características del canal B\n",
      "\n",
      "Procesando 398: 99430-231208-300481-01\n",
      "Cargando imagen y máscara de: /home/anna/TFM/Radiomica/Segmentacion/Segmentacion_resultados/99430-231208-300481-01\n",
      "Extraídas 102 características del canal R\n",
      "Extraídas 102 características del canal G\n",
      "Extraídas 102 características del canal B\n",
      "\n",
      "Procesando 399: 197951_300481_16-1-2024_DSC_0061\n",
      "Cargando imagen y máscara de: /home/anna/TFM/Radiomica/Segmentacion/Segmentacion_resultados/197951_300481_16-1-2024_DSC_0061\n",
      "Extraídas 102 características del canal R\n",
      "Extraídas 102 características del canal G\n",
      "Extraídas 102 características del canal B\n",
      "\n",
      "Procesando 400: 468848-140503-02-00202403\n",
      "Cargando imagen y máscara de: /home/anna/TFM/Radiomica/Segmentacion/Segmentacion_resultados/468848-140503-02-00202403\n",
      "Extraídas 102 características del canal R\n"
     ]
    },
    {
     "name": "stderr",
     "output_type": "stream",
     "text": [
      "GLCM is symmetrical, therefore Sum Average = 2 * Joint Average, only 1 needs to be calculated\n",
      "GLCM is symmetrical, therefore Sum Average = 2 * Joint Average, only 1 needs to be calculated\n",
      "GLCM is symmetrical, therefore Sum Average = 2 * Joint Average, only 1 needs to be calculated\n",
      "GLCM is symmetrical, therefore Sum Average = 2 * Joint Average, only 1 needs to be calculated\n",
      "GLCM is symmetrical, therefore Sum Average = 2 * Joint Average, only 1 needs to be calculated\n",
      "GLCM is symmetrical, therefore Sum Average = 2 * Joint Average, only 1 needs to be calculated\n",
      "GLCM is symmetrical, therefore Sum Average = 2 * Joint Average, only 1 needs to be calculated\n",
      "GLCM is symmetrical, therefore Sum Average = 2 * Joint Average, only 1 needs to be calculated\n"
     ]
    },
    {
     "name": "stdout",
     "output_type": "stream",
     "text": [
      "Extraídas 102 características del canal G\n",
      "Extraídas 102 características del canal B\n",
      "\n",
      "Procesando 401: 235040-300311-300481-01\n",
      "Cargando imagen y máscara de: /home/anna/TFM/Radiomica/Segmentacion/Segmentacion_resultados/235040-300311-300481-01\n",
      "Extraídas 102 características del canal R\n",
      "Extraídas 102 características del canal G\n",
      "Extraídas 102 características del canal B\n",
      "\n",
      "Procesando 402: 259947-301106-03-300481\n",
      "Cargando imagen y máscara de: /home/anna/TFM/Radiomica/Segmentacion/Segmentacion_resultados/259947-301106-03-300481\n",
      "Extraídas 102 características del canal R\n",
      "Extraídas 102 características del canal G\n"
     ]
    },
    {
     "name": "stderr",
     "output_type": "stream",
     "text": [
      "GLCM is symmetrical, therefore Sum Average = 2 * Joint Average, only 1 needs to be calculated\n",
      "GLCM is symmetrical, therefore Sum Average = 2 * Joint Average, only 1 needs to be calculated\n",
      "GLCM is symmetrical, therefore Sum Average = 2 * Joint Average, only 1 needs to be calculated\n",
      "GLCM is symmetrical, therefore Sum Average = 2 * Joint Average, only 1 needs to be calculated\n",
      "GLCM is symmetrical, therefore Sum Average = 2 * Joint Average, only 1 needs to be calculated\n",
      "GLCM is symmetrical, therefore Sum Average = 2 * Joint Average, only 1 needs to be calculated\n",
      "GLCM is symmetrical, therefore Sum Average = 2 * Joint Average, only 1 needs to be calculated\n"
     ]
    },
    {
     "name": "stdout",
     "output_type": "stream",
     "text": [
      "Extraídas 102 características del canal B\n",
      "\n",
      "Procesando 403: 1156364_300481_1-9-2020_IMG_0217\n",
      "Cargando imagen y máscara de: /home/anna/TFM/Radiomica/Segmentacion/Segmentacion_resultados/1156364_300481_1-9-2020_IMG_0217\n",
      "Extraídas 102 características del canal R\n",
      "Extraídas 102 características del canal G\n",
      "Extraídas 102 características del canal B\n",
      "\n",
      "Procesando 404: 7405-030904-01-00300481\n",
      "Cargando imagen y máscara de: /home/anna/TFM/Radiomica/Segmentacion/Segmentacion_resultados/7405-030904-01-00300481\n",
      "Extraídas 102 características del canal R\n",
      "Extraídas 102 características del canal G\n",
      "Extraídas 102 características del canal B\n",
      "\n",
      "Procesando 405: 57644_300481_10-7-2018_P1014267\n",
      "Cargando imagen y máscara de: /home/anna/TFM/Radiomica/Segmentacion/Segmentacion_resultados/57644_300481_10-7-2018_P1014267\n"
     ]
    },
    {
     "name": "stderr",
     "output_type": "stream",
     "text": [
      "GLCM is symmetrical, therefore Sum Average = 2 * Joint Average, only 1 needs to be calculated\n",
      "GLCM is symmetrical, therefore Sum Average = 2 * Joint Average, only 1 needs to be calculated\n",
      "GLCM is symmetrical, therefore Sum Average = 2 * Joint Average, only 1 needs to be calculated\n",
      "GLCM is symmetrical, therefore Sum Average = 2 * Joint Average, only 1 needs to be calculated\n",
      "GLCM is symmetrical, therefore Sum Average = 2 * Joint Average, only 1 needs to be calculated\n",
      "GLCM is symmetrical, therefore Sum Average = 2 * Joint Average, only 1 needs to be calculated\n",
      "GLCM is symmetrical, therefore Sum Average = 2 * Joint Average, only 1 needs to be calculated\n",
      "GLCM is symmetrical, therefore Sum Average = 2 * Joint Average, only 1 needs to be calculated\n",
      "GLCM is symmetrical, therefore Sum Average = 2 * Joint Average, only 1 needs to be calculated\n",
      "GLCM is symmetrical, therefore Sum Average = 2 * Joint Average, only 1 needs to be calculated\n"
     ]
    },
    {
     "name": "stdout",
     "output_type": "stream",
     "text": [
      "Extraídas 102 características del canal R\n",
      "Extraídas 102 características del canal G\n",
      "Extraídas 102 características del canal B\n",
      "\n",
      "Procesando 406: 62173-110613-300481-01\n",
      "Cargando imagen y máscara de: /home/anna/TFM/Radiomica/Segmentacion/Segmentacion_resultados/62173-110613-300481-01\n",
      "Extraídas 102 características del canal R\n",
      "Extraídas 102 características del canal G\n",
      "Extraídas 102 características del canal B\n",
      "\n",
      "Procesando 407: 30745-030511-300481-01\n",
      "Cargando imagen y máscara de: /home/anna/TFM/Radiomica/Segmentacion/Segmentacion_resultados/30745-030511-300481-01\n",
      "Extraídas 102 características del canal R\n",
      "Extraídas 102 características del canal G\n",
      "Extraídas 102 características del canal B\n",
      "\n",
      "Procesando 408: 57644_300481_6-9-2021_DSC_0823_seg\n",
      "Cargando imagen y máscara de: /home/anna/TFM/Radiomica/Segmentacion/Segmentacion_resultados/57644_300481_6-9-2021_DSC_0823_seg\n",
      "Extraídas 102 características del canal R\n"
     ]
    },
    {
     "name": "stderr",
     "output_type": "stream",
     "text": [
      "GLCM is symmetrical, therefore Sum Average = 2 * Joint Average, only 1 needs to be calculated\n",
      "GLCM is symmetrical, therefore Sum Average = 2 * Joint Average, only 1 needs to be calculated\n",
      "GLCM is symmetrical, therefore Sum Average = 2 * Joint Average, only 1 needs to be calculated\n",
      "GLCM is symmetrical, therefore Sum Average = 2 * Joint Average, only 1 needs to be calculated\n",
      "GLCM is symmetrical, therefore Sum Average = 2 * Joint Average, only 1 needs to be calculated\n",
      "GLCM is symmetrical, therefore Sum Average = 2 * Joint Average, only 1 needs to be calculated\n",
      "GLCM is symmetrical, therefore Sum Average = 2 * Joint Average, only 1 needs to be calculated\n",
      "GLCM is symmetrical, therefore Sum Average = 2 * Joint Average, only 1 needs to be calculated\n",
      "GLCM is symmetrical, therefore Sum Average = 2 * Joint Average, only 1 needs to be calculated\n"
     ]
    },
    {
     "name": "stdout",
     "output_type": "stream",
     "text": [
      "Extraídas 102 características del canal G\n",
      "Extraídas 102 características del canal B\n",
      "\n",
      "Procesando 409: 790935-210706-02-300481\n",
      "Cargando imagen y máscara de: /home/anna/TFM/Radiomica/Segmentacion/Segmentacion_resultados/790935-210706-02-300481\n",
      "Extraídas 102 características del canal R\n",
      "Extraídas 102 características del canal G\n",
      "Extraídas 102 características del canal B\n",
      "\n",
      "Procesando 410: 773167_300481_26-6-2020_DSC_0244\n",
      "Cargando imagen y máscara de: /home/anna/TFM/Radiomica/Segmentacion/Segmentacion_resultados/773167_300481_26-6-2020_DSC_0244\n",
      "Extraídas 102 características del canal R\n",
      "Extraídas 102 características del canal G\n",
      "Extraídas 102 características del canal B\n",
      "\n",
      "Procesando 411: 953596-160610-300481-02\n",
      "Cargando imagen y máscara de: /home/anna/TFM/Radiomica/Segmentacion/Segmentacion_resultados/953596-160610-300481-02\n",
      "Extraídas 102 características del canal R\n"
     ]
    },
    {
     "name": "stderr",
     "output_type": "stream",
     "text": [
      "GLCM is symmetrical, therefore Sum Average = 2 * Joint Average, only 1 needs to be calculated\n",
      "GLCM is symmetrical, therefore Sum Average = 2 * Joint Average, only 1 needs to be calculated\n",
      "GLCM is symmetrical, therefore Sum Average = 2 * Joint Average, only 1 needs to be calculated\n",
      "GLCM is symmetrical, therefore Sum Average = 2 * Joint Average, only 1 needs to be calculated\n",
      "GLCM is symmetrical, therefore Sum Average = 2 * Joint Average, only 1 needs to be calculated\n",
      "GLCM is symmetrical, therefore Sum Average = 2 * Joint Average, only 1 needs to be calculated\n",
      "GLCM is symmetrical, therefore Sum Average = 2 * Joint Average, only 1 needs to be calculated\n",
      "GLCM is symmetrical, therefore Sum Average = 2 * Joint Average, only 1 needs to be calculated\n",
      "GLCM is symmetrical, therefore Sum Average = 2 * Joint Average, only 1 needs to be calculated\n"
     ]
    },
    {
     "name": "stdout",
     "output_type": "stream",
     "text": [
      "Extraídas 102 características del canal G\n",
      "Extraídas 102 características del canal B\n",
      "\n",
      "Procesando 412: 1242539_300481_29-5-2018_P1013855\n",
      "Cargando imagen y máscara de: /home/anna/TFM/Radiomica/Segmentacion/Segmentacion_resultados/1242539_300481_29-5-2018_P1013855\n",
      "Extraídas 102 características del canal R\n",
      "Extraídas 102 características del canal G\n",
      "Extraídas 102 características del canal B\n",
      "\n",
      "Procesando 413: 1079087_300481_14-8-2018_P1014409\n",
      "Cargando imagen y máscara de: /home/anna/TFM/Radiomica/Segmentacion/Segmentacion_resultados/1079087_300481_14-8-2018_P1014409\n",
      "Extraídas 102 características del canal R\n",
      "Extraídas 102 características del canal G\n",
      "Extraídas 102 características del canal B\n",
      "\n",
      "Procesando 414: 210799-130707-01-300481\n",
      "Cargando imagen y máscara de: /home/anna/TFM/Radiomica/Segmentacion/Segmentacion_resultados/210799-130707-01-300481\n",
      "Extraídas 102 características del canal R\n",
      "Extraídas 102 características del canal G\n"
     ]
    },
    {
     "name": "stderr",
     "output_type": "stream",
     "text": [
      "GLCM is symmetrical, therefore Sum Average = 2 * Joint Average, only 1 needs to be calculated\n",
      "GLCM is symmetrical, therefore Sum Average = 2 * Joint Average, only 1 needs to be calculated\n",
      "GLCM is symmetrical, therefore Sum Average = 2 * Joint Average, only 1 needs to be calculated\n",
      "GLCM is symmetrical, therefore Sum Average = 2 * Joint Average, only 1 needs to be calculated\n",
      "GLCM is symmetrical, therefore Sum Average = 2 * Joint Average, only 1 needs to be calculated\n",
      "GLCM is symmetrical, therefore Sum Average = 2 * Joint Average, only 1 needs to be calculated\n",
      "GLCM is symmetrical, therefore Sum Average = 2 * Joint Average, only 1 needs to be calculated\n",
      "GLCM is symmetrical, therefore Sum Average = 2 * Joint Average, only 1 needs to be calculated\n",
      "GLCM is symmetrical, therefore Sum Average = 2 * Joint Average, only 1 needs to be calculated\n"
     ]
    },
    {
     "name": "stdout",
     "output_type": "stream",
     "text": [
      "Extraídas 102 características del canal B\n",
      "\n",
      "Procesando 415: 102957-240106-02-300481\n",
      "Cargando imagen y máscara de: /home/anna/TFM/Radiomica/Segmentacion/Segmentacion_resultados/102957-240106-02-300481\n",
      "Extraídas 102 características del canal R\n",
      "Extraídas 102 características del canal G\n",
      "Extraídas 102 características del canal B\n",
      "\n",
      "Procesando 416: 10028-101204-01-300481\n",
      "Cargando imagen y máscara de: /home/anna/TFM/Radiomica/Segmentacion/Segmentacion_resultados/10028-101204-01-300481\n",
      "Extraídas 102 características del canal R\n",
      "Extraídas 102 características del canal G\n",
      "Extraídas 102 características del canal B\n",
      "\n",
      "Procesando 417: 59209-090608-300481-02\n",
      "Cargando imagen y máscara de: /home/anna/TFM/Radiomica/Segmentacion/Segmentacion_resultados/59209-090608-300481-02\n",
      "Extraídas 102 características del canal R\n",
      "Extraídas 102 características del canal G\n"
     ]
    },
    {
     "name": "stderr",
     "output_type": "stream",
     "text": [
      "GLCM is symmetrical, therefore Sum Average = 2 * Joint Average, only 1 needs to be calculated\n",
      "GLCM is symmetrical, therefore Sum Average = 2 * Joint Average, only 1 needs to be calculated\n",
      "GLCM is symmetrical, therefore Sum Average = 2 * Joint Average, only 1 needs to be calculated\n",
      "GLCM is symmetrical, therefore Sum Average = 2 * Joint Average, only 1 needs to be calculated\n",
      "GLCM is symmetrical, therefore Sum Average = 2 * Joint Average, only 1 needs to be calculated\n",
      "GLCM is symmetrical, therefore Sum Average = 2 * Joint Average, only 1 needs to be calculated\n",
      "GLCM is symmetrical, therefore Sum Average = 2 * Joint Average, only 1 needs to be calculated\n",
      "GLCM is symmetrical, therefore Sum Average = 2 * Joint Average, only 1 needs to be calculated\n",
      "GLCM is symmetrical, therefore Sum Average = 2 * Joint Average, only 1 needs to be calculated\n",
      "GLCM is symmetrical, therefore Sum Average = 2 * Joint Average, only 1 needs to be calculated\n"
     ]
    },
    {
     "name": "stdout",
     "output_type": "stream",
     "text": [
      "Extraídas 102 características del canal B\n",
      "\n",
      "Procesando 418: 634552-200606-01-300481\n",
      "Cargando imagen y máscara de: /home/anna/TFM/Radiomica/Segmentacion/Segmentacion_resultados/634552-200606-01-300481\n",
      "Extraídas 102 características del canal R\n",
      "Extraídas 102 características del canal G\n",
      "Extraídas 102 características del canal B\n",
      "\n",
      "Procesando 419: 127513-070605-01-300481\n",
      "Cargando imagen y máscara de: /home/anna/TFM/Radiomica/Segmentacion/Segmentacion_resultados/127513-070605-01-300481\n",
      "Extraídas 102 características del canal R\n",
      "Extraídas 102 características del canal G\n",
      "Extraídas 102 características del canal B\n",
      "\n",
      "Procesando 420: 30745-220408-300481-02\n",
      "Cargando imagen y máscara de: /home/anna/TFM/Radiomica/Segmentacion/Segmentacion_resultados/30745-220408-300481-02\n",
      "Extraídas 102 características del canal R\n",
      "Extraídas 102 características del canal G\n",
      "Extraídas 102 características del canal B\n",
      "\n",
      "Procesando 421: 213049-170505-01-300481\n",
      "Cargando imagen y máscara de: /home/anna/TFM/Radiomica/Segmentacion/Segmentacion_resultados/213049-170505-01-300481\n"
     ]
    },
    {
     "name": "stderr",
     "output_type": "stream",
     "text": [
      "GLCM is symmetrical, therefore Sum Average = 2 * Joint Average, only 1 needs to be calculated\n",
      "GLCM is symmetrical, therefore Sum Average = 2 * Joint Average, only 1 needs to be calculated\n",
      "GLCM is symmetrical, therefore Sum Average = 2 * Joint Average, only 1 needs to be calculated\n",
      "GLCM is symmetrical, therefore Sum Average = 2 * Joint Average, only 1 needs to be calculated\n",
      "GLCM is symmetrical, therefore Sum Average = 2 * Joint Average, only 1 needs to be calculated\n",
      "GLCM is symmetrical, therefore Sum Average = 2 * Joint Average, only 1 needs to be calculated\n",
      "GLCM is symmetrical, therefore Sum Average = 2 * Joint Average, only 1 needs to be calculated\n",
      "GLCM is symmetrical, therefore Sum Average = 2 * Joint Average, only 1 needs to be calculated\n",
      "GLCM is symmetrical, therefore Sum Average = 2 * Joint Average, only 1 needs to be calculated\n"
     ]
    },
    {
     "name": "stdout",
     "output_type": "stream",
     "text": [
      "Extraídas 102 características del canal R\n",
      "Extraídas 102 características del canal G\n",
      "Extraídas 102 características del canal B\n",
      "\n",
      "Procesando 422: 133662-290208-300481-02\n",
      "Cargando imagen y máscara de: /home/anna/TFM/Radiomica/Segmentacion/Segmentacion_resultados/133662-290208-300481-02\n",
      "Extraídas 102 características del canal R\n",
      "Extraídas 102 características del canal G\n",
      "Extraídas 102 características del canal B\n",
      "\n",
      "Procesando 423: 311397-210513-300481-01\n",
      "Cargando imagen y máscara de: /home/anna/TFM/Radiomica/Segmentacion/Segmentacion_resultados/311397-210513-300481-01\n",
      "Extraídas 102 características del canal R\n",
      "Extraídas 102 características del canal G\n"
     ]
    },
    {
     "name": "stderr",
     "output_type": "stream",
     "text": [
      "GLCM is symmetrical, therefore Sum Average = 2 * Joint Average, only 1 needs to be calculated\n",
      "GLCM is symmetrical, therefore Sum Average = 2 * Joint Average, only 1 needs to be calculated\n",
      "GLCM is symmetrical, therefore Sum Average = 2 * Joint Average, only 1 needs to be calculated\n",
      "GLCM is symmetrical, therefore Sum Average = 2 * Joint Average, only 1 needs to be calculated\n",
      "GLCM is symmetrical, therefore Sum Average = 2 * Joint Average, only 1 needs to be calculated\n",
      "GLCM is symmetrical, therefore Sum Average = 2 * Joint Average, only 1 needs to be calculated\n",
      "GLCM is symmetrical, therefore Sum Average = 2 * Joint Average, only 1 needs to be calculated\n",
      "GLCM is symmetrical, therefore Sum Average = 2 * Joint Average, only 1 needs to be calculated\n",
      "GLCM is symmetrical, therefore Sum Average = 2 * Joint Average, only 1 needs to be calculated\n"
     ]
    },
    {
     "name": "stdout",
     "output_type": "stream",
     "text": [
      "Extraídas 102 características del canal B\n",
      "\n",
      "Procesando 424: 173035-270109-300481-03\n",
      "Cargando imagen y máscara de: /home/anna/TFM/Radiomica/Segmentacion/Segmentacion_resultados/173035-270109-300481-03\n",
      "Extraídas 102 características del canal R\n",
      "Extraídas 102 características del canal G\n",
      "Extraídas 102 características del canal B\n",
      "\n",
      "Procesando 425: 1097005_300481_21-12-2021_P1011045\n",
      "Cargando imagen y máscara de: /home/anna/TFM/Radiomica/Segmentacion/Segmentacion_resultados/1097005_300481_21-12-2021_P1011045\n",
      "Extraídas 102 características del canal R\n",
      "Extraídas 102 características del canal G\n",
      "Extraídas 102 características del canal B\n",
      "\n",
      "Procesando 426: 62173-180510-300481-300501-04\n",
      "Cargando imagen y máscara de: /home/anna/TFM/Radiomica/Segmentacion/Segmentacion_resultados/62173-180510-300481-300501-04\n",
      "Extraídas 102 características del canal R\n",
      "Extraídas 102 características del canal G\n",
      "Extraídas 102 características del canal B\n",
      "\n",
      "Procesando 427: 20331-z2024-30012024-300481-1\n",
      "Cargando imagen y máscara de: /home/anna/TFM/Radiomica/Segmentacion/Segmentacion_resultados/20331-z2024-30012024-300481-1\n"
     ]
    },
    {
     "name": "stderr",
     "output_type": "stream",
     "text": [
      "GLCM is symmetrical, therefore Sum Average = 2 * Joint Average, only 1 needs to be calculated\n",
      "GLCM is symmetrical, therefore Sum Average = 2 * Joint Average, only 1 needs to be calculated\n",
      "GLCM is symmetrical, therefore Sum Average = 2 * Joint Average, only 1 needs to be calculated\n",
      "GLCM is symmetrical, therefore Sum Average = 2 * Joint Average, only 1 needs to be calculated\n",
      "GLCM is symmetrical, therefore Sum Average = 2 * Joint Average, only 1 needs to be calculated\n",
      "GLCM is symmetrical, therefore Sum Average = 2 * Joint Average, only 1 needs to be calculated\n",
      "GLCM is symmetrical, therefore Sum Average = 2 * Joint Average, only 1 needs to be calculated\n",
      "GLCM is symmetrical, therefore Sum Average = 2 * Joint Average, only 1 needs to be calculated\n",
      "GLCM is symmetrical, therefore Sum Average = 2 * Joint Average, only 1 needs to be calculated\n"
     ]
    },
    {
     "name": "stdout",
     "output_type": "stream",
     "text": [
      "Extraídas 102 características del canal R\n",
      "Extraídas 102 características del canal G\n",
      "Extraídas 102 características del canal B\n",
      "\n",
      "Procesando 428: 1337634_300481_1-9-2020_IMG_0199\n",
      "Cargando imagen y máscara de: /home/anna/TFM/Radiomica/Segmentacion/Segmentacion_resultados/1337634_300481_1-9-2020_IMG_0199\n",
      "Extraídas 102 características del canal R\n",
      "Extraídas 102 características del canal G\n",
      "Extraídas 102 características del canal B\n",
      "\n",
      "Procesando 429: 99430-231208-300481-02\n",
      "Cargando imagen y máscara de: /home/anna/TFM/Radiomica/Segmentacion/Segmentacion_resultados/99430-231208-300481-02\n",
      "Extraídas 102 características del canal R\n",
      "Extraídas 102 características del canal G\n",
      "Extraídas 102 características del canal B\n",
      "\n",
      "Procesando 430: 1086247_300481_16-2-2021_IMG_1237\n"
     ]
    },
    {
     "name": "stderr",
     "output_type": "stream",
     "text": [
      "GLCM is symmetrical, therefore Sum Average = 2 * Joint Average, only 1 needs to be calculated\n",
      "GLCM is symmetrical, therefore Sum Average = 2 * Joint Average, only 1 needs to be calculated\n",
      "GLCM is symmetrical, therefore Sum Average = 2 * Joint Average, only 1 needs to be calculated\n",
      "GLCM is symmetrical, therefore Sum Average = 2 * Joint Average, only 1 needs to be calculated\n",
      "GLCM is symmetrical, therefore Sum Average = 2 * Joint Average, only 1 needs to be calculated\n",
      "GLCM is symmetrical, therefore Sum Average = 2 * Joint Average, only 1 needs to be calculated\n",
      "GLCM is symmetrical, therefore Sum Average = 2 * Joint Average, only 1 needs to be calculated\n",
      "GLCM is symmetrical, therefore Sum Average = 2 * Joint Average, only 1 needs to be calculated\n"
     ]
    },
    {
     "name": "stdout",
     "output_type": "stream",
     "text": [
      "Cargando imagen y máscara de: /home/anna/TFM/Radiomica/Segmentacion/Segmentacion_resultados/1086247_300481_16-2-2021_IMG_1237\n",
      "Extraídas 102 características del canal R\n",
      "Extraídas 102 características del canal G\n",
      "Extraídas 102 características del canal B\n",
      "\n",
      "Procesando 431: 959892-210410-300481-02\n",
      "Cargando imagen y máscara de: /home/anna/TFM/Radiomica/Segmentacion/Segmentacion_resultados/959892-210410-300481-02\n",
      "Extraídas 102 características del canal R\n",
      "Extraídas 102 características del canal G\n",
      "Extraídas 102 características del canal B\n",
      "\n",
      "Procesando 432: 267548-100310-300481-01\n",
      "Cargando imagen y máscara de: /home/anna/TFM/Radiomica/Segmentacion/Segmentacion_resultados/267548-100310-300481-01\n",
      "Extraídas 102 características del canal R\n"
     ]
    },
    {
     "name": "stderr",
     "output_type": "stream",
     "text": [
      "GLCM is symmetrical, therefore Sum Average = 2 * Joint Average, only 1 needs to be calculated\n",
      "GLCM is symmetrical, therefore Sum Average = 2 * Joint Average, only 1 needs to be calculated\n",
      "GLCM is symmetrical, therefore Sum Average = 2 * Joint Average, only 1 needs to be calculated\n",
      "GLCM is symmetrical, therefore Sum Average = 2 * Joint Average, only 1 needs to be calculated\n",
      "GLCM is symmetrical, therefore Sum Average = 2 * Joint Average, only 1 needs to be calculated\n",
      "GLCM is symmetrical, therefore Sum Average = 2 * Joint Average, only 1 needs to be calculated\n",
      "GLCM is symmetrical, therefore Sum Average = 2 * Joint Average, only 1 needs to be calculated\n",
      "GLCM is symmetrical, therefore Sum Average = 2 * Joint Average, only 1 needs to be calculated\n"
     ]
    },
    {
     "name": "stdout",
     "output_type": "stream",
     "text": [
      "Extraídas 102 características del canal G\n",
      "Extraídas 102 características del canal B\n",
      "\n",
      "Procesando 433: 30745-050711-300481-03\n",
      "Cargando imagen y máscara de: /home/anna/TFM/Radiomica/Segmentacion/Segmentacion_resultados/30745-050711-300481-03\n",
      "Extraídas 102 características del canal R\n",
      "Extraídas 102 características del canal G\n",
      "Extraídas 102 características del canal B\n",
      "\n",
      "Procesando 434: 445051-041103-02-00300481\n",
      "Cargando imagen y máscara de: /home/anna/TFM/Radiomica/Segmentacion/Segmentacion_resultados/445051-041103-02-00300481\n",
      "Extraídas 102 características del canal R\n",
      "Extraídas 102 características del canal G\n",
      "Extraídas 102 características del canal B\n",
      "\n",
      "Procesando 435: 19031-z2021-25082021-300481-6\n",
      "Cargando imagen y máscara de: /home/anna/TFM/Radiomica/Segmentacion/Segmentacion_resultados/19031-z2021-25082021-300481-6\n"
     ]
    },
    {
     "name": "stderr",
     "output_type": "stream",
     "text": [
      "GLCM is symmetrical, therefore Sum Average = 2 * Joint Average, only 1 needs to be calculated\n",
      "GLCM is symmetrical, therefore Sum Average = 2 * Joint Average, only 1 needs to be calculated\n",
      "GLCM is symmetrical, therefore Sum Average = 2 * Joint Average, only 1 needs to be calculated\n",
      "GLCM is symmetrical, therefore Sum Average = 2 * Joint Average, only 1 needs to be calculated\n",
      "GLCM is symmetrical, therefore Sum Average = 2 * Joint Average, only 1 needs to be calculated\n",
      "GLCM is symmetrical, therefore Sum Average = 2 * Joint Average, only 1 needs to be calculated\n",
      "GLCM is symmetrical, therefore Sum Average = 2 * Joint Average, only 1 needs to be calculated\n",
      "GLCM is symmetrical, therefore Sum Average = 2 * Joint Average, only 1 needs to be calculated\n"
     ]
    },
    {
     "name": "stdout",
     "output_type": "stream",
     "text": [
      "Extraídas 102 características del canal R\n",
      "Extraídas 102 características del canal G\n",
      "Extraídas 102 características del canal B\n",
      "\n",
      "Procesando 436: 351609_300481_28-4-2021_DSC_0171\n",
      "Cargando imagen y máscara de: /home/anna/TFM/Radiomica/Segmentacion/Segmentacion_resultados/351609_300481_28-4-2021_DSC_0171\n",
      "Extraídas 102 características del canal R\n",
      "Extraídas 102 características del canal G\n",
      "Extraídas 102 características del canal B\n",
      "\n",
      "Procesando 437: 127513-070605-02-300481\n",
      "Cargando imagen y máscara de: /home/anna/TFM/Radiomica/Segmentacion/Segmentacion_resultados/127513-070605-02-300481\n",
      "Extraídas 102 características del canal R\n",
      "Extraídas 102 características del canal G\n",
      "Extraídas 102 características del canal B\n",
      "\n",
      "Procesando 438: 285871-080808-300021-01\n"
     ]
    },
    {
     "name": "stderr",
     "output_type": "stream",
     "text": [
      "GLCM is symmetrical, therefore Sum Average = 2 * Joint Average, only 1 needs to be calculated\n",
      "GLCM is symmetrical, therefore Sum Average = 2 * Joint Average, only 1 needs to be calculated\n",
      "GLCM is symmetrical, therefore Sum Average = 2 * Joint Average, only 1 needs to be calculated\n",
      "GLCM is symmetrical, therefore Sum Average = 2 * Joint Average, only 1 needs to be calculated\n",
      "GLCM is symmetrical, therefore Sum Average = 2 * Joint Average, only 1 needs to be calculated\n",
      "GLCM is symmetrical, therefore Sum Average = 2 * Joint Average, only 1 needs to be calculated\n",
      "GLCM is symmetrical, therefore Sum Average = 2 * Joint Average, only 1 needs to be calculated\n",
      "GLCM is symmetrical, therefore Sum Average = 2 * Joint Average, only 1 needs to be calculated\n",
      "GLCM is symmetrical, therefore Sum Average = 2 * Joint Average, only 1 needs to be calculated\n",
      "GLCM is symmetrical, therefore Sum Average = 2 * Joint Average, only 1 needs to be calculated\n"
     ]
    },
    {
     "name": "stdout",
     "output_type": "stream",
     "text": [
      "Cargando imagen y máscara de: /home/anna/TFM/Radiomica/Segmentacion/Segmentacion_resultados/285871-080808-300021-01\n",
      "Extraídas 102 características del canal R\n",
      "Extraídas 102 características del canal G\n",
      "Extraídas 102 características del canal B\n",
      "\n",
      "Procesando 439: 147951_300481_26-11-2021_DSC_0334\n",
      "Cargando imagen y máscara de: /home/anna/TFM/Radiomica/Segmentacion/Segmentacion_resultados/147951_300481_26-11-2021_DSC_0334\n",
      "Extraídas 102 características del canal R\n",
      "Extraídas 102 características del canal G\n",
      "Extraídas 102 características del canal B\n",
      "\n",
      "Procesando 440: 81679-080102-06-00300426\n",
      "Cargando imagen y máscara de: /home/anna/TFM/Radiomica/Segmentacion/Segmentacion_resultados/81679-080102-06-00300426\n",
      "Extraídas 102 características del canal R\n",
      "Extraídas 102 características del canal G\n",
      "Extraídas 102 características del canal B\n",
      "\n",
      "Procesando 441: 20150-z2023-300481-27092023-2\n",
      "Cargando imagen y máscara de: /home/anna/TFM/Radiomica/Segmentacion/Segmentacion_resultados/20150-z2023-300481-27092023-2\n",
      "Extraídas 102 características del canal R\n"
     ]
    },
    {
     "name": "stderr",
     "output_type": "stream",
     "text": [
      "GLCM is symmetrical, therefore Sum Average = 2 * Joint Average, only 1 needs to be calculated\n",
      "GLCM is symmetrical, therefore Sum Average = 2 * Joint Average, only 1 needs to be calculated\n",
      "GLCM is symmetrical, therefore Sum Average = 2 * Joint Average, only 1 needs to be calculated\n",
      "GLCM is symmetrical, therefore Sum Average = 2 * Joint Average, only 1 needs to be calculated\n",
      "GLCM is symmetrical, therefore Sum Average = 2 * Joint Average, only 1 needs to be calculated\n",
      "GLCM is symmetrical, therefore Sum Average = 2 * Joint Average, only 1 needs to be calculated\n",
      "GLCM is symmetrical, therefore Sum Average = 2 * Joint Average, only 1 needs to be calculated\n",
      "GLCM is symmetrical, therefore Sum Average = 2 * Joint Average, only 1 needs to be calculated\n",
      "GLCM is symmetrical, therefore Sum Average = 2 * Joint Average, only 1 needs to be calculated\n",
      "GLCM is symmetrical, therefore Sum Average = 2 * Joint Average, only 1 needs to be calculated\n"
     ]
    },
    {
     "name": "stdout",
     "output_type": "stream",
     "text": [
      "Extraídas 102 características del canal G\n",
      "Extraídas 102 características del canal B\n",
      "\n",
      "Procesando 442: 133945_300481_29-1-2024_DSC_0090\n",
      "Cargando imagen y máscara de: /home/anna/TFM/Radiomica/Segmentacion/Segmentacion_resultados/133945_300481_29-1-2024_DSC_0090\n",
      "Extraídas 102 características del canal R\n",
      "Extraídas 102 características del canal G\n",
      "Extraídas 102 características del canal B\n",
      "\n",
      "Procesando 443: 552280_300481_2-12-2020_DSC_0131\n",
      "Cargando imagen y máscara de: /home/anna/TFM/Radiomica/Segmentacion/Segmentacion_resultados/552280_300481_2-12-2020_DSC_0131\n",
      "Extraídas 102 características del canal R\n",
      "Extraídas 102 características del canal G\n",
      "Extraídas 102 características del canal B\n",
      "\n",
      "Procesando 444: 1409330_300481_14-2-2022_DSC_0013\n",
      "Cargando imagen y máscara de: /home/anna/TFM/Radiomica/Segmentacion/Segmentacion_resultados/1409330_300481_14-2-2022_DSC_0013\n",
      "Extraídas 102 características del canal R\n"
     ]
    },
    {
     "name": "stderr",
     "output_type": "stream",
     "text": [
      "GLCM is symmetrical, therefore Sum Average = 2 * Joint Average, only 1 needs to be calculated\n",
      "GLCM is symmetrical, therefore Sum Average = 2 * Joint Average, only 1 needs to be calculated\n",
      "GLCM is symmetrical, therefore Sum Average = 2 * Joint Average, only 1 needs to be calculated\n",
      "GLCM is symmetrical, therefore Sum Average = 2 * Joint Average, only 1 needs to be calculated\n",
      "GLCM is symmetrical, therefore Sum Average = 2 * Joint Average, only 1 needs to be calculated\n",
      "GLCM is symmetrical, therefore Sum Average = 2 * Joint Average, only 1 needs to be calculated\n",
      "GLCM is symmetrical, therefore Sum Average = 2 * Joint Average, only 1 needs to be calculated\n",
      "GLCM is symmetrical, therefore Sum Average = 2 * Joint Average, only 1 needs to be calculated\n",
      "GLCM is symmetrical, therefore Sum Average = 2 * Joint Average, only 1 needs to be calculated\n"
     ]
    },
    {
     "name": "stdout",
     "output_type": "stream",
     "text": [
      "Extraídas 102 características del canal G\n",
      "Extraídas 102 características del canal B\n",
      "\n",
      "Procesando 445: 797348_300481_26-6-2020_DSC_0248\n",
      "Cargando imagen y máscara de: /home/anna/TFM/Radiomica/Segmentacion/Segmentacion_resultados/797348_300481_26-6-2020_DSC_0248\n",
      "Extraídas 102 características del canal R\n",
      "Extraídas 102 características del canal G\n",
      "Extraídas 102 características del canal B\n",
      "\n",
      "Procesando 446: 117833-010708-300481-01\n",
      "Cargando imagen y máscara de: /home/anna/TFM/Radiomica/Segmentacion/Segmentacion_resultados/117833-010708-300481-01\n",
      "Extraídas 102 características del canal R\n",
      "Extraídas 102 características del canal G\n",
      "Extraídas 102 características del canal B\n",
      "\n",
      "Procesando 447: 30745-250912-300481-02\n",
      "Cargando imagen y máscara de: /home/anna/TFM/Radiomica/Segmentacion/Segmentacion_resultados/30745-250912-300481-02\n",
      "Extraídas 102 características del canal R\n",
      "Extraídas 102 características del canal G\n"
     ]
    },
    {
     "name": "stderr",
     "output_type": "stream",
     "text": [
      "GLCM is symmetrical, therefore Sum Average = 2 * Joint Average, only 1 needs to be calculated\n",
      "GLCM is symmetrical, therefore Sum Average = 2 * Joint Average, only 1 needs to be calculated\n",
      "GLCM is symmetrical, therefore Sum Average = 2 * Joint Average, only 1 needs to be calculated\n",
      "GLCM is symmetrical, therefore Sum Average = 2 * Joint Average, only 1 needs to be calculated\n",
      "GLCM is symmetrical, therefore Sum Average = 2 * Joint Average, only 1 needs to be calculated\n",
      "GLCM is symmetrical, therefore Sum Average = 2 * Joint Average, only 1 needs to be calculated\n",
      "GLCM is symmetrical, therefore Sum Average = 2 * Joint Average, only 1 needs to be calculated\n",
      "GLCM is symmetrical, therefore Sum Average = 2 * Joint Average, only 1 needs to be calculated\n",
      "GLCM is symmetrical, therefore Sum Average = 2 * Joint Average, only 1 needs to be calculated\n",
      "GLCM is symmetrical, therefore Sum Average = 2 * Joint Average, only 1 needs to be calculated\n"
     ]
    },
    {
     "name": "stdout",
     "output_type": "stream",
     "text": [
      "Extraídas 102 características del canal B\n",
      "\n",
      "Procesando 448: 720888-010604-02-300481\n",
      "Cargando imagen y máscara de: /home/anna/TFM/Radiomica/Segmentacion/Segmentacion_resultados/720888-010604-02-300481\n",
      "Extraídas 102 características del canal R\n",
      "Extraídas 102 características del canal G\n",
      "Extraídas 102 características del canal B\n",
      "\n",
      "Procesando 449: 811467-240707-01-300481\n",
      "Cargando imagen y máscara de: /home/anna/TFM/Radiomica/Segmentacion/Segmentacion_resultados/811467-240707-01-300481\n",
      "Extraídas 102 características del canal R\n",
      "Extraídas 102 características del canal G\n",
      "Extraídas 102 características del canal B\n",
      "\n",
      "Procesando 450: 143392-080211-300481-01\n",
      "Cargando imagen y máscara de: /home/anna/TFM/Radiomica/Segmentacion/Segmentacion_resultados/143392-080211-300481-01\n",
      "Extraídas 102 características del canal R\n",
      "Extraídas 102 características del canal G\n",
      "Extraídas 102 características del canal B\n"
     ]
    },
    {
     "name": "stderr",
     "output_type": "stream",
     "text": [
      "GLCM is symmetrical, therefore Sum Average = 2 * Joint Average, only 1 needs to be calculated\n",
      "GLCM is symmetrical, therefore Sum Average = 2 * Joint Average, only 1 needs to be calculated\n",
      "GLCM is symmetrical, therefore Sum Average = 2 * Joint Average, only 1 needs to be calculated\n",
      "GLCM is symmetrical, therefore Sum Average = 2 * Joint Average, only 1 needs to be calculated\n",
      "GLCM is symmetrical, therefore Sum Average = 2 * Joint Average, only 1 needs to be calculated\n",
      "GLCM is symmetrical, therefore Sum Average = 2 * Joint Average, only 1 needs to be calculated\n",
      "GLCM is symmetrical, therefore Sum Average = 2 * Joint Average, only 1 needs to be calculated\n",
      "GLCM is symmetrical, therefore Sum Average = 2 * Joint Average, only 1 needs to be calculated\n",
      "GLCM is symmetrical, therefore Sum Average = 2 * Joint Average, only 1 needs to be calculated\n"
     ]
    },
    {
     "name": "stdout",
     "output_type": "stream",
     "text": [
      "\n",
      "Procesando 451: 507603_300481_7-9-2022_DSC_0312\n",
      "Cargando imagen y máscara de: /home/anna/TFM/Radiomica/Segmentacion/Segmentacion_resultados/507603_300481_7-9-2022_DSC_0312\n",
      "Extraídas 102 características del canal R\n",
      "Extraídas 102 características del canal G\n",
      "Extraídas 102 características del canal B\n",
      "\n",
      "Procesando 452: 791291-260706-02-300481\n",
      "Cargando imagen y máscara de: /home/anna/TFM/Radiomica/Segmentacion/Segmentacion_resultados/791291-260706-02-300481\n",
      "Extraídas 102 características del canal R\n",
      "Extraídas 102 características del canal G\n",
      "Extraídas 102 características del canal B\n",
      "\n",
      "Procesando 453: 7735-18.7.16-300481(2)\n",
      "Cargando imagen y máscara de: /home/anna/TFM/Radiomica/Segmentacion/Segmentacion_resultados/7735-18.7.16-300481(2)\n",
      "Extraídas 102 características del canal R\n",
      "Extraídas 102 características del canal G\n",
      "Extraídas 102 características del canal B\n",
      "\n",
      "Procesando 454: 133662-290208-300481-01\n",
      "Cargando imagen y máscara de: /home/anna/TFM/Radiomica/Segmentacion/Segmentacion_resultados/133662-290208-300481-01\n"
     ]
    },
    {
     "name": "stderr",
     "output_type": "stream",
     "text": [
      "GLCM is symmetrical, therefore Sum Average = 2 * Joint Average, only 1 needs to be calculated\n",
      "GLCM is symmetrical, therefore Sum Average = 2 * Joint Average, only 1 needs to be calculated\n",
      "GLCM is symmetrical, therefore Sum Average = 2 * Joint Average, only 1 needs to be calculated\n",
      "GLCM is symmetrical, therefore Sum Average = 2 * Joint Average, only 1 needs to be calculated\n",
      "GLCM is symmetrical, therefore Sum Average = 2 * Joint Average, only 1 needs to be calculated\n",
      "GLCM is symmetrical, therefore Sum Average = 2 * Joint Average, only 1 needs to be calculated\n",
      "GLCM is symmetrical, therefore Sum Average = 2 * Joint Average, only 1 needs to be calculated\n",
      "GLCM is symmetrical, therefore Sum Average = 2 * Joint Average, only 1 needs to be calculated\n"
     ]
    },
    {
     "name": "stdout",
     "output_type": "stream",
     "text": [
      "Extraídas 102 características del canal R\n",
      "Extraídas 102 características del canal G\n",
      "Extraídas 102 características del canal B\n",
      "\n",
      "Procesando 455: 810091-141210-300481-03\n",
      "Cargando imagen y máscara de: /home/anna/TFM/Radiomica/Segmentacion/Segmentacion_resultados/810091-141210-300481-03\n",
      "Extraídas 102 características del canal R\n",
      "Extraídas 102 características del canal G\n",
      "Extraídas 102 características del canal B\n",
      "\n",
      "Procesando 456: 124965-230905-02-300482\n",
      "Cargando imagen y máscara de: /home/anna/TFM/Radiomica/Segmentacion/Segmentacion_resultados/124965-230905-02-300482\n",
      "Extraídas 102 características del canal R\n"
     ]
    },
    {
     "name": "stderr",
     "output_type": "stream",
     "text": [
      "GLCM is symmetrical, therefore Sum Average = 2 * Joint Average, only 1 needs to be calculated\n",
      "GLCM is symmetrical, therefore Sum Average = 2 * Joint Average, only 1 needs to be calculated\n",
      "GLCM is symmetrical, therefore Sum Average = 2 * Joint Average, only 1 needs to be calculated\n",
      "GLCM is symmetrical, therefore Sum Average = 2 * Joint Average, only 1 needs to be calculated\n",
      "GLCM is symmetrical, therefore Sum Average = 2 * Joint Average, only 1 needs to be calculated\n",
      "GLCM is symmetrical, therefore Sum Average = 2 * Joint Average, only 1 needs to be calculated\n",
      "GLCM is symmetrical, therefore Sum Average = 2 * Joint Average, only 1 needs to be calculated\n",
      "GLCM is symmetrical, therefore Sum Average = 2 * Joint Average, only 1 needs to be calculated\n",
      "GLCM is symmetrical, therefore Sum Average = 2 * Joint Average, only 1 needs to be calculated\n"
     ]
    },
    {
     "name": "stdout",
     "output_type": "stream",
     "text": [
      "Extraídas 102 características del canal G\n",
      "Extraídas 102 características del canal B\n",
      "\n",
      "Procesando 457: 385091_300481_9-3-2021_IMG_1344\n",
      "Cargando imagen y máscara de: /home/anna/TFM/Radiomica/Segmentacion/Segmentacion_resultados/385091_300481_9-3-2021_IMG_1344\n",
      "Extraídas 102 características del canal R\n",
      "Extraídas 102 características del canal G\n",
      "Extraídas 102 características del canal B\n",
      "\n",
      "Procesando 458: 835926-241207-300481-01\n",
      "Cargando imagen y máscara de: /home/anna/TFM/Radiomica/Segmentacion/Segmentacion_resultados/835926-241207-300481-01\n",
      "Extraídas 102 características del canal R\n",
      "Extraídas 102 características del canal G\n",
      "Extraídas 102 características del canal B\n",
      "\n",
      "Procesando 459: 618614-051206-01-300481\n",
      "Cargando imagen y máscara de: /home/anna/TFM/Radiomica/Segmentacion/Segmentacion_resultados/618614-051206-01-300481\n",
      "Extraídas 102 características del canal R\n"
     ]
    },
    {
     "name": "stderr",
     "output_type": "stream",
     "text": [
      "GLCM is symmetrical, therefore Sum Average = 2 * Joint Average, only 1 needs to be calculated\n",
      "GLCM is symmetrical, therefore Sum Average = 2 * Joint Average, only 1 needs to be calculated\n",
      "GLCM is symmetrical, therefore Sum Average = 2 * Joint Average, only 1 needs to be calculated\n",
      "GLCM is symmetrical, therefore Sum Average = 2 * Joint Average, only 1 needs to be calculated\n",
      "GLCM is symmetrical, therefore Sum Average = 2 * Joint Average, only 1 needs to be calculated\n",
      "GLCM is symmetrical, therefore Sum Average = 2 * Joint Average, only 1 needs to be calculated\n",
      "GLCM is symmetrical, therefore Sum Average = 2 * Joint Average, only 1 needs to be calculated\n"
     ]
    },
    {
     "name": "stdout",
     "output_type": "stream",
     "text": [
      "Extraídas 102 características del canal G\n",
      "Extraídas 102 características del canal B\n",
      "\n",
      "Procesando 460: 255168_300481_1-12-2020_DSC_0097\n",
      "Cargando imagen y máscara de: /home/anna/TFM/Radiomica/Segmentacion/Segmentacion_resultados/255168_300481_1-12-2020_DSC_0097\n",
      "Extraídas 102 características del canal R\n",
      "Extraídas 102 características del canal G\n",
      "Extraídas 102 características del canal B\n",
      "\n",
      "Procesando 461: 225103_150515_300481 (1)\n",
      "Cargando imagen y máscara de: /home/anna/TFM/Radiomica/Segmentacion/Segmentacion_resultados/225103_150515_300481 (1)\n",
      "Extraídas 102 características del canal R\n",
      "Extraídas 102 características del canal G\n",
      "Extraídas 102 características del canal B\n",
      "\n",
      "Procesando 462: 52878-060508-300481-05\n"
     ]
    },
    {
     "name": "stderr",
     "output_type": "stream",
     "text": [
      "GLCM is symmetrical, therefore Sum Average = 2 * Joint Average, only 1 needs to be calculated\n",
      "GLCM is symmetrical, therefore Sum Average = 2 * Joint Average, only 1 needs to be calculated\n",
      "GLCM is symmetrical, therefore Sum Average = 2 * Joint Average, only 1 needs to be calculated\n",
      "GLCM is symmetrical, therefore Sum Average = 2 * Joint Average, only 1 needs to be calculated\n",
      "GLCM is symmetrical, therefore Sum Average = 2 * Joint Average, only 1 needs to be calculated\n",
      "GLCM is symmetrical, therefore Sum Average = 2 * Joint Average, only 1 needs to be calculated\n",
      "GLCM is symmetrical, therefore Sum Average = 2 * Joint Average, only 1 needs to be calculated\n",
      "GLCM is symmetrical, therefore Sum Average = 2 * Joint Average, only 1 needs to be calculated\n"
     ]
    },
    {
     "name": "stdout",
     "output_type": "stream",
     "text": [
      "Cargando imagen y máscara de: /home/anna/TFM/Radiomica/Segmentacion/Segmentacion_resultados/52878-060508-300481-05\n",
      "Extraídas 102 características del canal R\n",
      "Extraídas 102 características del canal G\n",
      "Extraídas 102 características del canal B\n",
      "\n",
      "Procesando 463: 172817-160312-300481 (2)\n",
      "Cargando imagen y máscara de: /home/anna/TFM/Radiomica/Segmentacion/Segmentacion_resultados/172817-160312-300481 (2)\n",
      "Extraídas 102 características del canal R\n",
      "Extraídas 102 características del canal G\n",
      "Extraídas 102 características del canal B\n",
      "\n",
      "Procesando 464: 521325_300481_20-5-2022_DSC_0246\n",
      "Cargando imagen y máscara de: /home/anna/TFM/Radiomica/Segmentacion/Segmentacion_resultados/521325_300481_20-5-2022_DSC_0246\n",
      "Extraídas 102 características del canal R\n",
      "Extraídas 102 características del canal G\n"
     ]
    },
    {
     "name": "stderr",
     "output_type": "stream",
     "text": [
      "GLCM is symmetrical, therefore Sum Average = 2 * Joint Average, only 1 needs to be calculated\n",
      "GLCM is symmetrical, therefore Sum Average = 2 * Joint Average, only 1 needs to be calculated\n",
      "GLCM is symmetrical, therefore Sum Average = 2 * Joint Average, only 1 needs to be calculated\n",
      "GLCM is symmetrical, therefore Sum Average = 2 * Joint Average, only 1 needs to be calculated\n",
      "GLCM is symmetrical, therefore Sum Average = 2 * Joint Average, only 1 needs to be calculated\n",
      "GLCM is symmetrical, therefore Sum Average = 2 * Joint Average, only 1 needs to be calculated\n",
      "GLCM is symmetrical, therefore Sum Average = 2 * Joint Average, only 1 needs to be calculated\n"
     ]
    },
    {
     "name": "stdout",
     "output_type": "stream",
     "text": [
      "Extraídas 102 características del canal B\n",
      "\n",
      "Procesando 465: 19031-z2021-25082021-300481-1\n",
      "Cargando imagen y máscara de: /home/anna/TFM/Radiomica/Segmentacion/Segmentacion_resultados/19031-z2021-25082021-300481-1\n",
      "Extraídas 102 características del canal R\n",
      "Extraídas 102 características del canal G\n",
      "Extraídas 102 características del canal B\n",
      "\n",
      "Procesando 466: 300257_300481_15-12-2020_IMG_0826\n",
      "Cargando imagen y máscara de: /home/anna/TFM/Radiomica/Segmentacion/Segmentacion_resultados/300257_300481_15-12-2020_IMG_0826\n",
      "Extraídas 102 características del canal R\n",
      "Extraídas 102 características del canal G\n",
      "Extraídas 102 características del canal B\n",
      "\n",
      "Procesando 467: 605690_300481_300427_15-12-2021_DSC_0026\n",
      "Cargando imagen y máscara de: /home/anna/TFM/Radiomica/Segmentacion/Segmentacion_resultados/605690_300481_300427_15-12-2021_DSC_0026\n"
     ]
    },
    {
     "name": "stderr",
     "output_type": "stream",
     "text": [
      "GLCM is symmetrical, therefore Sum Average = 2 * Joint Average, only 1 needs to be calculated\n",
      "GLCM is symmetrical, therefore Sum Average = 2 * Joint Average, only 1 needs to be calculated\n",
      "GLCM is symmetrical, therefore Sum Average = 2 * Joint Average, only 1 needs to be calculated\n",
      "GLCM is symmetrical, therefore Sum Average = 2 * Joint Average, only 1 needs to be calculated\n",
      "GLCM is symmetrical, therefore Sum Average = 2 * Joint Average, only 1 needs to be calculated\n",
      "GLCM is symmetrical, therefore Sum Average = 2 * Joint Average, only 1 needs to be calculated\n",
      "GLCM is symmetrical, therefore Sum Average = 2 * Joint Average, only 1 needs to be calculated\n"
     ]
    },
    {
     "name": "stdout",
     "output_type": "stream",
     "text": [
      "Extraídas 102 características del canal R\n",
      "Extraídas 102 características del canal G\n",
      "Extraídas 102 características del canal B\n",
      "\n",
      "Procesando 468: 605690_300481_30-10-2018_P1015023\n",
      "Cargando imagen y máscara de: /home/anna/TFM/Radiomica/Segmentacion/Segmentacion_resultados/605690_300481_30-10-2018_P1015023\n",
      "Extraídas 102 características del canal R\n",
      "Extraídas 102 características del canal G\n",
      "Extraídas 102 características del canal B\n",
      "\n",
      "Procesando 469: 572897-250205-01-500006\n",
      "Cargando imagen y máscara de: /home/anna/TFM/Radiomica/Segmentacion/Segmentacion_resultados/572897-250205-01-500006\n",
      "Extraídas 102 características del canal R\n"
     ]
    },
    {
     "name": "stderr",
     "output_type": "stream",
     "text": [
      "GLCM is symmetrical, therefore Sum Average = 2 * Joint Average, only 1 needs to be calculated\n",
      "GLCM is symmetrical, therefore Sum Average = 2 * Joint Average, only 1 needs to be calculated\n",
      "GLCM is symmetrical, therefore Sum Average = 2 * Joint Average, only 1 needs to be calculated\n",
      "GLCM is symmetrical, therefore Sum Average = 2 * Joint Average, only 1 needs to be calculated\n",
      "GLCM is symmetrical, therefore Sum Average = 2 * Joint Average, only 1 needs to be calculated\n",
      "GLCM is symmetrical, therefore Sum Average = 2 * Joint Average, only 1 needs to be calculated\n",
      "GLCM is symmetrical, therefore Sum Average = 2 * Joint Average, only 1 needs to be calculated\n",
      "GLCM is symmetrical, therefore Sum Average = 2 * Joint Average, only 1 needs to be calculated\n",
      "GLCM is symmetrical, therefore Sum Average = 2 * Joint Average, only 1 needs to be calculated\n",
      "GLCM is symmetrical, therefore Sum Average = 2 * Joint Average, only 1 needs to be calculated\n",
      "GLCM is symmetrical, therefore Sum Average = 2 * Joint Average, only 1 needs to be calculated\n"
     ]
    },
    {
     "name": "stdout",
     "output_type": "stream",
     "text": [
      "Extraídas 102 características del canal G\n",
      "Extraídas 102 características del canal B\n",
      "\n",
      "Procesando 470: 19909-z2023-300481-12042023-2\n",
      "Cargando imagen y máscara de: /home/anna/TFM/Radiomica/Segmentacion/Segmentacion_resultados/19909-z2023-300481-12042023-2\n",
      "Extraídas 102 características del canal R\n",
      "Extraídas 102 características del canal G\n",
      "Extraídas 102 características del canal B\n",
      "\n",
      "Procesando 471: 237125-250517-300481(1)\n",
      "Cargando imagen y máscara de: /home/anna/TFM/Radiomica/Segmentacion/Segmentacion_resultados/237125-250517-300481(1)\n",
      "Extraídas 102 características del canal R\n",
      "Extraídas 102 características del canal G\n",
      "Extraídas 102 características del canal B\n",
      "\n",
      "Procesando 472: 846027-200208-300481-01\n",
      "Cargando imagen y máscara de: /home/anna/TFM/Radiomica/Segmentacion/Segmentacion_resultados/846027-200208-300481-01\n",
      "Extraídas 102 características del canal R\n",
      "Extraídas 102 características del canal G\n"
     ]
    },
    {
     "name": "stderr",
     "output_type": "stream",
     "text": [
      "GLCM is symmetrical, therefore Sum Average = 2 * Joint Average, only 1 needs to be calculated\n",
      "GLCM is symmetrical, therefore Sum Average = 2 * Joint Average, only 1 needs to be calculated\n",
      "GLCM is symmetrical, therefore Sum Average = 2 * Joint Average, only 1 needs to be calculated\n",
      "GLCM is symmetrical, therefore Sum Average = 2 * Joint Average, only 1 needs to be calculated\n",
      "GLCM is symmetrical, therefore Sum Average = 2 * Joint Average, only 1 needs to be calculated\n",
      "GLCM is symmetrical, therefore Sum Average = 2 * Joint Average, only 1 needs to be calculated\n",
      "GLCM is symmetrical, therefore Sum Average = 2 * Joint Average, only 1 needs to be calculated\n",
      "GLCM is symmetrical, therefore Sum Average = 2 * Joint Average, only 1 needs to be calculated\n",
      "GLCM is symmetrical, therefore Sum Average = 2 * Joint Average, only 1 needs to be calculated\n"
     ]
    },
    {
     "name": "stdout",
     "output_type": "stream",
     "text": [
      "Extraídas 102 características del canal B\n",
      "\n",
      "Procesando 473: 424155_300481_23-2-2022_DSC_0073\n",
      "Cargando imagen y máscara de: /home/anna/TFM/Radiomica/Segmentacion/Segmentacion_resultados/424155_300481_23-2-2022_DSC_0073\n",
      "Extraídas 102 características del canal R\n",
      "Extraídas 102 características del canal G\n",
      "Extraídas 102 características del canal B\n",
      "\n",
      "Procesando 474: 698369-300404-02-00300481\n",
      "Cargando imagen y máscara de: /home/anna/TFM/Radiomica/Segmentacion/Segmentacion_resultados/698369-300404-02-00300481\n",
      "Extraídas 102 características del canal R\n",
      "Extraídas 102 características del canal G\n",
      "Extraídas 102 características del canal B\n",
      "\n",
      "Procesando 475: 172817-090312-300481 (1)\n",
      "Cargando imagen y máscara de: /home/anna/TFM/Radiomica/Segmentacion/Segmentacion_resultados/172817-090312-300481 (1)\n",
      "Extraídas 102 características del canal R\n",
      "Extraídas 102 características del canal G\n",
      "Extraídas 102 características del canal B\n",
      "\n",
      "Procesando 476: 697030-220903-08-00300481\n"
     ]
    },
    {
     "name": "stderr",
     "output_type": "stream",
     "text": [
      "GLCM is symmetrical, therefore Sum Average = 2 * Joint Average, only 1 needs to be calculated\n",
      "GLCM is symmetrical, therefore Sum Average = 2 * Joint Average, only 1 needs to be calculated\n",
      "GLCM is symmetrical, therefore Sum Average = 2 * Joint Average, only 1 needs to be calculated\n",
      "GLCM is symmetrical, therefore Sum Average = 2 * Joint Average, only 1 needs to be calculated\n",
      "GLCM is symmetrical, therefore Sum Average = 2 * Joint Average, only 1 needs to be calculated\n",
      "GLCM is symmetrical, therefore Sum Average = 2 * Joint Average, only 1 needs to be calculated\n"
     ]
    },
    {
     "name": "stdout",
     "output_type": "stream",
     "text": [
      "Cargando imagen y máscara de: /home/anna/TFM/Radiomica/Segmentacion/Segmentacion_resultados/697030-220903-08-00300481\n",
      "Extraídas 102 características del canal R\n",
      "Extraídas 102 características del canal G\n",
      "Extraídas 102 características del canal B\n",
      "\n",
      "Procesando 477: 52262_300481_22-12-2020_IMG_0904\n",
      "Cargando imagen y máscara de: /home/anna/TFM/Radiomica/Segmentacion/Segmentacion_resultados/52262_300481_22-12-2020_IMG_0904\n",
      "Extraídas 102 características del canal R\n",
      "Extraídas 102 características del canal G\n",
      "Extraídas 102 características del canal B\n",
      "\n",
      "Procesando 478: 281089_300481_5-4-2022_DSC_0035\n"
     ]
    },
    {
     "name": "stderr",
     "output_type": "stream",
     "text": [
      "GLCM is symmetrical, therefore Sum Average = 2 * Joint Average, only 1 needs to be calculated\n",
      "GLCM is symmetrical, therefore Sum Average = 2 * Joint Average, only 1 needs to be calculated\n",
      "GLCM is symmetrical, therefore Sum Average = 2 * Joint Average, only 1 needs to be calculated\n",
      "GLCM is symmetrical, therefore Sum Average = 2 * Joint Average, only 1 needs to be calculated\n",
      "GLCM is symmetrical, therefore Sum Average = 2 * Joint Average, only 1 needs to be calculated\n",
      "GLCM is symmetrical, therefore Sum Average = 2 * Joint Average, only 1 needs to be calculated\n",
      "GLCM is symmetrical, therefore Sum Average = 2 * Joint Average, only 1 needs to be calculated\n",
      "GLCM is symmetrical, therefore Sum Average = 2 * Joint Average, only 1 needs to be calculated\n",
      "GLCM is symmetrical, therefore Sum Average = 2 * Joint Average, only 1 needs to be calculated\n"
     ]
    },
    {
     "name": "stdout",
     "output_type": "stream",
     "text": [
      "Cargando imagen y máscara de: /home/anna/TFM/Radiomica/Segmentacion/Segmentacion_resultados/281089_300481_5-4-2022_DSC_0035\n",
      "Extraídas 102 características del canal R\n",
      "Extraídas 102 características del canal G\n",
      "Extraídas 102 características del canal B\n",
      "\n",
      "Procesando 479: 129539_300481_6-6-2018_DSC_0851\n",
      "Cargando imagen y máscara de: /home/anna/TFM/Radiomica/Segmentacion/Segmentacion_resultados/129539_300481_6-6-2018_DSC_0851\n",
      "Extraídas 102 características del canal R\n",
      "Extraídas 102 características del canal G\n",
      "Extraídas 102 características del canal B\n",
      "\n",
      "Procesando 480: 641080_300481_17-12-2021_DSC_0049\n",
      "Cargando imagen y máscara de: /home/anna/TFM/Radiomica/Segmentacion/Segmentacion_resultados/641080_300481_17-12-2021_DSC_0049\n",
      "Extraídas 102 características del canal R\n",
      "Extraídas 102 características del canal G\n"
     ]
    },
    {
     "name": "stderr",
     "output_type": "stream",
     "text": [
      "GLCM is symmetrical, therefore Sum Average = 2 * Joint Average, only 1 needs to be calculated\n",
      "GLCM is symmetrical, therefore Sum Average = 2 * Joint Average, only 1 needs to be calculated\n",
      "GLCM is symmetrical, therefore Sum Average = 2 * Joint Average, only 1 needs to be calculated\n",
      "GLCM is symmetrical, therefore Sum Average = 2 * Joint Average, only 1 needs to be calculated\n",
      "GLCM is symmetrical, therefore Sum Average = 2 * Joint Average, only 1 needs to be calculated\n",
      "GLCM is symmetrical, therefore Sum Average = 2 * Joint Average, only 1 needs to be calculated\n",
      "GLCM is symmetrical, therefore Sum Average = 2 * Joint Average, only 1 needs to be calculated\n"
     ]
    },
    {
     "name": "stdout",
     "output_type": "stream",
     "text": [
      "Extraídas 102 características del canal B\n",
      "\n",
      "Procesando 481: 1269514_300481_1-10-2018_DSC_0124\n",
      "Cargando imagen y máscara de: /home/anna/TFM/Radiomica/Segmentacion/Segmentacion_resultados/1269514_300481_1-10-2018_DSC_0124\n",
      "Extraídas 102 características del canal R\n",
      "Extraídas 102 características del canal G\n",
      "Extraídas 102 características del canal B\n",
      "\n",
      "Procesando 482: 259947-031208-300481-02\n",
      "Cargando imagen y máscara de: /home/anna/TFM/Radiomica/Segmentacion/Segmentacion_resultados/259947-031208-300481-02\n",
      "Extraídas 102 características del canal R\n",
      "Extraídas 102 características del canal G\n",
      "Extraídas 102 características del canal B\n",
      "\n",
      "Procesando 483: 675799-290104-03-00300481\n",
      "Cargando imagen y máscara de: /home/anna/TFM/Radiomica/Segmentacion/Segmentacion_resultados/675799-290104-03-00300481\n"
     ]
    },
    {
     "name": "stderr",
     "output_type": "stream",
     "text": [
      "GLCM is symmetrical, therefore Sum Average = 2 * Joint Average, only 1 needs to be calculated\n",
      "GLCM is symmetrical, therefore Sum Average = 2 * Joint Average, only 1 needs to be calculated\n",
      "GLCM is symmetrical, therefore Sum Average = 2 * Joint Average, only 1 needs to be calculated\n",
      "GLCM is symmetrical, therefore Sum Average = 2 * Joint Average, only 1 needs to be calculated\n",
      "GLCM is symmetrical, therefore Sum Average = 2 * Joint Average, only 1 needs to be calculated\n",
      "GLCM is symmetrical, therefore Sum Average = 2 * Joint Average, only 1 needs to be calculated\n",
      "GLCM is symmetrical, therefore Sum Average = 2 * Joint Average, only 1 needs to be calculated\n",
      "GLCM is symmetrical, therefore Sum Average = 2 * Joint Average, only 1 needs to be calculated\n",
      "GLCM is symmetrical, therefore Sum Average = 2 * Joint Average, only 1 needs to be calculated\n"
     ]
    },
    {
     "name": "stdout",
     "output_type": "stream",
     "text": [
      "Extraídas 102 características del canal R\n",
      "Extraídas 102 características del canal G\n",
      "Extraídas 102 características del canal B\n",
      "\n",
      "Procesando 484: 19909-z2023-300481-26042023-3\n",
      "Cargando imagen y máscara de: /home/anna/TFM/Radiomica/Segmentacion/Segmentacion_resultados/19909-z2023-300481-26042023-3\n",
      "Extraídas 102 características del canal R\n",
      "Extraídas 102 características del canal G\n",
      "Extraídas 102 características del canal B\n",
      "\n",
      "Procesando 485: 457935_300481_8-5-2020_DSC_0028\n",
      "Cargando imagen y máscara de: /home/anna/TFM/Radiomica/Segmentacion/Segmentacion_resultados/457935_300481_8-5-2020_DSC_0028\n",
      "Extraídas 102 características del canal R\n",
      "Extraídas 102 características del canal G\n",
      "Extraídas 102 características del canal B\n",
      "\n",
      "Procesando 486: 552480_300481_23-10-2018_P1014801\n",
      "Cargando imagen y máscara de: /home/anna/TFM/Radiomica/Segmentacion/Segmentacion_resultados/552480_300481_23-10-2018_P1014801\n"
     ]
    },
    {
     "name": "stderr",
     "output_type": "stream",
     "text": [
      "GLCM is symmetrical, therefore Sum Average = 2 * Joint Average, only 1 needs to be calculated\n",
      "GLCM is symmetrical, therefore Sum Average = 2 * Joint Average, only 1 needs to be calculated\n",
      "GLCM is symmetrical, therefore Sum Average = 2 * Joint Average, only 1 needs to be calculated\n",
      "GLCM is symmetrical, therefore Sum Average = 2 * Joint Average, only 1 needs to be calculated\n",
      "GLCM is symmetrical, therefore Sum Average = 2 * Joint Average, only 1 needs to be calculated\n",
      "GLCM is symmetrical, therefore Sum Average = 2 * Joint Average, only 1 needs to be calculated\n",
      "GLCM is symmetrical, therefore Sum Average = 2 * Joint Average, only 1 needs to be calculated\n",
      "GLCM is symmetrical, therefore Sum Average = 2 * Joint Average, only 1 needs to be calculated\n"
     ]
    },
    {
     "name": "stdout",
     "output_type": "stream",
     "text": [
      "Extraídas 102 características del canal R\n",
      "Extraídas 102 características del canal G\n",
      "Extraídas 102 características del canal B\n",
      "\n",
      "Procesando 487: 1240571_300481_19-10-2020_DSC_0235\n",
      "Cargando imagen y máscara de: /home/anna/TFM/Radiomica/Segmentacion/Segmentacion_resultados/1240571_300481_19-10-2020_DSC_0235\n",
      "Extraídas 102 características del canal R\n",
      "Extraídas 102 características del canal G\n",
      "Extraídas 102 características del canal B\n",
      "\n",
      "Procesando 488: 502928_300481_26-1-2021_IMG_1113\n",
      "Cargando imagen y máscara de: /home/anna/TFM/Radiomica/Segmentacion/Segmentacion_resultados/502928_300481_26-1-2021_IMG_1113\n",
      "Extraídas 102 características del canal R\n",
      "Extraídas 102 características del canal G\n",
      "Extraídas 102 características del canal B\n",
      "\n",
      "Procesando 489: 880287-141008-300481-03\n",
      "Cargando imagen y máscara de: /home/anna/TFM/Radiomica/Segmentacion/Segmentacion_resultados/880287-141008-300481-03\n"
     ]
    },
    {
     "name": "stderr",
     "output_type": "stream",
     "text": [
      "GLCM is symmetrical, therefore Sum Average = 2 * Joint Average, only 1 needs to be calculated\n",
      "GLCM is symmetrical, therefore Sum Average = 2 * Joint Average, only 1 needs to be calculated\n",
      "GLCM is symmetrical, therefore Sum Average = 2 * Joint Average, only 1 needs to be calculated\n",
      "GLCM is symmetrical, therefore Sum Average = 2 * Joint Average, only 1 needs to be calculated\n",
      "GLCM is symmetrical, therefore Sum Average = 2 * Joint Average, only 1 needs to be calculated\n",
      "GLCM is symmetrical, therefore Sum Average = 2 * Joint Average, only 1 needs to be calculated\n",
      "GLCM is symmetrical, therefore Sum Average = 2 * Joint Average, only 1 needs to be calculated\n",
      "GLCM is symmetrical, therefore Sum Average = 2 * Joint Average, only 1 needs to be calculated\n",
      "GLCM is symmetrical, therefore Sum Average = 2 * Joint Average, only 1 needs to be calculated\n",
      "GLCM is symmetrical, therefore Sum Average = 2 * Joint Average, only 1 needs to be calculated\n"
     ]
    },
    {
     "name": "stdout",
     "output_type": "stream",
     "text": [
      "Extraídas 102 características del canal R\n",
      "Extraídas 102 características del canal G\n",
      "Extraídas 102 características del canal B\n",
      "\n",
      "Procesando 490: 182441-200502-01-00300481\n",
      "Cargando imagen y máscara de: /home/anna/TFM/Radiomica/Segmentacion/Segmentacion_resultados/182441-200502-01-00300481\n",
      "Extraídas 102 características del canal R\n",
      "Extraídas 102 características del canal G\n",
      "Extraídas 102 características del canal B\n",
      "\n",
      "Procesando 491: 30745-170910-300481-01\n",
      "Cargando imagen y máscara de: /home/anna/TFM/Radiomica/Segmentacion/Segmentacion_resultados/30745-170910-300481-01\n",
      "Extraídas 102 características del canal R\n",
      "Extraídas 102 características del canal G\n",
      "Extraídas 102 características del canal B\n",
      "\n",
      "Procesando 492: 1730_300481_31-5-2022_P1012084\n",
      "Cargando imagen y máscara de: /home/anna/TFM/Radiomica/Segmentacion/Segmentacion_resultados/1730_300481_31-5-2022_P1012084\n"
     ]
    },
    {
     "name": "stderr",
     "output_type": "stream",
     "text": [
      "GLCM is symmetrical, therefore Sum Average = 2 * Joint Average, only 1 needs to be calculated\n",
      "GLCM is symmetrical, therefore Sum Average = 2 * Joint Average, only 1 needs to be calculated\n",
      "GLCM is symmetrical, therefore Sum Average = 2 * Joint Average, only 1 needs to be calculated\n",
      "GLCM is symmetrical, therefore Sum Average = 2 * Joint Average, only 1 needs to be calculated\n",
      "GLCM is symmetrical, therefore Sum Average = 2 * Joint Average, only 1 needs to be calculated\n",
      "GLCM is symmetrical, therefore Sum Average = 2 * Joint Average, only 1 needs to be calculated\n",
      "GLCM is symmetrical, therefore Sum Average = 2 * Joint Average, only 1 needs to be calculated\n",
      "GLCM is symmetrical, therefore Sum Average = 2 * Joint Average, only 1 needs to be calculated\n"
     ]
    },
    {
     "name": "stdout",
     "output_type": "stream",
     "text": [
      "Extraídas 102 características del canal R\n",
      "Extraídas 102 características del canal G\n",
      "Extraídas 102 características del canal B\n",
      "\n",
      "Procesando 493: 1343638_300481_21-9-2020_DSC_0007\n",
      "Cargando imagen y máscara de: /home/anna/TFM/Radiomica/Segmentacion/Segmentacion_resultados/1343638_300481_21-9-2020_DSC_0007\n",
      "Extraídas 102 características del canal R\n",
      "Extraídas 102 características del canal G\n",
      "Extraídas 102 características del canal B\n",
      "\n",
      "Procesando 494: 932227_300481_22-12-2020_IMG_0954\n",
      "Cargando imagen y máscara de: /home/anna/TFM/Radiomica/Segmentacion/Segmentacion_resultados/932227_300481_22-12-2020_IMG_0954\n",
      "Extraídas 102 características del canal R\n",
      "Extraídas 102 características del canal G\n",
      "Extraídas 102 características del canal B\n"
     ]
    },
    {
     "name": "stderr",
     "output_type": "stream",
     "text": [
      "GLCM is symmetrical, therefore Sum Average = 2 * Joint Average, only 1 needs to be calculated\n",
      "GLCM is symmetrical, therefore Sum Average = 2 * Joint Average, only 1 needs to be calculated\n",
      "GLCM is symmetrical, therefore Sum Average = 2 * Joint Average, only 1 needs to be calculated\n",
      "GLCM is symmetrical, therefore Sum Average = 2 * Joint Average, only 1 needs to be calculated\n",
      "GLCM is symmetrical, therefore Sum Average = 2 * Joint Average, only 1 needs to be calculated\n",
      "GLCM is symmetrical, therefore Sum Average = 2 * Joint Average, only 1 needs to be calculated\n",
      "GLCM is symmetrical, therefore Sum Average = 2 * Joint Average, only 1 needs to be calculated\n",
      "GLCM is symmetrical, therefore Sum Average = 2 * Joint Average, only 1 needs to be calculated\n",
      "GLCM is symmetrical, therefore Sum Average = 2 * Joint Average, only 1 needs to be calculated\n"
     ]
    },
    {
     "name": "stdout",
     "output_type": "stream",
     "text": [
      "\n",
      "Procesando 495: 62173-010610-300481-01\n",
      "Cargando imagen y máscara de: /home/anna/TFM/Radiomica/Segmentacion/Segmentacion_resultados/62173-010610-300481-01\n",
      "Extraídas 102 características del canal R\n",
      "Extraídas 102 características del canal G\n",
      "Extraídas 102 características del canal B\n",
      "\n",
      "Procesando 496: 282541-131109-300481-01\n",
      "Cargando imagen y máscara de: /home/anna/TFM/Radiomica/Segmentacion/Segmentacion_resultados/282541-131109-300481-01\n",
      "Extraídas 102 características del canal R\n",
      "Extraídas 102 características del canal G\n",
      "Extraídas 102 características del canal B\n",
      "\n",
      "Procesando 497: 1010532_300481_8-11-2021_DSC_1001\n",
      "Cargando imagen y máscara de: /home/anna/TFM/Radiomica/Segmentacion/Segmentacion_resultados/1010532_300481_8-11-2021_DSC_1001\n",
      "Extraídas 102 características del canal R\n",
      "Extraídas 102 características del canal G\n",
      "Extraídas 102 características del canal B\n",
      "\n",
      "Procesando 498: 1136851_300481_26-10-2020_DSC_0028\n"
     ]
    },
    {
     "name": "stderr",
     "output_type": "stream",
     "text": [
      "GLCM is symmetrical, therefore Sum Average = 2 * Joint Average, only 1 needs to be calculated\n",
      "GLCM is symmetrical, therefore Sum Average = 2 * Joint Average, only 1 needs to be calculated\n",
      "GLCM is symmetrical, therefore Sum Average = 2 * Joint Average, only 1 needs to be calculated\n",
      "GLCM is symmetrical, therefore Sum Average = 2 * Joint Average, only 1 needs to be calculated\n",
      "GLCM is symmetrical, therefore Sum Average = 2 * Joint Average, only 1 needs to be calculated\n",
      "GLCM is symmetrical, therefore Sum Average = 2 * Joint Average, only 1 needs to be calculated\n",
      "GLCM is symmetrical, therefore Sum Average = 2 * Joint Average, only 1 needs to be calculated\n",
      "GLCM is symmetrical, therefore Sum Average = 2 * Joint Average, only 1 needs to be calculated\n",
      "GLCM is symmetrical, therefore Sum Average = 2 * Joint Average, only 1 needs to be calculated\n",
      "GLCM is symmetrical, therefore Sum Average = 2 * Joint Average, only 1 needs to be calculated\n"
     ]
    },
    {
     "name": "stdout",
     "output_type": "stream",
     "text": [
      "Cargando imagen y máscara de: /home/anna/TFM/Radiomica/Segmentacion/Segmentacion_resultados/1136851_300481_26-10-2020_DSC_0028\n",
      "Extraídas 102 características del canal R\n",
      "Extraídas 102 características del canal G\n",
      "Extraídas 102 características del canal B\n",
      "\n",
      "Procesando 499: 84437-270207-02-300481\n",
      "Cargando imagen y máscara de: /home/anna/TFM/Radiomica/Segmentacion/Segmentacion_resultados/84437-270207-02-300481\n",
      "Extraídas 102 características del canal R\n",
      "Extraídas 102 características del canal G\n",
      "Extraídas 102 características del canal B\n",
      "\n",
      "Procesando 500: 502928_300481_26-1-2021_IMG_1112\n",
      "Cargando imagen y máscara de: /home/anna/TFM/Radiomica/Segmentacion/Segmentacion_resultados/502928_300481_26-1-2021_IMG_1112\n",
      "Extraídas 102 características del canal R\n",
      "Extraídas 102 características del canal G\n",
      "Extraídas 102 características del canal B\n",
      "\n",
      "Procesando 501: 30745-081111-300481 (1)\n",
      "Cargando imagen y máscara de: /home/anna/TFM/Radiomica/Segmentacion/Segmentacion_resultados/30745-081111-300481 (1)\n"
     ]
    },
    {
     "name": "stderr",
     "output_type": "stream",
     "text": [
      "GLCM is symmetrical, therefore Sum Average = 2 * Joint Average, only 1 needs to be calculated\n",
      "GLCM is symmetrical, therefore Sum Average = 2 * Joint Average, only 1 needs to be calculated\n",
      "GLCM is symmetrical, therefore Sum Average = 2 * Joint Average, only 1 needs to be calculated\n",
      "GLCM is symmetrical, therefore Sum Average = 2 * Joint Average, only 1 needs to be calculated\n",
      "GLCM is symmetrical, therefore Sum Average = 2 * Joint Average, only 1 needs to be calculated\n",
      "GLCM is symmetrical, therefore Sum Average = 2 * Joint Average, only 1 needs to be calculated\n",
      "GLCM is symmetrical, therefore Sum Average = 2 * Joint Average, only 1 needs to be calculated\n",
      "GLCM is symmetrical, therefore Sum Average = 2 * Joint Average, only 1 needs to be calculated\n"
     ]
    },
    {
     "name": "stdout",
     "output_type": "stream",
     "text": [
      "Extraídas 102 características del canal R\n",
      "Extraídas 102 características del canal G\n",
      "Extraídas 102 características del canal B\n",
      "\n",
      "Procesando 502: 457935_300481_8-5-2020_DSC_0027\n",
      "Cargando imagen y máscara de: /home/anna/TFM/Radiomica/Segmentacion/Segmentacion_resultados/457935_300481_8-5-2020_DSC_0027\n",
      "Extraídas 102 características del canal R\n",
      "Extraídas 102 características del canal G\n",
      "Extraídas 102 características del canal B\n",
      "\n",
      "Procesando 503: 1164968_300481_30-7-2021_DSC_0815\n",
      "Cargando imagen y máscara de: /home/anna/TFM/Radiomica/Segmentacion/Segmentacion_resultados/1164968_300481_30-7-2021_DSC_0815\n",
      "Extraídas 102 características del canal R\n",
      "Extraídas 102 características del canal G\n",
      "Extraídas 102 características del canal B\n",
      "\n",
      "Procesando 504: 1330740_300481_9-6-2020_IMG_9780\n",
      "Cargando imagen y máscara de: /home/anna/TFM/Radiomica/Segmentacion/Segmentacion_resultados/1330740_300481_9-6-2020_IMG_9780\n"
     ]
    },
    {
     "name": "stderr",
     "output_type": "stream",
     "text": [
      "GLCM is symmetrical, therefore Sum Average = 2 * Joint Average, only 1 needs to be calculated\n",
      "GLCM is symmetrical, therefore Sum Average = 2 * Joint Average, only 1 needs to be calculated\n",
      "GLCM is symmetrical, therefore Sum Average = 2 * Joint Average, only 1 needs to be calculated\n",
      "GLCM is symmetrical, therefore Sum Average = 2 * Joint Average, only 1 needs to be calculated\n",
      "GLCM is symmetrical, therefore Sum Average = 2 * Joint Average, only 1 needs to be calculated\n",
      "GLCM is symmetrical, therefore Sum Average = 2 * Joint Average, only 1 needs to be calculated\n",
      "GLCM is symmetrical, therefore Sum Average = 2 * Joint Average, only 1 needs to be calculated\n",
      "GLCM is symmetrical, therefore Sum Average = 2 * Joint Average, only 1 needs to be calculated\n",
      "GLCM is symmetrical, therefore Sum Average = 2 * Joint Average, only 1 needs to be calculated\n",
      "GLCM is symmetrical, therefore Sum Average = 2 * Joint Average, only 1 needs to be calculated\n"
     ]
    },
    {
     "name": "stdout",
     "output_type": "stream",
     "text": [
      "Extraídas 102 características del canal R\n",
      "Extraídas 102 características del canal G\n",
      "Extraídas 102 características del canal B\n",
      "\n",
      "Procesando 505: 460391_300481_28-8-2018_P1014416\n",
      "Cargando imagen y máscara de: /home/anna/TFM/Radiomica/Segmentacion/Segmentacion_resultados/460391_300481_28-8-2018_P1014416\n",
      "Extraídas 102 características del canal R\n",
      "Extraídas 102 características del canal G\n",
      "Extraídas 102 características del canal B\n",
      "\n",
      "Procesando 506: 826526-050308-300481-01\n",
      "Cargando imagen y máscara de: /home/anna/TFM/Radiomica/Segmentacion/Segmentacion_resultados/826526-050308-300481-01\n",
      "Extraídas 102 características del canal R\n",
      "Extraídas 102 características del canal G\n",
      "Extraídas 102 características del canal B\n",
      "\n",
      "Procesando 507: 219474_300481_16-5-2018_P1013690\n",
      "Cargando imagen y máscara de: /home/anna/TFM/Radiomica/Segmentacion/Segmentacion_resultados/219474_300481_16-5-2018_P1013690\n",
      "Extraídas 102 características del canal R\n"
     ]
    },
    {
     "name": "stderr",
     "output_type": "stream",
     "text": [
      "GLCM is symmetrical, therefore Sum Average = 2 * Joint Average, only 1 needs to be calculated\n",
      "GLCM is symmetrical, therefore Sum Average = 2 * Joint Average, only 1 needs to be calculated\n",
      "GLCM is symmetrical, therefore Sum Average = 2 * Joint Average, only 1 needs to be calculated\n",
      "GLCM is symmetrical, therefore Sum Average = 2 * Joint Average, only 1 needs to be calculated\n",
      "GLCM is symmetrical, therefore Sum Average = 2 * Joint Average, only 1 needs to be calculated\n",
      "GLCM is symmetrical, therefore Sum Average = 2 * Joint Average, only 1 needs to be calculated\n",
      "GLCM is symmetrical, therefore Sum Average = 2 * Joint Average, only 1 needs to be calculated\n",
      "GLCM is symmetrical, therefore Sum Average = 2 * Joint Average, only 1 needs to be calculated\n",
      "GLCM is symmetrical, therefore Sum Average = 2 * Joint Average, only 1 needs to be calculated\n",
      "GLCM is symmetrical, therefore Sum Average = 2 * Joint Average, only 1 needs to be calculated\n",
      "GLCM is symmetrical, therefore Sum Average = 2 * Joint Average, only 1 needs to be calculated\n"
     ]
    },
    {
     "name": "stdout",
     "output_type": "stream",
     "text": [
      "Extraídas 102 características del canal G\n",
      "Extraídas 102 características del canal B\n",
      "\n",
      "Procesando 508: 233981_300481_21-5-2021_DSC_0773\n",
      "Cargando imagen y máscara de: /home/anna/TFM/Radiomica/Segmentacion/Segmentacion_resultados/233981_300481_21-5-2021_DSC_0773\n",
      "Extraídas 102 características del canal R\n",
      "Extraídas 102 características del canal G\n",
      "Extraídas 102 características del canal B\n",
      "\n",
      "Procesando 509: 212980_300481_30-4-2018_DSC_0325\n",
      "Cargando imagen y máscara de: /home/anna/TFM/Radiomica/Segmentacion/Segmentacion_resultados/212980_300481_30-4-2018_DSC_0325\n",
      "Extraídas 102 características del canal R\n",
      "Extraídas 102 características del canal G\n",
      "Extraídas 102 características del canal B\n",
      "\n",
      "Procesando 510: 1331146_300481_15-6-2020_DSC_0192\n",
      "Cargando imagen y máscara de: /home/anna/TFM/Radiomica/Segmentacion/Segmentacion_resultados/1331146_300481_15-6-2020_DSC_0192\n",
      "Extraídas 102 características del canal R\n",
      "Extraídas 102 características del canal G\n",
      "Extraídas 102 características del canal B\n",
      "\n",
      "Procesando 511: 856714-120308-300481-02\n",
      "Cargando imagen y máscara de: /home/anna/TFM/Radiomica/Segmentacion/Segmentacion_resultados/856714-120308-300481-02\n"
     ]
    },
    {
     "name": "stderr",
     "output_type": "stream",
     "text": [
      "GLCM is symmetrical, therefore Sum Average = 2 * Joint Average, only 1 needs to be calculated\n",
      "GLCM is symmetrical, therefore Sum Average = 2 * Joint Average, only 1 needs to be calculated\n",
      "GLCM is symmetrical, therefore Sum Average = 2 * Joint Average, only 1 needs to be calculated\n",
      "GLCM is symmetrical, therefore Sum Average = 2 * Joint Average, only 1 needs to be calculated\n",
      "GLCM is symmetrical, therefore Sum Average = 2 * Joint Average, only 1 needs to be calculated\n",
      "GLCM is symmetrical, therefore Sum Average = 2 * Joint Average, only 1 needs to be calculated\n",
      "GLCM is symmetrical, therefore Sum Average = 2 * Joint Average, only 1 needs to be calculated\n",
      "GLCM is symmetrical, therefore Sum Average = 2 * Joint Average, only 1 needs to be calculated\n",
      "GLCM is symmetrical, therefore Sum Average = 2 * Joint Average, only 1 needs to be calculated\n",
      "GLCM is symmetrical, therefore Sum Average = 2 * Joint Average, only 1 needs to be calculated\n",
      "GLCM is symmetrical, therefore Sum Average = 2 * Joint Average, only 1 needs to be calculated\n",
      "GLCM is symmetrical, therefore Sum Average = 2 * Joint Average, only 1 needs to be calculated\n"
     ]
    },
    {
     "name": "stdout",
     "output_type": "stream",
     "text": [
      "Extraídas 102 características del canal R\n",
      "Extraídas 102 características del canal G\n",
      "Extraídas 102 características del canal B\n",
      "\n",
      "Procesando 512: 462909-071206-02-300481\n",
      "Cargando imagen y máscara de: /home/anna/TFM/Radiomica/Segmentacion/Segmentacion_resultados/462909-071206-02-300481\n",
      "Extraídas 102 características del canal R\n",
      "Extraídas 102 características del canal G\n",
      "Extraídas 102 características del canal B\n",
      "\n",
      "Procesando 513: 20056-z2023-300481-28062023-2\n",
      "Cargando imagen y máscara de: /home/anna/TFM/Radiomica/Segmentacion/Segmentacion_resultados/20056-z2023-300481-28062023-2\n",
      "Extraídas 102 características del canal R\n",
      "Extraídas 102 características del canal G\n",
      "Extraídas 102 características del canal B\n",
      "\n",
      "Procesando 514: 111402_300481_10-12-Tuesday_DSC_0727\n",
      "Cargando imagen y máscara de: /home/anna/TFM/Radiomica/Segmentacion/Segmentacion_resultados/111402_300481_10-12-Tuesday_DSC_0727\n",
      "Extraídas 102 características del canal R\n",
      "Extraídas 102 características del canal G\n",
      "Extraídas 102 características del canal B\n",
      "\n",
      "Procesando 515: 1279904_300481_28-1-2019_DSC_0183\n",
      "Cargando imagen y máscara de: /home/anna/TFM/Radiomica/Segmentacion/Segmentacion_resultados/1279904_300481_28-1-2019_DSC_0183\n"
     ]
    },
    {
     "name": "stderr",
     "output_type": "stream",
     "text": [
      "GLCM is symmetrical, therefore Sum Average = 2 * Joint Average, only 1 needs to be calculated\n",
      "GLCM is symmetrical, therefore Sum Average = 2 * Joint Average, only 1 needs to be calculated\n",
      "GLCM is symmetrical, therefore Sum Average = 2 * Joint Average, only 1 needs to be calculated\n",
      "GLCM is symmetrical, therefore Sum Average = 2 * Joint Average, only 1 needs to be calculated\n",
      "GLCM is symmetrical, therefore Sum Average = 2 * Joint Average, only 1 needs to be calculated\n",
      "GLCM is symmetrical, therefore Sum Average = 2 * Joint Average, only 1 needs to be calculated\n"
     ]
    },
    {
     "name": "stdout",
     "output_type": "stream",
     "text": [
      "Extraídas 102 características del canal R\n",
      "Extraídas 102 características del canal G\n",
      "Extraídas 102 características del canal B\n",
      "\n",
      "Procesando 516: 160918_060215_300481 (3)\n",
      "Cargando imagen y máscara de: /home/anna/TFM/Radiomica/Segmentacion/Segmentacion_resultados/160918_060215_300481 (3)\n",
      "Extraídas 102 características del canal R\n",
      "Extraídas 102 características del canal G\n",
      "Extraídas 102 características del canal B\n"
     ]
    }
   ],
   "source": [
    "import os\n",
    "import numpy as np\n",
    "import pandas as pd\n",
    "import SimpleITK as sitk\n",
    "from skimage.io import imread\n",
    "from radiomics import firstorder, shape2D, glcm, glszm, glrlm, ngtdm, gldm, imageoperations\n",
    "\n",
    "base_folder = '/home/anna/TFM/Radiomica/Segmentacion/Segmentacion_resultados/'\n",
    "output_folder = '/home/anna/TFM/Radiomica/Radiomica/Características/'\n",
    "os.makedirs(output_folder, exist_ok=True)\n",
    "\n",
    "dfs0, dfs, dfs2, dfs3, dfs4, dfs5, dfs6, dfs7 = ([] for _ in range(8))\n",
    "\n",
    "def get_image_and_mask_rgb(subfolder, base_folder):\n",
    "    subfolder_path = os.path.join(base_folder, subfolder)\n",
    "    img_path = os.path.join(subfolder_path, 'imagen_original.png')\n",
    "    mask_path = os.path.join(subfolder_path, 'mascara_segmentada.png')\n",
    "\n",
    "    if not (os.path.exists(img_path) and os.path.exists(mask_path)):\n",
    "        raise FileNotFoundError(f\"Faltan archivos en {subfolder_path}\")\n",
    "\n",
    "    print(f\"Cargando imagen y máscara de: {subfolder_path}\")\n",
    "\n",
    "    image = imread(img_path)  \n",
    "    mask = imread(mask_path, as_gray=True)\n",
    "    mask = (mask > 0).astype(np.uint8)\n",
    "\n",
    "    R, G, B = image[:, :, 0], image[:, :, 1], image[:, :, 2]\n",
    "\n",
    "    sitk_mask = sitk.GetImageFromArray(mask)\n",
    "    sitk_R = sitk.GetImageFromArray(R.astype(np.uint8))\n",
    "    sitk_G = sitk.GetImageFromArray(G.astype(np.uint8))\n",
    "    sitk_B = sitk.GetImageFromArray(B.astype(np.uint8))\n",
    "\n",
    "    return (sitk_R, sitk_G, sitk_B), sitk_mask, img_path, mask_path\n",
    "\n",
    "def extract_features(image, mask, suffix):\n",
    "    image = imageoperations.normalizeImage(image)\n",
    "\n",
    "    feats = {}\n",
    "\n",
    "    extractor1 = firstorder.RadiomicsFirstOrder(image, mask)\n",
    "    extractor1.enableAllFeatures()\n",
    "    feats.update({f\"firstorder_{k}_{suffix}\": v for k, v in extractor1.execute().items()})\n",
    "\n",
    "    extractor2 = shape2D.RadiomicsShape2D(image, mask)\n",
    "    extractor2.enableAllFeatures()\n",
    "    feats.update({f\"shape2D_{k}_{suffix}\": v for k, v in extractor2.execute().items()})\n",
    "\n",
    "    extractor3 = glcm.RadiomicsGLCM(image, mask)\n",
    "    extractor3.enableAllFeatures()\n",
    "    feats.update({f\"glcm_{k}_{suffix}\": v for k, v in extractor3.execute().items()})\n",
    "\n",
    "    extractor4 = glszm.RadiomicsGLSZM(image, mask)\n",
    "    extractor4.enableAllFeatures()\n",
    "    feats.update({f\"glszm_{k}_{suffix}\": v for k, v in extractor4.execute().items()})\n",
    "\n",
    "    extractor5 = glrlm.RadiomicsGLRLM(image, mask)\n",
    "    extractor5.enableAllFeatures()\n",
    "    feats.update({f\"glrlm_{k}_{suffix}\": v for k, v in extractor5.execute().items()})\n",
    "\n",
    "    extractor6 = ngtdm.RadiomicsNGTDM(image, mask)\n",
    "    extractor6.enableAllFeatures()\n",
    "    feats.update({f\"ngtdm_{k}_{suffix}\": v for k, v in extractor6.execute().items()})\n",
    "\n",
    "    extractor7 = gldm.RadiomicsGLDM(image, mask)\n",
    "    extractor7.enableAllFeatures()\n",
    "    feats.update({f\"gldm_{k}_{suffix}\": v for k, v in extractor7.execute().items()})\n",
    "\n",
    "    print(f\"Extraídas {len(feats)} características del canal {suffix}\")\n",
    "    return feats\n",
    "\n",
    "def split_features(feats_dict, suffix):\n",
    "    f1 = {k: v for k, v in feats_dict.items() if 'firstorder' in k}\n",
    "    f2 = {k: v for k, v in feats_dict.items() if 'shape2D' in k}\n",
    "    f3 = {k: v for k, v in feats_dict.items() if 'glcm' in k}\n",
    "    f4 = {k: v for k, v in feats_dict.items() if 'glszm' in k}\n",
    "    f5 = {k: v for k, v in feats_dict.items() if 'glrlm' in k}\n",
    "    f6 = {k: v for k, v in feats_dict.items() if 'ngtdm' in k}\n",
    "    f7 = {k: v for k, v in feats_dict.items() if 'gldm' in k}\n",
    "    return f1, f2, f3, f4, f5, f6, f7\n",
    "\n",
    "def dict_to_df(d): \n",
    "    return pd.DataFrame([d])\n",
    "\n",
    "subfolders = [f for f in os.listdir(base_folder) if os.path.isdir(os.path.join(base_folder, f))]\n",
    "\n",
    "for i, subfolder in enumerate(subfolders):\n",
    "    print(f\"\\nProcesando {i}: {subfolder}\")\n",
    "\n",
    "    try:\n",
    "        (img_R, img_G, img_B), mask, img_path, mask_path = get_image_and_mask_rgb(subfolder, base_folder)\n",
    "    except Exception as e:\n",
    "        print(f\"[ERROR] {e}\")\n",
    "        continue\n",
    "\n",
    "    if np.sum(sitk.GetArrayFromImage(mask)) == 0:\n",
    "        print(f\"[AVISO] Máscara vacía en {subfolder}, se omite.\")\n",
    "        continue\n",
    "\n",
    "    feats_R = extract_features(img_R, mask, \"R\")\n",
    "    feats_G = extract_features(img_G, mask, \"G\")\n",
    "    feats_B = extract_features(img_B, mask, \"B\")\n",
    "\n",
    "    # DataFrame con nombres\n",
    "    data0 = pd.DataFrame([[subfolder, subfolder]], columns=['Image', 'Mask'])\n",
    "\n",
    "    f1R, f2R, f3R, f4R, f5R, f6R, f7R = split_features(feats_R, \"R\")\n",
    "    f1G, f2G, f3G, f4G, f5G, f6G, f7G = split_features(feats_G, \"G\")\n",
    "    f1B, f2B, f3B, f4B, f5B, f6B, f7B = split_features(feats_B, \"B\")\n",
    "\n",
    "    dfs0.append(data0)\n",
    "    dfs.append(pd.concat([dict_to_df(f1R), dict_to_df(f1G), dict_to_df(f1B)], axis=1))\n",
    "    dfs2.append(pd.concat([dict_to_df(f2R), dict_to_df(f2G), dict_to_df(f2B)], axis=1))\n",
    "    dfs3.append(pd.concat([dict_to_df(f3R), dict_to_df(f3G), dict_to_df(f3B)], axis=1))\n",
    "    dfs4.append(pd.concat([dict_to_df(f4R), dict_to_df(f4G), dict_to_df(f4B)], axis=1))\n",
    "    dfs5.append(pd.concat([dict_to_df(f5R), dict_to_df(f5G), dict_to_df(f5B)], axis=1))\n",
    "    dfs6.append(pd.concat([dict_to_df(f6R), dict_to_df(f6G), dict_to_df(f6B)], axis=1))\n",
    "    dfs7.append(pd.concat([dict_to_df(f7R), dict_to_df(f7G), dict_to_df(f7B)], axis=1))\n",
    "\n",
    "# Guardar CSVs finales usando output_folder\n",
    "pd.concat(dfs0).to_csv(os.path.join(output_folder, \"nombres.csv\"), index=False)\n",
    "pd.concat(dfs).to_csv(os.path.join(output_folder, \"firstorder.csv\"), index=False)\n",
    "pd.concat(dfs2).to_csv(os.path.join(output_folder, \"shape.csv\"), index=False)\n",
    "pd.concat(dfs3).to_csv(os.path.join(output_folder, \"glcm.csv\"), index=False)\n",
    "pd.concat(dfs4).to_csv(os.path.join(output_folder, \"glszm.csv\"), index=False)\n",
    "pd.concat(dfs5).to_csv(os.path.join(output_folder, \"glrlm.csv\"), index=False)\n",
    "pd.concat(dfs6).to_csv(os.path.join(output_folder, \"ngtdm.csv\"), index=False)\n",
    "pd.concat(dfs7).to_csv(os.path.join(output_folder, \"gldm.csv\"), index=False)"
   ]
  },
  {
   "cell_type": "code",
   "execution_count": null,
   "metadata": {},
   "outputs": [],
   "source": [
    "df_names = pd.concat(dfs0, ignore_index=True)\n",
    "\n",
    "df_features = pd.concat([pd.concat(dfs, ignore_index=True),\n",
    "                         pd.concat(dfs2, ignore_index=True),\n",
    "                         pd.concat(dfs3, ignore_index=True),\n",
    "                         pd.concat(dfs4, ignore_index=True),\n",
    "                         pd.concat(dfs5, ignore_index=True),\n",
    "                         pd.concat(dfs6, ignore_index=True),\n",
    "                         pd.concat(dfs7, ignore_index=True)],\n",
    "                        axis=1)\n",
    "\n",
    "df_final = pd.concat([df_names, df_features], axis=1)\n",
    "\n",
    "df_final.to_csv(os.path.join(output_folder, \"caracteristicas_rgb.csv\"), index=False)\n"
   ]
  },
  {
   "cell_type": "code",
   "execution_count": null,
   "metadata": {},
   "outputs": [
    {
     "name": "stdout",
     "output_type": "stream",
     "text": [
      "Total columnas: 308\n",
      "Características (excluyendo Image y Mask): 306\n"
     ]
    }
   ],
   "source": [
    "import csv\n",
    "\n",
    "archivo = '/home/anna/TFM/Radiomica/Radiomica/Características/caracteristicas_rgb.csv'\n",
    "\n",
    "with open(archivo, 'r') as f:\n",
    "    reader = csv.reader(f)\n",
    "    encabezado = next(reader)  \n",
    "    total_columnas = len(encabezado)\n",
    "    caracteristicas = total_columnas - 2  \n",
    "    print(f\"Total columnas: {total_columnas}\")\n",
    "    print(f\"Características (excluyendo Image y Mask): {caracteristicas}\")\n"
   ]
  }
 ],
 "metadata": {
  "kernelspec": {
   "display_name": "venv_radiomica_py310",
   "language": "python",
   "name": "python3"
  },
  "language_info": {
   "codemirror_mode": {
    "name": "ipython",
    "version": 3
   },
   "file_extension": ".py",
   "mimetype": "text/x-python",
   "name": "python",
   "nbconvert_exporter": "python",
   "pygments_lexer": "ipython3",
   "version": "3.10.12"
  }
 },
 "nbformat": 4,
 "nbformat_minor": 2
}
